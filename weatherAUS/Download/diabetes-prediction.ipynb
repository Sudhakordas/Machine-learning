{
 "cells": [
  {
   "cell_type": "code",
   "execution_count": 1,
   "metadata": {
    "execution": {
     "iopub.execute_input": "2020-08-24T11:59:25.373087Z",
     "iopub.status.busy": "2020-08-24T11:59:25.372338Z",
     "iopub.status.idle": "2020-08-24T11:59:25.384864Z",
     "shell.execute_reply": "2020-08-24T11:59:25.385462Z"
    },
    "papermill": {
     "duration": 0.029394,
     "end_time": "2020-08-24T11:59:25.385655",
     "exception": false,
     "start_time": "2020-08-24T11:59:25.356261",
     "status": "completed"
    },
    "tags": []
   },
   "outputs": [
    {
     "name": "stdout",
     "output_type": "stream",
     "text": [
      "/kaggle/input/diabetes-data-set/diabetes-dataset.csv\n"
     ]
    }
   ],
   "source": [
    "import os\n",
    "for dirname, _, filenames in os.walk('/kaggle/input'):\n",
    "    for filename in filenames:\n",
    "        print(os.path.join(dirname, filename))"
   ]
  },
  {
   "cell_type": "markdown",
   "execution_count": null,
   "metadata": {
    "id": "4NgWCWnbb1GB",
    "papermill": {
     "duration": 0.009858,
     "end_time": "2020-08-24T11:59:25.407504",
     "exception": false,
     "start_time": "2020-08-24T11:59:25.397646",
     "status": "completed"
    },
    "tags": []
   },
   "source": [
    "# Package Installation\n",
    "\n",
    "> *It's take a time while installing.*\n"
   ]
  },
  {
   "cell_type": "code",
   "execution_count": 2,
   "metadata": {
    "execution": {
     "iopub.execute_input": "2020-08-24T11:59:25.432456Z",
     "iopub.status.busy": "2020-08-24T11:59:25.431680Z",
     "iopub.status.idle": "2020-08-24T11:59:33.230498Z",
     "shell.execute_reply": "2020-08-24T11:59:33.229874Z"
    },
    "id": "uvd43ixgxTCg",
    "outputId": "f82f84bb-7e92-4a58-c3cf-e0fae8f5942a",
    "papermill": {
     "duration": 7.813021,
     "end_time": "2020-08-24T11:59:33.230623",
     "exception": false,
     "start_time": "2020-08-24T11:59:25.417602",
     "status": "completed"
    },
    "tags": []
   },
   "outputs": [
    {
     "name": "stdout",
     "output_type": "stream",
     "text": [
      "Requirement already satisfied: pandas in /opt/conda/lib/python3.7/site-packages (1.0.3)\r\n",
      "Requirement already satisfied: numpy in /opt/conda/lib/python3.7/site-packages (1.18.5)\r\n",
      "Requirement already satisfied: scikit-learn in /opt/conda/lib/python3.7/site-packages (0.23.1)\r\n",
      "Requirement already satisfied: matplotlib in /opt/conda/lib/python3.7/site-packages (3.2.1)\r\n",
      "Requirement already satisfied: seaborn in /opt/conda/lib/python3.7/site-packages (0.10.0)\r\n",
      "Requirement already satisfied: pytz>=2017.2 in /opt/conda/lib/python3.7/site-packages (from pandas) (2019.3)\r\n",
      "Requirement already satisfied: python-dateutil>=2.6.1 in /opt/conda/lib/python3.7/site-packages (from pandas) (2.8.1)\r\n",
      "Requirement already satisfied: joblib>=0.11 in /opt/conda/lib/python3.7/site-packages (from scikit-learn) (0.14.1)\r\n",
      "Requirement already satisfied: threadpoolctl>=2.0.0 in /opt/conda/lib/python3.7/site-packages (from scikit-learn) (2.1.0)\r\n",
      "Requirement already satisfied: scipy>=0.19.1 in /opt/conda/lib/python3.7/site-packages (from scikit-learn) (1.4.1)\r\n",
      "Requirement already satisfied: cycler>=0.10 in /opt/conda/lib/python3.7/site-packages (from matplotlib) (0.10.0)\r\n",
      "Requirement already satisfied: pyparsing!=2.0.4,!=2.1.2,!=2.1.6,>=2.0.1 in /opt/conda/lib/python3.7/site-packages (from matplotlib) (2.4.7)\r\n",
      "Requirement already satisfied: kiwisolver>=1.0.1 in /opt/conda/lib/python3.7/site-packages (from matplotlib) (1.2.0)\r\n",
      "Requirement already satisfied: six>=1.5 in /opt/conda/lib/python3.7/site-packages (from python-dateutil>=2.6.1->pandas) (1.14.0)\r\n",
      "\u001b[33mWARNING: You are using pip version 20.1.1; however, version 20.2.2 is available.\r\n",
      "You should consider upgrading via the '/opt/conda/bin/python3.7 -m pip install --upgrade pip' command.\u001b[0m\r\n"
     ]
    }
   ],
   "source": [
    "! pip install pandas numpy scikit-learn matplotlib seaborn"
   ]
  },
  {
   "cell_type": "code",
   "execution_count": 3,
   "metadata": {
    "execution": {
     "iopub.execute_input": "2020-08-24T11:59:33.255536Z",
     "iopub.status.busy": "2020-08-24T11:59:33.254570Z",
     "iopub.status.idle": "2020-08-24T11:59:33.257864Z",
     "shell.execute_reply": "2020-08-24T11:59:33.257338Z"
    },
    "id": "34cQQFWJ8M_l",
    "papermill": {
     "duration": 0.017712,
     "end_time": "2020-08-24T11:59:33.257990",
     "exception": false,
     "start_time": "2020-08-24T11:59:33.240278",
     "status": "completed"
    },
    "tags": []
   },
   "outputs": [],
   "source": [
    "#  import other packages\n",
    "\n",
    "import pandas as pd\n",
    "import numpy as np # Linear Algebra"
   ]
  },
  {
   "cell_type": "markdown",
   "execution_count": null,
   "metadata": {
    "id": "yTuZcLQLchPj",
    "papermill": {
     "duration": 0.008683,
     "end_time": "2020-08-24T11:59:33.275927",
     "exception": false,
     "start_time": "2020-08-24T11:59:33.267244",
     "status": "completed"
    },
    "tags": []
   },
   "source": [
    "# Set up Enviornment Path for installed Java package\n"
   ]
  },
  {
   "cell_type": "code",
   "execution_count": 4,
   "metadata": {
    "execution": {
     "iopub.execute_input": "2020-08-24T11:59:33.300182Z",
     "iopub.status.busy": "2020-08-24T11:59:33.299447Z",
     "iopub.status.idle": "2020-08-24T11:59:34.666484Z",
     "shell.execute_reply": "2020-08-24T11:59:34.665392Z"
    },
    "id": "jCdvxNtP5HAS",
    "outputId": "3019ca66-a003-4c04-9d17-ddca664bc5e5",
    "papermill": {
     "duration": 1.381376,
     "end_time": "2020-08-24T11:59:34.666629",
     "exception": false,
     "start_time": "2020-08-24T11:59:33.285253",
     "status": "completed"
    },
    "tags": []
   },
   "outputs": [
    {
     "name": "stdout",
     "output_type": "stream",
     "text": [
      "Cloning into 'diabetes_dataset'...\r\n",
      "remote: Enumerating objects: 6, done.\u001b[K\r\n",
      "remote: Counting objects: 100% (6/6), done.\u001b[K\r\n",
      "remote: Compressing objects: 100% (5/5), done.\u001b[K\r\n",
      "remote: Total 6 (delta 0), reused 0 (delta 0), pack-reused 0\u001b[K\r\n",
      "Unpacking objects: 100% (6/6), done.\r\n"
     ]
    }
   ],
   "source": [
    "# clone the dataset repository\n",
    "\n",
    "! git clone https://github.com/education454/diabetes_dataset"
   ]
  },
  {
   "cell_type": "markdown",
   "execution_count": null,
   "metadata": {
    "papermill": {
     "duration": 0.008842,
     "end_time": "2020-08-24T11:59:34.684855",
     "exception": false,
     "start_time": "2020-08-24T11:59:34.676013",
     "status": "completed"
    },
    "tags": []
   },
   "source": [
    "# Data Collection"
   ]
  },
  {
   "cell_type": "markdown",
   "execution_count": null,
   "metadata": {
    "papermill": {
     "duration": 0.008789,
     "end_time": "2020-08-24T11:59:34.702928",
     "exception": false,
     "start_time": "2020-08-24T11:59:34.694139",
     "status": "completed"
    },
    "tags": []
   },
   "source": [
    "> * listdown dataset here to know what's datasets we have,"
   ]
  },
  {
   "cell_type": "code",
   "execution_count": 5,
   "metadata": {
    "execution": {
     "iopub.execute_input": "2020-08-24T11:59:34.731292Z",
     "iopub.status.busy": "2020-08-24T11:59:34.730432Z",
     "iopub.status.idle": "2020-08-24T11:59:35.481432Z",
     "shell.execute_reply": "2020-08-24T11:59:35.480797Z"
    },
    "id": "ltdOQMpQ5oFV",
    "outputId": "27788b97-f2dc-44d1-b100-d8bb100cfe46",
    "papermill": {
     "duration": 0.76942,
     "end_time": "2020-08-24T11:59:35.481567",
     "exception": false,
     "start_time": "2020-08-24T11:59:34.712147",
     "status": "completed"
    },
    "tags": []
   },
   "outputs": [
    {
     "name": "stdout",
     "output_type": "stream",
     "text": [
      "diabetes.csv  new_test.csv\r\n"
     ]
    }
   ],
   "source": [
    "! ls diabetes_dataset"
   ]
  },
  {
   "cell_type": "code",
   "execution_count": 6,
   "metadata": {
    "execution": {
     "iopub.execute_input": "2020-08-24T11:59:35.508717Z",
     "iopub.status.busy": "2020-08-24T11:59:35.508002Z",
     "iopub.status.idle": "2020-08-24T11:59:35.537783Z",
     "shell.execute_reply": "2020-08-24T11:59:35.537084Z"
    },
    "id": "lVT3FB7n6E9V",
    "papermill": {
     "duration": 0.046999,
     "end_time": "2020-08-24T11:59:35.537936",
     "exception": false,
     "start_time": "2020-08-24T11:59:35.490937",
     "status": "completed"
    },
    "tags": []
   },
   "outputs": [],
   "source": [
    "# Load Data set\n",
    "\n",
    "pdf = pd.read_csv('/kaggle/input/diabetes-data-set/diabetes-dataset.csv')"
   ]
  },
  {
   "cell_type": "code",
   "execution_count": 7,
   "metadata": {
    "execution": {
     "iopub.execute_input": "2020-08-24T11:59:35.570231Z",
     "iopub.status.busy": "2020-08-24T11:59:35.569378Z",
     "iopub.status.idle": "2020-08-24T11:59:35.581713Z",
     "shell.execute_reply": "2020-08-24T11:59:35.581148Z"
    },
    "id": "0nZm1LfQ8e8B",
    "outputId": "7e431929-4d95-4693-b704-65869beb0eb7",
    "papermill": {
     "duration": 0.034552,
     "end_time": "2020-08-24T11:59:35.581849",
     "exception": false,
     "start_time": "2020-08-24T11:59:35.547297",
     "status": "completed"
    },
    "tags": []
   },
   "outputs": [
    {
     "data": {
      "text/html": [
       "<div>\n",
       "<style scoped>\n",
       "    .dataframe tbody tr th:only-of-type {\n",
       "        vertical-align: middle;\n",
       "    }\n",
       "\n",
       "    .dataframe tbody tr th {\n",
       "        vertical-align: top;\n",
       "    }\n",
       "\n",
       "    .dataframe thead th {\n",
       "        text-align: right;\n",
       "    }\n",
       "</style>\n",
       "<table border=\"1\" class=\"dataframe\">\n",
       "  <thead>\n",
       "    <tr style=\"text-align: right;\">\n",
       "      <th></th>\n",
       "      <th>Pregnancies</th>\n",
       "      <th>Glucose</th>\n",
       "      <th>BloodPressure</th>\n",
       "      <th>SkinThickness</th>\n",
       "      <th>Insulin</th>\n",
       "      <th>BMI</th>\n",
       "      <th>DiabetesPedigreeFunction</th>\n",
       "      <th>Age</th>\n",
       "      <th>Outcome</th>\n",
       "    </tr>\n",
       "  </thead>\n",
       "  <tbody>\n",
       "    <tr>\n",
       "      <th>0</th>\n",
       "      <td>2</td>\n",
       "      <td>138</td>\n",
       "      <td>62</td>\n",
       "      <td>35</td>\n",
       "      <td>0</td>\n",
       "      <td>33.6</td>\n",
       "      <td>0.127</td>\n",
       "      <td>47</td>\n",
       "      <td>1</td>\n",
       "    </tr>\n",
       "    <tr>\n",
       "      <th>1</th>\n",
       "      <td>0</td>\n",
       "      <td>84</td>\n",
       "      <td>82</td>\n",
       "      <td>31</td>\n",
       "      <td>125</td>\n",
       "      <td>38.2</td>\n",
       "      <td>0.233</td>\n",
       "      <td>23</td>\n",
       "      <td>0</td>\n",
       "    </tr>\n",
       "    <tr>\n",
       "      <th>2</th>\n",
       "      <td>0</td>\n",
       "      <td>145</td>\n",
       "      <td>0</td>\n",
       "      <td>0</td>\n",
       "      <td>0</td>\n",
       "      <td>44.2</td>\n",
       "      <td>0.630</td>\n",
       "      <td>31</td>\n",
       "      <td>1</td>\n",
       "    </tr>\n",
       "    <tr>\n",
       "      <th>3</th>\n",
       "      <td>0</td>\n",
       "      <td>135</td>\n",
       "      <td>68</td>\n",
       "      <td>42</td>\n",
       "      <td>250</td>\n",
       "      <td>42.3</td>\n",
       "      <td>0.365</td>\n",
       "      <td>24</td>\n",
       "      <td>1</td>\n",
       "    </tr>\n",
       "    <tr>\n",
       "      <th>4</th>\n",
       "      <td>1</td>\n",
       "      <td>139</td>\n",
       "      <td>62</td>\n",
       "      <td>41</td>\n",
       "      <td>480</td>\n",
       "      <td>40.7</td>\n",
       "      <td>0.536</td>\n",
       "      <td>21</td>\n",
       "      <td>0</td>\n",
       "    </tr>\n",
       "  </tbody>\n",
       "</table>\n",
       "</div>"
      ],
      "text/plain": [
       "   Pregnancies  Glucose  BloodPressure  SkinThickness  Insulin   BMI  \\\n",
       "0            2      138             62             35        0  33.6   \n",
       "1            0       84             82             31      125  38.2   \n",
       "2            0      145              0              0        0  44.2   \n",
       "3            0      135             68             42      250  42.3   \n",
       "4            1      139             62             41      480  40.7   \n",
       "\n",
       "   DiabetesPedigreeFunction  Age  Outcome  \n",
       "0                     0.127   47        1  \n",
       "1                     0.233   23        0  \n",
       "2                     0.630   31        1  \n",
       "3                     0.365   24        1  \n",
       "4                     0.536   21        0  "
      ]
     },
     "execution_count": 7,
     "metadata": {},
     "output_type": "execute_result"
    }
   ],
   "source": [
    "# Show first five rows from data set\n",
    "\n",
    "pdf.head()"
   ]
  },
  {
   "cell_type": "code",
   "execution_count": 8,
   "metadata": {
    "execution": {
     "iopub.execute_input": "2020-08-24T11:59:35.616253Z",
     "iopub.status.busy": "2020-08-24T11:59:35.607144Z",
     "iopub.status.idle": "2020-08-24T11:59:35.620567Z",
     "shell.execute_reply": "2020-08-24T11:59:35.619862Z"
    },
    "id": "3bAUi0Rs8k8a",
    "outputId": "65ad293c-3647-49ff-a03f-0b7f78393623",
    "papermill": {
     "duration": 0.029447,
     "end_time": "2020-08-24T11:59:35.620743",
     "exception": false,
     "start_time": "2020-08-24T11:59:35.591296",
     "status": "completed"
    },
    "tags": []
   },
   "outputs": [
    {
     "name": "stdout",
     "output_type": "stream",
     "text": [
      "<class 'pandas.core.frame.DataFrame'>\n",
      "RangeIndex: 2000 entries, 0 to 1999\n",
      "Data columns (total 9 columns):\n",
      " #   Column                    Non-Null Count  Dtype  \n",
      "---  ------                    --------------  -----  \n",
      " 0   Pregnancies               2000 non-null   int64  \n",
      " 1   Glucose                   2000 non-null   int64  \n",
      " 2   BloodPressure             2000 non-null   int64  \n",
      " 3   SkinThickness             2000 non-null   int64  \n",
      " 4   Insulin                   2000 non-null   int64  \n",
      " 5   BMI                       2000 non-null   float64\n",
      " 6   DiabetesPedigreeFunction  2000 non-null   float64\n",
      " 7   Age                       2000 non-null   int64  \n",
      " 8   Outcome                   2000 non-null   int64  \n",
      "dtypes: float64(2), int64(7)\n",
      "memory usage: 140.8 KB\n"
     ]
    }
   ],
   "source": [
    "# pandas info method applied here\n",
    "pdf.info()"
   ]
  },
  {
   "cell_type": "code",
   "execution_count": 9,
   "metadata": {
    "execution": {
     "iopub.execute_input": "2020-08-24T11:59:35.646152Z",
     "iopub.status.busy": "2020-08-24T11:59:35.645350Z",
     "iopub.status.idle": "2020-08-24T11:59:35.649568Z",
     "shell.execute_reply": "2020-08-24T11:59:35.648947Z"
    },
    "id": "GkerbYc_7IYr",
    "outputId": "74e82ec1-a6bd-453d-d140-95a6bd400f82",
    "papermill": {
     "duration": 0.018635,
     "end_time": "2020-08-24T11:59:35.649683",
     "exception": false,
     "start_time": "2020-08-24T11:59:35.631048",
     "status": "completed"
    },
    "tags": []
   },
   "outputs": [
    {
     "data": {
      "text/plain": [
       "(2000, 9)"
      ]
     },
     "execution_count": 9,
     "metadata": {},
     "output_type": "execute_result"
    }
   ],
   "source": [
    "#  show shape\n",
    "\n",
    "pdf.shape"
   ]
  },
  {
   "cell_type": "code",
   "execution_count": 10,
   "metadata": {
    "execution": {
     "iopub.execute_input": "2020-08-24T11:59:35.678023Z",
     "iopub.status.busy": "2020-08-24T11:59:35.677115Z",
     "iopub.status.idle": "2020-08-24T11:59:35.681162Z",
     "shell.execute_reply": "2020-08-24T11:59:35.680460Z"
    },
    "id": "mGZkqvZx8x7P",
    "outputId": "1eb9b5af-ab45-4f5e-ae90-ed70895b5bfd",
    "papermill": {
     "duration": 0.0217,
     "end_time": "2020-08-24T11:59:35.681306",
     "exception": false,
     "start_time": "2020-08-24T11:59:35.659606",
     "status": "completed"
    },
    "tags": []
   },
   "outputs": [
    {
     "name": "stdout",
     "output_type": "stream",
     "text": [
      "0    1316\n",
      "1     684\n",
      "Name: Outcome, dtype: int64\n"
     ]
    }
   ],
   "source": [
    "#  show how many patients has diabetes or not ? ? ?\n",
    " \n",
    "print(pdf.Outcome.value_counts())\n"
   ]
  },
  {
   "cell_type": "code",
   "execution_count": 11,
   "metadata": {
    "execution": {
     "iopub.execute_input": "2020-08-24T11:59:35.714108Z",
     "iopub.status.busy": "2020-08-24T11:59:35.713037Z",
     "iopub.status.idle": "2020-08-24T11:59:35.747856Z",
     "shell.execute_reply": "2020-08-24T11:59:35.747323Z"
    },
    "id": "_XCvMHF_9FNh",
    "outputId": "0ade9a5a-3c10-4dc3-ceb4-2f85f5906030",
    "papermill": {
     "duration": 0.056808,
     "end_time": "2020-08-24T11:59:35.747991",
     "exception": false,
     "start_time": "2020-08-24T11:59:35.691183",
     "status": "completed"
    },
    "tags": []
   },
   "outputs": [
    {
     "data": {
      "text/html": [
       "<div>\n",
       "<style scoped>\n",
       "    .dataframe tbody tr th:only-of-type {\n",
       "        vertical-align: middle;\n",
       "    }\n",
       "\n",
       "    .dataframe tbody tr th {\n",
       "        vertical-align: top;\n",
       "    }\n",
       "\n",
       "    .dataframe thead th {\n",
       "        text-align: right;\n",
       "    }\n",
       "</style>\n",
       "<table border=\"1\" class=\"dataframe\">\n",
       "  <thead>\n",
       "    <tr style=\"text-align: right;\">\n",
       "      <th></th>\n",
       "      <th>Pregnancies</th>\n",
       "      <th>Glucose</th>\n",
       "      <th>BloodPressure</th>\n",
       "      <th>SkinThickness</th>\n",
       "      <th>Insulin</th>\n",
       "      <th>BMI</th>\n",
       "      <th>DiabetesPedigreeFunction</th>\n",
       "      <th>Age</th>\n",
       "      <th>Outcome</th>\n",
       "    </tr>\n",
       "  </thead>\n",
       "  <tbody>\n",
       "    <tr>\n",
       "      <th>count</th>\n",
       "      <td>2000.000000</td>\n",
       "      <td>2000.000000</td>\n",
       "      <td>2000.000000</td>\n",
       "      <td>2000.000000</td>\n",
       "      <td>2000.000000</td>\n",
       "      <td>2000.000000</td>\n",
       "      <td>2000.000000</td>\n",
       "      <td>2000.000000</td>\n",
       "      <td>2000.000000</td>\n",
       "    </tr>\n",
       "    <tr>\n",
       "      <th>mean</th>\n",
       "      <td>3.703500</td>\n",
       "      <td>121.182500</td>\n",
       "      <td>69.145500</td>\n",
       "      <td>20.935000</td>\n",
       "      <td>80.254000</td>\n",
       "      <td>32.193000</td>\n",
       "      <td>0.470930</td>\n",
       "      <td>33.090500</td>\n",
       "      <td>0.342000</td>\n",
       "    </tr>\n",
       "    <tr>\n",
       "      <th>std</th>\n",
       "      <td>3.306063</td>\n",
       "      <td>32.068636</td>\n",
       "      <td>19.188315</td>\n",
       "      <td>16.103243</td>\n",
       "      <td>111.180534</td>\n",
       "      <td>8.149901</td>\n",
       "      <td>0.323553</td>\n",
       "      <td>11.786423</td>\n",
       "      <td>0.474498</td>\n",
       "    </tr>\n",
       "    <tr>\n",
       "      <th>min</th>\n",
       "      <td>0.000000</td>\n",
       "      <td>0.000000</td>\n",
       "      <td>0.000000</td>\n",
       "      <td>0.000000</td>\n",
       "      <td>0.000000</td>\n",
       "      <td>0.000000</td>\n",
       "      <td>0.078000</td>\n",
       "      <td>21.000000</td>\n",
       "      <td>0.000000</td>\n",
       "    </tr>\n",
       "    <tr>\n",
       "      <th>25%</th>\n",
       "      <td>1.000000</td>\n",
       "      <td>99.000000</td>\n",
       "      <td>63.500000</td>\n",
       "      <td>0.000000</td>\n",
       "      <td>0.000000</td>\n",
       "      <td>27.375000</td>\n",
       "      <td>0.244000</td>\n",
       "      <td>24.000000</td>\n",
       "      <td>0.000000</td>\n",
       "    </tr>\n",
       "    <tr>\n",
       "      <th>50%</th>\n",
       "      <td>3.000000</td>\n",
       "      <td>117.000000</td>\n",
       "      <td>72.000000</td>\n",
       "      <td>23.000000</td>\n",
       "      <td>40.000000</td>\n",
       "      <td>32.300000</td>\n",
       "      <td>0.376000</td>\n",
       "      <td>29.000000</td>\n",
       "      <td>0.000000</td>\n",
       "    </tr>\n",
       "    <tr>\n",
       "      <th>75%</th>\n",
       "      <td>6.000000</td>\n",
       "      <td>141.000000</td>\n",
       "      <td>80.000000</td>\n",
       "      <td>32.000000</td>\n",
       "      <td>130.000000</td>\n",
       "      <td>36.800000</td>\n",
       "      <td>0.624000</td>\n",
       "      <td>40.000000</td>\n",
       "      <td>1.000000</td>\n",
       "    </tr>\n",
       "    <tr>\n",
       "      <th>max</th>\n",
       "      <td>17.000000</td>\n",
       "      <td>199.000000</td>\n",
       "      <td>122.000000</td>\n",
       "      <td>110.000000</td>\n",
       "      <td>744.000000</td>\n",
       "      <td>80.600000</td>\n",
       "      <td>2.420000</td>\n",
       "      <td>81.000000</td>\n",
       "      <td>1.000000</td>\n",
       "    </tr>\n",
       "  </tbody>\n",
       "</table>\n",
       "</div>"
      ],
      "text/plain": [
       "       Pregnancies      Glucose  BloodPressure  SkinThickness      Insulin  \\\n",
       "count  2000.000000  2000.000000    2000.000000    2000.000000  2000.000000   \n",
       "mean      3.703500   121.182500      69.145500      20.935000    80.254000   \n",
       "std       3.306063    32.068636      19.188315      16.103243   111.180534   \n",
       "min       0.000000     0.000000       0.000000       0.000000     0.000000   \n",
       "25%       1.000000    99.000000      63.500000       0.000000     0.000000   \n",
       "50%       3.000000   117.000000      72.000000      23.000000    40.000000   \n",
       "75%       6.000000   141.000000      80.000000      32.000000   130.000000   \n",
       "max      17.000000   199.000000     122.000000     110.000000   744.000000   \n",
       "\n",
       "               BMI  DiabetesPedigreeFunction          Age      Outcome  \n",
       "count  2000.000000               2000.000000  2000.000000  2000.000000  \n",
       "mean     32.193000                  0.470930    33.090500     0.342000  \n",
       "std       8.149901                  0.323553    11.786423     0.474498  \n",
       "min       0.000000                  0.078000    21.000000     0.000000  \n",
       "25%      27.375000                  0.244000    24.000000     0.000000  \n",
       "50%      32.300000                  0.376000    29.000000     0.000000  \n",
       "75%      36.800000                  0.624000    40.000000     1.000000  \n",
       "max      80.600000                  2.420000    81.000000     1.000000  "
      ]
     },
     "execution_count": 11,
     "metadata": {},
     "output_type": "execute_result"
    }
   ],
   "source": [
    "#  show summary statastics for all numeric columns\n",
    "\n",
    "pdf.describe()"
   ]
  },
  {
   "cell_type": "markdown",
   "execution_count": null,
   "metadata": {
    "id": "c5f0QXp9-4Co",
    "papermill": {
     "duration": 0.009706,
     "end_time": "2020-08-24T11:59:35.767685",
     "exception": false,
     "start_time": "2020-08-24T11:59:35.757979",
     "status": "completed"
    },
    "tags": []
   },
   "source": [
    "# Data Cleaning"
   ]
  },
  {
   "cell_type": "markdown",
   "execution_count": null,
   "metadata": {
    "id": "xaZ6YkMw_JFk",
    "papermill": {
     "duration": 0.009931,
     "end_time": "2020-08-24T11:59:35.788086",
     "exception": false,
     "start_time": "2020-08-24T11:59:35.778155",
     "status": "completed"
    },
    "tags": []
   },
   "source": [
    "> **First of all we need to know how many null values in the dataset.\n",
    "**"
   ]
  },
  {
   "cell_type": "code",
   "execution_count": 12,
   "metadata": {
    "execution": {
     "iopub.execute_input": "2020-08-24T11:59:35.816921Z",
     "iopub.status.busy": "2020-08-24T11:59:35.816137Z",
     "iopub.status.idle": "2020-08-24T11:59:35.819455Z",
     "shell.execute_reply": "2020-08-24T11:59:35.819927Z"
    },
    "id": "rgjLpGZY-2SH",
    "outputId": "b41819ed-25f6-4e1c-e093-cbc0b7e4d9fe",
    "papermill": {
     "duration": 0.021828,
     "end_time": "2020-08-24T11:59:35.820085",
     "exception": false,
     "start_time": "2020-08-24T11:59:35.798257",
     "status": "completed"
    },
    "tags": []
   },
   "outputs": [
    {
     "data": {
      "text/plain": [
       "Pregnancies                 0\n",
       "Glucose                     0\n",
       "BloodPressure               0\n",
       "SkinThickness               0\n",
       "Insulin                     0\n",
       "BMI                         0\n",
       "DiabetesPedigreeFunction    0\n",
       "Age                         0\n",
       "Outcome                     0\n",
       "dtype: int64"
      ]
     },
     "execution_count": 12,
     "metadata": {},
     "output_type": "execute_result"
    }
   ],
   "source": [
    "# Column wise na values counts\n",
    "\n",
    "pdf.isna().sum()"
   ]
  },
  {
   "cell_type": "markdown",
   "execution_count": null,
   "metadata": {
    "id": "xjXbAjtS-s2o",
    "papermill": {
     "duration": 0.009841,
     "end_time": "2020-08-24T11:59:35.840079",
     "exception": false,
     "start_time": "2020-08-24T11:59:35.830238",
     "status": "completed"
    },
    "tags": []
   },
   "source": [
    "- Here we can see no any na values found for all colmns"
   ]
  },
  {
   "cell_type": "code",
   "execution_count": 13,
   "metadata": {
    "execution": {
     "iopub.execute_input": "2020-08-24T11:59:35.868850Z",
     "iopub.status.busy": "2020-08-24T11:59:35.868201Z",
     "iopub.status.idle": "2020-08-24T11:59:35.873376Z",
     "shell.execute_reply": "2020-08-24T11:59:35.873829Z"
    },
    "id": "Gl2XUJu__agJ",
    "outputId": "81ce8e13-aafc-4b12-ea3b-24f45671d974",
    "papermill": {
     "duration": 0.023669,
     "end_time": "2020-08-24T11:59:35.873994",
     "exception": false,
     "start_time": "2020-08-24T11:59:35.850325",
     "status": "completed"
    },
    "tags": []
   },
   "outputs": [
    {
     "name": "stdout",
     "output_type": "stream",
     "text": [
      "Glucose           13\n",
      "BloodPressure     90\n",
      "SkinThickness    573\n",
      "Insulin          956\n",
      "BMI               28\n",
      "dtype: int64\n"
     ]
    }
   ],
   "source": [
    "# show how many column has 0 values and sum it\n",
    "\n",
    "featureList = ['Glucose', 'BloodPressure',\t'SkinThickness',\t'Insulin',\t'BMI']\n",
    "print(pdf[featureList].isin({0}).sum())"
   ]
  },
  {
   "cell_type": "markdown",
   "execution_count": null,
   "metadata": {
    "id": "y8jOWCy-Cw2x",
    "papermill": {
     "duration": 0.01025,
     "end_time": "2020-08-24T11:59:35.894964",
     "exception": false,
     "start_time": "2020-08-24T11:59:35.884714",
     "status": "completed"
    },
    "tags": []
   },
   "source": [
    "There are most of the column has less then 50% of 0 values.\n",
    "\n",
    "- To minimize this problem, we can replace zeros with mean values \n",
    "\n"
   ]
  },
  {
   "cell_type": "code",
   "execution_count": 14,
   "metadata": {
    "execution": {
     "iopub.execute_input": "2020-08-24T11:59:35.926136Z",
     "iopub.status.busy": "2020-08-24T11:59:35.925104Z",
     "iopub.status.idle": "2020-08-24T11:59:35.930562Z",
     "shell.execute_reply": "2020-08-24T11:59:35.929980Z"
    },
    "id": "8Lt7HxzRDHoI",
    "papermill": {
     "duration": 0.025055,
     "end_time": "2020-08-24T11:59:35.930685",
     "exception": false,
     "start_time": "2020-08-24T11:59:35.905630",
     "status": "completed"
    },
    "tags": []
   },
   "outputs": [],
   "source": [
    "# Set \"0\" to Mean values of perticular columns\n",
    "\n",
    "for col in featureList:\n",
    "  pdf[col] = pdf[col].replace({ 0 : pdf[col].mean() })"
   ]
  },
  {
   "cell_type": "markdown",
   "execution_count": null,
   "metadata": {
    "id": "_h8N6kc-D7s_",
    "papermill": {
     "duration": 0.010326,
     "end_time": "2020-08-24T11:59:35.951545",
     "exception": false,
     "start_time": "2020-08-24T11:59:35.941219",
     "status": "completed"
    },
    "tags": []
   },
   "source": [
    "*  Let's, check again how many 0 values available in data frame\n"
   ]
  },
  {
   "cell_type": "code",
   "execution_count": 15,
   "metadata": {
    "execution": {
     "iopub.execute_input": "2020-08-24T11:59:35.978973Z",
     "iopub.status.busy": "2020-08-24T11:59:35.978182Z",
     "iopub.status.idle": "2020-08-24T11:59:35.986350Z",
     "shell.execute_reply": "2020-08-24T11:59:35.985633Z"
    },
    "id": "5PvF-DOWCsoz",
    "outputId": "9cc10640-8fff-4676-fe8a-eec820077330",
    "papermill": {
     "duration": 0.024419,
     "end_time": "2020-08-24T11:59:35.986478",
     "exception": false,
     "start_time": "2020-08-24T11:59:35.962059",
     "status": "completed"
    },
    "tags": []
   },
   "outputs": [
    {
     "data": {
      "text/plain": [
       "Glucose          0\n",
       "BloodPressure    0\n",
       "SkinThickness    0\n",
       "Insulin          0\n",
       "BMI              0\n",
       "dtype: int64"
      ]
     },
     "execution_count": 15,
     "metadata": {},
     "output_type": "execute_result"
    }
   ],
   "source": [
    "# show \"0\" values count\n",
    "pdf[featureList].isin({0}).sum()"
   ]
  },
  {
   "cell_type": "markdown",
   "execution_count": null,
   "metadata": {
    "id": "MTu0SR34NgVB",
    "papermill": {
     "duration": 0.010641,
     "end_time": "2020-08-24T11:59:36.008267",
     "exception": false,
     "start_time": "2020-08-24T11:59:35.997626",
     "status": "completed"
    },
    "tags": []
   },
   "source": [
    "# Visualizations\n",
    "\n"
   ]
  },
  {
   "cell_type": "code",
   "execution_count": 16,
   "metadata": {
    "execution": {
     "iopub.execute_input": "2020-08-24T11:59:36.036282Z",
     "iopub.status.busy": "2020-08-24T11:59:36.035402Z",
     "iopub.status.idle": "2020-08-24T11:59:37.037576Z",
     "shell.execute_reply": "2020-08-24T11:59:37.036829Z"
    },
    "id": "EXRWZ8hbPdzT",
    "outputId": "f48ec9c4-3ea5-4156-a571-95cbe43d8ab3",
    "papermill": {
     "duration": 1.018417,
     "end_time": "2020-08-24T11:59:37.037709",
     "exception": false,
     "start_time": "2020-08-24T11:59:36.019292",
     "status": "completed"
    },
    "tags": []
   },
   "outputs": [],
   "source": [
    "# Import visulazation packages\n",
    "\n",
    "import matplotlib.pyplot as plt\n",
    "import seaborn as sns\n",
    "\n",
    "%matplotlib inline\n"
   ]
  },
  {
   "cell_type": "code",
   "execution_count": 17,
   "metadata": {
    "execution": {
     "iopub.execute_input": "2020-08-24T11:59:37.074537Z",
     "iopub.status.busy": "2020-08-24T11:59:37.073497Z",
     "iopub.status.idle": "2020-08-24T11:59:37.078011Z",
     "shell.execute_reply": "2020-08-24T11:59:37.077481Z"
    },
    "id": "RzZtNRWlP4TM",
    "outputId": "86b6472f-97af-4512-9d40-49838ad2d631",
    "papermill": {
     "duration": 0.029441,
     "end_time": "2020-08-24T11:59:37.078139",
     "exception": false,
     "start_time": "2020-08-24T11:59:37.048698",
     "status": "completed"
    },
    "tags": []
   },
   "outputs": [
    {
     "data": {
      "text/html": [
       "<div>\n",
       "<style scoped>\n",
       "    .dataframe tbody tr th:only-of-type {\n",
       "        vertical-align: middle;\n",
       "    }\n",
       "\n",
       "    .dataframe tbody tr th {\n",
       "        vertical-align: top;\n",
       "    }\n",
       "\n",
       "    .dataframe thead th {\n",
       "        text-align: right;\n",
       "    }\n",
       "</style>\n",
       "<table border=\"1\" class=\"dataframe\">\n",
       "  <thead>\n",
       "    <tr style=\"text-align: right;\">\n",
       "      <th></th>\n",
       "      <th>Pregnancies</th>\n",
       "      <th>Glucose</th>\n",
       "      <th>BloodPressure</th>\n",
       "      <th>SkinThickness</th>\n",
       "      <th>Insulin</th>\n",
       "      <th>BMI</th>\n",
       "      <th>DiabetesPedigreeFunction</th>\n",
       "      <th>Age</th>\n",
       "      <th>Outcome</th>\n",
       "    </tr>\n",
       "  </thead>\n",
       "  <tbody>\n",
       "    <tr>\n",
       "      <th>0</th>\n",
       "      <td>2</td>\n",
       "      <td>138.0</td>\n",
       "      <td>62.0000</td>\n",
       "      <td>35.000</td>\n",
       "      <td>80.254</td>\n",
       "      <td>33.6</td>\n",
       "      <td>0.127</td>\n",
       "      <td>47</td>\n",
       "      <td>1</td>\n",
       "    </tr>\n",
       "    <tr>\n",
       "      <th>1</th>\n",
       "      <td>0</td>\n",
       "      <td>84.0</td>\n",
       "      <td>82.0000</td>\n",
       "      <td>31.000</td>\n",
       "      <td>125.000</td>\n",
       "      <td>38.2</td>\n",
       "      <td>0.233</td>\n",
       "      <td>23</td>\n",
       "      <td>0</td>\n",
       "    </tr>\n",
       "    <tr>\n",
       "      <th>2</th>\n",
       "      <td>0</td>\n",
       "      <td>145.0</td>\n",
       "      <td>69.1455</td>\n",
       "      <td>20.935</td>\n",
       "      <td>80.254</td>\n",
       "      <td>44.2</td>\n",
       "      <td>0.630</td>\n",
       "      <td>31</td>\n",
       "      <td>1</td>\n",
       "    </tr>\n",
       "    <tr>\n",
       "      <th>3</th>\n",
       "      <td>0</td>\n",
       "      <td>135.0</td>\n",
       "      <td>68.0000</td>\n",
       "      <td>42.000</td>\n",
       "      <td>250.000</td>\n",
       "      <td>42.3</td>\n",
       "      <td>0.365</td>\n",
       "      <td>24</td>\n",
       "      <td>1</td>\n",
       "    </tr>\n",
       "    <tr>\n",
       "      <th>4</th>\n",
       "      <td>1</td>\n",
       "      <td>139.0</td>\n",
       "      <td>62.0000</td>\n",
       "      <td>41.000</td>\n",
       "      <td>480.000</td>\n",
       "      <td>40.7</td>\n",
       "      <td>0.536</td>\n",
       "      <td>21</td>\n",
       "      <td>0</td>\n",
       "    </tr>\n",
       "  </tbody>\n",
       "</table>\n",
       "</div>"
      ],
      "text/plain": [
       "   Pregnancies  Glucose  BloodPressure  SkinThickness  Insulin   BMI  \\\n",
       "0            2    138.0        62.0000         35.000   80.254  33.6   \n",
       "1            0     84.0        82.0000         31.000  125.000  38.2   \n",
       "2            0    145.0        69.1455         20.935   80.254  44.2   \n",
       "3            0    135.0        68.0000         42.000  250.000  42.3   \n",
       "4            1    139.0        62.0000         41.000  480.000  40.7   \n",
       "\n",
       "   DiabetesPedigreeFunction  Age  Outcome  \n",
       "0                     0.127   47        1  \n",
       "1                     0.233   23        0  \n",
       "2                     0.630   31        1  \n",
       "3                     0.365   24        1  \n",
       "4                     0.536   21        0  "
      ]
     },
     "execution_count": 17,
     "metadata": {},
     "output_type": "execute_result"
    }
   ],
   "source": [
    "pdf.head()"
   ]
  },
  {
   "cell_type": "code",
   "execution_count": 18,
   "metadata": {
    "execution": {
     "iopub.execute_input": "2020-08-24T11:59:37.107882Z",
     "iopub.status.busy": "2020-08-24T11:59:37.107169Z",
     "iopub.status.idle": "2020-08-24T11:59:37.341452Z",
     "shell.execute_reply": "2020-08-24T11:59:37.340790Z"
    },
    "id": "TwBjGBqVPo_4",
    "outputId": "14b54a01-44a6-4c5c-96d4-c8d33940c7d7",
    "papermill": {
     "duration": 0.252185,
     "end_time": "2020-08-24T11:59:37.341571",
     "exception": false,
     "start_time": "2020-08-24T11:59:37.089386",
     "status": "completed"
    },
    "tags": []
   },
   "outputs": [
    {
     "data": {
      "image/png": "[encoded data removed]",
      "text/plain": [
       "<Figure size 720x360 with 1 Axes>"
      ]
     },
     "metadata": {
      "needs_background": "light"
     },
     "output_type": "display_data"
    }
   ],
   "source": [
    "plt.figure(figsize=(10, 5))\n",
    "sns.barplot('Outcome', 'Pregnancies', data=pdf, ) \n",
    "\n",
    "plt.title(\"Bars of Outcome and Pregnancies\")\n",
    "plt.xlabel(\"Outcome\")\n",
    "plt.ylabel(\"Pregnancies\")\n",
    "plt.show()"
   ]
  },
  {
   "cell_type": "code",
   "execution_count": 19,
   "metadata": {
    "execution": {
     "iopub.execute_input": "2020-08-24T11:59:37.370587Z",
     "iopub.status.busy": "2020-08-24T11:59:37.369378Z",
     "iopub.status.idle": "2020-08-24T11:59:37.879364Z",
     "shell.execute_reply": "2020-08-24T11:59:37.878747Z"
    },
    "id": "zHrHqhbVRCl1",
    "outputId": "f8cec20e-9423-49fb-a153-6b1c710d74b3",
    "papermill": {
     "duration": 0.526629,
     "end_time": "2020-08-24T11:59:37.879498",
     "exception": false,
     "start_time": "2020-08-24T11:59:37.352869",
     "status": "completed"
    },
    "tags": []
   },
   "outputs": [
    {
     "data": {
      "image/png": "[encoded data removed]",
      "text/plain": [
       "<Figure size 720x504 with 2 Axes>"
      ]
     },
     "metadata": {
      "needs_background": "light"
     },
     "output_type": "display_data"
    }
   ],
   "source": [
    "plt.figure(figsize=(10, 7))\n",
    "\n",
    "sns.heatmap(pdf.corr(), annot=True, linewidths=0.2, fmt='.1f', cmap='coolwarm') # cmap='RdYlBu'\n",
    "plt.show()"
   ]
  },
  {
   "cell_type": "markdown",
   "execution_count": null,
   "metadata": {
    "id": "Kl2Ji395FgYt",
    "papermill": {
     "duration": 0.011577,
     "end_time": "2020-08-24T11:59:37.903583",
     "exception": false,
     "start_time": "2020-08-24T11:59:37.892006",
     "status": "completed"
    },
    "tags": []
   },
   "source": [
    "# Feature Selection "
   ]
  },
  {
   "cell_type": "code",
   "execution_count": 20,
   "metadata": {
    "execution": {
     "iopub.execute_input": "2020-08-24T11:59:37.942940Z",
     "iopub.status.busy": "2020-08-24T11:59:37.942172Z",
     "iopub.status.idle": "2020-08-24T11:59:37.946305Z",
     "shell.execute_reply": "2020-08-24T11:59:37.945670Z"
    },
    "id": "53661tHDfCA2",
    "outputId": "fcbd65cb-97cb-485b-fac6-3cc1b1852f8e",
    "papermill": {
     "duration": 0.030722,
     "end_time": "2020-08-24T11:59:37.946425",
     "exception": false,
     "start_time": "2020-08-24T11:59:37.915703",
     "status": "completed"
    },
    "tags": []
   },
   "outputs": [
    {
     "data": {
      "text/html": [
       "<div>\n",
       "<style scoped>\n",
       "    .dataframe tbody tr th:only-of-type {\n",
       "        vertical-align: middle;\n",
       "    }\n",
       "\n",
       "    .dataframe tbody tr th {\n",
       "        vertical-align: top;\n",
       "    }\n",
       "\n",
       "    .dataframe thead th {\n",
       "        text-align: right;\n",
       "    }\n",
       "</style>\n",
       "<table border=\"1\" class=\"dataframe\">\n",
       "  <thead>\n",
       "    <tr style=\"text-align: right;\">\n",
       "      <th></th>\n",
       "      <th>Glucose</th>\n",
       "      <th>BloodPressure</th>\n",
       "      <th>SkinThickness</th>\n",
       "      <th>Insulin</th>\n",
       "      <th>BMI</th>\n",
       "      <th>DiabetesPedigreeFunction</th>\n",
       "      <th>Age</th>\n",
       "    </tr>\n",
       "  </thead>\n",
       "  <tbody>\n",
       "    <tr>\n",
       "      <th>0</th>\n",
       "      <td>138.0</td>\n",
       "      <td>62.0000</td>\n",
       "      <td>35.000</td>\n",
       "      <td>80.254</td>\n",
       "      <td>33.6</td>\n",
       "      <td>0.127</td>\n",
       "      <td>47</td>\n",
       "    </tr>\n",
       "    <tr>\n",
       "      <th>1</th>\n",
       "      <td>84.0</td>\n",
       "      <td>82.0000</td>\n",
       "      <td>31.000</td>\n",
       "      <td>125.000</td>\n",
       "      <td>38.2</td>\n",
       "      <td>0.233</td>\n",
       "      <td>23</td>\n",
       "    </tr>\n",
       "    <tr>\n",
       "      <th>2</th>\n",
       "      <td>145.0</td>\n",
       "      <td>69.1455</td>\n",
       "      <td>20.935</td>\n",
       "      <td>80.254</td>\n",
       "      <td>44.2</td>\n",
       "      <td>0.630</td>\n",
       "      <td>31</td>\n",
       "    </tr>\n",
       "    <tr>\n",
       "      <th>3</th>\n",
       "      <td>135.0</td>\n",
       "      <td>68.0000</td>\n",
       "      <td>42.000</td>\n",
       "      <td>250.000</td>\n",
       "      <td>42.3</td>\n",
       "      <td>0.365</td>\n",
       "      <td>24</td>\n",
       "    </tr>\n",
       "    <tr>\n",
       "      <th>4</th>\n",
       "      <td>139.0</td>\n",
       "      <td>62.0000</td>\n",
       "      <td>41.000</td>\n",
       "      <td>480.000</td>\n",
       "      <td>40.7</td>\n",
       "      <td>0.536</td>\n",
       "      <td>21</td>\n",
       "    </tr>\n",
       "  </tbody>\n",
       "</table>\n",
       "</div>"
      ],
      "text/plain": [
       "   Glucose  BloodPressure  SkinThickness  Insulin   BMI  \\\n",
       "0    138.0        62.0000         35.000   80.254  33.6   \n",
       "1     84.0        82.0000         31.000  125.000  38.2   \n",
       "2    145.0        69.1455         20.935   80.254  44.2   \n",
       "3    135.0        68.0000         42.000  250.000  42.3   \n",
       "4    139.0        62.0000         41.000  480.000  40.7   \n",
       "\n",
       "   DiabetesPedigreeFunction  Age  \n",
       "0                     0.127   47  \n",
       "1                     0.233   23  \n",
       "2                     0.630   31  \n",
       "3                     0.365   24  \n",
       "4                     0.536   21  "
      ]
     },
     "execution_count": 20,
     "metadata": {},
     "output_type": "execute_result"
    }
   ],
   "source": [
    "# select feature colulmn\n",
    "feature_columns = pdf[['Glucose', 'BloodPressure', 'SkinThickness', 'Insulin',\n",
    "       'BMI', 'DiabetesPedigreeFunction', 'Age']]\n",
    "\n",
    "feature_columns.head()"
   ]
  },
  {
   "cell_type": "code",
   "execution_count": 21,
   "metadata": {
    "execution": {
     "iopub.execute_input": "2020-08-24T11:59:37.977954Z",
     "iopub.status.busy": "2020-08-24T11:59:37.976947Z",
     "iopub.status.idle": "2020-08-24T11:59:37.981639Z",
     "shell.execute_reply": "2020-08-24T11:59:37.980970Z"
    },
    "id": "eG9KkFXmfl0b",
    "outputId": "ec63cc68-2e5e-49d1-a662-c11e1b176748",
    "papermill": {
     "duration": 0.023325,
     "end_time": "2020-08-24T11:59:37.981761",
     "exception": false,
     "start_time": "2020-08-24T11:59:37.958436",
     "status": "completed"
    },
    "tags": []
   },
   "outputs": [
    {
     "data": {
      "text/plain": [
       "0    1\n",
       "1    0\n",
       "2    1\n",
       "3    1\n",
       "4    0\n",
       "Name: Outcome, dtype: int64"
      ]
     },
     "execution_count": 21,
     "metadata": {},
     "output_type": "execute_result"
    }
   ],
   "source": [
    "# Outcome colummn\n",
    "outcome_column = pdf['Outcome']\n",
    "outcome_column.head()"
   ]
  },
  {
   "cell_type": "markdown",
   "execution_count": null,
   "metadata": {
    "id": "_O2dfGmQf1oJ",
    "papermill": {
     "duration": 0.013197,
     "end_time": "2020-08-24T11:59:38.007509",
     "exception": false,
     "start_time": "2020-08-24T11:59:37.994312",
     "status": "completed"
    },
    "tags": []
   },
   "source": [
    "- Now, Device out feature and outcome column into train and test using sklearn train_test_split functions"
   ]
  },
  {
   "cell_type": "code",
   "execution_count": 22,
   "metadata": {
    "execution": {
     "iopub.execute_input": "2020-08-24T11:59:38.037302Z",
     "iopub.status.busy": "2020-08-24T11:59:38.036482Z",
     "iopub.status.idle": "2020-08-24T11:59:38.164114Z",
     "shell.execute_reply": "2020-08-24T11:59:38.163388Z"
    },
    "id": "H5Rkwqclf0Vc",
    "papermill": {
     "duration": 0.144033,
     "end_time": "2020-08-24T11:59:38.164233",
     "exception": false,
     "start_time": "2020-08-24T11:59:38.020200",
     "status": "completed"
    },
    "tags": []
   },
   "outputs": [],
   "source": [
    "# import package\n",
    "\n",
    "from sklearn.model_selection import train_test_split"
   ]
  },
  {
   "cell_type": "code",
   "execution_count": 23,
   "metadata": {
    "execution": {
     "iopub.execute_input": "2020-08-24T11:59:38.197836Z",
     "iopub.status.busy": "2020-08-24T11:59:38.194119Z",
     "iopub.status.idle": "2020-08-24T11:59:38.202277Z",
     "shell.execute_reply": "2020-08-24T11:59:38.201670Z"
    },
    "id": "Q_7hZp4ZgNRS",
    "papermill": {
     "duration": 0.025812,
     "end_time": "2020-08-24T11:59:38.202412",
     "exception": false,
     "start_time": "2020-08-24T11:59:38.176600",
     "status": "completed"
    },
    "tags": []
   },
   "outputs": [],
   "source": [
    "# split into training and testing sets\n",
    "\n",
    "X_train, X_test, y_train, y_test = train_test_split( feature_columns, outcome_column, test_size=0.2, random_state=5) \n"
   ]
  },
  {
   "cell_type": "code",
   "execution_count": 24,
   "metadata": {
    "execution": {
     "iopub.execute_input": "2020-08-24T11:59:38.233127Z",
     "iopub.status.busy": "2020-08-24T11:59:38.232412Z",
     "iopub.status.idle": "2020-08-24T11:59:38.236411Z",
     "shell.execute_reply": "2020-08-24T11:59:38.235883Z"
    },
    "id": "RVejW6IAgsVu",
    "outputId": "1d5f05a1-8a72-41a7-e388-0ac3bd5a2c96",
    "papermill": {
     "duration": 0.021484,
     "end_time": "2020-08-24T11:59:38.236524",
     "exception": false,
     "start_time": "2020-08-24T11:59:38.215040",
     "status": "completed"
    },
    "tags": []
   },
   "outputs": [
    {
     "name": "stdout",
     "output_type": "stream",
     "text": [
      "(1600, 7)\n",
      "(400, 7)\n",
      "(1600,)\n",
      "(400,)\n"
     ]
    }
   ],
   "source": [
    "# show train data and shapes\n",
    "\n",
    "print(X_train.shape)\n",
    "print(X_test.shape)\n",
    "print(y_train.shape)\n",
    "print(y_test.shape)"
   ]
  },
  {
   "cell_type": "markdown",
   "execution_count": null,
   "metadata": {
    "id": "x0fOKCf1grkq",
    "papermill": {
     "duration": 0.012082,
     "end_time": "2020-08-24T11:59:38.261502",
     "exception": false,
     "start_time": "2020-08-24T11:59:38.249420",
     "status": "completed"
    },
    "tags": []
   },
   "source": [
    "# Loading Model For Predictions"
   ]
  },
  {
   "cell_type": "code",
   "execution_count": 25,
   "metadata": {
    "execution": {
     "iopub.execute_input": "2020-08-24T11:59:38.290942Z",
     "iopub.status.busy": "2020-08-24T11:59:38.290260Z",
     "iopub.status.idle": "2020-08-24T11:59:38.385487Z",
     "shell.execute_reply": "2020-08-24T11:59:38.384768Z"
    },
    "id": "uXwpzRF4gfDg",
    "papermill": {
     "duration": 0.111733,
     "end_time": "2020-08-24T11:59:38.385606",
     "exception": false,
     "start_time": "2020-08-24T11:59:38.273873",
     "status": "completed"
    },
    "tags": []
   },
   "outputs": [],
   "source": [
    "from sklearn.linear_model import LogisticRegression\n",
    "from sklearn.metrics import accuracy_score, confusion_matrix"
   ]
  },
  {
   "cell_type": "code",
   "execution_count": 26,
   "metadata": {
    "execution": {
     "iopub.execute_input": "2020-08-24T11:59:38.416270Z",
     "iopub.status.busy": "2020-08-24T11:59:38.415394Z",
     "iopub.status.idle": "2020-08-24T11:59:38.417995Z",
     "shell.execute_reply": "2020-08-24T11:59:38.418474Z"
    },
    "id": "Iij1caC0hGCJ",
    "papermill": {
     "duration": 0.020421,
     "end_time": "2020-08-24T11:59:38.418635",
     "exception": false,
     "start_time": "2020-08-24T11:59:38.398214",
     "status": "completed"
    },
    "tags": []
   },
   "outputs": [],
   "source": [
    "#  create model instance \n",
    "\n",
    "model = LogisticRegression()"
   ]
  },
  {
   "cell_type": "code",
   "execution_count": 27,
   "metadata": {
    "execution": {
     "iopub.execute_input": "2020-08-24T11:59:38.450322Z",
     "iopub.status.busy": "2020-08-24T11:59:38.449645Z",
     "iopub.status.idle": "2020-08-24T11:59:38.496367Z",
     "shell.execute_reply": "2020-08-24T11:59:38.495600Z"
    },
    "id": "HQfr1rXQhLPn",
    "papermill": {
     "duration": 0.0653,
     "end_time": "2020-08-24T11:59:38.496525",
     "exception": false,
     "start_time": "2020-08-24T11:59:38.431225",
     "status": "completed"
    },
    "tags": []
   },
   "outputs": [],
   "source": [
    "#  Model Fitting\n",
    "\n",
    "model = model.fit(X_train, y_train)"
   ]
  },
  {
   "cell_type": "code",
   "execution_count": 28,
   "metadata": {
    "execution": {
     "iopub.execute_input": "2020-08-24T11:59:38.533685Z",
     "iopub.status.busy": "2020-08-24T11:59:38.532900Z",
     "iopub.status.idle": "2020-08-24T11:59:38.536148Z",
     "shell.execute_reply": "2020-08-24T11:59:38.536726Z"
    },
    "id": "aaqAkP4fkoN8",
    "papermill": {
     "duration": 0.023868,
     "end_time": "2020-08-24T11:59:38.536928",
     "exception": false,
     "start_time": "2020-08-24T11:59:38.513060",
     "status": "completed"
    },
    "tags": []
   },
   "outputs": [],
   "source": [
    "# set score\n",
    "score = model.predict(X_train)"
   ]
  },
  {
   "cell_type": "markdown",
   "execution_count": null,
   "metadata": {
    "id": "tGrNERppiaKy",
    "papermill": {
     "duration": 0.012076,
     "end_time": "2020-08-24T11:59:38.562936",
     "exception": false,
     "start_time": "2020-08-24T11:59:38.550860",
     "status": "completed"
    },
    "tags": []
   },
   "source": [
    "# Model Testing and Evaluation"
   ]
  },
  {
   "cell_type": "code",
   "execution_count": 29,
   "metadata": {
    "execution": {
     "iopub.execute_input": "2020-08-24T11:59:38.597177Z",
     "iopub.status.busy": "2020-08-24T11:59:38.596163Z",
     "iopub.status.idle": "2020-08-24T11:59:38.607983Z",
     "shell.execute_reply": "2020-08-24T11:59:38.607295Z"
    },
    "id": "9_ABlk3VhnhJ",
    "outputId": "9d214acb-5b55-47a3-c75b-7a517bce4d6a",
    "papermill": {
     "duration": 0.032808,
     "end_time": "2020-08-24T11:59:38.608137",
     "exception": false,
     "start_time": "2020-08-24T11:59:38.575329",
     "status": "completed"
    },
    "tags": []
   },
   "outputs": [
    {
     "name": "stdout",
     "output_type": "stream",
     "text": [
      "Training Score:  0.765\n",
      "Testing Score:   0.7775\n"
     ]
    }
   ],
   "source": [
    "# Model Score\n",
    "\n",
    "# print(\"Accuracy Score: \", accuracy_score(X_train, y_train))\n",
    "\n",
    "print(\"Training Score: \", model.score(X_train, y_train))\n",
    "print(\"Testing Score:  \", model.score(X_test, y_test))\n"
   ]
  },
  {
   "cell_type": "code",
   "execution_count": 30,
   "metadata": {
    "execution": {
     "iopub.execute_input": "2020-08-24T11:59:38.643667Z",
     "iopub.status.busy": "2020-08-24T11:59:38.642763Z",
     "iopub.status.idle": "2020-08-24T11:59:38.645852Z",
     "shell.execute_reply": "2020-08-24T11:59:38.646451Z"
    },
    "id": "87Y25p2bjquS",
    "outputId": "9bd024a5-6e85-4bd6-9a87-a9b0326989cf",
    "papermill": {
     "duration": 0.025268,
     "end_time": "2020-08-24T11:59:38.646630",
     "exception": false,
     "start_time": "2020-08-24T11:59:38.621362",
     "status": "completed"
    },
    "tags": []
   },
   "outputs": [
    {
     "name": "stdout",
     "output_type": "stream",
     "text": [
      "Model Accuracy is :  [0 0 0 0 1 0 0 0 1 1 1 0 0 1 1 1 0 0 0 1 0 1 0 0 1 0 0 0 0 0 1 0 0 0 0 1 0\n",
      " 0 0 0 1 0 0 0 0 0 0 0 0 0 0 0 0 1 0 1 1 0 0 0 0 0 1 1 1 0 0 1 1 0 0 0 0 0\n",
      " 0 0 0 0 0 1 0 0 0 0 0 0 0 0 0 0 0 0 0 1 1 1 0 0 0 0 0 0 0 0 0 1 0 0 0 1 0\n",
      " 1 0 0 1 1 0 0 1 0 0 0 0 0 1 0 0 0 0 1 0 0 0 0 0 0 0 0 0 0 0 1 1 0 1 0 0 1\n",
      " 0 0 0 1 0 0 1 0 1 0 1 1 0 1 1 1 0 0 0 0 0 0 1 0 0 1 0 1 0 0 0 1 0 0 0 0 0\n",
      " 0 1 1 1 0 0 0 0 0 0 0 0 1 0 1 0 0 0 0 1 0 1 0 0 0 0 0 0 0 0 1 1 1 0 0 0 0\n",
      " 0 0 0 0 0 0 1 0 0 1 0 0 0 1 0 1 0 0 0 1 0 1 1 0 1 0 0 0 0 0 0 0 0 0 0 0 0\n",
      " 0 0 0 0 1 1 0 0 0 0 0 1 0 0 0 0 0 1 0 0 1 0 0 0 1 0 0 1 1 0 0 0 1 0 1 0 0\n",
      " 1 0 1 0 0 0 1 0 1 0 0 0 0 0 0 1 0 1 0 0 0 1 1 1 0 0 1 0 1 1 0 0 0 1 1 0 1\n",
      " 0 0 0 0 0 0 1 1 1 0 0 0 0 1 0 1 1 1 0 0 0 0 0 1 1 0 1 0 0 1 0 0 1 0 0 0 0\n",
      " 0 0 0 0 0 1 1 0 0 0 1 0 0 0 1 1 1 0 0 0 0 0 1 0 0 0 0 1 1 1]\n"
     ]
    }
   ],
   "source": [
    "# Model Accuracy\n",
    "pred = model.predict(X_test)\n",
    "print(\"Model Accuracy is : \", pred)"
   ]
  },
  {
   "cell_type": "code",
   "execution_count": 31,
   "metadata": {
    "execution": {
     "iopub.execute_input": "2020-08-24T11:59:38.681586Z",
     "iopub.status.busy": "2020-08-24T11:59:38.680579Z",
     "iopub.status.idle": "2020-08-24T11:59:38.685794Z",
     "shell.execute_reply": "2020-08-24T11:59:38.685017Z"
    },
    "id": "CwRI36X0kGrB",
    "outputId": "083ad19b-cb88-4388-83d5-9f8f80f64b49",
    "papermill": {
     "duration": 0.0233,
     "end_time": "2020-08-24T11:59:38.685981",
     "exception": false,
     "start_time": "2020-08-24T11:59:38.662681",
     "status": "completed"
    },
    "tags": []
   },
   "outputs": [
    {
     "data": {
      "text/plain": [
       "array([-8.75826374])"
      ]
     },
     "execution_count": 31,
     "metadata": {},
     "output_type": "execute_result"
    }
   ],
   "source": [
    "# Model Intercept\n",
    "model.intercept_"
   ]
  },
  {
   "cell_type": "code",
   "execution_count": 32,
   "metadata": {
    "execution": {
     "iopub.execute_input": "2020-08-24T11:59:38.719701Z",
     "iopub.status.busy": "2020-08-24T11:59:38.718629Z",
     "iopub.status.idle": "2020-08-24T11:59:38.723432Z",
     "shell.execute_reply": "2020-08-24T11:59:38.722749Z"
    },
    "id": "IBv-4Y07tFoC",
    "outputId": "ff00bfd4-c852-493d-b032-8a2dd8969d37",
    "papermill": {
     "duration": 0.024365,
     "end_time": "2020-08-24T11:59:38.723565",
     "exception": false,
     "start_time": "2020-08-24T11:59:38.699200",
     "status": "completed"
    },
    "tags": []
   },
   "outputs": [
    {
     "data": {
      "text/plain": [
       "array([[ 0.03667687, -0.00186085,  0.0035107 , -0.00139644,  0.0696558 ,\n",
       "         0.70804848,  0.03187201]])"
      ]
     },
     "execution_count": 32,
     "metadata": {},
     "output_type": "execute_result"
    }
   ],
   "source": [
    "# Model Coefficient\n",
    "\n",
    "model.coef_"
   ]
  },
  {
   "cell_type": "code",
   "execution_count": 33,
   "metadata": {
    "execution": {
     "iopub.execute_input": "2020-08-24T11:59:38.755242Z",
     "iopub.status.busy": "2020-08-24T11:59:38.754316Z",
     "iopub.status.idle": "2020-08-24T11:59:38.759074Z",
     "shell.execute_reply": "2020-08-24T11:59:38.759518Z"
    },
    "id": "DjE-Ia7JtnFS",
    "outputId": "9a883487-df6d-4651-9a8e-d88396bbc138",
    "papermill": {
     "duration": 0.02312,
     "end_time": "2020-08-24T11:59:38.759692",
     "exception": false,
     "start_time": "2020-08-24T11:59:38.736572",
     "status": "completed"
    },
    "tags": []
   },
   "outputs": [
    {
     "data": {
      "text/plain": [
       "0.7775"
      ]
     },
     "execution_count": 33,
     "metadata": {},
     "output_type": "execute_result"
    }
   ],
   "source": [
    "accuracy_score(y_test, pred)"
   ]
  }
 ],
 "metadata": {
  "kernelspec": {
   "display_name": "Python 3",
   "language": "python",
   "name": "python3"
  },
  "language_info": {
   "codemirror_mode": {
    "name": "ipython",
    "version": 3
   },
   "file_extension": ".py",
   "mimetype": "text/x-python",
   "name": "python",
   "nbconvert_exporter": "python",
   "pygments_lexer": "ipython3",
   "version": "3.7.6"
  },
  "papermill": {
   "duration": 18.311458,
   "end_time": "2020-08-24T11:59:38.881032",
   "environment_variables": {},
   "exception": null,
   "input_path": "__notebook__.ipynb",
   "output_path": "__notebook__.ipynb",
   "parameters": {},
   "start_time": "2020-08-24T11:59:20.569574",
   "version": "2.1.0"
  }
 },
 "nbformat": 4,
 "nbformat_minor": 4
}
