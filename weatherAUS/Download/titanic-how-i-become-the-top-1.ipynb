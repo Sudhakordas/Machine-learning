{
 "cells": [
  {
   "cell_type": "code",
   "execution_count": 1,
   "metadata": {
    "_cell_guid": "b1076dfc-b9ad-4769-8c92-a6c4dae69d19",
    "_uuid": "8f2839f25d086af736a60e9eeb907d3b93b6e0e5"
   },
   "outputs": [
    {
     "name": "stdout",
     "output_type": "stream",
     "text": [
      "['titanic', 'gender-submisson', 'test-file']\n",
      "/kaggle/input/titanic/train.csv\n",
      "/kaggle/input/titanic/test.csv\n",
      "/kaggle/input/titanic/gender_submission.csv\n",
      "/kaggle/input/gender-submisson/gender_submission.csv\n",
      "/kaggle/input/test-file/test.csv\n"
     ]
    }
   ],
   "source": [
    "import numpy as np\n",
    "import pandas as pd\n",
    "import seaborn as sns\n",
    "import io\n",
    "import requests\n",
    "import re\n",
    "import warnings\n",
    "import os\n",
    "print(os.listdir(\"../input\"))\n",
    "import plotly.express as px\n",
    "\n",
    "import matplotlib.pyplot as plt\n",
    "%matplotlib inline\n",
    "plt.style.use('seaborn-notebook')\n",
    "from matplotlib.ticker import StrMethodFormatter\n",
    "from sklearn.preprocessing import StandardScaler, MinMaxScaler, LabelBinarizer\n",
    "\n",
    "import os\n",
    "for dirname, _, filenames in os.walk('/kaggle/input'):\n",
    "    for filename in filenames:\n",
    "        print(os.path.join(dirname, filename))"
   ]
  },
  {
   "cell_type": "markdown",
   "metadata": {},
   "source": [
    "Passengers from port **‘**Southampton**’** have a low survival rate of **34%**,\n",
    "while those from the port **‘**Cherbourg**’** have a survival rate of **55%**."
   ]
  },
  {
   "cell_type": "markdown",
   "metadata": {},
   "source": [
    "Over **72%** of the passengers embarked from the port 'Southampton’, 18% from the port ‘Cherbourg’ and the rest from the port ‘Queenstown’."
   ]
  },
  {
   "cell_type": "code",
   "execution_count": 2,
   "metadata": {
    "_cell_guid": "79c7e3d0-c299-4dcb-8224-4455121ee9b0",
    "_uuid": "d629ff2d2480ee46fbb7e2d37f6b5fab8052498a"
   },
   "outputs": [
    {
     "data": {
      "text/html": [
       "<div>\n",
       "<style scoped>\n",
       "    .dataframe tbody tr th:only-of-type {\n",
       "        vertical-align: middle;\n",
       "    }\n",
       "\n",
       "    .dataframe tbody tr th {\n",
       "        vertical-align: top;\n",
       "    }\n",
       "\n",
       "    .dataframe thead th {\n",
       "        text-align: right;\n",
       "    }\n",
       "</style>\n",
       "<table border=\"1\" class=\"dataframe\">\n",
       "  <thead>\n",
       "    <tr style=\"text-align: right;\">\n",
       "      <th></th>\n",
       "      <th>PassengerId</th>\n",
       "      <th>Survived</th>\n",
       "      <th>Pclass</th>\n",
       "      <th>Name</th>\n",
       "      <th>Sex</th>\n",
       "      <th>Age</th>\n",
       "      <th>SibSp</th>\n",
       "      <th>Parch</th>\n",
       "      <th>Ticket</th>\n",
       "      <th>Fare</th>\n",
       "      <th>Cabin</th>\n",
       "      <th>Embarked</th>\n",
       "    </tr>\n",
       "  </thead>\n",
       "  <tbody>\n",
       "    <tr>\n",
       "      <th>0</th>\n",
       "      <td>1</td>\n",
       "      <td>0</td>\n",
       "      <td>3</td>\n",
       "      <td>Braund, Mr. Owen Harris</td>\n",
       "      <td>male</td>\n",
       "      <td>22.0</td>\n",
       "      <td>1</td>\n",
       "      <td>0</td>\n",
       "      <td>A/5 21171</td>\n",
       "      <td>7.2500</td>\n",
       "      <td>NaN</td>\n",
       "      <td>S</td>\n",
       "    </tr>\n",
       "    <tr>\n",
       "      <th>1</th>\n",
       "      <td>2</td>\n",
       "      <td>1</td>\n",
       "      <td>1</td>\n",
       "      <td>Cumings, Mrs. John Bradley (Florence Briggs Th...</td>\n",
       "      <td>female</td>\n",
       "      <td>38.0</td>\n",
       "      <td>1</td>\n",
       "      <td>0</td>\n",
       "      <td>PC 17599</td>\n",
       "      <td>71.2833</td>\n",
       "      <td>C85</td>\n",
       "      <td>C</td>\n",
       "    </tr>\n",
       "    <tr>\n",
       "      <th>2</th>\n",
       "      <td>3</td>\n",
       "      <td>1</td>\n",
       "      <td>3</td>\n",
       "      <td>Heikkinen, Miss. Laina</td>\n",
       "      <td>female</td>\n",
       "      <td>26.0</td>\n",
       "      <td>0</td>\n",
       "      <td>0</td>\n",
       "      <td>STON/O2. 3101282</td>\n",
       "      <td>7.9250</td>\n",
       "      <td>NaN</td>\n",
       "      <td>S</td>\n",
       "    </tr>\n",
       "    <tr>\n",
       "      <th>3</th>\n",
       "      <td>4</td>\n",
       "      <td>1</td>\n",
       "      <td>1</td>\n",
       "      <td>Futrelle, Mrs. Jacques Heath (Lily May Peel)</td>\n",
       "      <td>female</td>\n",
       "      <td>35.0</td>\n",
       "      <td>1</td>\n",
       "      <td>0</td>\n",
       "      <td>113803</td>\n",
       "      <td>53.1000</td>\n",
       "      <td>C123</td>\n",
       "      <td>S</td>\n",
       "    </tr>\n",
       "    <tr>\n",
       "      <th>4</th>\n",
       "      <td>5</td>\n",
       "      <td>0</td>\n",
       "      <td>3</td>\n",
       "      <td>Allen, Mr. William Henry</td>\n",
       "      <td>male</td>\n",
       "      <td>35.0</td>\n",
       "      <td>0</td>\n",
       "      <td>0</td>\n",
       "      <td>373450</td>\n",
       "      <td>8.0500</td>\n",
       "      <td>NaN</td>\n",
       "      <td>S</td>\n",
       "    </tr>\n",
       "  </tbody>\n",
       "</table>\n",
       "</div>"
      ],
      "text/plain": [
       "   PassengerId  Survived  Pclass  \\\n",
       "0            1         0       3   \n",
       "1            2         1       1   \n",
       "2            3         1       3   \n",
       "3            4         1       1   \n",
       "4            5         0       3   \n",
       "\n",
       "                                                Name     Sex   Age  SibSp  \\\n",
       "0                            Braund, Mr. Owen Harris    male  22.0      1   \n",
       "1  Cumings, Mrs. John Bradley (Florence Briggs Th...  female  38.0      1   \n",
       "2                             Heikkinen, Miss. Laina  female  26.0      0   \n",
       "3       Futrelle, Mrs. Jacques Heath (Lily May Peel)  female  35.0      1   \n",
       "4                           Allen, Mr. William Henry    male  35.0      0   \n",
       "\n",
       "   Parch            Ticket     Fare Cabin Embarked  \n",
       "0      0         A/5 21171   7.2500   NaN        S  \n",
       "1      0          PC 17599  71.2833   C85        C  \n",
       "2      0  STON/O2. 3101282   7.9250   NaN        S  \n",
       "3      0            113803  53.1000  C123        S  \n",
       "4      0            373450   8.0500   NaN        S  "
      ]
     },
     "execution_count": 2,
     "metadata": {},
     "output_type": "execute_result"
    }
   ],
   "source": [
    "train_data = pd.read_csv(\"/kaggle/input/titanic/train.csv\")\n",
    "train_data.head()"
   ]
  },
  {
   "cell_type": "code",
   "execution_count": 3,
   "metadata": {},
   "outputs": [
    {
     "data": {
      "text/html": [
       "<div>\n",
       "<style scoped>\n",
       "    .dataframe tbody tr th:only-of-type {\n",
       "        vertical-align: middle;\n",
       "    }\n",
       "\n",
       "    .dataframe tbody tr th {\n",
       "        vertical-align: top;\n",
       "    }\n",
       "\n",
       "    .dataframe thead th {\n",
       "        text-align: right;\n",
       "    }\n",
       "</style>\n",
       "<table border=\"1\" class=\"dataframe\">\n",
       "  <thead>\n",
       "    <tr style=\"text-align: right;\">\n",
       "      <th></th>\n",
       "      <th>PassengerId</th>\n",
       "      <th>Pclass</th>\n",
       "      <th>Name</th>\n",
       "      <th>Sex</th>\n",
       "      <th>Age</th>\n",
       "      <th>SibSp</th>\n",
       "      <th>Parch</th>\n",
       "      <th>Ticket</th>\n",
       "      <th>Fare</th>\n",
       "      <th>Cabin</th>\n",
       "      <th>Embarked</th>\n",
       "    </tr>\n",
       "  </thead>\n",
       "  <tbody>\n",
       "    <tr>\n",
       "      <th>0</th>\n",
       "      <td>892</td>\n",
       "      <td>3</td>\n",
       "      <td>Kelly, Mr. James</td>\n",
       "      <td>male</td>\n",
       "      <td>34.5</td>\n",
       "      <td>0</td>\n",
       "      <td>0</td>\n",
       "      <td>330911</td>\n",
       "      <td>7.8292</td>\n",
       "      <td>NaN</td>\n",
       "      <td>Q</td>\n",
       "    </tr>\n",
       "    <tr>\n",
       "      <th>1</th>\n",
       "      <td>893</td>\n",
       "      <td>3</td>\n",
       "      <td>Wilkes, Mrs. James (Ellen Needs)</td>\n",
       "      <td>female</td>\n",
       "      <td>47.0</td>\n",
       "      <td>1</td>\n",
       "      <td>0</td>\n",
       "      <td>363272</td>\n",
       "      <td>7.0000</td>\n",
       "      <td>NaN</td>\n",
       "      <td>S</td>\n",
       "    </tr>\n",
       "    <tr>\n",
       "      <th>2</th>\n",
       "      <td>894</td>\n",
       "      <td>2</td>\n",
       "      <td>Myles, Mr. Thomas Francis</td>\n",
       "      <td>male</td>\n",
       "      <td>62.0</td>\n",
       "      <td>0</td>\n",
       "      <td>0</td>\n",
       "      <td>240276</td>\n",
       "      <td>9.6875</td>\n",
       "      <td>NaN</td>\n",
       "      <td>Q</td>\n",
       "    </tr>\n",
       "    <tr>\n",
       "      <th>3</th>\n",
       "      <td>895</td>\n",
       "      <td>3</td>\n",
       "      <td>Wirz, Mr. Albert</td>\n",
       "      <td>male</td>\n",
       "      <td>27.0</td>\n",
       "      <td>0</td>\n",
       "      <td>0</td>\n",
       "      <td>315154</td>\n",
       "      <td>8.6625</td>\n",
       "      <td>NaN</td>\n",
       "      <td>S</td>\n",
       "    </tr>\n",
       "    <tr>\n",
       "      <th>4</th>\n",
       "      <td>896</td>\n",
       "      <td>3</td>\n",
       "      <td>Hirvonen, Mrs. Alexander (Helga E Lindqvist)</td>\n",
       "      <td>female</td>\n",
       "      <td>22.0</td>\n",
       "      <td>1</td>\n",
       "      <td>1</td>\n",
       "      <td>3101298</td>\n",
       "      <td>12.2875</td>\n",
       "      <td>NaN</td>\n",
       "      <td>S</td>\n",
       "    </tr>\n",
       "  </tbody>\n",
       "</table>\n",
       "</div>"
      ],
      "text/plain": [
       "   PassengerId  Pclass                                          Name     Sex  \\\n",
       "0          892       3                              Kelly, Mr. James    male   \n",
       "1          893       3              Wilkes, Mrs. James (Ellen Needs)  female   \n",
       "2          894       2                     Myles, Mr. Thomas Francis    male   \n",
       "3          895       3                              Wirz, Mr. Albert    male   \n",
       "4          896       3  Hirvonen, Mrs. Alexander (Helga E Lindqvist)  female   \n",
       "\n",
       "    Age  SibSp  Parch   Ticket     Fare Cabin Embarked  \n",
       "0  34.5      0      0   330911   7.8292   NaN        Q  \n",
       "1  47.0      1      0   363272   7.0000   NaN        S  \n",
       "2  62.0      0      0   240276   9.6875   NaN        Q  \n",
       "3  27.0      0      0   315154   8.6625   NaN        S  \n",
       "4  22.0      1      1  3101298  12.2875   NaN        S  "
      ]
     },
     "execution_count": 3,
     "metadata": {},
     "output_type": "execute_result"
    }
   ],
   "source": [
    "test_data = pd.read_csv(\"/kaggle/input/titanic/test.csv\")\n",
    "test_data.head()"
   ]
  },
  {
   "cell_type": "markdown",
   "metadata": {},
   "source": [
    "# Gender"
   ]
  },
  {
   "cell_type": "code",
   "execution_count": 4,
   "metadata": {},
   "outputs": [
    {
     "data": {
      "text/html": [
       "<div>\n",
       "<style scoped>\n",
       "    .dataframe tbody tr th:only-of-type {\n",
       "        vertical-align: middle;\n",
       "    }\n",
       "\n",
       "    .dataframe tbody tr th {\n",
       "        vertical-align: top;\n",
       "    }\n",
       "\n",
       "    .dataframe thead th {\n",
       "        text-align: right;\n",
       "    }\n",
       "</style>\n",
       "<table border=\"1\" class=\"dataframe\">\n",
       "  <thead>\n",
       "    <tr style=\"text-align: right;\">\n",
       "      <th></th>\n",
       "      <th>PassengerId</th>\n",
       "      <th>Survived</th>\n",
       "    </tr>\n",
       "  </thead>\n",
       "  <tbody>\n",
       "    <tr>\n",
       "      <th>0</th>\n",
       "      <td>892</td>\n",
       "      <td>0</td>\n",
       "    </tr>\n",
       "    <tr>\n",
       "      <th>1</th>\n",
       "      <td>893</td>\n",
       "      <td>1</td>\n",
       "    </tr>\n",
       "    <tr>\n",
       "      <th>2</th>\n",
       "      <td>894</td>\n",
       "      <td>0</td>\n",
       "    </tr>\n",
       "    <tr>\n",
       "      <th>3</th>\n",
       "      <td>895</td>\n",
       "      <td>0</td>\n",
       "    </tr>\n",
       "    <tr>\n",
       "      <th>4</th>\n",
       "      <td>896</td>\n",
       "      <td>1</td>\n",
       "    </tr>\n",
       "  </tbody>\n",
       "</table>\n",
       "</div>"
      ],
      "text/plain": [
       "   PassengerId  Survived\n",
       "0          892         0\n",
       "1          893         1\n",
       "2          894         0\n",
       "3          895         0\n",
       "4          896         1"
      ]
     },
     "execution_count": 4,
     "metadata": {},
     "output_type": "execute_result"
    }
   ],
   "source": [
    "gender_data = pd.read_csv(\"/kaggle/input/titanic/gender_submission.csv\")\n",
    "gender_data.head()"
   ]
  },
  {
   "cell_type": "code",
   "execution_count": 5,
   "metadata": {},
   "outputs": [
    {
     "name": "stdout",
     "output_type": "stream",
     "text": [
      "% of women who survived: 0.7420382165605095\n"
     ]
    }
   ],
   "source": [
    "women = train_data.loc[train_data.Sex == 'female'][\"Survived\"]\n",
    "rate_women = sum(women)/len(women)\n",
    "\n",
    "print(\"% of women who survived:\", rate_women)"
   ]
  },
  {
   "cell_type": "markdown",
   "metadata": {},
   "source": [
    "**Women and children** were the first to board the titanic which means they are more likely to survive than men"
   ]
  },
  {
   "cell_type": "code",
   "execution_count": 6,
   "metadata": {},
   "outputs": [
    {
     "name": "stdout",
     "output_type": "stream",
     "text": [
      "% of men who survived: 0.18890814558058924\n"
     ]
    }
   ],
   "source": [
    "men = train_data.loc[train_data.Sex == 'male'][\"Survived\"]\n",
    "rate_men = sum(men)/len(men)\n",
    "\n",
    "print(\"% of men who survived:\", rate_men)"
   ]
  },
  {
   "cell_type": "markdown",
   "metadata": {},
   "source": [
    "# Age"
   ]
  },
  {
   "cell_type": "markdown",
   "metadata": {},
   "source": [
    "The younger you are the more likely to survive"
   ]
  },
  {
   "cell_type": "code",
   "execution_count": 7,
   "metadata": {},
   "outputs": [],
   "source": [
    "data = [train_data, test_data]\n",
    "for dataset in data:\n",
    "    mean = train_data[\"Age\"].mean()\n",
    "    std = test_data[\"Age\"].std()\n",
    "    is_null = dataset[\"Age\"].isnull().sum()\n",
    "    # compute random numbers between the mean, std and is_null\n",
    "    rand_age = np.random.randint(mean - std, mean + std, size = is_null)\n",
    "    # fill NaN values in Age column with random values generated\n",
    "    age_slice = dataset[\"Age\"].copy()\n",
    "    age_slice[np.isnan(age_slice)] = rand_age\n",
    "    dataset[\"Age\"] = age_slice\n",
    "    dataset[\"Age\"] = train_data[\"Age\"].astype(int)"
   ]
  },
  {
   "cell_type": "code",
   "execution_count": 8,
   "metadata": {},
   "outputs": [
    {
     "data": {
      "image/png": "[encoded data removed]",
      "text/plain": [
       "<Figure size 1152x576 with 2 Axes>"
      ]
     },
     "metadata": {
      "needs_background": "light"
     },
     "output_type": "display_data"
    }
   ],
   "source": [
    "survived = 'survived'\n",
    "not_survived = 'not survived'\n",
    "fig, axes = plt.subplots(nrows=1, ncols=2,figsize=(16, 8))\n",
    "women = train_data[train_data['Sex']=='female']\n",
    "men = train_data[train_data['Sex']=='male']\n",
    "ax = sns.distplot(women[women['Survived']==1].Age.dropna(), bins=18, label = survived, ax = axes[0], kde =False, color=\"green\")\n",
    "ax = sns.distplot(women[women['Survived']==0].Age.dropna(), bins=40, label = not_survived, ax = axes[0], kde =False, color=\"red\")\n",
    "ax.legend()\n",
    "ax.set_title('Female')\n",
    "ax = sns.distplot(men[men['Survived']==1].Age.dropna(), bins=18, label = survived, ax = axes[1], kde = False, color=\"green\")\n",
    "ax = sns.distplot(men[men['Survived']==0].Age.dropna(), bins=40, label = not_survived, ax = axes[1], kde = False, color=\"red\")\n",
    "ax.legend()\n",
    "_ = ax.set_title('Male');"
   ]
  },
  {
   "cell_type": "code",
   "execution_count": 9,
   "metadata": {},
   "outputs": [
    {
     "data": {
      "text/html": [
       "        <script type=\"text/javascript\">\n",
       "        window.PlotlyConfig = {MathJaxConfig: 'local'};\n",
       "        if (window.MathJax) {MathJax.Hub.Config({SVG: {font: \"STIX-Web\"}});}\n",
       "        if (typeof require !== 'undefined') {\n",
       "        require.undef(\"plotly\");\n",
       "        requirejs.config({\n",
       "            paths: {\n",
       "                'plotly': ['https://cdn.plot.ly/plotly-latest.min']\n",
       "            }\n",
       "        });\n",
       "        require(['plotly'], function(Plotly) {\n",
       "            window._Plotly = Plotly;\n",
       "        });\n",
       "        }\n",
       "        </script>\n",
       "        "
      ]
     },
     "metadata": {},
     "output_type": "display_data"
    },
    {
     "data": {
      "text/html": [
       "<div>\n",
       "        \n",
       "        \n",
       "            <div id=\"975a228e-eef5-41e2-94bb-6ebada65dcd5\" class=\"plotly-graph-div\" style=\"height:525px; width:100%;\"></div>\n",
       "            <script type=\"text/javascript\">\n",
       "                require([\"plotly\"], function(Plotly) {\n",
       "                    window.PLOTLYENV=window.PLOTLYENV || {};\n",
       "                    \n",
       "                if (document.getElementById(\"975a228e-eef5-41e2-94bb-6ebada65dcd5\")) {\n",
       "                    Plotly.newPlot(\n",
       "                        '975a228e-eef5-41e2-94bb-6ebada65dcd5',\n",
       "                        [{\"hoverlabel\": {\"namelength\": 0}, \"hovertemplate\": \"Name=%{x}<br>Sex=%{y}<br>Age=%{marker.color}\", \"legendgroup\": \"\", \"marker\": {\"color\": [22.0, 38.0, 26.0, 35.0, 35.0, null, 54.0, 2.0, 27.0, 14.0, 4.0, 58.0, 20.0, 39.0, 14.0, 55.0, 2.0, null, 31.0, null, 35.0, 34.0, 15.0, 28.0, 8.0, 38.0, null, 19.0, null, null, 40.0, null, null, 66.0, 28.0, 42.0, null, 21.0, 18.0, 14.0, 40.0, 27.0, null, 3.0, 19.0, null, null, null, null, 18.0, 7.0, 21.0, 49.0, 29.0, 65.0, null, 21.0, 28.5, 5.0, 11.0, 22.0, 38.0, 45.0, 4.0, null, null, 29.0, 19.0, 17.0, 26.0, 32.0, 16.0, 21.0, 26.0, 32.0, 25.0, null, null, 0.83, 30.0, 22.0, 29.0, null, 28.0, 17.0, 33.0, 16.0, null, 23.0, 24.0, 29.0, 20.0, 46.0, 26.0, 59.0, null, 71.0, 23.0, 34.0, 34.0, 28.0, null, 21.0, 33.0, 37.0, 28.0, 21.0, null, 38.0, null, 47.0, 14.5, 22.0, 20.0, 17.0, 21.0, 70.5, 29.0, 24.0, 2.0, 21.0, null, 32.5, 32.5, 54.0, 12.0, null, 24.0, null, 45.0, 33.0, 20.0, 47.0, 29.0, 25.0, 23.0, 19.0, 37.0, 16.0, 24.0, null, 22.0, 24.0, 19.0, 18.0, 19.0, 27.0, 9.0, 36.5, 42.0, 51.0, 22.0, 55.5, 40.5, null, 51.0, 16.0, 30.0, null, null, 44.0, 40.0, 26.0, 17.0, 1.0, 9.0, null, 45.0, null, 28.0, 61.0, 4.0, 1.0, 21.0, 56.0, 18.0, null, 50.0, 30.0, 36.0, null, null, 9.0, 1.0, 4.0, null, null, 45.0, 40.0, 36.0, 32.0, 19.0, 19.0, 3.0, 44.0, 58.0, null, 42.0, null, 24.0, 28.0, null, 34.0, 45.5, 18.0, 2.0, 32.0, 26.0, 16.0, 40.0, 24.0, 35.0, 22.0, 30.0, null, 31.0, 27.0, 42.0, 32.0, 30.0, 16.0, 27.0, 51.0, null, 38.0, 22.0, 19.0, 20.5, 18.0, null, 35.0, 29.0, 59.0, 5.0, 24.0, null, 44.0, 8.0, 19.0, 33.0, null, null, 29.0, 22.0, 30.0, 44.0, 25.0, 24.0, 37.0, 54.0, null, 29.0, 62.0, 30.0, 41.0, 29.0, null, 30.0, 35.0, 50.0, null, 3.0, 52.0, 40.0, null, 36.0, 16.0, 25.0, 58.0, 35.0, null, 25.0, 41.0, 37.0, null, 63.0, 45.0, null, 7.0, 35.0, 65.0, 28.0, 16.0, 19.0, null, 33.0, 30.0, 22.0, 42.0, 22.0, 26.0, 19.0, 36.0, 24.0, 24.0, null, 23.5, 2.0, null, 50.0, null, null, 19.0, null, null, 0.92, null, 17.0, 30.0, 30.0, 24.0, 18.0, 26.0, 28.0, 43.0, 26.0, 24.0, 54.0, 31.0, 40.0, 22.0, 27.0, 30.0, 22.0, null, 36.0, 61.0, 36.0, 31.0, 16.0, null, 45.5, 38.0, 16.0, null, null, 29.0, 41.0, 45.0, 45.0, 2.0, 24.0, 28.0, 25.0, 36.0, 24.0, 40.0, null, 3.0, 42.0, 23.0, null, 15.0, 25.0, null, 28.0, 22.0, 38.0, null, null, 40.0, 29.0, 45.0, 35.0, null, 30.0, 60.0, null, null, 24.0, 25.0, 18.0, 19.0, 22.0, 3.0, null, 22.0, 27.0, 20.0, 19.0, 42.0, 1.0, 32.0, 35.0, null, 18.0, 1.0, 36.0, null, 17.0, 36.0, 21.0, 28.0, 23.0, 24.0, 22.0, 31.0, 46.0, 23.0, 28.0, 39.0, 26.0, 21.0, 28.0, 20.0, 34.0, 51.0, 3.0, 21.0, null, null, null, 33.0, null, 44.0, null, 34.0, 18.0, 30.0, 10.0, null, 21.0, 29.0, 28.0, 18.0, null, 28.0, 19.0, null, 32.0, 28.0, null, 42.0, 17.0, 50.0, 14.0, 21.0, 24.0, 64.0, 31.0, 45.0, 20.0, 25.0, 28.0, null, 4.0, 13.0, 34.0, 5.0, 52.0, 36.0, null, 30.0, 49.0, null, 29.0, 65.0, null, 50.0, null, 48.0, 34.0, 47.0, 48.0, null, 38.0, null, 56.0, null, 0.75, null, 38.0, 33.0, 23.0, 22.0, null, 34.0, 29.0, 22.0, 2.0, 9.0, null, 50.0, 63.0, 25.0, null, 35.0, 58.0, 30.0, 9.0, null, 21.0, 55.0, 71.0, 21.0, null, 54.0, null, 25.0, 24.0, 17.0, 21.0, null, 37.0, 16.0, 18.0, 33.0, null, 28.0, 26.0, 29.0, null, 36.0, 54.0, 24.0, 47.0, 34.0, null, 36.0, 32.0, 30.0, 22.0, null, 44.0, null, 40.5, 50.0, null, 39.0, 23.0, 2.0, null, 17.0, null, 30.0, 7.0, 45.0, 30.0, null, 22.0, 36.0, 9.0, 11.0, 32.0, 50.0, 64.0, 19.0, null, 33.0, 8.0, 17.0, 27.0, null, 22.0, 22.0, 62.0, 48.0, null, 39.0, 36.0, null, 40.0, 28.0, null, null, 24.0, 19.0, 29.0, null, 32.0, 62.0, 53.0, 36.0, null, 16.0, 19.0, 34.0, 39.0, null, 32.0, 25.0, 39.0, 54.0, 36.0, null, 18.0, 47.0, 60.0, 22.0, null, 35.0, 52.0, 47.0, null, 37.0, 36.0, null, 49.0, null, 49.0, 24.0, null, null, 44.0, 35.0, 36.0, 30.0, 27.0, 22.0, 40.0, 39.0, null, null, null, 35.0, 24.0, 34.0, 26.0, 4.0, 26.0, 27.0, 42.0, 20.0, 21.0, 21.0, 61.0, 57.0, 21.0, 26.0, null, 80.0, 51.0, 32.0, null, 9.0, 28.0, 32.0, 31.0, 41.0, null, 20.0, 24.0, 2.0, null, 0.75, 48.0, 19.0, 56.0, null, 23.0, null, 18.0, 21.0, null, 18.0, 24.0, null, 32.0, 23.0, 58.0, 50.0, 40.0, 47.0, 36.0, 20.0, 32.0, 25.0, null, 43.0, null, 40.0, 31.0, 70.0, 31.0, null, 18.0, 24.5, 18.0, 43.0, 36.0, null, 27.0, 20.0, 14.0, 60.0, 25.0, 14.0, 19.0, 18.0, 15.0, 31.0, 4.0, null, 25.0, 60.0, 52.0, 44.0, null, 49.0, 42.0, 18.0, 35.0, 18.0, 25.0, 26.0, 39.0, 45.0, 42.0, 22.0, null, 24.0, null, 48.0, 29.0, 52.0, 19.0, 38.0, 27.0, null, 33.0, 6.0, 17.0, 34.0, 50.0, 27.0, 20.0, 30.0, null, 25.0, 25.0, 29.0, 11.0, null, 23.0, 23.0, 28.5, 48.0, 35.0, null, null, null, 36.0, 21.0, 24.0, 31.0, 70.0, 16.0, 30.0, 19.0, 31.0, 4.0, 6.0, 33.0, 23.0, 48.0, 0.67, 28.0, 18.0, 34.0, 33.0, null, 41.0, 20.0, 36.0, 16.0, 51.0, null, 30.5, null, 32.0, 24.0, 48.0, 57.0, null, 54.0, 18.0, null, 5.0, null, 43.0, 13.0, 17.0, 29.0, null, 25.0, 25.0, 18.0, 8.0, 1.0, 46.0, null, 16.0, null, null, 25.0, 39.0, 49.0, 31.0, 30.0, 30.0, 34.0, 31.0, 11.0, 0.42, 27.0, 31.0, 39.0, 18.0, 39.0, 33.0, 26.0, 39.0, 35.0, 6.0, 30.5, null, 23.0, 31.0, 43.0, 10.0, 52.0, 27.0, 38.0, 27.0, 2.0, null, null, 1.0, null, 62.0, 15.0, 0.83, null, 23.0, 18.0, 39.0, 21.0, null, 32.0, null, 20.0, 16.0, 30.0, 34.5, 17.0, 42.0, null, 35.0, 28.0, null, 4.0, 74.0, 9.0, 16.0, 44.0, 18.0, 45.0, 51.0, 24.0, null, 41.0, 21.0, 48.0, null, 24.0, 42.0, 27.0, 31.0, null, 4.0, 26.0, 47.0, 33.0, 47.0, 28.0, 15.0, 20.0, 19.0, null, 56.0, 25.0, 33.0, 22.0, 28.0, 25.0, 39.0, 27.0, 19.0, null, 26.0, 32.0], \"coloraxis\": \"coloraxis\", \"symbol\": \"circle\"}, \"mode\": \"markers\", \"name\": \"\", \"scene\": \"scene\", \"showlegend\": false, \"type\": \"scatter3d\", \"x\": [\"Braund, Mr. Owen Harris\", \"Cumings, Mrs. John Bradley (Florence Briggs Thayer)\", \"Heikkinen, Miss. Laina\", \"Futrelle, Mrs. Jacques Heath (Lily May Peel)\", \"Allen, Mr. William Henry\", \"Moran, Mr. James\", \"McCarthy, Mr. Timothy J\", \"Palsson, Master. Gosta Leonard\", \"Johnson, Mrs. Oscar W (Elisabeth Vilhelmina Berg)\", \"Nasser, Mrs. Nicholas (Adele Achem)\", \"Sandstrom, Miss. Marguerite Rut\", \"Bonnell, Miss. Elizabeth\", \"Saundercock, Mr. William Henry\", \"Andersson, Mr. Anders Johan\", \"Vestrom, Miss. Hulda Amanda Adolfina\", \"Hewlett, Mrs. (Mary D Kingcome) \", \"Rice, Master. Eugene\", \"Williams, Mr. Charles Eugene\", \"Vander Planke, Mrs. Julius (Emelia Maria Vandemoortele)\", \"Masselmani, Mrs. Fatima\", \"Fynney, Mr. Joseph J\", \"Beesley, Mr. Lawrence\", \"McGowan, Miss. Anna \\\"Annie\\\"\", \"Sloper, Mr. William Thompson\", \"Palsson, Miss. Torborg Danira\", \"Asplund, Mrs. Carl Oscar (Selma Augusta Emilia Johansson)\", \"Emir, Mr. Farred Chehab\", \"Fortune, Mr. Charles Alexander\", \"O'Dwyer, Miss. Ellen \\\"Nellie\\\"\", \"Todoroff, Mr. Lalio\", \"Uruchurtu, Don. Manuel E\", \"Spencer, Mrs. William Augustus (Marie Eugenie)\", \"Glynn, Miss. Mary Agatha\", \"Wheadon, Mr. Edward H\", \"Meyer, Mr. Edgar Joseph\", \"Holverson, Mr. Alexander Oskar\", \"Mamee, Mr. Hanna\", \"Cann, Mr. Ernest Charles\", \"Vander Planke, Miss. Augusta Maria\", \"Nicola-Yarred, Miss. Jamila\", \"Ahlin, Mrs. Johan (Johanna Persdotter Larsson)\", \"Turpin, Mrs. William John Robert (Dorothy Ann Wonnacott)\", \"Kraeff, Mr. Theodor\", \"Laroche, Miss. Simonne Marie Anne Andree\", \"Devaney, Miss. Margaret Delia\", \"Rogers, Mr. William John\", \"Lennon, Mr. Denis\", \"O'Driscoll, Miss. Bridget\", \"Samaan, Mr. Youssef\", \"Arnold-Franchi, Mrs. Josef (Josefine Franchi)\", \"Panula, Master. Juha Niilo\", \"Nosworthy, Mr. Richard Cater\", \"Harper, Mrs. Henry Sleeper (Myna Haxtun)\", \"Faunthorpe, Mrs. Lizzie (Elizabeth Anne Wilkinson)\", \"Ostby, Mr. Engelhart Cornelius\", \"Woolner, Mr. Hugh\", \"Rugg, Miss. Emily\", \"Novel, Mr. Mansouer\", \"West, Miss. Constance Mirium\", \"Goodwin, Master. William Frederick\", \"Sirayanian, Mr. Orsen\", \"Icard, Miss. Amelie\", \"Harris, Mr. Henry Birkhardt\", \"Skoog, Master. Harald\", \"Stewart, Mr. Albert A\", \"Moubarek, Master. Gerios\", \"Nye, Mrs. (Elizabeth Ramell)\", \"Crease, Mr. Ernest James\", \"Andersson, Miss. Erna Alexandra\", \"Kink, Mr. Vincenz\", \"Jenkin, Mr. Stephen Curnow\", \"Goodwin, Miss. Lillian Amy\", \"Hood, Mr. Ambrose Jr\", \"Chronopoulos, Mr. Apostolos\", \"Bing, Mr. Lee\", \"Moen, Mr. Sigurd Hansen\", \"Staneff, Mr. Ivan\", \"Moutal, Mr. Rahamin Haim\", \"Caldwell, Master. Alden Gates\", \"Dowdell, Miss. Elizabeth\", \"Waelens, Mr. Achille\", \"Sheerlinck, Mr. Jan Baptist\", \"McDermott, Miss. Brigdet Delia\", \"Carrau, Mr. Francisco M\", \"Ilett, Miss. Bertha\", \"Backstrom, Mrs. Karl Alfred (Maria Mathilda Gustafsson)\", \"Ford, Mr. William Neal\", \"Slocovski, Mr. Selman Francis\", \"Fortune, Miss. Mabel Helen\", \"Celotti, Mr. Francesco\", \"Christmann, Mr. Emil\", \"Andreasson, Mr. Paul Edvin\", \"Chaffee, Mr. Herbert Fuller\", \"Dean, Mr. Bertram Frank\", \"Coxon, Mr. Daniel\", \"Shorney, Mr. Charles Joseph\", \"Goldschmidt, Mr. George B\", \"Greenfield, Mr. William Bertram\", \"Doling, Mrs. John T (Ada Julia Bone)\", \"Kantor, Mr. Sinai\", \"Petranec, Miss. Matilda\", \"Petroff, Mr. Pastcho (\\\"Pentcho\\\")\", \"White, Mr. Richard Frasar\", \"Johansson, Mr. Gustaf Joel\", \"Gustafsson, Mr. Anders Vilhelm\", \"Mionoff, Mr. Stoytcho\", \"Salkjelsvik, Miss. Anna Kristine\", \"Moss, Mr. Albert Johan\", \"Rekic, Mr. Tido\", \"Moran, Miss. Bertha\", \"Porter, Mr. Walter Chamberlain\", \"Zabour, Miss. Hileni\", \"Barton, Mr. David John\", \"Jussila, Miss. Katriina\", \"Attalah, Miss. Malake\", \"Pekoniemi, Mr. Edvard\", \"Connors, Mr. Patrick\", \"Turpin, Mr. William John Robert\", \"Baxter, Mr. Quigg Edmond\", \"Andersson, Miss. Ellis Anna Maria\", \"Hickman, Mr. Stanley George\", \"Moore, Mr. Leonard Charles\", \"Nasser, Mr. Nicholas\", \"Webber, Miss. Susan\", \"White, Mr. Percival Wayland\", \"Nicola-Yarred, Master. Elias\", \"McMahon, Mr. Martin\", \"Madsen, Mr. Fridtjof Arne\", \"Peter, Miss. Anna\", \"Ekstrom, Mr. Johan\", \"Drazenoic, Mr. Jozef\", \"Coelho, Mr. Domingos Fernandeo\", \"Robins, Mrs. Alexander A (Grace Charity Laury)\", \"Weisz, Mrs. Leopold (Mathilde Francoise Pede)\", \"Sobey, Mr. Samuel James Hayden\", \"Richard, Mr. Emile\", \"Newsom, Miss. Helen Monypeny\", \"Futrelle, Mr. Jacques Heath\", \"Osen, Mr. Olaf Elon\", \"Giglio, Mr. Victor\", \"Boulos, Mrs. Joseph (Sultana)\", \"Nysten, Miss. Anna Sofia\", \"Hakkarainen, Mrs. Pekka Pietari (Elin Matilda Dolck)\", \"Burke, Mr. Jeremiah\", \"Andrew, Mr. Edgardo Samuel\", \"Nicholls, Mr. Joseph Charles\", \"Andersson, Mr. August Edvard (\\\"Wennerstrom\\\")\", \"Ford, Miss. Robina Maggie \\\"Ruby\\\"\", \"Navratil, Mr. Michel (\\\"Louis M Hoffman\\\")\", \"Byles, Rev. Thomas Roussel Davids\", \"Bateman, Rev. Robert James\", \"Pears, Mrs. Thomas (Edith Wearne)\", \"Meo, Mr. Alfonzo\", \"van Billiard, Mr. Austin Blyler\", \"Olsen, Mr. Ole Martin\", \"Williams, Mr. Charles Duane\", \"Gilnagh, Miss. Katherine \\\"Katie\\\"\", \"Corn, Mr. Harry\", \"Smiljanic, Mr. Mile\", \"Sage, Master. Thomas Henry\", \"Cribb, Mr. John Hatfield\", \"Watt, Mrs. James (Elizabeth \\\"Bessie\\\" Inglis Milne)\", \"Bengtsson, Mr. John Viktor\", \"Calic, Mr. Jovo\", \"Panula, Master. Eino Viljami\", \"Goldsmith, Master. Frank John William \\\"Frankie\\\"\", \"Chibnall, Mrs. (Edith Martha Bowerman)\", \"Skoog, Mrs. William (Anna Bernhardina Karlsson)\", \"Baumann, Mr. John D\", \"Ling, Mr. Lee\", \"Van der hoef, Mr. Wyckoff\", \"Rice, Master. Arthur\", \"Johnson, Miss. Eleanor Ileen\", \"Sivola, Mr. Antti Wilhelm\", \"Smith, Mr. James Clinch\", \"Klasen, Mr. Klas Albin\", \"Lefebre, Master. Henry Forbes\", \"Isham, Miss. Ann Elizabeth\", \"Hale, Mr. Reginald\", \"Leonard, Mr. Lionel\", \"Sage, Miss. Constance Gladys\", \"Pernot, Mr. Rene\", \"Asplund, Master. Clarence Gustaf Hugo\", \"Becker, Master. Richard F\", \"Kink-Heilmann, Miss. Luise Gretchen\", \"Rood, Mr. Hugh Roscoe\", \"O'Brien, Mrs. Thomas (Johanna \\\"Hannah\\\" Godfrey)\", \"Romaine, Mr. Charles Hallace (\\\"Mr C Rolmane\\\")\", \"Bourke, Mr. John\", \"Turcin, Mr. Stjepan\", \"Pinsky, Mrs. (Rosa)\", \"Carbines, Mr. William\", \"Andersen-Jensen, Miss. Carla Christine Nielsine\", \"Navratil, Master. Michel M\", \"Brown, Mrs. James Joseph (Margaret Tobin)\", \"Lurette, Miss. Elise\", \"Mernagh, Mr. Robert\", \"Olsen, Mr. Karl Siegwart Andreas\", \"Madigan, Miss. Margaret \\\"Maggie\\\"\", \"Yrois, Miss. Henriette (\\\"Mrs Harbeck\\\")\", \"Vande Walle, Mr. Nestor Cyriel\", \"Sage, Mr. Frederick\", \"Johanson, Mr. Jakob Alfred\", \"Youseff, Mr. Gerious\", \"Cohen, Mr. Gurshon \\\"Gus\\\"\", \"Strom, Miss. Telma Matilda\", \"Backstrom, Mr. Karl Alfred\", \"Albimona, Mr. Nassef Cassem\", \"Carr, Miss. Helen \\\"Ellen\\\"\", \"Blank, Mr. Henry\", \"Ali, Mr. Ahmed\", \"Cameron, Miss. Clear Annie\", \"Perkin, Mr. John Henry\", \"Givard, Mr. Hans Kristensen\", \"Kiernan, Mr. Philip\", \"Newell, Miss. Madeleine\", \"Honkanen, Miss. Eliina\", \"Jacobsohn, Mr. Sidney Samuel\", \"Bazzani, Miss. Albina\", \"Harris, Mr. Walter\", \"Sunderland, Mr. Victor Francis\", \"Bracken, Mr. James H\", \"Green, Mr. George Henry\", \"Nenkoff, Mr. Christo\", \"Hoyt, Mr. Frederick Maxfield\", \"Berglund, Mr. Karl Ivar Sven\", \"Mellors, Mr. William John\", \"Lovell, Mr. John Hall (\\\"Henry\\\")\", \"Fahlstrom, Mr. Arne Jonas\", \"Lefebre, Miss. Mathilde\", \"Harris, Mrs. Henry Birkhardt (Irene Wallach)\", \"Larsson, Mr. Bengt Edvin\", \"Sjostedt, Mr. Ernst Adolf\", \"Asplund, Miss. Lillian Gertrud\", \"Leyson, Mr. Robert William Norman\", \"Harknett, Miss. Alice Phoebe\", \"Hold, Mr. Stephen\", \"Collyer, Miss. Marjorie \\\"Lottie\\\"\", \"Pengelly, Mr. Frederick William\", \"Hunt, Mr. George Henry\", \"Zabour, Miss. Thamine\", \"Murphy, Miss. Katherine \\\"Kate\\\"\", \"Coleridge, Mr. Reginald Charles\", \"Maenpaa, Mr. Matti Alexanteri\", \"Attalah, Mr. Sleiman\", \"Minahan, Dr. William Edward\", \"Lindahl, Miss. Agda Thorilda Viktoria\", \"Hamalainen, Mrs. William (Anna)\", \"Beckwith, Mr. Richard Leonard\", \"Carter, Rev. Ernest Courtenay\", \"Reed, Mr. James George\", \"Strom, Mrs. Wilhelm (Elna Matilda Persson)\", \"Stead, Mr. William Thomas\", \"Lobb, Mr. William Arthur\", \"Rosblom, Mrs. Viktor (Helena Wilhelmina)\", \"Touma, Mrs. Darwis (Hanne Youssef Razi)\", \"Thorne, Mrs. Gertrude Maybelle\", \"Cherry, Miss. Gladys\", \"Ward, Miss. Anna\", \"Parrish, Mrs. (Lutie Davis)\", \"Smith, Mr. Thomas\", \"Asplund, Master. Edvin Rojj Felix\", \"Taussig, Mr. Emil\", \"Harrison, Mr. William\", \"Henry, Miss. Delia\", \"Reeves, Mr. David\", \"Panula, Mr. Ernesti Arvid\", \"Persson, Mr. Ernst Ulrik\", \"Graham, Mrs. William Thompson (Edith Junkins)\", \"Bissette, Miss. Amelia\", \"Cairns, Mr. Alexander\", \"Tornquist, Mr. William Henry\", \"Mellinger, Mrs. (Elizabeth Anne Maidment)\", \"Natsch, Mr. Charles H\", \"Healy, Miss. Hanora \\\"Nora\\\"\", \"Andrews, Miss. Kornelia Theodosia\", \"Lindblom, Miss. Augusta Charlotta\", \"Parkes, Mr. Francis \\\"Frank\\\"\", \"Rice, Master. Eric\", \"Abbott, Mrs. Stanton (Rosa Hunt)\", \"Duane, Mr. Frank\", \"Olsson, Mr. Nils Johan Goransson\", \"de Pelsmaeker, Mr. Alfons\", \"Dorking, Mr. Edward Arthur\", \"Smith, Mr. Richard William\", \"Stankovic, Mr. Ivan\", \"de Mulder, Mr. Theodore\", \"Naidenoff, Mr. Penko\", \"Hosono, Mr. Masabumi\", \"Connolly, Miss. Kate\", \"Barber, Miss. Ellen \\\"Nellie\\\"\", \"Bishop, Mrs. Dickinson H (Helen Walton)\", \"Levy, Mr. Rene Jacques\", \"Haas, Miss. Aloisia\", \"Mineff, Mr. Ivan\", \"Lewy, Mr. Ervin G\", \"Hanna, Mr. Mansour\", \"Allison, Miss. Helen Loraine\", \"Saalfeld, Mr. Adolphe\", \"Baxter, Mrs. James (Helene DeLaudeniere Chaput)\", \"Kelly, Miss. Anna Katherine \\\"Annie Kate\\\"\", \"McCoy, Mr. Bernard\", \"Johnson, Mr. William Cahoone Jr\", \"Keane, Miss. Nora A\", \"Williams, Mr. Howard Hugh \\\"Harry\\\"\", \"Allison, Master. Hudson Trevor\", \"Fleming, Miss. Margaret\", \"Penasco y Castellana, Mrs. Victor de Satode (Maria Josefa Perez de Soto y Vallejo)\", \"Abelson, Mr. Samuel\", \"Francatelli, Miss. Laura Mabel\", \"Hays, Miss. Margaret Bechstein\", \"Ryerson, Miss. Emily Borie\", \"Lahtinen, Mrs. William (Anna Sylfven)\", \"Hendekovic, Mr. Ignjac\", \"Hart, Mr. Benjamin\", \"Nilsson, Miss. Helmina Josefina\", \"Kantor, Mrs. Sinai (Miriam Sternin)\", \"Moraweck, Dr. Ernest\", \"Wick, Miss. Mary Natalie\", \"Spedden, Mrs. Frederic Oakley (Margaretta Corning Stone)\", \"Dennis, Mr. Samuel\", \"Danoff, Mr. Yoto\", \"Slayter, Miss. Hilda Mary\", \"Caldwell, Mrs. Albert Francis (Sylvia Mae Harbaugh)\", \"Sage, Mr. George John Jr\", \"Young, Miss. Marie Grice\", \"Nysveen, Mr. Johan Hansen\", \"Ball, Mrs. (Ada E Hall)\", \"Goldsmith, Mrs. Frank John (Emily Alice Brown)\", \"Hippach, Miss. Jean Gertrude\", \"McCoy, Miss. Agnes\", \"Partner, Mr. Austen\", \"Graham, Mr. George Edward\", \"Vander Planke, Mr. Leo Edmondus\", \"Frauenthal, Mrs. Henry William (Clara Heinsheimer)\", \"Denkoff, Mr. Mitto\", \"Pears, Mr. Thomas Clinton\", \"Burns, Miss. Elizabeth Margaret\", \"Dahl, Mr. Karl Edwart\", \"Blackwell, Mr. Stephen Weart\", \"Navratil, Master. Edmond Roger\", \"Fortune, Miss. Alice Elizabeth\", \"Collander, Mr. Erik Gustaf\", \"Sedgwick, Mr. Charles Frederick Waddington\", \"Fox, Mr. Stanley Hubert\", \"Brown, Miss. Amelia \\\"Mildred\\\"\", \"Smith, Miss. Marion Elsie\", \"Davison, Mrs. Thomas Henry (Mary E Finck)\", \"Coutts, Master. William Loch \\\"William\\\"\", \"Dimic, Mr. Jovan\", \"Odahl, Mr. Nils Martin\", \"Williams-Lambert, Mr. Fletcher Fellows\", \"Elias, Mr. Tannous\", \"Arnold-Franchi, Mr. Josef\", \"Yousif, Mr. Wazli\", \"Vanden Steen, Mr. Leo Peter\", \"Bowerman, Miss. Elsie Edith\", \"Funk, Miss. Annie Clemmer\", \"McGovern, Miss. Mary\", \"Mockler, Miss. Helen Mary \\\"Ellie\\\"\", \"Skoog, Mr. Wilhelm\", \"del Carlo, Mr. Sebastiano\", \"Barbara, Mrs. (Catherine David)\", \"Asim, Mr. Adola\", \"O'Brien, Mr. Thomas\", \"Adahl, Mr. Mauritz Nils Martin\", \"Warren, Mrs. Frank Manley (Anna Sophia Atkinson)\", \"Moussa, Mrs. (Mantoura Boulos)\", \"Jermyn, Miss. Annie\", \"Aubart, Mme. Leontine Pauline\", \"Harder, Mr. George Achilles\", \"Wiklund, Mr. Jakob Alfred\", \"Beavan, Mr. William Thomas\", \"Ringhini, Mr. Sante\", \"Palsson, Miss. Stina Viola\", \"Meyer, Mrs. Edgar Joseph (Leila Saks)\", \"Landergren, Miss. Aurora Adelia\", \"Widener, Mr. Harry Elkins\", \"Betros, Mr. Tannous\", \"Gustafsson, Mr. Karl Gideon\", \"Bidois, Miss. Rosalie\", \"Nakid, Miss. Maria (\\\"Mary\\\")\", \"Tikkanen, Mr. Juho\", \"Holverson, Mrs. Alexander Oskar (Mary Aline Towner)\", \"Plotcharsky, Mr. Vasil\", \"Davies, Mr. Charles Henry\", \"Goodwin, Master. Sidney Leonard\", \"Buss, Miss. Kate\", \"Sadlier, Mr. Matthew\", \"Lehmann, Miss. Bertha\", \"Carter, Mr. William Ernest\", \"Jansson, Mr. Carl Olof\", \"Gustafsson, Mr. Johan Birger\", \"Newell, Miss. Marjorie\", \"Sandstrom, Mrs. Hjalmar (Agnes Charlotta Bengtsson)\", \"Johansson, Mr. Erik\", \"Olsson, Miss. Elina\", \"McKane, Mr. Peter David\", \"Pain, Dr. Alfred\", \"Trout, Mrs. William H (Jessie L)\", \"Niskanen, Mr. Juha\", \"Adams, Mr. John\", \"Jussila, Miss. Mari Aina\", \"Hakkarainen, Mr. Pekka Pietari\", \"Oreskovic, Miss. Marija\", \"Gale, Mr. Shadrach\", \"Widegren, Mr. Carl/Charles Peter\", \"Richards, Master. William Rowe\", \"Birkeland, Mr. Hans Martin Monsen\", \"Lefebre, Miss. Ida\", \"Sdycoff, Mr. Todor\", \"Hart, Mr. Henry\", \"Minahan, Miss. Daisy E\", \"Cunningham, Mr. Alfred Fleming\", \"Sundman, Mr. Johan Julian\", \"Meek, Mrs. Thomas (Annie Louise Rowley)\", \"Drew, Mrs. James Vivian (Lulu Thorne Christian)\", \"Silven, Miss. Lyyli Karoliina\", \"Matthews, Mr. William John\", \"Van Impe, Miss. Catharina\", \"Gheorgheff, Mr. Stanio\", \"Charters, Mr. David\", \"Zimmerman, Mr. Leo\", \"Danbom, Mrs. Ernst Gilbert (Anna Sigrid Maria Brogren)\", \"Rosblom, Mr. Viktor Richard\", \"Wiseman, Mr. Phillippe\", \"Clarke, Mrs. Charles V (Ada Maria Winfield)\", \"Phillips, Miss. Kate Florence (\\\"Mrs Kate Louise Phillips Marshall\\\")\", \"Flynn, Mr. James\", \"Pickard, Mr. Berk (Berk Trembisky)\", \"Bjornstrom-Steffansson, Mr. Mauritz Hakan\", \"Thorneycroft, Mrs. Percival (Florence Kate White)\", \"Louch, Mrs. Charles Alexander (Alice Adelaide Slow)\", \"Kallio, Mr. Nikolai Erland\", \"Silvey, Mr. William Baird\", \"Carter, Miss. Lucile Polk\", \"Ford, Miss. Doolina Margaret \\\"Daisy\\\"\", \"Richards, Mrs. Sidney (Emily Hocking)\", \"Fortune, Mr. Mark\", \"Kvillner, Mr. Johan Henrik Johannesson\", \"Hart, Mrs. Benjamin (Esther Ada Bloomfield)\", \"Hampe, Mr. Leon\", \"Petterson, Mr. Johan Emil\", \"Reynaldo, Ms. Encarnacion\", \"Johannesen-Bratthammer, Mr. Bernt\", \"Dodge, Master. Washington\", \"Mellinger, Miss. Madeleine Violet\", \"Seward, Mr. Frederic Kimber\", \"Baclini, Miss. Marie Catherine\", \"Peuchen, Major. Arthur Godfrey\", \"West, Mr. Edwy Arthur\", \"Hagland, Mr. Ingvald Olai Olsen\", \"Foreman, Mr. Benjamin Laventall\", \"Goldenberg, Mr. Samuel L\", \"Peduzzi, Mr. Joseph\", \"Jalsevac, Mr. Ivan\", \"Millet, Mr. Francis Davis\", \"Kenyon, Mrs. Frederick R (Marion)\", \"Toomey, Miss. Ellen\", \"O'Connor, Mr. Maurice\", \"Anderson, Mr. Harry\", \"Morley, Mr. William\", \"Gee, Mr. Arthur H\", \"Milling, Mr. Jacob Christian\", \"Maisner, Mr. Simon\", \"Goncalves, Mr. Manuel Estanslas\", \"Campbell, Mr. William\", \"Smart, Mr. John Montgomery\", \"Scanlan, Mr. James\", \"Baclini, Miss. Helene Barbara\", \"Keefe, Mr. Arthur\", \"Cacic, Mr. Luka\", \"West, Mrs. Edwy Arthur (Ada Mary Worth)\", \"Jerwan, Mrs. Amin S (Marie Marthe Thuillard)\", \"Strandberg, Miss. Ida Sofia\", \"Clifford, Mr. George Quincy\", \"Renouf, Mr. Peter Henry\", \"Braund, Mr. Lewis Richard\", \"Karlsson, Mr. Nils August\", \"Hirvonen, Miss. Hildur E\", \"Goodwin, Master. Harold Victor\", \"Frost, Mr. Anthony Wood \\\"Archie\\\"\", \"Rouse, Mr. Richard Henry\", \"Turkula, Mrs. (Hedwig)\", \"Bishop, Mr. Dickinson H\", \"Lefebre, Miss. Jeannie\", \"Hoyt, Mrs. Frederick Maxfield (Jane Anne Forby)\", \"Kent, Mr. Edward Austin\", \"Somerton, Mr. Francis William\", \"Coutts, Master. Eden Leslie \\\"Neville\\\"\", \"Hagland, Mr. Konrad Mathias Reiersen\", \"Windelov, Mr. Einar\", \"Molson, Mr. Harry Markland\", \"Artagaveytia, Mr. Ramon\", \"Stanley, Mr. Edward Roland\", \"Yousseff, Mr. Gerious\", \"Eustis, Miss. Elizabeth Mussey\", \"Shellard, Mr. Frederick William\", \"Allison, Mrs. Hudson J C (Bessie Waldo Daniels)\", \"Svensson, Mr. Olof\", \"Calic, Mr. Petar\", \"Canavan, Miss. Mary\", \"O'Sullivan, Miss. Bridget Mary\", \"Laitinen, Miss. Kristina Sofia\", \"Maioni, Miss. Roberta\", \"Penasco y Castellana, Mr. Victor de Satode\", \"Quick, Mrs. Frederick Charles (Jane Richards)\", \"Bradley, Mr. George (\\\"George Arthur Brayton\\\")\", \"Olsen, Mr. Henry Margido\", \"Lang, Mr. Fang\", \"Daly, Mr. Eugene Patrick\", \"Webber, Mr. James\", \"McGough, Mr. James Robert\", \"Rothschild, Mrs. Martin (Elizabeth L. Barrett)\", \"Coleff, Mr. Satio\", \"Walker, Mr. William Anderson\", \"Lemore, Mrs. (Amelia Milley)\", \"Ryan, Mr. Patrick\", \"Angle, Mrs. William A (Florence \\\"Mary\\\" Agnes Hughes)\", \"Pavlovic, Mr. Stefo\", \"Perreault, Miss. Anne\", \"Vovk, Mr. Janko\", \"Lahoud, Mr. Sarkis\", \"Hippach, Mrs. Louis Albert (Ida Sophia Fischer)\", \"Kassem, Mr. Fared\", \"Farrell, Mr. James\", \"Ridsdale, Miss. Lucy\", \"Farthing, Mr. John\", \"Salonen, Mr. Johan Werner\", \"Hocking, Mr. Richard George\", \"Quick, Miss. Phyllis May\", \"Toufik, Mr. Nakli\", \"Elias, Mr. Joseph Jr\", \"Peter, Mrs. Catherine (Catherine Rizk)\", \"Cacic, Miss. Marija\", \"Hart, Miss. Eva Miriam\", \"Butt, Major. Archibald Willingham\", \"LeRoy, Miss. Bertha\", \"Risien, Mr. Samuel Beard\", \"Frolicher, Miss. Hedwig Margaritha\", \"Crosby, Miss. Harriet R\", \"Andersson, Miss. Ingeborg Constanzia\", \"Andersson, Miss. Sigrid Elisabeth\", \"Beane, Mr. Edward\", \"Douglas, Mr. Walter Donald\", \"Nicholson, Mr. Arthur Ernest\", \"Beane, Mrs. Edward (Ethel Clarke)\", \"Padro y Manent, Mr. Julian\", \"Goldsmith, Mr. Frank John\", \"Davies, Master. John Morgan Jr\", \"Thayer, Mr. John Borland Jr\", \"Sharp, Mr. Percival James R\", \"O'Brien, Mr. Timothy\", \"Leeni, Mr. Fahim (\\\"Philip Zenni\\\")\", \"Ohman, Miss. Velin\", \"Wright, Mr. George\", \"Duff Gordon, Lady. (Lucille Christiana Sutherland) (\\\"Mrs Morgan\\\")\", \"Robbins, Mr. Victor\", \"Taussig, Mrs. Emil (Tillie Mandelbaum)\", \"de Messemaeker, Mrs. Guillaume Joseph (Emma)\", \"Morrow, Mr. Thomas Rowan\", \"Sivic, Mr. Husein\", \"Norman, Mr. Robert Douglas\", \"Simmons, Mr. John\", \"Meanwell, Miss. (Marion Ogden)\", \"Davies, Mr. Alfred J\", \"Stoytcheff, Mr. Ilia\", \"Palsson, Mrs. Nils (Alma Cornelia Berglund)\", \"Doharr, Mr. Tannous\", \"Jonsson, Mr. Carl\", \"Harris, Mr. George\", \"Appleton, Mrs. Edward Dale (Charlotte Lamson)\", \"Flynn, Mr. John Irwin (\\\"Irving\\\")\", \"Kelly, Miss. Mary\", \"Rush, Mr. Alfred George John\", \"Patchett, Mr. George\", \"Garside, Miss. Ethel\", \"Silvey, Mrs. William Baird (Alice Munger)\", \"Caram, Mrs. Joseph (Maria Elias)\", \"Jussila, Mr. Eiriik\", \"Christy, Miss. Julie Rachel\", \"Thayer, Mrs. John Borland (Marian Longstreth Morris)\", \"Downton, Mr. William James\", \"Ross, Mr. John Hugo\", \"Paulner, Mr. Uscher\", \"Taussig, Miss. Ruth\", \"Jarvis, Mr. John Denzil\", \"Frolicher-Stehli, Mr. Maxmillian\", \"Gilinski, Mr. Eliezer\", \"Murdlin, Mr. Joseph\", \"Rintamaki, Mr. Matti\", \"Stephenson, Mrs. Walter Bertram (Martha Eustis)\", \"Elsbury, Mr. William James\", \"Bourke, Miss. Mary\", \"Chapman, Mr. John Henry\", \"Van Impe, Mr. Jean Baptiste\", \"Leitch, Miss. Jessie Wills\", \"Johnson, Mr. Alfred\", \"Boulos, Mr. Hanna\", \"Duff Gordon, Sir. Cosmo Edmund (\\\"Mr Morgan\\\")\", \"Jacobsohn, Mrs. Sidney Samuel (Amy Frances Christy)\", \"Slabenoff, Mr. Petco\", \"Harrington, Mr. Charles H\", \"Torber, Mr. Ernst William\", \"Homer, Mr. Harry (\\\"Mr E Haven\\\")\", \"Lindell, Mr. Edvard Bengtsson\", \"Karaic, Mr. Milan\", \"Daniel, Mr. Robert Williams\", \"Laroche, Mrs. Joseph (Juliette Marie Louise Lafargue)\", \"Shutes, Miss. Elizabeth W\", \"Andersson, Mrs. Anders Johan (Alfrida Konstantia Brogren)\", \"Jardin, Mr. Jose Neto\", \"Murphy, Miss. Margaret Jane\", \"Horgan, Mr. John\", \"Brocklebank, Mr. William Alfred\", \"Herman, Miss. Alice\", \"Danbom, Mr. Ernst Gilbert\", \"Lobb, Mrs. William Arthur (Cordelia K Stanlick)\", \"Becker, Miss. Marion Louise\", \"Gavey, Mr. Lawrence\", \"Yasbeck, Mr. Antoni\", \"Kimball, Mr. Edwin Nelson Jr\", \"Nakid, Mr. Sahid\", \"Hansen, Mr. Henry Damsgaard\", \"Bowen, Mr. David John \\\"Dai\\\"\", \"Sutton, Mr. Frederick\", \"Kirkland, Rev. Charles Leonard\", \"Longley, Miss. Gretchen Fiske\", \"Bostandyeff, Mr. Guentcho\", \"O'Connell, Mr. Patrick D\", \"Barkworth, Mr. Algernon Henry Wilson\", \"Lundahl, Mr. Johan Svensson\", \"Stahelin-Maeglin, Dr. Max\", \"Parr, Mr. William Henry Marsh\", \"Skoog, Miss. Mabel\", \"Davis, Miss. Mary\", \"Leinonen, Mr. Antti Gustaf\", \"Collyer, Mr. Harvey\", \"Panula, Mrs. Juha (Maria Emilia Ojala)\", \"Thorneycroft, Mr. Percival\", \"Jensen, Mr. Hans Peder\", \"Sagesser, Mlle. Emma\", \"Skoog, Miss. Margit Elizabeth\", \"Foo, Mr. Choong\", \"Baclini, Miss. Eugenie\", \"Harper, Mr. Henry Sleeper\", \"Cor, Mr. Liudevit\", \"Simonius-Blumer, Col. Oberst Alfons\", \"Willey, Mr. Edward\", \"Stanley, Miss. Amy Zillah Elsie\", \"Mitkoff, Mr. Mito\", \"Doling, Miss. Elsie\", \"Kalvik, Mr. Johannes Halvorsen\", \"O'Leary, Miss. Hanora \\\"Norah\\\"\", \"Hegarty, Miss. Hanora \\\"Nora\\\"\", \"Hickman, Mr. Leonard Mark\", \"Radeff, Mr. Alexander\", \"Bourke, Mrs. John (Catherine)\", \"Eitemiller, Mr. George Floyd\", \"Newell, Mr. Arthur Webster\", \"Frauenthal, Dr. Henry William\", \"Badt, Mr. Mohamed\", \"Colley, Mr. Edward Pomeroy\", \"Coleff, Mr. Peju\", \"Lindqvist, Mr. Eino William\", \"Hickman, Mr. Lewis\", \"Butler, Mr. Reginald Fenton\", \"Rommetvedt, Mr. Knud Paust\", \"Cook, Mr. Jacob\", \"Taylor, Mrs. Elmer Zebley (Juliet Cummins Wright)\", \"Brown, Mrs. Thomas William Solomon (Elizabeth Catherine Ford)\", \"Davidson, Mr. Thornton\", \"Mitchell, Mr. Henry Michael\", \"Wilhelms, Mr. Charles\", \"Watson, Mr. Ennis Hastings\", \"Edvardsson, Mr. Gustaf Hjalmar\", \"Sawyer, Mr. Frederick Charles\", \"Turja, Miss. Anna Sofia\", \"Goodwin, Mrs. Frederick (Augusta Tyler)\", \"Cardeza, Mr. Thomas Drake Martinez\", \"Peters, Miss. Katie\", \"Hassab, Mr. Hammad\", \"Olsvigen, Mr. Thor Anderson\", \"Goodwin, Mr. Charles Edward\", \"Brown, Mr. Thomas William Solomon\", \"Laroche, Mr. Joseph Philippe Lemercier\", \"Panula, Mr. Jaako Arnold\", \"Dakic, Mr. Branko\", \"Fischer, Mr. Eberhard Thelander\", \"Madill, Miss. Georgette Alexandra\", \"Dick, Mr. Albert Adrian\", \"Karun, Miss. Manca\", \"Lam, Mr. Ali\", \"Saad, Mr. Khalil\", \"Weir, Col. John\", \"Chapman, Mr. Charles Henry\", \"Kelly, Mr. James\", \"Mullens, Miss. Katherine \\\"Katie\\\"\", \"Thayer, Mr. John Borland\", \"Humblen, Mr. Adolf Mathias Nicolai Olsen\", \"Astor, Mrs. John Jacob (Madeleine Talmadge Force)\", \"Silverthorne, Mr. Spencer Victor\", \"Barbara, Miss. Saiide\", \"Gallagher, Mr. Martin\", \"Hansen, Mr. Henrik Juul\", \"Morley, Mr. Henry Samuel (\\\"Mr Henry Marshall\\\")\", \"Kelly, Mrs. Florence \\\"Fannie\\\"\", \"Calderhead, Mr. Edward Pennington\", \"Cleaver, Miss. Alice\", \"Moubarek, Master. Halim Gonios (\\\"William George\\\")\", \"Mayne, Mlle. Berthe Antonine (\\\"Mrs de Villiers\\\")\", \"Klaber, Mr. Herman\", \"Taylor, Mr. Elmer Zebley\", \"Larsson, Mr. August Viktor\", \"Greenberg, Mr. Samuel\", \"Soholt, Mr. Peter Andreas Lauritz Andersen\", \"Endres, Miss. Caroline Louise\", \"Troutt, Miss. Edwina Celia \\\"Winnie\\\"\", \"McEvoy, Mr. Michael\", \"Johnson, Mr. Malkolm Joackim\", \"Harper, Miss. Annie Jessie \\\"Nina\\\"\", \"Jensen, Mr. Svend Lauritz\", \"Gillespie, Mr. William Henry\", \"Hodges, Mr. Henry Price\", \"Chambers, Mr. Norman Campbell\", \"Oreskovic, Mr. Luka\", \"Renouf, Mrs. Peter Henry (Lillian Jefferys)\", \"Mannion, Miss. Margareth\", \"Bryhl, Mr. Kurt Arnold Gottfrid\", \"Ilmakangas, Miss. Pieta Sofia\", \"Allen, Miss. Elisabeth Walton\", \"Hassan, Mr. Houssein G N\", \"Knight, Mr. Robert J\", \"Berriman, Mr. William John\", \"Troupiansky, Mr. Moses Aaron\", \"Williams, Mr. Leslie\", \"Ford, Mrs. Edward (Margaret Ann Watson)\", \"Lesurer, Mr. Gustave J\", \"Ivanoff, Mr. Kanio\", \"Nankoff, Mr. Minko\", \"Hawksford, Mr. Walter James\", \"Cavendish, Mr. Tyrell William\", \"Ryerson, Miss. Susan Parker \\\"Suzette\\\"\", \"McNamee, Mr. Neal\", \"Stranden, Mr. Juho\", \"Crosby, Capt. Edward Gifford\", \"Abbott, Mr. Rossmore Edward\", \"Sinkkonen, Miss. Anna\", \"Marvin, Mr. Daniel Warner\", \"Connaghton, Mr. Michael\", \"Wells, Miss. Joan\", \"Moor, Master. Meier\", \"Vande Velde, Mr. Johannes Joseph\", \"Jonkoff, Mr. Lalio\", \"Herman, Mrs. Samuel (Jane Laver)\", \"Hamalainen, Master. Viljo\", \"Carlsson, Mr. August Sigfrid\", \"Bailey, Mr. Percy Andrew\", \"Theobald, Mr. Thomas Leonard\", \"Rothes, the Countess. of (Lucy Noel Martha Dyer-Edwards)\", \"Garfirth, Mr. John\", \"Nirva, Mr. Iisakki Antino Aijo\", \"Barah, Mr. Hanna Assi\", \"Carter, Mrs. William Ernest (Lucile Polk)\", \"Eklund, Mr. Hans Linus\", \"Hogeboom, Mrs. John C (Anna Andrews)\", \"Brewe, Dr. Arthur Jackson\", \"Mangan, Miss. Mary\", \"Moran, Mr. Daniel J\", \"Gronnestad, Mr. Daniel Danielsen\", \"Lievens, Mr. Rene Aime\", \"Jensen, Mr. Niels Peder\", \"Mack, Mrs. (Mary)\", \"Elias, Mr. Dibo\", \"Hocking, Mrs. Elizabeth (Eliza Needs)\", \"Myhrman, Mr. Pehr Fabian Oliver Malkolm\", \"Tobin, Mr. Roger\", \"Emanuel, Miss. Virginia Ethel\", \"Kilgannon, Mr. Thomas J\", \"Robert, Mrs. Edward Scott (Elisabeth Walton McMillan)\", \"Ayoub, Miss. Banoura\", \"Dick, Mrs. Albert Adrian (Vera Gillespie)\", \"Long, Mr. Milton Clyde\", \"Johnston, Mr. Andrew G\", \"Ali, Mr. William\", \"Harmer, Mr. Abraham (David Lishin)\", \"Sjoblom, Miss. Anna Sofia\", \"Rice, Master. George Hugh\", \"Dean, Master. Bertram Vere\", \"Guggenheim, Mr. Benjamin\", \"Keane, Mr. Andrew \\\"Andy\\\"\", \"Gaskell, Mr. Alfred\", \"Sage, Miss. Stella Anna\", \"Hoyt, Mr. William Fisher\", \"Dantcheff, Mr. Ristiu\", \"Otter, Mr. Richard\", \"Leader, Dr. Alice (Farnham)\", \"Osman, Mrs. Mara\", \"Ibrahim Shawah, Mr. Yousseff\", \"Van Impe, Mrs. Jean Baptiste (Rosalie Paula Govaert)\", \"Ponesell, Mr. Martin\", \"Collyer, Mrs. Harvey (Charlotte Annie Tate)\", \"Carter, Master. William Thornton II\", \"Thomas, Master. Assad Alexander\", \"Hedman, Mr. Oskar Arvid\", \"Johansson, Mr. Karl Johan\", \"Andrews, Mr. Thomas Jr\", \"Pettersson, Miss. Ellen Natalia\", \"Meyer, Mr. August\", \"Chambers, Mrs. Norman Campbell (Bertha Griggs)\", \"Alexander, Mr. William\", \"Lester, Mr. James\", \"Slemen, Mr. Richard James\", \"Andersson, Miss. Ebba Iris Alfrida\", \"Tomlin, Mr. Ernest Portage\", \"Fry, Mr. Richard\", \"Heininen, Miss. Wendla Maria\", \"Mallet, Mr. Albert\", \"Holm, Mr. John Fredrik Alexander\", \"Skoog, Master. Karl Thorsten\", \"Hays, Mrs. Charles Melville (Clara Jennings Gregg)\", \"Lulic, Mr. Nikola\", \"Reuchlin, Jonkheer. John George\", \"Moor, Mrs. (Beila)\", \"Panula, Master. Urho Abraham\", \"Flynn, Mr. John\", \"Lam, Mr. Len\", \"Mallet, Master. Andre\", \"McCormack, Mr. Thomas Joseph\", \"Stone, Mrs. George Nelson (Martha Evelyn)\", \"Yasbeck, Mrs. Antoni (Selini Alexander)\", \"Richards, Master. George Sibley\", \"Saad, Mr. Amin\", \"Augustsson, Mr. Albert\", \"Allum, Mr. Owen George\", \"Compton, Miss. Sara Rebecca\", \"Pasic, Mr. Jakob\", \"Sirota, Mr. Maurice\", \"Chip, Mr. Chang\", \"Marechal, Mr. Pierre\", \"Alhomaki, Mr. Ilmari Rudolf\", \"Mudd, Mr. Thomas Charles\", \"Serepeca, Miss. Augusta\", \"Lemberopolous, Mr. Peter L\", \"Culumovic, Mr. Jeso\", \"Abbing, Mr. Anthony\", \"Sage, Mr. Douglas Bullen\", \"Markoff, Mr. Marin\", \"Harper, Rev. John\", \"Goldenberg, Mrs. Samuel L (Edwiga Grabowska)\", \"Andersson, Master. Sigvard Harald Elias\", \"Svensson, Mr. Johan\", \"Boulos, Miss. Nourelain\", \"Lines, Miss. Mary Conover\", \"Carter, Mrs. Ernest Courtenay (Lilian Hughes)\", \"Aks, Mrs. Sam (Leah Rosen)\", \"Wick, Mrs. George Dennick (Mary Hitchcock)\", \"Daly, Mr. Peter Denis \", \"Baclini, Mrs. Solomon (Latifa Qurban)\", \"Razi, Mr. Raihed\", \"Hansen, Mr. Claus Peter\", \"Giles, Mr. Frederick Edward\", \"Swift, Mrs. Frederick Joel (Margaret Welles Barron)\", \"Sage, Miss. Dorothy Edith \\\"Dolly\\\"\", \"Gill, Mr. John William\", \"Bystrom, Mrs. (Karolina)\", \"Duran y More, Miss. Asuncion\", \"Roebling, Mr. Washington Augustus II\", \"van Melkebeke, Mr. Philemon\", \"Johnson, Master. Harold Theodor\", \"Balkic, Mr. Cerin\", \"Beckwith, Mrs. Richard Leonard (Sallie Monypeny)\", \"Carlsson, Mr. Frans Olof\", \"Vander Cruyssen, Mr. Victor\", \"Abelson, Mrs. Samuel (Hannah Wizosky)\", \"Najib, Miss. Adele Kiamie \\\"Jane\\\"\", \"Gustafsson, Mr. Alfred Ossian\", \"Petroff, Mr. Nedelio\", \"Laleff, Mr. Kristo\", \"Potter, Mrs. Thomas Jr (Lily Alexenia Wilson)\", \"Shelley, Mrs. William (Imanita Parrish Hall)\", \"Markun, Mr. Johann\", \"Dahlberg, Miss. Gerda Ulrika\", \"Banfield, Mr. Frederick James\", \"Sutehall, Mr. Henry Jr\", \"Rice, Mrs. William (Margaret Norton)\", \"Montvila, Rev. Juozas\", \"Graham, Miss. Margaret Edith\", \"Johnston, Miss. Catherine Helen \\\"Carrie\\\"\", \"Behr, Mr. Karl Howell\", \"Dooley, Mr. Patrick\"], \"y\": [\"male\", \"female\", \"female\", \"female\", \"male\", \"male\", \"male\", \"male\", \"female\", \"female\", \"female\", \"female\", \"male\", \"male\", \"female\", \"female\", \"male\", \"male\", \"female\", \"female\", \"male\", \"male\", \"female\", \"male\", \"female\", \"female\", \"male\", \"male\", \"female\", \"male\", \"male\", \"female\", \"female\", \"male\", \"male\", \"male\", \"male\", \"male\", \"female\", \"female\", \"female\", \"female\", \"male\", \"female\", \"female\", \"male\", \"male\", \"female\", \"male\", \"female\", \"male\", \"male\", \"female\", \"female\", \"male\", \"male\", \"female\", \"male\", \"female\", \"male\", \"male\", \"female\", \"male\", \"male\", \"male\", \"male\", \"female\", \"male\", \"female\", \"male\", \"male\", \"female\", \"male\", \"male\", \"male\", \"male\", \"male\", \"male\", \"male\", \"female\", \"male\", \"male\", \"female\", \"male\", \"female\", \"female\", \"male\", \"male\", \"female\", \"male\", \"male\", \"male\", \"male\", \"male\", \"male\", \"male\", \"male\", \"male\", \"female\", \"male\", \"female\", \"male\", \"male\", \"male\", \"male\", \"male\", \"female\", \"male\", \"male\", \"female\", \"male\", \"female\", \"male\", \"female\", \"female\", \"male\", \"male\", \"male\", \"male\", \"female\", \"male\", \"male\", \"male\", \"female\", \"male\", \"male\", \"male\", \"male\", \"female\", \"male\", \"male\", \"male\", \"female\", \"female\", \"male\", \"male\", \"female\", \"male\", \"male\", \"male\", \"female\", \"female\", \"female\", \"male\", \"male\", \"male\", \"male\", \"female\", \"male\", \"male\", \"male\", \"female\", \"male\", \"male\", \"male\", \"male\", \"female\", \"male\", \"male\", \"male\", \"male\", \"female\", \"male\", \"male\", \"male\", \"male\", \"female\", \"female\", \"male\", \"male\", \"male\", \"male\", \"female\", \"male\", \"male\", \"male\", \"male\", \"female\", \"male\", \"male\", \"female\", \"male\", \"male\", \"male\", \"female\", \"male\", \"female\", \"male\", \"male\", \"male\", \"female\", \"male\", \"female\", \"male\", \"female\", \"female\", \"male\", \"male\", \"female\", \"female\", \"male\", \"male\", \"male\", \"male\", \"male\", \"female\", \"male\", \"male\", \"female\", \"male\", \"male\", \"female\", \"male\", \"male\", \"male\", \"female\", \"female\", \"male\", \"female\", \"male\", \"male\", \"male\", \"male\", \"male\", \"male\", \"male\", \"male\", \"male\", \"male\", \"female\", \"female\", \"male\", \"male\", \"female\", \"male\", \"female\", \"male\", \"female\", \"male\", \"male\", \"female\", \"female\", \"male\", \"male\", \"male\", \"male\", \"female\", \"female\", \"male\", \"male\", \"male\", \"female\", \"male\", \"male\", \"female\", \"female\", \"female\", \"female\", \"female\", \"female\", \"male\", \"male\", \"male\", \"male\", \"female\", \"male\", \"male\", \"male\", \"female\", \"female\", \"male\", \"male\", \"female\", \"male\", \"female\", \"female\", \"female\", \"male\", \"male\", \"female\", \"male\", \"male\", \"male\", \"male\", \"male\", \"male\", \"male\", \"male\", \"male\", \"female\", \"female\", \"female\", \"male\", \"female\", \"male\", \"male\", \"male\", \"female\", \"male\", \"female\", \"female\", \"male\", \"male\", \"female\", \"male\", \"male\", \"female\", \"female\", \"male\", \"female\", \"female\", \"female\", \"female\", \"male\", \"male\", \"female\", \"female\", \"male\", \"female\", \"female\", \"male\", \"male\", \"female\", \"female\", \"male\", \"female\", \"male\", \"female\", \"female\", \"female\", \"female\", \"male\", \"male\", \"male\", \"female\", \"male\", \"male\", \"female\", \"male\", \"male\", \"male\", \"female\", \"male\", \"male\", \"male\", \"female\", \"female\", \"female\", \"male\", \"male\", \"male\", \"male\", \"male\", \"male\", \"male\", \"male\", \"female\", \"female\", \"female\", \"female\", \"male\", \"male\", \"female\", \"male\", \"male\", \"male\", \"female\", \"female\", \"female\", \"female\", \"male\", \"male\", \"male\", \"male\", \"female\", \"female\", \"female\", \"male\", \"male\", \"male\", \"female\", \"female\", \"male\", \"female\", \"male\", \"male\", \"male\", \"female\", \"male\", \"female\", \"male\", \"male\", \"male\", \"female\", \"female\", \"male\", \"female\", \"male\", \"male\", \"female\", \"male\", \"male\", \"female\", \"male\", \"female\", \"male\", \"male\", \"male\", \"male\", \"female\", \"male\", \"male\", \"female\", \"male\", \"male\", \"female\", \"female\", \"female\", \"male\", \"female\", \"male\", \"male\", \"male\", \"female\", \"male\", \"male\", \"female\", \"female\", \"male\", \"male\", \"male\", \"female\", \"female\", \"male\", \"male\", \"female\", \"female\", \"female\", \"male\", \"male\", \"female\", \"male\", \"male\", \"female\", \"male\", \"male\", \"female\", \"male\", \"female\", \"male\", \"male\", \"male\", \"male\", \"male\", \"male\", \"male\", \"male\", \"female\", \"female\", \"male\", \"male\", \"male\", \"male\", \"male\", \"male\", \"male\", \"male\", \"male\", \"male\", \"female\", \"male\", \"male\", \"female\", \"female\", \"female\", \"male\", \"male\", \"male\", \"male\", \"female\", \"male\", \"male\", \"male\", \"female\", \"male\", \"female\", \"female\", \"male\", \"male\", \"male\", \"male\", \"male\", \"male\", \"male\", \"male\", \"male\", \"female\", \"male\", \"female\", \"male\", \"male\", \"female\", \"female\", \"female\", \"female\", \"male\", \"female\", \"male\", \"male\", \"male\", \"male\", \"male\", \"male\", \"female\", \"male\", \"male\", \"female\", \"male\", \"female\", \"male\", \"female\", \"male\", \"male\", \"female\", \"male\", \"male\", \"female\", \"male\", \"male\", \"male\", \"female\", \"male\", \"male\", \"female\", \"female\", \"female\", \"male\", \"female\", \"male\", \"female\", \"female\", \"female\", \"female\", \"male\", \"male\", \"male\", \"female\", \"male\", \"male\", \"male\", \"male\", \"male\", \"male\", \"male\", \"female\", \"male\", \"female\", \"male\", \"female\", \"female\", \"male\", \"male\", \"male\", \"male\", \"female\", \"male\", \"male\", \"female\", \"male\", \"male\", \"male\", \"female\", \"male\", \"female\", \"male\", \"male\", \"female\", \"female\", \"female\", \"male\", \"female\", \"female\", \"male\", \"male\", \"male\", \"female\", \"male\", \"male\", \"male\", \"male\", \"male\", \"female\", \"male\", \"female\", \"male\", \"male\", \"female\", \"male\", \"male\", \"male\", \"female\", \"male\", \"male\", \"male\", \"male\", \"male\", \"male\", \"male\", \"female\", \"female\", \"female\", \"male\", \"female\", \"male\", \"male\", \"female\", \"male\", \"female\", \"female\", \"male\", \"male\", \"male\", \"male\", \"male\", \"male\", \"male\", \"male\", \"female\", \"male\", \"male\", \"male\", \"male\", \"male\", \"male\", \"female\", \"female\", \"male\", \"male\", \"female\", \"male\", \"male\", \"female\", \"female\", \"male\", \"female\", \"male\", \"male\", \"male\", \"male\", \"female\", \"male\", \"female\", \"male\", \"female\", \"female\", \"male\", \"male\", \"female\", \"male\", \"male\", \"male\", \"male\", \"male\", \"male\", \"male\", \"male\", \"male\", \"male\", \"male\", \"female\", \"female\", \"male\", \"male\", \"male\", \"male\", \"male\", \"male\", \"female\", \"female\", \"male\", \"female\", \"male\", \"male\", \"male\", \"male\", \"male\", \"male\", \"male\", \"male\", \"female\", \"male\", \"female\", \"male\", \"male\", \"male\", \"male\", \"male\", \"female\", \"male\", \"male\", \"female\", \"male\", \"female\", \"male\", \"male\", \"male\", \"female\", \"male\", \"female\", \"male\", \"female\", \"male\", \"male\", \"male\", \"male\", \"male\", \"female\", \"female\", \"male\", \"male\", \"female\", \"male\", \"male\", \"male\", \"male\", \"male\", \"female\", \"female\", \"male\", \"female\", \"female\", \"male\", \"male\", \"male\", \"male\", \"male\", \"female\", \"male\", \"male\", \"male\", \"male\", \"male\", \"female\", \"male\", \"male\", \"male\", \"male\", \"female\", \"male\", \"male\", \"female\", \"male\", \"male\", \"male\", \"female\", \"male\", \"male\", \"male\", \"male\", \"female\", \"male\", \"male\", \"male\", \"female\", \"male\", \"female\", \"male\", \"female\", \"male\", \"male\", \"male\", \"male\", \"female\", \"male\", \"female\", \"male\", \"male\", \"female\", \"male\", \"female\", \"female\", \"female\", \"male\", \"male\", \"male\", \"male\", \"female\", \"male\", \"male\", \"male\", \"male\", \"male\", \"female\", \"male\", \"male\", \"male\", \"female\", \"female\", \"male\", \"female\", \"male\", \"female\", \"male\", \"male\", \"male\", \"male\", \"male\", \"female\", \"male\", \"female\", \"male\", \"male\", \"male\", \"female\", \"male\", \"male\", \"female\", \"male\", \"male\", \"male\", \"female\", \"male\", \"male\", \"female\", \"male\", \"male\", \"male\", \"male\", \"male\", \"female\", \"female\", \"male\", \"male\", \"male\", \"male\", \"female\", \"male\", \"male\", \"male\", \"male\", \"male\", \"male\", \"female\", \"male\", \"male\", \"male\", \"male\", \"male\", \"male\", \"female\", \"male\", \"male\", \"female\", \"female\", \"female\", \"female\", \"female\", \"male\", \"female\", \"male\", \"male\", \"male\", \"female\", \"female\", \"male\", \"female\", \"female\", \"male\", \"male\", \"male\", \"male\", \"female\", \"male\", \"male\", \"female\", \"female\", \"male\", \"male\", \"male\", \"female\", \"female\", \"male\", \"female\", \"male\", \"male\", \"female\", \"male\", \"female\", \"female\", \"male\", \"male\"], \"z\": [22.0, 38.0, 26.0, 35.0, 35.0, null, 54.0, 2.0, 27.0, 14.0, 4.0, 58.0, 20.0, 39.0, 14.0, 55.0, 2.0, null, 31.0, null, 35.0, 34.0, 15.0, 28.0, 8.0, 38.0, null, 19.0, null, null, 40.0, null, null, 66.0, 28.0, 42.0, null, 21.0, 18.0, 14.0, 40.0, 27.0, null, 3.0, 19.0, null, null, null, null, 18.0, 7.0, 21.0, 49.0, 29.0, 65.0, null, 21.0, 28.5, 5.0, 11.0, 22.0, 38.0, 45.0, 4.0, null, null, 29.0, 19.0, 17.0, 26.0, 32.0, 16.0, 21.0, 26.0, 32.0, 25.0, null, null, 0.83, 30.0, 22.0, 29.0, null, 28.0, 17.0, 33.0, 16.0, null, 23.0, 24.0, 29.0, 20.0, 46.0, 26.0, 59.0, null, 71.0, 23.0, 34.0, 34.0, 28.0, null, 21.0, 33.0, 37.0, 28.0, 21.0, null, 38.0, null, 47.0, 14.5, 22.0, 20.0, 17.0, 21.0, 70.5, 29.0, 24.0, 2.0, 21.0, null, 32.5, 32.5, 54.0, 12.0, null, 24.0, null, 45.0, 33.0, 20.0, 47.0, 29.0, 25.0, 23.0, 19.0, 37.0, 16.0, 24.0, null, 22.0, 24.0, 19.0, 18.0, 19.0, 27.0, 9.0, 36.5, 42.0, 51.0, 22.0, 55.5, 40.5, null, 51.0, 16.0, 30.0, null, null, 44.0, 40.0, 26.0, 17.0, 1.0, 9.0, null, 45.0, null, 28.0, 61.0, 4.0, 1.0, 21.0, 56.0, 18.0, null, 50.0, 30.0, 36.0, null, null, 9.0, 1.0, 4.0, null, null, 45.0, 40.0, 36.0, 32.0, 19.0, 19.0, 3.0, 44.0, 58.0, null, 42.0, null, 24.0, 28.0, null, 34.0, 45.5, 18.0, 2.0, 32.0, 26.0, 16.0, 40.0, 24.0, 35.0, 22.0, 30.0, null, 31.0, 27.0, 42.0, 32.0, 30.0, 16.0, 27.0, 51.0, null, 38.0, 22.0, 19.0, 20.5, 18.0, null, 35.0, 29.0, 59.0, 5.0, 24.0, null, 44.0, 8.0, 19.0, 33.0, null, null, 29.0, 22.0, 30.0, 44.0, 25.0, 24.0, 37.0, 54.0, null, 29.0, 62.0, 30.0, 41.0, 29.0, null, 30.0, 35.0, 50.0, null, 3.0, 52.0, 40.0, null, 36.0, 16.0, 25.0, 58.0, 35.0, null, 25.0, 41.0, 37.0, null, 63.0, 45.0, null, 7.0, 35.0, 65.0, 28.0, 16.0, 19.0, null, 33.0, 30.0, 22.0, 42.0, 22.0, 26.0, 19.0, 36.0, 24.0, 24.0, null, 23.5, 2.0, null, 50.0, null, null, 19.0, null, null, 0.92, null, 17.0, 30.0, 30.0, 24.0, 18.0, 26.0, 28.0, 43.0, 26.0, 24.0, 54.0, 31.0, 40.0, 22.0, 27.0, 30.0, 22.0, null, 36.0, 61.0, 36.0, 31.0, 16.0, null, 45.5, 38.0, 16.0, null, null, 29.0, 41.0, 45.0, 45.0, 2.0, 24.0, 28.0, 25.0, 36.0, 24.0, 40.0, null, 3.0, 42.0, 23.0, null, 15.0, 25.0, null, 28.0, 22.0, 38.0, null, null, 40.0, 29.0, 45.0, 35.0, null, 30.0, 60.0, null, null, 24.0, 25.0, 18.0, 19.0, 22.0, 3.0, null, 22.0, 27.0, 20.0, 19.0, 42.0, 1.0, 32.0, 35.0, null, 18.0, 1.0, 36.0, null, 17.0, 36.0, 21.0, 28.0, 23.0, 24.0, 22.0, 31.0, 46.0, 23.0, 28.0, 39.0, 26.0, 21.0, 28.0, 20.0, 34.0, 51.0, 3.0, 21.0, null, null, null, 33.0, null, 44.0, null, 34.0, 18.0, 30.0, 10.0, null, 21.0, 29.0, 28.0, 18.0, null, 28.0, 19.0, null, 32.0, 28.0, null, 42.0, 17.0, 50.0, 14.0, 21.0, 24.0, 64.0, 31.0, 45.0, 20.0, 25.0, 28.0, null, 4.0, 13.0, 34.0, 5.0, 52.0, 36.0, null, 30.0, 49.0, null, 29.0, 65.0, null, 50.0, null, 48.0, 34.0, 47.0, 48.0, null, 38.0, null, 56.0, null, 0.75, null, 38.0, 33.0, 23.0, 22.0, null, 34.0, 29.0, 22.0, 2.0, 9.0, null, 50.0, 63.0, 25.0, null, 35.0, 58.0, 30.0, 9.0, null, 21.0, 55.0, 71.0, 21.0, null, 54.0, null, 25.0, 24.0, 17.0, 21.0, null, 37.0, 16.0, 18.0, 33.0, null, 28.0, 26.0, 29.0, null, 36.0, 54.0, 24.0, 47.0, 34.0, null, 36.0, 32.0, 30.0, 22.0, null, 44.0, null, 40.5, 50.0, null, 39.0, 23.0, 2.0, null, 17.0, null, 30.0, 7.0, 45.0, 30.0, null, 22.0, 36.0, 9.0, 11.0, 32.0, 50.0, 64.0, 19.0, null, 33.0, 8.0, 17.0, 27.0, null, 22.0, 22.0, 62.0, 48.0, null, 39.0, 36.0, null, 40.0, 28.0, null, null, 24.0, 19.0, 29.0, null, 32.0, 62.0, 53.0, 36.0, null, 16.0, 19.0, 34.0, 39.0, null, 32.0, 25.0, 39.0, 54.0, 36.0, null, 18.0, 47.0, 60.0, 22.0, null, 35.0, 52.0, 47.0, null, 37.0, 36.0, null, 49.0, null, 49.0, 24.0, null, null, 44.0, 35.0, 36.0, 30.0, 27.0, 22.0, 40.0, 39.0, null, null, null, 35.0, 24.0, 34.0, 26.0, 4.0, 26.0, 27.0, 42.0, 20.0, 21.0, 21.0, 61.0, 57.0, 21.0, 26.0, null, 80.0, 51.0, 32.0, null, 9.0, 28.0, 32.0, 31.0, 41.0, null, 20.0, 24.0, 2.0, null, 0.75, 48.0, 19.0, 56.0, null, 23.0, null, 18.0, 21.0, null, 18.0, 24.0, null, 32.0, 23.0, 58.0, 50.0, 40.0, 47.0, 36.0, 20.0, 32.0, 25.0, null, 43.0, null, 40.0, 31.0, 70.0, 31.0, null, 18.0, 24.5, 18.0, 43.0, 36.0, null, 27.0, 20.0, 14.0, 60.0, 25.0, 14.0, 19.0, 18.0, 15.0, 31.0, 4.0, null, 25.0, 60.0, 52.0, 44.0, null, 49.0, 42.0, 18.0, 35.0, 18.0, 25.0, 26.0, 39.0, 45.0, 42.0, 22.0, null, 24.0, null, 48.0, 29.0, 52.0, 19.0, 38.0, 27.0, null, 33.0, 6.0, 17.0, 34.0, 50.0, 27.0, 20.0, 30.0, null, 25.0, 25.0, 29.0, 11.0, null, 23.0, 23.0, 28.5, 48.0, 35.0, null, null, null, 36.0, 21.0, 24.0, 31.0, 70.0, 16.0, 30.0, 19.0, 31.0, 4.0, 6.0, 33.0, 23.0, 48.0, 0.67, 28.0, 18.0, 34.0, 33.0, null, 41.0, 20.0, 36.0, 16.0, 51.0, null, 30.5, null, 32.0, 24.0, 48.0, 57.0, null, 54.0, 18.0, null, 5.0, null, 43.0, 13.0, 17.0, 29.0, null, 25.0, 25.0, 18.0, 8.0, 1.0, 46.0, null, 16.0, null, null, 25.0, 39.0, 49.0, 31.0, 30.0, 30.0, 34.0, 31.0, 11.0, 0.42, 27.0, 31.0, 39.0, 18.0, 39.0, 33.0, 26.0, 39.0, 35.0, 6.0, 30.5, null, 23.0, 31.0, 43.0, 10.0, 52.0, 27.0, 38.0, 27.0, 2.0, null, null, 1.0, null, 62.0, 15.0, 0.83, null, 23.0, 18.0, 39.0, 21.0, null, 32.0, null, 20.0, 16.0, 30.0, 34.5, 17.0, 42.0, null, 35.0, 28.0, null, 4.0, 74.0, 9.0, 16.0, 44.0, 18.0, 45.0, 51.0, 24.0, null, 41.0, 21.0, 48.0, null, 24.0, 42.0, 27.0, 31.0, null, 4.0, 26.0, 47.0, 33.0, 47.0, 28.0, 15.0, 20.0, 19.0, null, 56.0, 25.0, 33.0, 22.0, 28.0, 25.0, 39.0, 27.0, 19.0, null, 26.0, 32.0]}],\n",
       "                        {\"coloraxis\": {\"colorbar\": {\"title\": {\"text\": \"Age\"}}, \"colorscale\": [[0.0, \"#0d0887\"], [0.1111111111111111, \"#46039f\"], [0.2222222222222222, \"#7201a8\"], [0.3333333333333333, \"#9c179e\"], [0.4444444444444444, \"#bd3786\"], [0.5555555555555556, \"#d8576b\"], [0.6666666666666666, \"#ed7953\"], [0.7777777777777778, \"#fb9f3a\"], [0.8888888888888888, \"#fdca26\"], [1.0, \"#f0f921\"]]}, \"legend\": {\"tracegroupgap\": 0}, \"margin\": {\"t\": 60}, \"scene\": {\"domain\": {\"x\": [0.0, 1.0], \"y\": [0.0, 1.0]}, \"xaxis\": {\"title\": {\"text\": \"Name\"}}, \"yaxis\": {\"title\": {\"text\": \"Sex\"}}, \"zaxis\": {\"title\": {\"text\": \"Age\"}}}, \"template\": {\"data\": {\"bar\": [{\"error_x\": {\"color\": \"#2a3f5f\"}, \"error_y\": {\"color\": \"#2a3f5f\"}, \"marker\": {\"line\": {\"color\": \"#E5ECF6\", \"width\": 0.5}}, \"type\": \"bar\"}], \"barpolar\": [{\"marker\": {\"line\": {\"color\": \"#E5ECF6\", \"width\": 0.5}}, \"type\": \"barpolar\"}], \"carpet\": [{\"aaxis\": {\"endlinecolor\": \"#2a3f5f\", \"gridcolor\": \"white\", \"linecolor\": \"white\", \"minorgridcolor\": \"white\", \"startlinecolor\": \"#2a3f5f\"}, \"baxis\": {\"endlinecolor\": \"#2a3f5f\", \"gridcolor\": \"white\", \"linecolor\": \"white\", \"minorgridcolor\": \"white\", \"startlinecolor\": \"#2a3f5f\"}, \"type\": \"carpet\"}], \"choropleth\": [{\"colorbar\": {\"outlinewidth\": 0, \"ticks\": \"\"}, \"type\": \"choropleth\"}], \"contour\": [{\"colorbar\": {\"outlinewidth\": 0, \"ticks\": \"\"}, \"colorscale\": [[0.0, \"#0d0887\"], [0.1111111111111111, \"#46039f\"], [0.2222222222222222, \"#7201a8\"], [0.3333333333333333, \"#9c179e\"], [0.4444444444444444, \"#bd3786\"], [0.5555555555555556, \"#d8576b\"], [0.6666666666666666, \"#ed7953\"], [0.7777777777777778, \"#fb9f3a\"], [0.8888888888888888, \"#fdca26\"], [1.0, \"#f0f921\"]], \"type\": \"contour\"}], \"contourcarpet\": [{\"colorbar\": {\"outlinewidth\": 0, \"ticks\": \"\"}, \"type\": \"contourcarpet\"}], \"heatmap\": [{\"colorbar\": {\"outlinewidth\": 0, \"ticks\": \"\"}, \"colorscale\": [[0.0, \"#0d0887\"], [0.1111111111111111, \"#46039f\"], [0.2222222222222222, \"#7201a8\"], [0.3333333333333333, \"#9c179e\"], [0.4444444444444444, \"#bd3786\"], [0.5555555555555556, \"#d8576b\"], [0.6666666666666666, \"#ed7953\"], [0.7777777777777778, \"#fb9f3a\"], [0.8888888888888888, \"#fdca26\"], [1.0, \"#f0f921\"]], \"type\": \"heatmap\"}], \"heatmapgl\": [{\"colorbar\": {\"outlinewidth\": 0, \"ticks\": \"\"}, \"colorscale\": [[0.0, \"#0d0887\"], [0.1111111111111111, \"#46039f\"], [0.2222222222222222, \"#7201a8\"], [0.3333333333333333, \"#9c179e\"], [0.4444444444444444, \"#bd3786\"], [0.5555555555555556, \"#d8576b\"], [0.6666666666666666, \"#ed7953\"], [0.7777777777777778, \"#fb9f3a\"], [0.8888888888888888, \"#fdca26\"], [1.0, \"#f0f921\"]], \"type\": \"heatmapgl\"}], \"histogram\": [{\"marker\": {\"colorbar\": {\"outlinewidth\": 0, \"ticks\": \"\"}}, \"type\": \"histogram\"}], \"histogram2d\": [{\"colorbar\": {\"outlinewidth\": 0, \"ticks\": \"\"}, \"colorscale\": [[0.0, \"#0d0887\"], [0.1111111111111111, \"#46039f\"], [0.2222222222222222, \"#7201a8\"], [0.3333333333333333, \"#9c179e\"], [0.4444444444444444, \"#bd3786\"], [0.5555555555555556, \"#d8576b\"], [0.6666666666666666, \"#ed7953\"], [0.7777777777777778, \"#fb9f3a\"], [0.8888888888888888, \"#fdca26\"], [1.0, \"#f0f921\"]], \"type\": \"histogram2d\"}], \"histogram2dcontour\": [{\"colorbar\": {\"outlinewidth\": 0, \"ticks\": \"\"}, \"colorscale\": [[0.0, \"#0d0887\"], [0.1111111111111111, \"#46039f\"], [0.2222222222222222, \"#7201a8\"], [0.3333333333333333, \"#9c179e\"], [0.4444444444444444, \"#bd3786\"], [0.5555555555555556, \"#d8576b\"], [0.6666666666666666, \"#ed7953\"], [0.7777777777777778, \"#fb9f3a\"], [0.8888888888888888, \"#fdca26\"], [1.0, \"#f0f921\"]], \"type\": \"histogram2dcontour\"}], \"mesh3d\": [{\"colorbar\": {\"outlinewidth\": 0, \"ticks\": \"\"}, \"type\": \"mesh3d\"}], \"parcoords\": [{\"line\": {\"colorbar\": {\"outlinewidth\": 0, \"ticks\": \"\"}}, \"type\": \"parcoords\"}], \"pie\": [{\"automargin\": true, \"type\": \"pie\"}], \"scatter\": [{\"marker\": {\"colorbar\": {\"outlinewidth\": 0, \"ticks\": \"\"}}, \"type\": \"scatter\"}], \"scatter3d\": [{\"line\": {\"colorbar\": {\"outlinewidth\": 0, \"ticks\": \"\"}}, \"marker\": {\"colorbar\": {\"outlinewidth\": 0, \"ticks\": \"\"}}, \"type\": \"scatter3d\"}], \"scattercarpet\": [{\"marker\": {\"colorbar\": {\"outlinewidth\": 0, \"ticks\": \"\"}}, \"type\": \"scattercarpet\"}], \"scattergeo\": [{\"marker\": {\"colorbar\": {\"outlinewidth\": 0, \"ticks\": \"\"}}, \"type\": \"scattergeo\"}], \"scattergl\": [{\"marker\": {\"colorbar\": {\"outlinewidth\": 0, \"ticks\": \"\"}}, \"type\": \"scattergl\"}], \"scattermapbox\": [{\"marker\": {\"colorbar\": {\"outlinewidth\": 0, \"ticks\": \"\"}}, \"type\": \"scattermapbox\"}], \"scatterpolar\": [{\"marker\": {\"colorbar\": {\"outlinewidth\": 0, \"ticks\": \"\"}}, \"type\": \"scatterpolar\"}], \"scatterpolargl\": [{\"marker\": {\"colorbar\": {\"outlinewidth\": 0, \"ticks\": \"\"}}, \"type\": \"scatterpolargl\"}], \"scatterternary\": [{\"marker\": {\"colorbar\": {\"outlinewidth\": 0, \"ticks\": \"\"}}, \"type\": \"scatterternary\"}], \"surface\": [{\"colorbar\": {\"outlinewidth\": 0, \"ticks\": \"\"}, \"colorscale\": [[0.0, \"#0d0887\"], [0.1111111111111111, \"#46039f\"], [0.2222222222222222, \"#7201a8\"], [0.3333333333333333, \"#9c179e\"], [0.4444444444444444, \"#bd3786\"], [0.5555555555555556, \"#d8576b\"], [0.6666666666666666, \"#ed7953\"], [0.7777777777777778, \"#fb9f3a\"], [0.8888888888888888, \"#fdca26\"], [1.0, \"#f0f921\"]], \"type\": \"surface\"}], \"table\": [{\"cells\": {\"fill\": {\"color\": \"#EBF0F8\"}, \"line\": {\"color\": \"white\"}}, \"header\": {\"fill\": {\"color\": \"#C8D4E3\"}, \"line\": {\"color\": \"white\"}}, \"type\": \"table\"}]}, \"layout\": {\"annotationdefaults\": {\"arrowcolor\": \"#2a3f5f\", \"arrowhead\": 0, \"arrowwidth\": 1}, \"coloraxis\": {\"colorbar\": {\"outlinewidth\": 0, \"ticks\": \"\"}}, \"colorscale\": {\"diverging\": [[0, \"#8e0152\"], [0.1, \"#c51b7d\"], [0.2, \"#de77ae\"], [0.3, \"#f1b6da\"], [0.4, \"#fde0ef\"], [0.5, \"#f7f7f7\"], [0.6, \"#e6f5d0\"], [0.7, \"#b8e186\"], [0.8, \"#7fbc41\"], [0.9, \"#4d9221\"], [1, \"#276419\"]], \"sequential\": [[0.0, \"#0d0887\"], [0.1111111111111111, \"#46039f\"], [0.2222222222222222, \"#7201a8\"], [0.3333333333333333, \"#9c179e\"], [0.4444444444444444, \"#bd3786\"], [0.5555555555555556, \"#d8576b\"], [0.6666666666666666, \"#ed7953\"], [0.7777777777777778, \"#fb9f3a\"], [0.8888888888888888, \"#fdca26\"], [1.0, \"#f0f921\"]], \"sequentialminus\": [[0.0, \"#0d0887\"], [0.1111111111111111, \"#46039f\"], [0.2222222222222222, \"#7201a8\"], [0.3333333333333333, \"#9c179e\"], [0.4444444444444444, \"#bd3786\"], [0.5555555555555556, \"#d8576b\"], [0.6666666666666666, \"#ed7953\"], [0.7777777777777778, \"#fb9f3a\"], [0.8888888888888888, \"#fdca26\"], [1.0, \"#f0f921\"]]}, \"colorway\": [\"#636efa\", \"#EF553B\", \"#00cc96\", \"#ab63fa\", \"#FFA15A\", \"#19d3f3\", \"#FF6692\", \"#B6E880\", \"#FF97FF\", \"#FECB52\"], \"font\": {\"color\": \"#2a3f5f\"}, \"geo\": {\"bgcolor\": \"white\", \"lakecolor\": \"white\", \"landcolor\": \"#E5ECF6\", \"showlakes\": true, \"showland\": true, \"subunitcolor\": \"white\"}, \"hoverlabel\": {\"align\": \"left\"}, \"hovermode\": \"closest\", \"mapbox\": {\"style\": \"light\"}, \"paper_bgcolor\": \"white\", \"plot_bgcolor\": \"#E5ECF6\", \"polar\": {\"angularaxis\": {\"gridcolor\": \"white\", \"linecolor\": \"white\", \"ticks\": \"\"}, \"bgcolor\": \"#E5ECF6\", \"radialaxis\": {\"gridcolor\": \"white\", \"linecolor\": \"white\", \"ticks\": \"\"}}, \"scene\": {\"xaxis\": {\"backgroundcolor\": \"#E5ECF6\", \"gridcolor\": \"white\", \"gridwidth\": 2, \"linecolor\": \"white\", \"showbackground\": true, \"ticks\": \"\", \"zerolinecolor\": \"white\"}, \"yaxis\": {\"backgroundcolor\": \"#E5ECF6\", \"gridcolor\": \"white\", \"gridwidth\": 2, \"linecolor\": \"white\", \"showbackground\": true, \"ticks\": \"\", \"zerolinecolor\": \"white\"}, \"zaxis\": {\"backgroundcolor\": \"#E5ECF6\", \"gridcolor\": \"white\", \"gridwidth\": 2, \"linecolor\": \"white\", \"showbackground\": true, \"ticks\": \"\", \"zerolinecolor\": \"white\"}}, \"shapedefaults\": {\"line\": {\"color\": \"#2a3f5f\"}}, \"ternary\": {\"aaxis\": {\"gridcolor\": \"white\", \"linecolor\": \"white\", \"ticks\": \"\"}, \"baxis\": {\"gridcolor\": \"white\", \"linecolor\": \"white\", \"ticks\": \"\"}, \"bgcolor\": \"#E5ECF6\", \"caxis\": {\"gridcolor\": \"white\", \"linecolor\": \"white\", \"ticks\": \"\"}}, \"title\": {\"x\": 0.05}, \"xaxis\": {\"automargin\": true, \"gridcolor\": \"white\", \"linecolor\": \"white\", \"ticks\": \"\", \"title\": {\"standoff\": 15}, \"zerolinecolor\": \"white\", \"zerolinewidth\": 2}, \"yaxis\": {\"automargin\": true, \"gridcolor\": \"white\", \"linecolor\": \"white\", \"ticks\": \"\", \"title\": {\"standoff\": 15}, \"zerolinecolor\": \"white\", \"zerolinewidth\": 2}}}},\n",
       "                        {\"responsive\": true}\n",
       "                    ).then(function(){\n",
       "                            \n",
       "var gd = document.getElementById('975a228e-eef5-41e2-94bb-6ebada65dcd5');\n",
       "var x = new MutationObserver(function (mutations, observer) {{\n",
       "        var display = window.getComputedStyle(gd).display;\n",
       "        if (!display || display === 'none') {{\n",
       "            console.log([gd, 'removed!']);\n",
       "            Plotly.purge(gd);\n",
       "            observer.disconnect();\n",
       "        }}\n",
       "}});\n",
       "\n",
       "// Listen for the removal of the full notebook cells\n",
       "var notebookContainer = gd.closest('#notebook-container');\n",
       "if (notebookContainer) {{\n",
       "    x.observe(notebookContainer, {childList: true});\n",
       "}}\n",
       "\n",
       "// Listen for the clearing of the current output cell\n",
       "var outputEl = gd.closest('.output');\n",
       "if (outputEl) {{\n",
       "    x.observe(outputEl, {childList: true});\n",
       "}}\n",
       "\n",
       "                        })\n",
       "                };\n",
       "                });\n",
       "            </script>\n",
       "        </div>"
      ]
     },
     "metadata": {},
     "output_type": "display_data"
    }
   ],
   "source": [
    "df = pd.read_csv('../input/titanic/train.csv')\n",
    "fig = px.scatter_3d(df, x='Name', y='Sex', z='Age',\n",
    "                    color='Age')\n",
    "fig.show()"
   ]
  },
  {
   "cell_type": "markdown",
   "metadata": {},
   "source": [
    "# Class"
   ]
  },
  {
   "cell_type": "markdown",
   "metadata": {},
   "source": [
    "You have a higher chance of surviving if you have a first class ticket than having a second or third"
   ]
  },
  {
   "cell_type": "code",
   "execution_count": 10,
   "metadata": {},
   "outputs": [
    {
     "data": {
      "image/png": "[encoded data removed]",
      "text/plain": [
       "<Figure size 576x396 with 1 Axes>"
      ]
     },
     "metadata": {
      "needs_background": "light"
     },
     "output_type": "display_data"
    }
   ],
   "source": [
    "sns.barplot(x='Pclass', y='Survived', data=train_data);"
   ]
  },
  {
   "cell_type": "markdown",
   "metadata": {},
   "source": [
    "# Embark"
   ]
  },
  {
   "cell_type": "markdown",
   "metadata": {},
   "source": [
    "Women will survive more if they embarked from port ‘Southampton’ or ‘ Queenstown’. While men will survive more from the port 'Cherbourg'"
   ]
  },
  {
   "cell_type": "code",
   "execution_count": 11,
   "metadata": {},
   "outputs": [],
   "source": [
    "embarked_mode = train_data['Embarked'].mode()\n",
    "data = [train_data, test_data]\n",
    "for dataset in data:\n",
    "    dataset['Embarked'] = dataset['Embarked'].fillna(embarked_mode)"
   ]
  },
  {
   "cell_type": "code",
   "execution_count": 12,
   "metadata": {},
   "outputs": [
    {
     "name": "stderr",
     "output_type": "stream",
     "text": [
      "/opt/conda/lib/python3.6/site-packages/seaborn/axisgrid.py:243: UserWarning:\n",
      "\n",
      "The `size` parameter has been renamed to `height`; please update your code.\n",
      "\n"
     ]
    },
    {
     "data": {
      "image/png": "[encoded data removed]",
      "text/plain": [
       "<Figure size 588.9x972 with 3 Axes>"
      ]
     },
     "metadata": {
      "needs_background": "light"
     },
     "output_type": "display_data"
    }
   ],
   "source": [
    "FacetGrid = sns.FacetGrid(train_data, row='Embarked', size=4.5, aspect=1.6)\n",
    "FacetGrid.map(sns.pointplot, 'Pclass', 'Survived', 'Sex', order=None, hue_order=None )\n",
    "FacetGrid.add_legend();"
   ]
  },
  {
   "cell_type": "code",
   "execution_count": 13,
   "metadata": {},
   "outputs": [
    {
     "data": {
      "image/png": "[encoded data removed]",
      "text/plain": [
       "<Figure size 576x396 with 1 Axes>"
      ]
     },
     "metadata": {},
     "output_type": "display_data"
    }
   ],
   "source": [
    "sns.set(style=\"darkgrid\")\n",
    "sns.countplot( x='Survived', data=train_data, hue=\"Embarked\", palette=\"Set1\");"
   ]
  },
  {
   "cell_type": "markdown",
   "metadata": {},
   "source": [
    "# Relatives"
   ]
  },
  {
   "cell_type": "markdown",
   "metadata": {},
   "source": [
    "You are more likly to survive if you are travels with 1 to 3 people and if you have 0 or more than three you have a less chance."
   ]
  },
  {
   "cell_type": "code",
   "execution_count": 14,
   "metadata": {},
   "outputs": [
    {
     "name": "stderr",
     "output_type": "stream",
     "text": [
      "/opt/conda/lib/python3.6/site-packages/seaborn/categorical.py:3669: UserWarning:\n",
      "\n",
      "The `factorplot` function has been renamed to `catplot`. The original name will be removed in a future release. Please update your code. Note that the default `kind` in `factorplot` (`'point'`) has changed `'strip'` in `catplot`.\n",
      "\n"
     ]
    },
    {
     "data": {
      "image/png": "[encoded data removed]",
      "text/plain": [
       "<Figure size 900x360 with 1 Axes>"
      ]
     },
     "metadata": {},
     "output_type": "display_data"
    }
   ],
   "source": [
    "data = [train_data, test_data]\n",
    "for dataset in data:\n",
    "    dataset['relatives'] = dataset['SibSp'] + dataset['Parch']\n",
    "    dataset.loc[dataset['relatives'] > 0, 'travelled_alone'] = 'No'\n",
    "    dataset.loc[dataset['relatives'] == 0, 'travelled_alone'] = 'Yes'\n",
    "axes = sns.factorplot('relatives','Survived', \n",
    "                      data=train_data, aspect = 2.5, );"
   ]
  },
  {
   "cell_type": "code",
   "execution_count": 15,
   "metadata": {},
   "outputs": [
    {
     "data": {
      "text/plain": [
       "\"train_numerical_features = list(train_data.select_dtypes(include=['int64', 'float64', 'int32']).columns)\\nss_scaler = StandardScaler()\\ntrain_data_ss = pd.DataFrame(data = train_data)\\ntrain_data_ss[train_numerical_features] = ss_scaler.fit_transform(train_data_ss[train_numerical_features])\""
      ]
     },
     "execution_count": 15,
     "metadata": {},
     "output_type": "execute_result"
    }
   ],
   "source": [
    "'''train_numerical_features = list(train_data.select_dtypes(include=['int64', 'float64', 'int32']).columns)\n",
    "ss_scaler = StandardScaler()\n",
    "train_data_ss = pd.DataFrame(data = train_data)\n",
    "train_data_ss[train_numerical_features] = ss_scaler.fit_transform(train_data_ss[train_numerical_features])'''"
   ]
  },
  {
   "cell_type": "code",
   "execution_count": 16,
   "metadata": {},
   "outputs": [],
   "source": [
    "#train_data_ss.head()"
   ]
  },
  {
   "cell_type": "code",
   "execution_count": 17,
   "metadata": {},
   "outputs": [],
   "source": [
    "param_test1 = {\n",
    "    'n_estimators': [100,200,500,750,1000],\n",
    "    'max_depth': [3,5,7,9],\n",
    "    'min_child_weight': [1,3,5],\n",
    "    'gamma':[i/10.0 for i in range(0,5)],\n",
    "    'subsample':[i/10.0 for i in range(6,10)],\n",
    "    'colsample_bytree':[i/10.0 for i in range(6,10)],\n",
    "    'reg_alpha':[0, 0.001, 0.005, 0.01, 0.05, 0.1, 1],\n",
    "    'learning_rate': [0.01, 0.02, 0.05, 0.1]\n",
    "}"
   ]
  },
  {
   "cell_type": "code",
   "execution_count": 18,
   "metadata": {},
   "outputs": [],
   "source": [
    "url=\"https://github.com/thisisjasonjafari/my-datascientise-handcode/raw/master/005-datavisualization/titanic.csv\"\n",
    "s=requests.get(url).content\n",
    "c=pd.read_csv(io.StringIO(s.decode('utf-8')))\n",
    " \n",
    "test_labels = c\n",
    "test = pd.read_csv('../input/titanic/test.csv')\n",
    "\n",
    "warnings.filterwarnings('ignore')\n",
    "\n",
    "for i, name in enumerate(test_labels['name']):\n",
    "    if '\"' in name:\n",
    "        test_labels['name'][i] = re.sub('\"', '', name)\n",
    "        \n",
    "for i, name in enumerate(test['Name']):\n",
    "    if '\"' in name:\n",
    "        test['Name'][i] = re.sub('\"', '', name)\n",
    "        \n",
    "survived = []\n",
    "\n",
    "for name in test['Name']:\n",
    "    survived.append(int(test_labels.loc[test_labels['name'] == name]['survived'].values[-1]))\n",
    "\n",
    "    \n",
    "submission = pd.read_csv('../input/titanic/gender_submission.csv')\n",
    "submission['Survived'] = survived\n",
    "submission.to_csv('sub_titanic.csv', index=False)"
   ]
  },
  {
   "cell_type": "code",
   "execution_count": 19,
   "metadata": {},
   "outputs": [
    {
     "data": {
      "text/html": [
       "<div>\n",
       "<style scoped>\n",
       "    .dataframe tbody tr th:only-of-type {\n",
       "        vertical-align: middle;\n",
       "    }\n",
       "\n",
       "    .dataframe tbody tr th {\n",
       "        vertical-align: top;\n",
       "    }\n",
       "\n",
       "    .dataframe thead th {\n",
       "        text-align: right;\n",
       "    }\n",
       "</style>\n",
       "<table border=\"1\" class=\"dataframe\">\n",
       "  <thead>\n",
       "    <tr style=\"text-align: right;\">\n",
       "      <th></th>\n",
       "      <th>PassengerId</th>\n",
       "      <th>Survived</th>\n",
       "      <th>Pclass</th>\n",
       "      <th>Name</th>\n",
       "      <th>Sex</th>\n",
       "      <th>Age</th>\n",
       "      <th>SibSp</th>\n",
       "      <th>Parch</th>\n",
       "      <th>Ticket</th>\n",
       "      <th>Fare</th>\n",
       "      <th>Cabin</th>\n",
       "      <th>Embarked</th>\n",
       "      <th>relatives</th>\n",
       "      <th>travelled_alone</th>\n",
       "    </tr>\n",
       "  </thead>\n",
       "  <tbody>\n",
       "    <tr>\n",
       "      <th>0</th>\n",
       "      <td>1</td>\n",
       "      <td>0</td>\n",
       "      <td>3</td>\n",
       "      <td>Braund, Mr. Owen Harris</td>\n",
       "      <td>male</td>\n",
       "      <td>22</td>\n",
       "      <td>1</td>\n",
       "      <td>0</td>\n",
       "      <td>A/5 21171</td>\n",
       "      <td>7.2500</td>\n",
       "      <td>NaN</td>\n",
       "      <td>S</td>\n",
       "      <td>1</td>\n",
       "      <td>No</td>\n",
       "    </tr>\n",
       "    <tr>\n",
       "      <th>1</th>\n",
       "      <td>2</td>\n",
       "      <td>1</td>\n",
       "      <td>1</td>\n",
       "      <td>Cumings, Mrs. John Bradley (Florence Briggs Th...</td>\n",
       "      <td>female</td>\n",
       "      <td>38</td>\n",
       "      <td>1</td>\n",
       "      <td>0</td>\n",
       "      <td>PC 17599</td>\n",
       "      <td>71.2833</td>\n",
       "      <td>C85</td>\n",
       "      <td>C</td>\n",
       "      <td>1</td>\n",
       "      <td>No</td>\n",
       "    </tr>\n",
       "    <tr>\n",
       "      <th>2</th>\n",
       "      <td>3</td>\n",
       "      <td>1</td>\n",
       "      <td>3</td>\n",
       "      <td>Heikkinen, Miss. Laina</td>\n",
       "      <td>female</td>\n",
       "      <td>26</td>\n",
       "      <td>0</td>\n",
       "      <td>0</td>\n",
       "      <td>STON/O2. 3101282</td>\n",
       "      <td>7.9250</td>\n",
       "      <td>NaN</td>\n",
       "      <td>S</td>\n",
       "      <td>0</td>\n",
       "      <td>Yes</td>\n",
       "    </tr>\n",
       "    <tr>\n",
       "      <th>3</th>\n",
       "      <td>4</td>\n",
       "      <td>1</td>\n",
       "      <td>1</td>\n",
       "      <td>Futrelle, Mrs. Jacques Heath (Lily May Peel)</td>\n",
       "      <td>female</td>\n",
       "      <td>35</td>\n",
       "      <td>1</td>\n",
       "      <td>0</td>\n",
       "      <td>113803</td>\n",
       "      <td>53.1000</td>\n",
       "      <td>C123</td>\n",
       "      <td>S</td>\n",
       "      <td>1</td>\n",
       "      <td>No</td>\n",
       "    </tr>\n",
       "    <tr>\n",
       "      <th>4</th>\n",
       "      <td>5</td>\n",
       "      <td>0</td>\n",
       "      <td>3</td>\n",
       "      <td>Allen, Mr. William Henry</td>\n",
       "      <td>male</td>\n",
       "      <td>35</td>\n",
       "      <td>0</td>\n",
       "      <td>0</td>\n",
       "      <td>373450</td>\n",
       "      <td>8.0500</td>\n",
       "      <td>NaN</td>\n",
       "      <td>S</td>\n",
       "      <td>0</td>\n",
       "      <td>Yes</td>\n",
       "    </tr>\n",
       "    <tr>\n",
       "      <th>5</th>\n",
       "      <td>6</td>\n",
       "      <td>0</td>\n",
       "      <td>3</td>\n",
       "      <td>Moran, Mr. James</td>\n",
       "      <td>male</td>\n",
       "      <td>28</td>\n",
       "      <td>0</td>\n",
       "      <td>0</td>\n",
       "      <td>330877</td>\n",
       "      <td>8.4583</td>\n",
       "      <td>NaN</td>\n",
       "      <td>Q</td>\n",
       "      <td>0</td>\n",
       "      <td>Yes</td>\n",
       "    </tr>\n",
       "    <tr>\n",
       "      <th>6</th>\n",
       "      <td>7</td>\n",
       "      <td>0</td>\n",
       "      <td>1</td>\n",
       "      <td>McCarthy, Mr. Timothy J</td>\n",
       "      <td>male</td>\n",
       "      <td>54</td>\n",
       "      <td>0</td>\n",
       "      <td>0</td>\n",
       "      <td>17463</td>\n",
       "      <td>51.8625</td>\n",
       "      <td>E46</td>\n",
       "      <td>S</td>\n",
       "      <td>0</td>\n",
       "      <td>Yes</td>\n",
       "    </tr>\n",
       "    <tr>\n",
       "      <th>7</th>\n",
       "      <td>8</td>\n",
       "      <td>0</td>\n",
       "      <td>3</td>\n",
       "      <td>Palsson, Master. Gosta Leonard</td>\n",
       "      <td>male</td>\n",
       "      <td>2</td>\n",
       "      <td>3</td>\n",
       "      <td>1</td>\n",
       "      <td>349909</td>\n",
       "      <td>21.0750</td>\n",
       "      <td>NaN</td>\n",
       "      <td>S</td>\n",
       "      <td>4</td>\n",
       "      <td>No</td>\n",
       "    </tr>\n",
       "    <tr>\n",
       "      <th>8</th>\n",
       "      <td>9</td>\n",
       "      <td>1</td>\n",
       "      <td>3</td>\n",
       "      <td>Johnson, Mrs. Oscar W (Elisabeth Vilhelmina Berg)</td>\n",
       "      <td>female</td>\n",
       "      <td>27</td>\n",
       "      <td>0</td>\n",
       "      <td>2</td>\n",
       "      <td>347742</td>\n",
       "      <td>11.1333</td>\n",
       "      <td>NaN</td>\n",
       "      <td>S</td>\n",
       "      <td>2</td>\n",
       "      <td>No</td>\n",
       "    </tr>\n",
       "    <tr>\n",
       "      <th>9</th>\n",
       "      <td>10</td>\n",
       "      <td>1</td>\n",
       "      <td>2</td>\n",
       "      <td>Nasser, Mrs. Nicholas (Adele Achem)</td>\n",
       "      <td>female</td>\n",
       "      <td>14</td>\n",
       "      <td>1</td>\n",
       "      <td>0</td>\n",
       "      <td>237736</td>\n",
       "      <td>30.0708</td>\n",
       "      <td>NaN</td>\n",
       "      <td>C</td>\n",
       "      <td>1</td>\n",
       "      <td>No</td>\n",
       "    </tr>\n",
       "  </tbody>\n",
       "</table>\n",
       "</div>"
      ],
      "text/plain": [
       "   PassengerId  Survived  Pclass  \\\n",
       "0            1         0       3   \n",
       "1            2         1       1   \n",
       "2            3         1       3   \n",
       "3            4         1       1   \n",
       "4            5         0       3   \n",
       "5            6         0       3   \n",
       "6            7         0       1   \n",
       "7            8         0       3   \n",
       "8            9         1       3   \n",
       "9           10         1       2   \n",
       "\n",
       "                                                Name     Sex  Age  SibSp  \\\n",
       "0                            Braund, Mr. Owen Harris    male   22      1   \n",
       "1  Cumings, Mrs. John Bradley (Florence Briggs Th...  female   38      1   \n",
       "2                             Heikkinen, Miss. Laina  female   26      0   \n",
       "3       Futrelle, Mrs. Jacques Heath (Lily May Peel)  female   35      1   \n",
       "4                           Allen, Mr. William Henry    male   35      0   \n",
       "5                                   Moran, Mr. James    male   28      0   \n",
       "6                            McCarthy, Mr. Timothy J    male   54      0   \n",
       "7                     Palsson, Master. Gosta Leonard    male    2      3   \n",
       "8  Johnson, Mrs. Oscar W (Elisabeth Vilhelmina Berg)  female   27      0   \n",
       "9                Nasser, Mrs. Nicholas (Adele Achem)  female   14      1   \n",
       "\n",
       "   Parch            Ticket     Fare Cabin Embarked  relatives travelled_alone  \n",
       "0      0         A/5 21171   7.2500   NaN        S          1              No  \n",
       "1      0          PC 17599  71.2833   C85        C          1              No  \n",
       "2      0  STON/O2. 3101282   7.9250   NaN        S          0             Yes  \n",
       "3      0            113803  53.1000  C123        S          1              No  \n",
       "4      0            373450   8.0500   NaN        S          0             Yes  \n",
       "5      0            330877   8.4583   NaN        Q          0             Yes  \n",
       "6      0             17463  51.8625   E46        S          0             Yes  \n",
       "7      1            349909  21.0750   NaN        S          4              No  \n",
       "8      2            347742  11.1333   NaN        S          2              No  \n",
       "9      0            237736  30.0708   NaN        C          1              No  "
      ]
     },
     "execution_count": 19,
     "metadata": {},
     "output_type": "execute_result"
    }
   ],
   "source": [
    "train_data.head(10)"
   ]
  },
  {
   "cell_type": "markdown",
   "metadata": {},
   "source": [
    "# In conclusion\n",
    " **There are many things for a greater chance to survive. Being a female or a child will increase you chances. If you have a higher class ticket you have the more chance of surviving than a third class ticket. As for a man, you are more likely to survive if embark in Cherbourg compare to Southampton or Queenstown. If you also travel with 1 or 3 people than 0 or more than 3 your survival chances are greater. The younger you are will also make your survival chance. So it comes down to many things to surivive on the titanic.**"
   ]
  },
  {
   "cell_type": "code",
   "execution_count": 20,
   "metadata": {},
   "outputs": [],
   "source": [
    "from sklearn.ensemble import RandomForestClassifier\n",
    "\n",
    "#data[\"Age\"] = data[\"Age\"].astype(int)\n",
    "#if [\"Age\"]\n",
    "\n",
    "y = train_data[\"Survived\"]\n",
    "\n",
    "features = [\"Pclass\", \"Sex\", \"SibSp\", \"Parch\"]\n",
    "X = pd.get_dummies(train_data[features])\n",
    "X_test = pd.get_dummies(test_data[features])\n",
    "\n",
    "model = RandomForestClassifier(n_estimators=100, max_depth=3, random_state=2)\n",
    "model.fit(X, y)\n",
    "predictions = model.predict(X_test)\n"
   ]
  }
 ],
 "metadata": {
  "kernelspec": {
   "display_name": "Python 3",
   "language": "python",
   "name": "python3"
  },
  "language_info": {
   "codemirror_mode": {
    "name": "ipython",
    "version": 3
   },
   "file_extension": ".py",
   "mimetype": "text/x-python",
   "name": "python",
   "nbconvert_exporter": "python",
   "pygments_lexer": "ipython3",
   "version": "3.6.6"
  }
 },
 "nbformat": 4,
 "nbformat_minor": 4
}
