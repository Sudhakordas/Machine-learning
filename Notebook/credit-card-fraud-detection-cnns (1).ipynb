{
 "cells": [
  {
   "cell_type": "markdown",
   "metadata": {},
   "source": [
    "# 1. Credit Card Fraud Detection Intuitions\n",
    "\n",
    "## What is Credit Card Fraud?\n",
    "Credit card fraud is when someone uses another person's credit card or account information to make unauthorized purchases or access funds through cash advances. Credit card fraud doesn’t just happen online; it happens in brick-and-mortar stores, too. As a business owner, you can avoid serious headaches – and unwanted publicity – by recognizing potentially fraudulent use of credit cards in your payment environment.\n",
    "\n",
    "## Three challenges surrounding credit card fraud\n",
    "\n",
    "1. It's not always easy to agree on ground truth for what \"fraud\" means.\n",
    "2. Regardless of how you define ground truth, the vast majority of charges are not fraudulent.\n",
    "3. Most merchants aren't experts at evaluating the business impact of fraud.\n",
    "\n",
    "## Problem Statement:\n",
    "\n",
    "The Credit Card Fraud Detection Problem includes modeling past credit card transactions with the knowledge of the ones that turned out to be a fraud. This model is then used to identify whether a new transaction is fraudulent or not. Our aim here is to detect 100% of the fraudulent transactions while minimizing the incorrect fraud classifications.\n",
    "\n",
    "\n",
    "## Observations\n",
    "- Very few transactions are actually fraudulent (less than 1%). The data set is highly skewed, consisting of `492` frauds in a total of `284,807` observations. This resulted in only `0.172%` fraud cases. This skewed set is justified by the low number of fraudulent transactions.\n",
    "- The dataset consists of numerical values from the `28` ‘Principal Component Analysis (PCA)’ transformed features, namely V1 to V28. Furthermore, there is no metadata about the original features provided, so pre-analysis or feature study could not be done.\n",
    "- The ‘Time’ and ‘Amount’ features are not transformed data.\n",
    "- There is no missing value in the dataset.\n",
    "\n",
    "## Why does class imbalanced affect model performance?\n",
    "\n",
    "- In general, we want to maximize the recall while capping FPR (False Positive Rate), but you can classify a lot of charges wrong and still maintain a low FPR because you have a large number of true negatives.\n",
    "- This is conducive to picking a relatively low threshold, which results in the high recall but extremely low precision.\n",
    "\n",
    "## What is the catch?\n",
    "- Training a model on a balanced dataset optimizes performance on validation data.\n",
    "- However, the goal is to optimize performance on the imbalanced production dataset. You ultimately need to find a balance that works best in production.\n",
    "- One solution to this problem is: Use all fraudulent transactions, but subsample non-fraudulent transactions as needed to hit our target rate.\n",
    "\n",
    "## Business questions to brainstorm:\n",
    "Since all features are anonymous, we will focus our analysis on non-anonymized features: `Time`, `Amount`\n",
    "1. How different is the amount of money used in different transaction classes?\n",
    "2. Do fraudulent transactions occur more often during a certain frames?\n"
   ]
  },
  {
   "cell_type": "code",
   "execution_count": 1,
   "metadata": {},
   "outputs": [],
   "source": [
    "import pandas as pd\n",
    "import numpy as np\n",
    "import matplotlib.pyplot as plt\n",
    "import seaborn as sns\n",
    "\n",
    "%matplotlib inline\n",
    "sns.set_style(\"whitegrid\")"
   ]
  },
  {
   "cell_type": "code",
   "execution_count": 2,
   "metadata": {},
   "outputs": [
    {
     "data": {
      "text/html": [
       "<div>\n",
       "<style scoped>\n",
       "    .dataframe tbody tr th:only-of-type {\n",
       "        vertical-align: middle;\n",
       "    }\n",
       "\n",
       "    .dataframe tbody tr th {\n",
       "        vertical-align: top;\n",
       "    }\n",
       "\n",
       "    .dataframe thead th {\n",
       "        text-align: right;\n",
       "    }\n",
       "</style>\n",
       "<table border=\"1\" class=\"dataframe\">\n",
       "  <thead>\n",
       "    <tr style=\"text-align: right;\">\n",
       "      <th></th>\n",
       "      <th>Time</th>\n",
       "      <th>V1</th>\n",
       "      <th>V2</th>\n",
       "      <th>V3</th>\n",
       "      <th>V4</th>\n",
       "      <th>V5</th>\n",
       "      <th>V6</th>\n",
       "      <th>V7</th>\n",
       "      <th>V8</th>\n",
       "      <th>V9</th>\n",
       "      <th>...</th>\n",
       "      <th>V21</th>\n",
       "      <th>V22</th>\n",
       "      <th>V23</th>\n",
       "      <th>V24</th>\n",
       "      <th>V25</th>\n",
       "      <th>V26</th>\n",
       "      <th>V27</th>\n",
       "      <th>V28</th>\n",
       "      <th>Amount</th>\n",
       "      <th>Class</th>\n",
       "    </tr>\n",
       "  </thead>\n",
       "  <tbody>\n",
       "    <tr>\n",
       "      <th>0</th>\n",
       "      <td>0.0</td>\n",
       "      <td>-1.359807</td>\n",
       "      <td>-0.072781</td>\n",
       "      <td>2.536347</td>\n",
       "      <td>1.378155</td>\n",
       "      <td>-0.338321</td>\n",
       "      <td>0.462388</td>\n",
       "      <td>0.239599</td>\n",
       "      <td>0.098698</td>\n",
       "      <td>0.363787</td>\n",
       "      <td>...</td>\n",
       "      <td>-0.018307</td>\n",
       "      <td>0.277838</td>\n",
       "      <td>-0.110474</td>\n",
       "      <td>0.066928</td>\n",
       "      <td>0.128539</td>\n",
       "      <td>-0.189115</td>\n",
       "      <td>0.133558</td>\n",
       "      <td>-0.021053</td>\n",
       "      <td>149.62</td>\n",
       "      <td>0</td>\n",
       "    </tr>\n",
       "    <tr>\n",
       "      <th>1</th>\n",
       "      <td>0.0</td>\n",
       "      <td>1.191857</td>\n",
       "      <td>0.266151</td>\n",
       "      <td>0.166480</td>\n",
       "      <td>0.448154</td>\n",
       "      <td>0.060018</td>\n",
       "      <td>-0.082361</td>\n",
       "      <td>-0.078803</td>\n",
       "      <td>0.085102</td>\n",
       "      <td>-0.255425</td>\n",
       "      <td>...</td>\n",
       "      <td>-0.225775</td>\n",
       "      <td>-0.638672</td>\n",
       "      <td>0.101288</td>\n",
       "      <td>-0.339846</td>\n",
       "      <td>0.167170</td>\n",
       "      <td>0.125895</td>\n",
       "      <td>-0.008983</td>\n",
       "      <td>0.014724</td>\n",
       "      <td>2.69</td>\n",
       "      <td>0</td>\n",
       "    </tr>\n",
       "    <tr>\n",
       "      <th>2</th>\n",
       "      <td>1.0</td>\n",
       "      <td>-1.358354</td>\n",
       "      <td>-1.340163</td>\n",
       "      <td>1.773209</td>\n",
       "      <td>0.379780</td>\n",
       "      <td>-0.503198</td>\n",
       "      <td>1.800499</td>\n",
       "      <td>0.791461</td>\n",
       "      <td>0.247676</td>\n",
       "      <td>-1.514654</td>\n",
       "      <td>...</td>\n",
       "      <td>0.247998</td>\n",
       "      <td>0.771679</td>\n",
       "      <td>0.909412</td>\n",
       "      <td>-0.689281</td>\n",
       "      <td>-0.327642</td>\n",
       "      <td>-0.139097</td>\n",
       "      <td>-0.055353</td>\n",
       "      <td>-0.059752</td>\n",
       "      <td>378.66</td>\n",
       "      <td>0</td>\n",
       "    </tr>\n",
       "    <tr>\n",
       "      <th>3</th>\n",
       "      <td>1.0</td>\n",
       "      <td>-0.966272</td>\n",
       "      <td>-0.185226</td>\n",
       "      <td>1.792993</td>\n",
       "      <td>-0.863291</td>\n",
       "      <td>-0.010309</td>\n",
       "      <td>1.247203</td>\n",
       "      <td>0.237609</td>\n",
       "      <td>0.377436</td>\n",
       "      <td>-1.387024</td>\n",
       "      <td>...</td>\n",
       "      <td>-0.108300</td>\n",
       "      <td>0.005274</td>\n",
       "      <td>-0.190321</td>\n",
       "      <td>-1.175575</td>\n",
       "      <td>0.647376</td>\n",
       "      <td>-0.221929</td>\n",
       "      <td>0.062723</td>\n",
       "      <td>0.061458</td>\n",
       "      <td>123.50</td>\n",
       "      <td>0</td>\n",
       "    </tr>\n",
       "    <tr>\n",
       "      <th>4</th>\n",
       "      <td>2.0</td>\n",
       "      <td>-1.158233</td>\n",
       "      <td>0.877737</td>\n",
       "      <td>1.548718</td>\n",
       "      <td>0.403034</td>\n",
       "      <td>-0.407193</td>\n",
       "      <td>0.095921</td>\n",
       "      <td>0.592941</td>\n",
       "      <td>-0.270533</td>\n",
       "      <td>0.817739</td>\n",
       "      <td>...</td>\n",
       "      <td>-0.009431</td>\n",
       "      <td>0.798278</td>\n",
       "      <td>-0.137458</td>\n",
       "      <td>0.141267</td>\n",
       "      <td>-0.206010</td>\n",
       "      <td>0.502292</td>\n",
       "      <td>0.219422</td>\n",
       "      <td>0.215153</td>\n",
       "      <td>69.99</td>\n",
       "      <td>0</td>\n",
       "    </tr>\n",
       "  </tbody>\n",
       "</table>\n",
       "<p>5 rows × 31 columns</p>\n",
       "</div>"
      ],
      "text/plain": [
       "   Time        V1        V2        V3        V4        V5        V6        V7  \\\n",
       "0   0.0 -1.359807 -0.072781  2.536347  1.378155 -0.338321  0.462388  0.239599   \n",
       "1   0.0  1.191857  0.266151  0.166480  0.448154  0.060018 -0.082361 -0.078803   \n",
       "2   1.0 -1.358354 -1.340163  1.773209  0.379780 -0.503198  1.800499  0.791461   \n",
       "3   1.0 -0.966272 -0.185226  1.792993 -0.863291 -0.010309  1.247203  0.237609   \n",
       "4   2.0 -1.158233  0.877737  1.548718  0.403034 -0.407193  0.095921  0.592941   \n",
       "\n",
       "         V8        V9  ...       V21       V22       V23       V24       V25  \\\n",
       "0  0.098698  0.363787  ... -0.018307  0.277838 -0.110474  0.066928  0.128539   \n",
       "1  0.085102 -0.255425  ... -0.225775 -0.638672  0.101288 -0.339846  0.167170   \n",
       "2  0.247676 -1.514654  ...  0.247998  0.771679  0.909412 -0.689281 -0.327642   \n",
       "3  0.377436 -1.387024  ... -0.108300  0.005274 -0.190321 -1.175575  0.647376   \n",
       "4 -0.270533  0.817739  ... -0.009431  0.798278 -0.137458  0.141267 -0.206010   \n",
       "\n",
       "        V26       V27       V28  Amount  Class  \n",
       "0 -0.189115  0.133558 -0.021053  149.62      0  \n",
       "1  0.125895 -0.008983  0.014724    2.69      0  \n",
       "2 -0.139097 -0.055353 -0.059752  378.66      0  \n",
       "3 -0.221929  0.062723  0.061458  123.50      0  \n",
       "4  0.502292  0.219422  0.215153   69.99      0  \n",
       "\n",
       "[5 rows x 31 columns]"
      ]
     },
     "execution_count": 2,
     "metadata": {},
     "output_type": "execute_result"
    }
   ],
   "source": [
    "data = pd.read_csv(\"/kaggle/input/creditcardfraud/creditcard.csv\")\n",
    "data.head()"
   ]
  },
  {
   "cell_type": "markdown",
   "metadata": {},
   "source": [
    "# 2. Exploratory Data Analysis\n"
   ]
  },
  {
   "cell_type": "code",
   "execution_count": 3,
   "metadata": {
    "_kg_hide-output": true
   },
   "outputs": [
    {
     "name": "stdout",
     "output_type": "stream",
     "text": [
      "<class 'pandas.core.frame.DataFrame'>\n",
      "RangeIndex: 284807 entries, 0 to 284806\n",
      "Data columns (total 31 columns):\n",
      "Time      284807 non-null float64\n",
      "V1        284807 non-null float64\n",
      "V2        284807 non-null float64\n",
      "V3        284807 non-null float64\n",
      "V4        284807 non-null float64\n",
      "V5        284807 non-null float64\n",
      "V6        284807 non-null float64\n",
      "V7        284807 non-null float64\n",
      "V8        284807 non-null float64\n",
      "V9        284807 non-null float64\n",
      "V10       284807 non-null float64\n",
      "V11       284807 non-null float64\n",
      "V12       284807 non-null float64\n",
      "V13       284807 non-null float64\n",
      "V14       284807 non-null float64\n",
      "V15       284807 non-null float64\n",
      "V16       284807 non-null float64\n",
      "V17       284807 non-null float64\n",
      "V18       284807 non-null float64\n",
      "V19       284807 non-null float64\n",
      "V20       284807 non-null float64\n",
      "V21       284807 non-null float64\n",
      "V22       284807 non-null float64\n",
      "V23       284807 non-null float64\n",
      "V24       284807 non-null float64\n",
      "V25       284807 non-null float64\n",
      "V26       284807 non-null float64\n",
      "V27       284807 non-null float64\n",
      "V28       284807 non-null float64\n",
      "Amount    284807 non-null float64\n",
      "Class     284807 non-null int64\n",
      "dtypes: float64(30), int64(1)\n",
      "memory usage: 67.4 MB\n"
     ]
    }
   ],
   "source": [
    "data.info()"
   ]
  },
  {
   "cell_type": "code",
   "execution_count": 4,
   "metadata": {},
   "outputs": [
    {
     "data": {
      "text/html": [
       "<div>\n",
       "<style scoped>\n",
       "    .dataframe tbody tr th:only-of-type {\n",
       "        vertical-align: middle;\n",
       "    }\n",
       "\n",
       "    .dataframe tbody tr th {\n",
       "        vertical-align: top;\n",
       "    }\n",
       "\n",
       "    .dataframe thead th {\n",
       "        text-align: right;\n",
       "    }\n",
       "</style>\n",
       "<table border=\"1\" class=\"dataframe\">\n",
       "  <thead>\n",
       "    <tr style=\"text-align: right;\">\n",
       "      <th></th>\n",
       "      <th>Time</th>\n",
       "      <th>V1</th>\n",
       "      <th>V2</th>\n",
       "      <th>V3</th>\n",
       "      <th>V4</th>\n",
       "      <th>V5</th>\n",
       "      <th>V6</th>\n",
       "      <th>V7</th>\n",
       "      <th>V8</th>\n",
       "      <th>V9</th>\n",
       "      <th>...</th>\n",
       "      <th>V21</th>\n",
       "      <th>V22</th>\n",
       "      <th>V23</th>\n",
       "      <th>V24</th>\n",
       "      <th>V25</th>\n",
       "      <th>V26</th>\n",
       "      <th>V27</th>\n",
       "      <th>V28</th>\n",
       "      <th>Amount</th>\n",
       "      <th>Class</th>\n",
       "    </tr>\n",
       "  </thead>\n",
       "  <tbody>\n",
       "    <tr>\n",
       "      <th>count</th>\n",
       "      <td>284807.00</td>\n",
       "      <td>284807.00</td>\n",
       "      <td>284807.00</td>\n",
       "      <td>284807.00</td>\n",
       "      <td>284807.00</td>\n",
       "      <td>284807.00</td>\n",
       "      <td>284807.00</td>\n",
       "      <td>284807.00</td>\n",
       "      <td>284807.00</td>\n",
       "      <td>284807.00</td>\n",
       "      <td>...</td>\n",
       "      <td>284807.00</td>\n",
       "      <td>284807.00</td>\n",
       "      <td>284807.00</td>\n",
       "      <td>284807.00</td>\n",
       "      <td>284807.00</td>\n",
       "      <td>284807.00</td>\n",
       "      <td>284807.00</td>\n",
       "      <td>284807.00</td>\n",
       "      <td>284807.00</td>\n",
       "      <td>284807.00</td>\n",
       "    </tr>\n",
       "    <tr>\n",
       "      <th>mean</th>\n",
       "      <td>94813.86</td>\n",
       "      <td>0.00</td>\n",
       "      <td>0.00</td>\n",
       "      <td>-0.00</td>\n",
       "      <td>0.00</td>\n",
       "      <td>-0.00</td>\n",
       "      <td>0.00</td>\n",
       "      <td>-0.00</td>\n",
       "      <td>-0.00</td>\n",
       "      <td>-0.00</td>\n",
       "      <td>...</td>\n",
       "      <td>0.00</td>\n",
       "      <td>0.00</td>\n",
       "      <td>0.00</td>\n",
       "      <td>0.00</td>\n",
       "      <td>0.00</td>\n",
       "      <td>0.00</td>\n",
       "      <td>-0.00</td>\n",
       "      <td>-0.00</td>\n",
       "      <td>88.35</td>\n",
       "      <td>0.00</td>\n",
       "    </tr>\n",
       "    <tr>\n",
       "      <th>std</th>\n",
       "      <td>47488.15</td>\n",
       "      <td>1.96</td>\n",
       "      <td>1.65</td>\n",
       "      <td>1.52</td>\n",
       "      <td>1.42</td>\n",
       "      <td>1.38</td>\n",
       "      <td>1.33</td>\n",
       "      <td>1.24</td>\n",
       "      <td>1.19</td>\n",
       "      <td>1.10</td>\n",
       "      <td>...</td>\n",
       "      <td>0.73</td>\n",
       "      <td>0.73</td>\n",
       "      <td>0.62</td>\n",
       "      <td>0.61</td>\n",
       "      <td>0.52</td>\n",
       "      <td>0.48</td>\n",
       "      <td>0.40</td>\n",
       "      <td>0.33</td>\n",
       "      <td>250.12</td>\n",
       "      <td>0.04</td>\n",
       "    </tr>\n",
       "    <tr>\n",
       "      <th>min</th>\n",
       "      <td>0.00</td>\n",
       "      <td>-56.41</td>\n",
       "      <td>-72.72</td>\n",
       "      <td>-48.33</td>\n",
       "      <td>-5.68</td>\n",
       "      <td>-113.74</td>\n",
       "      <td>-26.16</td>\n",
       "      <td>-43.56</td>\n",
       "      <td>-73.22</td>\n",
       "      <td>-13.43</td>\n",
       "      <td>...</td>\n",
       "      <td>-34.83</td>\n",
       "      <td>-10.93</td>\n",
       "      <td>-44.81</td>\n",
       "      <td>-2.84</td>\n",
       "      <td>-10.30</td>\n",
       "      <td>-2.60</td>\n",
       "      <td>-22.57</td>\n",
       "      <td>-15.43</td>\n",
       "      <td>0.00</td>\n",
       "      <td>0.00</td>\n",
       "    </tr>\n",
       "    <tr>\n",
       "      <th>25%</th>\n",
       "      <td>54201.50</td>\n",
       "      <td>-0.92</td>\n",
       "      <td>-0.60</td>\n",
       "      <td>-0.89</td>\n",
       "      <td>-0.85</td>\n",
       "      <td>-0.69</td>\n",
       "      <td>-0.77</td>\n",
       "      <td>-0.55</td>\n",
       "      <td>-0.21</td>\n",
       "      <td>-0.64</td>\n",
       "      <td>...</td>\n",
       "      <td>-0.23</td>\n",
       "      <td>-0.54</td>\n",
       "      <td>-0.16</td>\n",
       "      <td>-0.35</td>\n",
       "      <td>-0.32</td>\n",
       "      <td>-0.33</td>\n",
       "      <td>-0.07</td>\n",
       "      <td>-0.05</td>\n",
       "      <td>5.60</td>\n",
       "      <td>0.00</td>\n",
       "    </tr>\n",
       "    <tr>\n",
       "      <th>50%</th>\n",
       "      <td>84692.00</td>\n",
       "      <td>0.02</td>\n",
       "      <td>0.07</td>\n",
       "      <td>0.18</td>\n",
       "      <td>-0.02</td>\n",
       "      <td>-0.05</td>\n",
       "      <td>-0.27</td>\n",
       "      <td>0.04</td>\n",
       "      <td>0.02</td>\n",
       "      <td>-0.05</td>\n",
       "      <td>...</td>\n",
       "      <td>-0.03</td>\n",
       "      <td>0.01</td>\n",
       "      <td>-0.01</td>\n",
       "      <td>0.04</td>\n",
       "      <td>0.02</td>\n",
       "      <td>-0.05</td>\n",
       "      <td>0.00</td>\n",
       "      <td>0.01</td>\n",
       "      <td>22.00</td>\n",
       "      <td>0.00</td>\n",
       "    </tr>\n",
       "    <tr>\n",
       "      <th>75%</th>\n",
       "      <td>139320.50</td>\n",
       "      <td>1.32</td>\n",
       "      <td>0.80</td>\n",
       "      <td>1.03</td>\n",
       "      <td>0.74</td>\n",
       "      <td>0.61</td>\n",
       "      <td>0.40</td>\n",
       "      <td>0.57</td>\n",
       "      <td>0.33</td>\n",
       "      <td>0.60</td>\n",
       "      <td>...</td>\n",
       "      <td>0.19</td>\n",
       "      <td>0.53</td>\n",
       "      <td>0.15</td>\n",
       "      <td>0.44</td>\n",
       "      <td>0.35</td>\n",
       "      <td>0.24</td>\n",
       "      <td>0.09</td>\n",
       "      <td>0.08</td>\n",
       "      <td>77.16</td>\n",
       "      <td>0.00</td>\n",
       "    </tr>\n",
       "    <tr>\n",
       "      <th>max</th>\n",
       "      <td>172792.00</td>\n",
       "      <td>2.45</td>\n",
       "      <td>22.06</td>\n",
       "      <td>9.38</td>\n",
       "      <td>16.88</td>\n",
       "      <td>34.80</td>\n",
       "      <td>73.30</td>\n",
       "      <td>120.59</td>\n",
       "      <td>20.01</td>\n",
       "      <td>15.59</td>\n",
       "      <td>...</td>\n",
       "      <td>27.20</td>\n",
       "      <td>10.50</td>\n",
       "      <td>22.53</td>\n",
       "      <td>4.58</td>\n",
       "      <td>7.52</td>\n",
       "      <td>3.52</td>\n",
       "      <td>31.61</td>\n",
       "      <td>33.85</td>\n",
       "      <td>25691.16</td>\n",
       "      <td>1.00</td>\n",
       "    </tr>\n",
       "  </tbody>\n",
       "</table>\n",
       "<p>8 rows × 31 columns</p>\n",
       "</div>"
      ],
      "text/plain": [
       "           Time        V1        V2        V3        V4        V5        V6  \\\n",
       "count 284807.00 284807.00 284807.00 284807.00 284807.00 284807.00 284807.00   \n",
       "mean   94813.86      0.00      0.00     -0.00      0.00     -0.00      0.00   \n",
       "std    47488.15      1.96      1.65      1.52      1.42      1.38      1.33   \n",
       "min        0.00    -56.41    -72.72    -48.33     -5.68   -113.74    -26.16   \n",
       "25%    54201.50     -0.92     -0.60     -0.89     -0.85     -0.69     -0.77   \n",
       "50%    84692.00      0.02      0.07      0.18     -0.02     -0.05     -0.27   \n",
       "75%   139320.50      1.32      0.80      1.03      0.74      0.61      0.40   \n",
       "max   172792.00      2.45     22.06      9.38     16.88     34.80     73.30   \n",
       "\n",
       "             V7        V8        V9  ...       V21       V22       V23  \\\n",
       "count 284807.00 284807.00 284807.00  ... 284807.00 284807.00 284807.00   \n",
       "mean      -0.00     -0.00     -0.00  ...      0.00      0.00      0.00   \n",
       "std        1.24      1.19      1.10  ...      0.73      0.73      0.62   \n",
       "min      -43.56    -73.22    -13.43  ...    -34.83    -10.93    -44.81   \n",
       "25%       -0.55     -0.21     -0.64  ...     -0.23     -0.54     -0.16   \n",
       "50%        0.04      0.02     -0.05  ...     -0.03      0.01     -0.01   \n",
       "75%        0.57      0.33      0.60  ...      0.19      0.53      0.15   \n",
       "max      120.59     20.01     15.59  ...     27.20     10.50     22.53   \n",
       "\n",
       "            V24       V25       V26       V27       V28    Amount     Class  \n",
       "count 284807.00 284807.00 284807.00 284807.00 284807.00 284807.00 284807.00  \n",
       "mean       0.00      0.00      0.00     -0.00     -0.00     88.35      0.00  \n",
       "std        0.61      0.52      0.48      0.40      0.33    250.12      0.04  \n",
       "min       -2.84    -10.30     -2.60    -22.57    -15.43      0.00      0.00  \n",
       "25%       -0.35     -0.32     -0.33     -0.07     -0.05      5.60      0.00  \n",
       "50%        0.04      0.02     -0.05      0.00      0.01     22.00      0.00  \n",
       "75%        0.44      0.35      0.24      0.09      0.08     77.16      0.00  \n",
       "max        4.58      7.52      3.52     31.61     33.85  25691.16      1.00  \n",
       "\n",
       "[8 rows x 31 columns]"
      ]
     },
     "execution_count": 4,
     "metadata": {},
     "output_type": "execute_result"
    }
   ],
   "source": [
    "pd.set_option(\"display.float\", \"{:.2f}\".format)\n",
    "data.describe()"
   ]
  },
  {
   "cell_type": "markdown",
   "metadata": {},
   "source": [
    "Let us now check the missing values in the dataset"
   ]
  },
  {
   "cell_type": "code",
   "execution_count": 5,
   "metadata": {},
   "outputs": [
    {
     "data": {
      "text/plain": [
       "0"
      ]
     },
     "execution_count": 5,
     "metadata": {},
     "output_type": "execute_result"
    }
   ],
   "source": [
    "data.isnull().sum().sum()"
   ]
  },
  {
   "cell_type": "code",
   "execution_count": 6,
   "metadata": {},
   "outputs": [
    {
     "data": {
      "text/plain": [
       "Index(['Time', 'V1', 'V2', 'V3', 'V4', 'V5', 'V6', 'V7', 'V8', 'V9', 'V10',\n",
       "       'V11', 'V12', 'V13', 'V14', 'V15', 'V16', 'V17', 'V18', 'V19', 'V20',\n",
       "       'V21', 'V22', 'V23', 'V24', 'V25', 'V26', 'V27', 'V28', 'Amount',\n",
       "       'Class'],\n",
       "      dtype='object')"
      ]
     },
     "execution_count": 6,
     "metadata": {},
     "output_type": "execute_result"
    }
   ],
   "source": [
    "data.columns"
   ]
  },
  {
   "cell_type": "markdown",
   "metadata": {},
   "source": [
    "### The only non-transformed variables to work with are:\n",
    "- `Time`\n",
    "- `Amount`\n",
    "- `Class` (1: fraud, 0: not_fraud)"
   ]
  },
  {
   "cell_type": "code",
   "execution_count": 7,
   "metadata": {},
   "outputs": [
    {
     "data": {
      "image/png": "[encoded data removed]",
      "text/plain": [
       "<Figure size 432x288 with 1 Axes>"
      ]
     },
     "metadata": {
      "needs_background": "light"
     },
     "output_type": "display_data"
    }
   ],
   "source": [
    "LABELS = [\"Normal\", \"Fraud\"]\n",
    "\n",
    "count_classes = pd.value_counts(data['Class'], sort = True)\n",
    "count_classes.plot(kind = 'bar', rot=0)\n",
    "plt.title(\"Transaction Class Distribution\")\n",
    "plt.xticks(range(2), LABELS)\n",
    "plt.xlabel(\"Class\")\n",
    "plt.ylabel(\"Frequency\");"
   ]
  },
  {
   "cell_type": "code",
   "execution_count": 8,
   "metadata": {},
   "outputs": [
    {
     "data": {
      "text/plain": [
       "0    284315\n",
       "1       492\n",
       "Name: Class, dtype: int64"
      ]
     },
     "execution_count": 8,
     "metadata": {},
     "output_type": "execute_result"
    }
   ],
   "source": [
    "data.Class.value_counts()"
   ]
  },
  {
   "cell_type": "markdown",
   "metadata": {},
   "source": [
    "Notice how imbalanced is our original dataset! Most of the transactions are non-fraud. If we use this dataframe as the base for our predictive models and analysis we might get a lot of errors and our algorithms will probably overfit since it will \"assume\" that most transactions are not fraud. But we don't want our model to assume, we want our model to detect patterns that give signs of fraud!"
   ]
  },
  {
   "cell_type": "markdown",
   "metadata": {},
   "source": [
    "Determine the number of fraud and valid transactions in the entire dataset."
   ]
  },
  {
   "cell_type": "code",
   "execution_count": 9,
   "metadata": {},
   "outputs": [],
   "source": [
    "fraud = data[data['Class']==1]\n",
    "normal = data[data['Class']==0]"
   ]
  },
  {
   "cell_type": "code",
   "execution_count": 10,
   "metadata": {},
   "outputs": [
    {
     "name": "stdout",
     "output_type": "stream",
     "text": [
      "Shape of Fraudulant transactions: (492, 31)\n",
      "Shape of Non-Fraudulant transactions: (284315, 31)\n"
     ]
    }
   ],
   "source": [
    "print(f\"Shape of Fraudulant transactions: {fraud.shape}\")\n",
    "print(f\"Shape of Non-Fraudulant transactions: {normal.shape}\")"
   ]
  },
  {
   "cell_type": "markdown",
   "metadata": {},
   "source": [
    "How different are the amount of money used in different transaction classes?"
   ]
  },
  {
   "cell_type": "code",
   "execution_count": 11,
   "metadata": {},
   "outputs": [
    {
     "data": {
      "text/html": [
       "<div>\n",
       "<style scoped>\n",
       "    .dataframe tbody tr th:only-of-type {\n",
       "        vertical-align: middle;\n",
       "    }\n",
       "\n",
       "    .dataframe tbody tr th {\n",
       "        vertical-align: top;\n",
       "    }\n",
       "\n",
       "    .dataframe thead th {\n",
       "        text-align: right;\n",
       "    }\n",
       "</style>\n",
       "<table border=\"1\" class=\"dataframe\">\n",
       "  <thead>\n",
       "    <tr style=\"text-align: right;\">\n",
       "      <th></th>\n",
       "      <th>Amount</th>\n",
       "      <th>Amount</th>\n",
       "    </tr>\n",
       "  </thead>\n",
       "  <tbody>\n",
       "    <tr>\n",
       "      <th>count</th>\n",
       "      <td>492.00</td>\n",
       "      <td>284315.00</td>\n",
       "    </tr>\n",
       "    <tr>\n",
       "      <th>mean</th>\n",
       "      <td>122.21</td>\n",
       "      <td>88.29</td>\n",
       "    </tr>\n",
       "    <tr>\n",
       "      <th>std</th>\n",
       "      <td>256.68</td>\n",
       "      <td>250.11</td>\n",
       "    </tr>\n",
       "    <tr>\n",
       "      <th>min</th>\n",
       "      <td>0.00</td>\n",
       "      <td>0.00</td>\n",
       "    </tr>\n",
       "    <tr>\n",
       "      <th>25%</th>\n",
       "      <td>1.00</td>\n",
       "      <td>5.65</td>\n",
       "    </tr>\n",
       "    <tr>\n",
       "      <th>50%</th>\n",
       "      <td>9.25</td>\n",
       "      <td>22.00</td>\n",
       "    </tr>\n",
       "    <tr>\n",
       "      <th>75%</th>\n",
       "      <td>105.89</td>\n",
       "      <td>77.05</td>\n",
       "    </tr>\n",
       "    <tr>\n",
       "      <th>max</th>\n",
       "      <td>2125.87</td>\n",
       "      <td>25691.16</td>\n",
       "    </tr>\n",
       "  </tbody>\n",
       "</table>\n",
       "</div>"
      ],
      "text/plain": [
       "       Amount    Amount\n",
       "count  492.00 284315.00\n",
       "mean   122.21     88.29\n",
       "std    256.68    250.11\n",
       "min      0.00      0.00\n",
       "25%      1.00      5.65\n",
       "50%      9.25     22.00\n",
       "75%    105.89     77.05\n",
       "max   2125.87  25691.16"
      ]
     },
     "execution_count": 11,
     "metadata": {},
     "output_type": "execute_result"
    }
   ],
   "source": [
    "pd.concat([fraud.Amount.describe(), normal.Amount.describe()], axis=1)"
   ]
  },
  {
   "cell_type": "markdown",
   "metadata": {},
   "source": [
    "Do fraudulent transactions occur more often during certain time frame ?"
   ]
  },
  {
   "cell_type": "code",
   "execution_count": 12,
   "metadata": {},
   "outputs": [
    {
     "data": {
      "text/html": [
       "<div>\n",
       "<style scoped>\n",
       "    .dataframe tbody tr th:only-of-type {\n",
       "        vertical-align: middle;\n",
       "    }\n",
       "\n",
       "    .dataframe tbody tr th {\n",
       "        vertical-align: top;\n",
       "    }\n",
       "\n",
       "    .dataframe thead th {\n",
       "        text-align: right;\n",
       "    }\n",
       "</style>\n",
       "<table border=\"1\" class=\"dataframe\">\n",
       "  <thead>\n",
       "    <tr style=\"text-align: right;\">\n",
       "      <th></th>\n",
       "      <th>Time</th>\n",
       "      <th>Time</th>\n",
       "    </tr>\n",
       "  </thead>\n",
       "  <tbody>\n",
       "    <tr>\n",
       "      <th>count</th>\n",
       "      <td>492.00</td>\n",
       "      <td>284315.00</td>\n",
       "    </tr>\n",
       "    <tr>\n",
       "      <th>mean</th>\n",
       "      <td>80746.81</td>\n",
       "      <td>94838.20</td>\n",
       "    </tr>\n",
       "    <tr>\n",
       "      <th>std</th>\n",
       "      <td>47835.37</td>\n",
       "      <td>47484.02</td>\n",
       "    </tr>\n",
       "    <tr>\n",
       "      <th>min</th>\n",
       "      <td>406.00</td>\n",
       "      <td>0.00</td>\n",
       "    </tr>\n",
       "    <tr>\n",
       "      <th>25%</th>\n",
       "      <td>41241.50</td>\n",
       "      <td>54230.00</td>\n",
       "    </tr>\n",
       "    <tr>\n",
       "      <th>50%</th>\n",
       "      <td>75568.50</td>\n",
       "      <td>84711.00</td>\n",
       "    </tr>\n",
       "    <tr>\n",
       "      <th>75%</th>\n",
       "      <td>128483.00</td>\n",
       "      <td>139333.00</td>\n",
       "    </tr>\n",
       "    <tr>\n",
       "      <th>max</th>\n",
       "      <td>170348.00</td>\n",
       "      <td>172792.00</td>\n",
       "    </tr>\n",
       "  </tbody>\n",
       "</table>\n",
       "</div>"
      ],
      "text/plain": [
       "           Time      Time\n",
       "count    492.00 284315.00\n",
       "mean   80746.81  94838.20\n",
       "std    47835.37  47484.02\n",
       "min      406.00      0.00\n",
       "25%    41241.50  54230.00\n",
       "50%    75568.50  84711.00\n",
       "75%   128483.00 139333.00\n",
       "max   170348.00 172792.00"
      ]
     },
     "execution_count": 12,
     "metadata": {},
     "output_type": "execute_result"
    }
   ],
   "source": [
    "pd.concat([fraud.Time.describe(), normal.Time.describe()], axis=1)"
   ]
  },
  {
   "cell_type": "code",
   "execution_count": 13,
   "metadata": {},
   "outputs": [
    {
     "data": {
      "image/png": "[encoded data removed]",
      "text/plain": [
       "<Figure size 720x576 with 2 Axes>"
      ]
     },
     "metadata": {
      "needs_background": "light"
     },
     "output_type": "display_data"
    }
   ],
   "source": [
    "# plot the time feature\n",
    "plt.figure(figsize=(10,8))\n",
    "\n",
    "plt.subplot(2, 2, 1)\n",
    "plt.title('Time Distribution (Seconds)')\n",
    "\n",
    "sns.distplot(data['Time'], color='blue');\n",
    "\n",
    "#plot the amount feature\n",
    "plt.subplot(2, 2, 2)\n",
    "plt.title('Distribution of Amount')\n",
    "sns.distplot(data['Amount'],color='blue');"
   ]
  },
  {
   "cell_type": "code",
   "execution_count": 14,
   "metadata": {},
   "outputs": [
    {
     "data": {
      "text/plain": [
       "<matplotlib.legend.Legend at 0x7f6d274e0668>"
      ]
     },
     "execution_count": 14,
     "metadata": {},
     "output_type": "execute_result"
    },
    {
     "data": {
      "image/png": "[encoded data removed]",
      "text/plain": [
       "<Figure size 864x720 with 2 Axes>"
      ]
     },
     "metadata": {
      "needs_background": "light"
     },
     "output_type": "display_data"
    }
   ],
   "source": [
    "# data[data.Class == 0].Time.hist(bins=35, color='blue', alpha=0.6)\n",
    "plt.figure(figsize=(12, 10))\n",
    "\n",
    "plt.subplot(2, 2, 1)\n",
    "data[data.Class == 1].Time.hist(bins=35, color='blue', alpha=0.6, label=\"Fraudulant Transaction\")\n",
    "plt.legend()\n",
    "\n",
    "plt.subplot(2, 2, 2)\n",
    "data[data.Class == 0].Time.hist(bins=35, color='blue', alpha=0.6, label=\"Non Fraudulant Transaction\")\n",
    "plt.legend()"
   ]
  },
  {
   "cell_type": "markdown",
   "metadata": {},
   "source": [
    "By seeing the distributions we can have an idea how skewed are these features, we can also see further distributions of the other features. There are techniques that can help the distributions be less skewed which will be implemented in this notebook in the future.\n",
    "\n",
    "Doesn't seem like the time of transaction really matters here as per above observation.\n",
    "Now let us take a sample of the dataset for out modelling and prediction"
   ]
  },
  {
   "cell_type": "code",
   "execution_count": 15,
   "metadata": {},
   "outputs": [
    {
     "data": {
      "image/png": "[encoded data removed]",
      "text/plain": [
       "<Figure size 1440x1440 with 36 Axes>"
      ]
     },
     "metadata": {
      "needs_background": "light"
     },
     "output_type": "display_data"
    }
   ],
   "source": [
    "data.hist(figsize=(20, 20));"
   ]
  },
  {
   "cell_type": "code",
   "execution_count": 16,
   "metadata": {},
   "outputs": [
    {
     "data": {
      "image/png": "[encoded data removed]",
      "text/plain": [
       "<Figure size 720x720 with 2 Axes>"
      ]
     },
     "metadata": {
      "needs_background": "light"
     },
     "output_type": "display_data"
    }
   ],
   "source": [
    "# heatmap to find any high correlations\n",
    "\n",
    "plt.figure(figsize=(10,10))\n",
    "sns.heatmap(data=data.corr(), cmap=\"seismic\")\n",
    "plt.show();"
   ]
  },
  {
   "cell_type": "markdown",
   "metadata": {},
   "source": [
    "### Highest correlations come from:\n",
    "    - Time & V3 (-0.42)\n",
    "    - Amount & V2 (-0.53)\n",
    "    - Amount & V4 (0.4)\n",
    "\n",
    "- While these correlations are high, I don't expect it to run the risk of multicollinearity.\n",
    "\n",
    "- The correlation matrix shows also that none of the V1 to V28 PCA components have any correlation to each other however if we observe Class has some form positive and negative correlations with the V components but has no correlation with Time and Amount."
   ]
  },
  {
   "cell_type": "markdown",
   "metadata": {},
   "source": [
    "# 3. Data Pre-processing\n",
    "\n",
    "`Time` and `Amount` should be scaled as the other columns."
   ]
  },
  {
   "cell_type": "code",
   "execution_count": 17,
   "metadata": {},
   "outputs": [
    {
     "name": "stdout",
     "output_type": "stream",
     "text": [
      "Fraudulant transaction weight: 0.0017994745785028623\n",
      "Non-Fraudulant transaction weight: 0.9982005254214972\n"
     ]
    }
   ],
   "source": [
    "from sklearn.model_selection import train_test_split\n",
    "from sklearn.preprocessing import StandardScaler\n",
    "\n",
    "scalar = StandardScaler()\n",
    "\n",
    "X = data.drop('Class', axis=1)\n",
    "y = data.Class\n",
    "\n",
    "X_train_v, X_test, y_train_v, y_test = train_test_split(X, y, \n",
    "                                                    test_size=0.3, random_state=42)\n",
    "X_train, X_validate, y_train, y_validate = train_test_split(X_train_v, y_train_v, \n",
    "                                                            test_size=0.2, random_state=42)\n",
    "\n",
    "X_train = scalar.fit_transform(X_train)\n",
    "X_validate = scalar.transform(X_validate)\n",
    "X_test = scalar.transform(X_test)\n",
    "\n",
    "w_p = y_train.value_counts()[0] / len(y_train)\n",
    "w_n = y_train.value_counts()[1] / len(y_train)\n",
    "\n",
    "print(f\"Fraudulant transaction weight: {w_n}\")\n",
    "print(f\"Non-Fraudulant transaction weight: {w_p}\")"
   ]
  },
  {
   "cell_type": "code",
   "execution_count": 18,
   "metadata": {},
   "outputs": [
    {
     "name": "stdout",
     "output_type": "stream",
     "text": [
      "TRAINING: X_train: (159491, 30), y_train: (159491,)\n",
      "_______________________________________________________\n",
      "VALIDATION: X_validate: (39873, 30), y_validate: (39873,)\n",
      "__________________________________________________\n",
      "TESTING: X_test: (85443, 30), y_test: (85443,)\n"
     ]
    }
   ],
   "source": [
    "print(f\"TRAINING: X_train: {X_train.shape}, y_train: {y_train.shape}\\n{'_'*55}\")\n",
    "print(f\"VALIDATION: X_validate: {X_validate.shape}, y_validate: {y_validate.shape}\\n{'_'*50}\")\n",
    "print(f\"TESTING: X_test: {X_test.shape}, y_test: {y_test.shape}\")"
   ]
  },
  {
   "cell_type": "code",
   "execution_count": 19,
   "metadata": {},
   "outputs": [],
   "source": [
    "from sklearn.metrics import accuracy_score, confusion_matrix, classification_report\n",
    "\n",
    "def print_score(label, prediction, train=True):\n",
    "    if train:\n",
    "        clf_report = pd.DataFrame(classification_report(label, prediction, output_dict=True))\n",
    "        print(\"Train Result:\\n================================================\")\n",
    "        print(f\"Accuracy Score: {accuracy_score(label, prediction) * 100:.2f}%\")\n",
    "        print(\"_______________________________________________\")\n",
    "        print(f\"Classification Report:\\n{clf_report}\")\n",
    "        print(\"_______________________________________________\")\n",
    "        print(f\"Confusion Matrix: \\n {confusion_matrix(y_train, prediction)}\\n\")\n",
    "        \n",
    "    elif train==False:\n",
    "        clf_report = pd.DataFrame(classification_report(label, prediction, output_dict=True))\n",
    "        print(\"Test Result:\\n================================================\")        \n",
    "        print(f\"Accuracy Score: {accuracy_score(label, prediction) * 100:.2f}%\")\n",
    "        print(\"_______________________________________________\")\n",
    "        print(f\"Classification Report:\\n{clf_report}\")\n",
    "        print(\"_______________________________________________\")\n",
    "        print(f\"Confusion Matrix: \\n {confusion_matrix(label, prediction)}\\n\") "
   ]
  },
  {
   "cell_type": "markdown",
   "metadata": {},
   "source": [
    "# 4. Model Building\n",
    "# 4. 1. Convolutional Neural Network (CNNs)"
   ]
  },
  {
   "cell_type": "code",
   "execution_count": 20,
   "metadata": {},
   "outputs": [],
   "source": [
    "X_train_d = np.expand_dims(X_train, -1)\n",
    "X_test_d = np.expand_dims(X_test, -1)\n",
    "X_validate_d = np.expand_dims(X_validate, -1)"
   ]
  },
  {
   "cell_type": "code",
   "execution_count": 21,
   "metadata": {},
   "outputs": [
    {
     "name": "stdout",
     "output_type": "stream",
     "text": [
      "TRAINING: X_train: (159491, 30, 1), y_train: (159491,)\n",
      "_______________________________________________________\n",
      "VALIDATION: X_validate: (39873, 30, 1), y_validate: (39873,)\n",
      "__________________________________________________\n",
      "TESTING: X_test: (85443, 30, 1), y_test: (85443,)\n"
     ]
    }
   ],
   "source": [
    "print(f\"TRAINING: X_train: {X_train_d.shape}, y_train: {y_train.shape}\\n{'_'*55}\")\n",
    "print(f\"VALIDATION: X_validate: {X_validate_d.shape}, y_validate: {y_validate.shape}\\n{'_'*50}\")\n",
    "print(f\"TESTING: X_test: {X_test_d.shape}, y_test: {y_test.shape}\")"
   ]
  },
  {
   "cell_type": "code",
   "execution_count": 22,
   "metadata": {},
   "outputs": [
    {
     "name": "stderr",
     "output_type": "stream",
     "text": [
      "Using TensorFlow backend.\n"
     ]
    }
   ],
   "source": [
    "import keras\n",
    "from keras.models import Sequential\n",
    "from keras.layers import Conv1D, MaxPooling1D, Dense, Flatten, Dropout, BatchNormalization\n",
    "from keras.optimizers import Adam\n",
    "from keras.callbacks import TensorBoard"
   ]
  },
  {
   "cell_type": "code",
   "execution_count": 23,
   "metadata": {},
   "outputs": [],
   "source": [
    "epochs = 10\n",
    "batch = 16\n",
    "weights = {0:w_n, 1:w_p}\n",
    "\n",
    "model = Sequential()\n",
    "model.add(Conv1D(32, 2, activation='relu', input_shape=X_train_d[0].shape))\n",
    "model.add(BatchNormalization())\n",
    "# model.add(Dropout(0.1))\n",
    "\n",
    "model.add(Conv1D(64, 2, activation='relu'))\n",
    "model.add(BatchNormalization())\n",
    "# model.add(Dropout(0.2))\n",
    "\n",
    "model.add(Conv1D(128, 2, activation='relu'))\n",
    "model.add(BatchNormalization())\n",
    "# model.add(Dropout(0.3))\n",
    "\n",
    "model.add(Flatten())\n",
    "model.add(Dropout(0.4))\n",
    "model.add(Dense(512, activation='relu'))\n",
    "model.add(Dropout(0.2))\n",
    "\n",
    "model.add(Dense(1, activation='sigmoid'))"
   ]
  },
  {
   "cell_type": "code",
   "execution_count": 24,
   "metadata": {},
   "outputs": [
    {
     "name": "stdout",
     "output_type": "stream",
     "text": [
      "Model: \"sequential_1\"\n",
      "_________________________________________________________________\n",
      "Layer (type)                 Output Shape              Param #   \n",
      "=================================================================\n",
      "conv1d_1 (Conv1D)            (None, 29, 32)            96        \n",
      "_________________________________________________________________\n",
      "batch_normalization_1 (Batch (None, 29, 32)            128       \n",
      "_________________________________________________________________\n",
      "conv1d_2 (Conv1D)            (None, 28, 64)            4160      \n",
      "_________________________________________________________________\n",
      "batch_normalization_2 (Batch (None, 28, 64)            256       \n",
      "_________________________________________________________________\n",
      "conv1d_3 (Conv1D)            (None, 27, 128)           16512     \n",
      "_________________________________________________________________\n",
      "batch_normalization_3 (Batch (None, 27, 128)           512       \n",
      "_________________________________________________________________\n",
      "flatten_1 (Flatten)          (None, 3456)              0         \n",
      "_________________________________________________________________\n",
      "dropout_1 (Dropout)          (None, 3456)              0         \n",
      "_________________________________________________________________\n",
      "dense_1 (Dense)              (None, 512)               1769984   \n",
      "_________________________________________________________________\n",
      "dropout_2 (Dropout)          (None, 512)               0         \n",
      "_________________________________________________________________\n",
      "dense_2 (Dense)              (None, 1)                 513       \n",
      "=================================================================\n",
      "Total params: 1,792,161\n",
      "Trainable params: 1,791,713\n",
      "Non-trainable params: 448\n",
      "_________________________________________________________________\n"
     ]
    }
   ],
   "source": [
    "model.summary()"
   ]
  },
  {
   "cell_type": "code",
   "execution_count": 25,
   "metadata": {
    "_kg_hide-output": true
   },
   "outputs": [
    {
     "name": "stdout",
     "output_type": "stream",
     "text": [
      "Train on 159491 samples, validate on 39873 samples\n",
      "Epoch 1/10\n",
      "159491/159491 [==============================] - 95s 596us/step - loss: 0.0787 - accuracy: 0.9303 - precision: 0.0211 - recall: 0.8328 - val_loss: 25.8223 - val_accuracy: 0.9004 - val_precision: 0.0142 - val_recall: 0.8261\n",
      "Epoch 2/10\n",
      "159491/159491 [==============================] - 91s 570us/step - loss: 0.1829 - accuracy: 0.9406 - precision: 0.0258 - recall: 0.8711 - val_loss: 52.2603 - val_accuracy: 0.8701 - val_precision: 0.0122 - val_recall: 0.9275\n",
      "Epoch 3/10\n",
      "159491/159491 [==============================] - 88s 553us/step - loss: 0.2136 - accuracy: 0.9317 - precision: 0.0229 - recall: 0.8885 - val_loss: 46.1701 - val_accuracy: 0.9136 - val_precision: 0.0158 - val_recall: 0.7971\n",
      "Epoch 4/10\n",
      "159491/159491 [==============================] - 92s 579us/step - loss: 0.2871 - accuracy: 0.9343 - precision: 0.0240 - recall: 0.8955 - val_loss: 90.4251 - val_accuracy: 0.8475 - val_precision: 0.0074 - val_recall: 0.6522\n",
      "Epoch 5/10\n",
      "159491/159491 [==============================] - 94s 589us/step - loss: 0.1866 - accuracy: 0.9379 - precision: 0.0257 - recall: 0.9059 - val_loss: 3.8587 - val_accuracy: 0.9885 - val_precision: 0.0851 - val_recall: 0.5797\n",
      "Epoch 6/10\n",
      "159491/159491 [==============================] - 92s 575us/step - loss: 0.2465 - accuracy: 0.9290 - precision: 0.0222 - recall: 0.8955 - val_loss: 76.5159 - val_accuracy: 0.8891 - val_precision: 0.0106 - val_recall: 0.6812\n",
      "Epoch 7/10\n",
      "159491/159491 [==============================] - 90s 562us/step - loss: 0.2903 - accuracy: 0.9272 - precision: 0.0217 - recall: 0.8955 - val_loss: 6.7423 - val_accuracy: 0.9914 - val_precision: 0.1379 - val_recall: 0.7536\n",
      "Epoch 8/10\n",
      " 69360/159491 [============>.................] - ETA: 46s - loss: 0.3106 - accuracy: 0.9377 - precision: 0.0247 - recall: 0.9008"
     ]
    }
   ],
   "source": [
    "METRICS = [\n",
    "    'accuracy',\n",
    "    keras.metrics.Precision(name='precision'),\n",
    "    keras.metrics.Recall(name='recall')\n",
    "]\n",
    "\n",
    "model.compile(optimizer='adam', loss='binary_crossentropy', metrics=METRICS)\n",
    "r = model.fit(X_train_d, y_train, \n",
    "              validation_data=(X_validate_d, y_validate),\n",
    "              batch_size=batch, \n",
    "              epochs=epochs, \n",
    "              class_weight=weights\n",
    "             )"
   ]
  },
  {
   "cell_type": "code",
   "execution_count": 26,
   "metadata": {
    "scrolled": true
   },
   "outputs": [
    {
     "name": "stdout",
     "output_type": "stream",
     "text": [
      "85443/85443 [==============================] - 8s 92us/step\n",
      "[5.843886070652525, 0.9864822030067444, 0.06190885603427887, 0.529411792755127]\n"
     ]
    }
   ],
   "source": [
    "score = model.evaluate(X_test_d, y_test)\n",
    "print(score)"
   ]
  },
  {
   "cell_type": "code",
   "execution_count": 27,
   "metadata": {},
   "outputs": [
    {
     "data": {
      "text/plain": [
       "<matplotlib.legend.Legend at 0x7f6c7c13d470>"
      ]
     },
     "execution_count": 27,
     "metadata": {},
     "output_type": "execute_result"
    },
    {
     "data": {
      "image/png": "[encoded data removed]",
      "text/plain": [
       "<Figure size 864x1152 with 4 Axes>"
      ]
     },
     "metadata": {
      "needs_background": "light"
     },
     "output_type": "display_data"
    }
   ],
   "source": [
    "plt.figure(figsize=(12, 16))\n",
    "\n",
    "plt.subplot(4, 2, 1)\n",
    "plt.plot(r.history['loss'], label='Loss')\n",
    "plt.plot(r.history['val_loss'], label='val_Loss')\n",
    "plt.legend()\n",
    "\n",
    "plt.subplot(4, 2, 2)\n",
    "plt.plot(r.history['accuracy'], label='accuracy')\n",
    "plt.plot(r.history['val_accuracy'], label='val_accuracy')\n",
    "plt.legend()\n",
    "\n",
    "plt.subplot(4, 2, 3)\n",
    "plt.plot(r.history['precision'], label='precision')\n",
    "plt.plot(r.history['val_precision'], label='val_precision')\n",
    "plt.legend()\n",
    "\n",
    "plt.subplot(4, 2, 4)\n",
    "plt.plot(r.history['recall'], label='recall')\n",
    "plt.plot(r.history['val_recall'], label='val_recall')\n",
    "plt.legend()"
   ]
  },
  {
   "cell_type": "code",
   "execution_count": 28,
   "metadata": {},
   "outputs": [
    {
     "name": "stdout",
     "output_type": "stream",
     "text": [
      "Train Result:\n",
      "================================================\n",
      "Accuracy Score: 98.64%\n",
      "_______________________________________________\n",
      "Classification Report:\n",
      "                  0      1  accuracy  macro avg  weighted avg\n",
      "precision      1.00   0.08      0.99       0.54          1.00\n",
      "recall         0.99   0.59      0.99       0.79          0.99\n",
      "f1-score       0.99   0.13      0.99       0.56          0.99\n",
      "support   159204.00 287.00      0.99  159491.00     159491.00\n",
      "_______________________________________________\n",
      "Confusion Matrix: \n",
      " [[157154   2050]\n",
      " [   119    168]]\n",
      "\n",
      "Test Result:\n",
      "================================================\n",
      "Accuracy Score: 98.65%\n",
      "_______________________________________________\n",
      "Classification Report:\n",
      "                 0      1  accuracy  macro avg  weighted avg\n",
      "precision     1.00   0.06      0.99       0.53          1.00\n",
      "recall        0.99   0.53      0.99       0.76          0.99\n",
      "f1-score      0.99   0.11      0.99       0.55          0.99\n",
      "support   85307.00 136.00      0.99   85443.00      85443.00\n",
      "_______________________________________________\n",
      "Confusion Matrix: \n",
      " [[84216  1091]\n",
      " [   64    72]]\n",
      "\n"
     ]
    }
   ],
   "source": [
    "y_train_pred = model.predict(X_train_d)\n",
    "y_test_pred = model.predict(X_test_d)\n",
    "\n",
    "print_score(y_train, y_train_pred.round(), train=True)\n",
    "print_score(y_test, y_test_pred.round(), train=False)\n",
    "\n",
    "scores_dict = {\n",
    "    'CNNs_1': {\n",
    "        'Train': accuracy_score(y_train, y_train_pred.round()),\n",
    "        'Test': accuracy_score(y_test, y_test_pred.round()),\n",
    "    },\n",
    "}"
   ]
  },
  {
   "cell_type": "markdown",
   "metadata": {},
   "source": [
    "## Adding MaxPooling"
   ]
  },
  {
   "cell_type": "code",
   "execution_count": 29,
   "metadata": {
    "_kg_hide-output": true
   },
   "outputs": [
    {
     "name": "stdout",
     "output_type": "stream",
     "text": [
      "Train on 159491 samples, validate on 39873 samples\n",
      "Epoch 1/10\n",
      "159491/159491 [==============================] - 87s 549us/step - loss: 0.0048 - accuracy: 0.8709 - val_loss: 0.3578 - val_accuracy: 0.9302\n",
      "Epoch 2/10\n",
      "159491/159491 [==============================] - 86s 539us/step - loss: 0.0036 - accuracy: 0.8922 - val_loss: 0.4274 - val_accuracy: 0.9497\n",
      "Epoch 3/10\n",
      "159491/159491 [==============================] - 87s 542us/step - loss: 0.0050 - accuracy: 0.9027 - val_loss: 0.6959 - val_accuracy: 0.9477\n",
      "Epoch 4/10\n",
      "159491/159491 [==============================] - 84s 529us/step - loss: 0.0047 - accuracy: 0.9178 - val_loss: 0.2709 - val_accuracy: 0.9750\n",
      "Epoch 5/10\n",
      "159491/159491 [==============================] - 85s 532us/step - loss: 0.0047 - accuracy: 0.9278 - val_loss: 0.1911 - val_accuracy: 0.9779\n",
      "Epoch 6/10\n",
      "159491/159491 [==============================] - 87s 544us/step - loss: 0.0046 - accuracy: 0.9205 - val_loss: 0.0547 - val_accuracy: 0.9932\n",
      "Epoch 7/10\n",
      "159491/159491 [==============================] - 86s 538us/step - loss: 0.0047 - accuracy: 0.9346 - val_loss: 0.0539 - val_accuracy: 0.9931\n",
      "Epoch 8/10\n",
      "159491/159491 [==============================] - 86s 542us/step - loss: 0.0044 - accuracy: 0.9208 - val_loss: 0.0682 - val_accuracy: 0.9903\n",
      "Epoch 9/10\n",
      " 93312/159491 [================>.............] - ETA: 31s - loss: 0.0042 - accuracy: 0.9185"
     ]
    }
   ],
   "source": [
    "model = Sequential()\n",
    "model.add(Conv1D(32, 2, activation='relu', input_shape=X_train_d[0].shape))\n",
    "model.add(BatchNormalization())\n",
    "model.add(MaxPooling1D(2))\n",
    "model.add(Dropout(0.1))\n",
    "\n",
    "model.add(Conv1D(64, 2, activation='relu'))\n",
    "model.add(BatchNormalization())\n",
    "model.add(MaxPooling1D(2))\n",
    "model.add(Dropout(0.2))\n",
    "\n",
    "model.add(Conv1D(64, 2, activation='relu'))\n",
    "model.add(BatchNormalization())\n",
    "model.add(MaxPooling1D(2))\n",
    "model.add(Dropout(0.3))\n",
    "\n",
    "model.add(Flatten())\n",
    "model.add(Dropout(0.4))\n",
    "model.add(Dense(256, activation='relu'))\n",
    "model.add(Dropout(0.4))\n",
    "\n",
    "model.add(Dense(1, activation='sigmoid'))\n",
    "\n",
    "model.compile(optimizer='adam', loss='binary_crossentropy', metrics=['accuracy'])\n",
    "r = model.fit(X_train_d, y_train, \n",
    "              validation_data=(X_validate_d, y_validate),\n",
    "              batch_size=batch, \n",
    "              epochs=epochs, \n",
    "              class_weight=weights\n",
    "             )"
   ]
  },
  {
   "cell_type": "code",
   "execution_count": 30,
   "metadata": {},
   "outputs": [
    {
     "name": "stdout",
     "output_type": "stream",
     "text": [
      "85443/85443 [==============================] - 7s 78us/step\n",
      "[0.08172650043123476, 0.9869503378868103]\n"
     ]
    }
   ],
   "source": [
    "score = model.evaluate(X_test_d, y_test)\n",
    "print(score)"
   ]
  },
  {
   "cell_type": "code",
   "execution_count": 31,
   "metadata": {},
   "outputs": [
    {
     "data": {
      "text/plain": [
       "<matplotlib.legend.Legend at 0x7f6c5c0fc208>"
      ]
     },
     "execution_count": 31,
     "metadata": {},
     "output_type": "execute_result"
    },
    {
     "data": {
      "image/png": "[encoded data removed]",
      "text/plain": [
       "<Figure size 864x576 with 2 Axes>"
      ]
     },
     "metadata": {
      "needs_background": "light"
     },
     "output_type": "display_data"
    }
   ],
   "source": [
    "plt.figure(figsize=(12, 8))\n",
    "\n",
    "plt.subplot(2, 2, 1)\n",
    "plt.plot(r.history['loss'], label='Loss')\n",
    "plt.plot(r.history['val_loss'], label='val_Loss')\n",
    "plt.legend()\n",
    "\n",
    "plt.subplot(2, 2, 2)\n",
    "plt.plot(r.history['accuracy'], label='accuracy')\n",
    "plt.plot(r.history['val_accuracy'], label='val_accuracy')\n",
    "plt.legend()"
   ]
  },
  {
   "cell_type": "code",
   "execution_count": 32,
   "metadata": {},
   "outputs": [
    {
     "name": "stdout",
     "output_type": "stream",
     "text": [
      "Train Result:\n",
      "================================================\n",
      "Accuracy Score: 98.68%\n",
      "_______________________________________________\n",
      "Classification Report:\n",
      "                  0      1  accuracy  macro avg  weighted avg\n",
      "precision      1.00   0.11      0.99       0.55          1.00\n",
      "recall         0.99   0.86      0.99       0.92          0.99\n",
      "f1-score       0.99   0.19      0.99       0.59          0.99\n",
      "support   159204.00 287.00      0.99  159491.00     159491.00\n",
      "_______________________________________________\n",
      "Confusion Matrix: \n",
      " [[157142   2062]\n",
      " [    40    247]]\n",
      "\n",
      "Test Result:\n",
      "================================================\n",
      "Accuracy Score: 98.70%\n",
      "_______________________________________________\n",
      "Classification Report:\n",
      "                 0      1  accuracy  macro avg  weighted avg\n",
      "precision     1.00   0.10      0.99       0.55          1.00\n",
      "recall        0.99   0.88      0.99       0.93          0.99\n",
      "f1-score      0.99   0.18      0.99       0.58          0.99\n",
      "support   85307.00 136.00      0.99   85443.00      85443.00\n",
      "_______________________________________________\n",
      "Confusion Matrix: \n",
      " [[84209  1098]\n",
      " [   17   119]]\n",
      "\n"
     ]
    }
   ],
   "source": [
    "y_train_pred = model.predict(X_train_d)\n",
    "y_test_pred = model.predict(X_test_d)\n",
    "\n",
    "print_score(y_train, y_train_pred.round(), train=True)\n",
    "print_score(y_test, y_test_pred.round(), train=False)\n",
    "\n",
    "scores_dict['CNNs_2'] = {\n",
    "        'Train': accuracy_score(y_train,y_train_pred.round()),\n",
    "        'Test': accuracy_score(y_test, y_test_pred.round()),\n",
    "    }"
   ]
  },
  {
   "cell_type": "markdown",
   "metadata": {},
   "source": [
    "# 4. 2. XGBoost"
   ]
  },
  {
   "cell_type": "code",
   "execution_count": 33,
   "metadata": {},
   "outputs": [
    {
     "name": "stdout",
     "output_type": "stream",
     "text": [
      "Train Result:\n",
      "================================================\n",
      "Accuracy Score: 99.97%\n",
      "_______________________________________________\n",
      "Classification Report:\n",
      "                  0      1  accuracy  macro avg  weighted avg\n",
      "precision      1.00   0.98      1.00       0.99          1.00\n",
      "recall         1.00   0.84      1.00       0.92          1.00\n",
      "f1-score       1.00   0.91      1.00       0.95          1.00\n",
      "support   159204.00 287.00      1.00  159491.00     159491.00\n",
      "_______________________________________________\n",
      "Confusion Matrix: \n",
      " [[159200      4]\n",
      " [    46    241]]\n",
      "\n",
      "Test Result:\n",
      "================================================\n",
      "Accuracy Score: 99.96%\n",
      "_______________________________________________\n",
      "Classification Report:\n",
      "                 0      1  accuracy  macro avg  weighted avg\n",
      "precision     1.00   0.93      1.00       0.97          1.00\n",
      "recall        1.00   0.82      1.00       0.91          1.00\n",
      "f1-score      1.00   0.87      1.00       0.94          1.00\n",
      "support   85307.00 136.00      1.00   85443.00      85443.00\n",
      "_______________________________________________\n",
      "Confusion Matrix: \n",
      " [[85299     8]\n",
      " [   25   111]]\n",
      "\n"
     ]
    }
   ],
   "source": [
    "from xgboost import XGBClassifier\n",
    "\n",
    "xgb_clf = XGBClassifier()\n",
    "xgb_clf.fit(X_train, y_train)\n",
    "\n",
    "y_train_pred = xgb_clf.predict(X_train)\n",
    "y_test_pred = xgb_clf.predict(X_test)\n",
    "\n",
    "print_score(y_train, y_train_pred, train=True)\n",
    "print_score(y_test, y_test_pred, train=False)\n",
    "\n",
    "scores_dict['XGBoost'] = {\n",
    "        'Train': accuracy_score(y_train,y_train_pred),\n",
    "        'Test': accuracy_score(y_test, y_test_pred),\n",
    "    }"
   ]
  },
  {
   "cell_type": "markdown",
   "metadata": {},
   "source": [
    "# 4. 3. Random Forest"
   ]
  },
  {
   "cell_type": "code",
   "execution_count": 34,
   "metadata": {},
   "outputs": [
    {
     "name": "stdout",
     "output_type": "stream",
     "text": [
      "Train Result:\n",
      "================================================\n",
      "Accuracy Score: 100.00%\n",
      "_______________________________________________\n",
      "Classification Report:\n",
      "                  0      1  accuracy  macro avg  weighted avg\n",
      "precision      1.00   1.00      1.00       1.00          1.00\n",
      "recall         1.00   1.00      1.00       1.00          1.00\n",
      "f1-score       1.00   1.00      1.00       1.00          1.00\n",
      "support   159204.00 287.00      1.00  159491.00     159491.00\n",
      "_______________________________________________\n",
      "Confusion Matrix: \n",
      " [[159204      0]\n",
      " [     0    287]]\n",
      "\n",
      "Test Result:\n",
      "================================================\n",
      "Accuracy Score: 99.96%\n",
      "_______________________________________________\n",
      "Classification Report:\n",
      "                 0      1  accuracy  macro avg  weighted avg\n",
      "precision     1.00   0.96      1.00       0.98          1.00\n",
      "recall        1.00   0.79      1.00       0.90          1.00\n",
      "f1-score      1.00   0.87      1.00       0.94          1.00\n",
      "support   85307.00 136.00      1.00   85443.00      85443.00\n",
      "_______________________________________________\n",
      "Confusion Matrix: \n",
      " [[85303     4]\n",
      " [   28   108]]\n",
      "\n"
     ]
    }
   ],
   "source": [
    "from sklearn.ensemble import RandomForestClassifier\n",
    "\n",
    "rf_clf = RandomForestClassifier(n_estimators=1000, class_weight=weights, oob_score=False)\n",
    "rf_clf.fit(X_train, y_train)\n",
    "\n",
    "y_train_pred = rf_clf.predict(X_train)\n",
    "y_test_pred = rf_clf.predict(X_test)\n",
    "\n",
    "print_score(y_train, y_train_pred, train=True)\n",
    "print_score(y_test, y_test_pred, train=False)\n",
    "\n",
    "scores_dict['Random Forest'] = {\n",
    "        'Train': accuracy_score(y_train,y_train_pred),\n",
    "        'Test': accuracy_score(y_test, y_test_pred),\n",
    "    }"
   ]
  },
  {
   "cell_type": "markdown",
   "metadata": {},
   "source": [
    "# 5. Model Comparaison"
   ]
  },
  {
   "cell_type": "code",
   "execution_count": 35,
   "metadata": {},
   "outputs": [
    {
     "data": {
      "text/plain": [
       "<matplotlib.axes._subplots.AxesSubplot at 0x7f6c5c0ba828>"
      ]
     },
     "execution_count": 35,
     "metadata": {},
     "output_type": "execute_result"
    },
    {
     "data": {
      "image/png": "[encoded data removed]",
      "text/plain": [
       "<Figure size 1080x576 with 1 Axes>"
      ]
     },
     "metadata": {
      "needs_background": "light"
     },
     "output_type": "display_data"
    }
   ],
   "source": [
    "scores_df = pd.DataFrame(scores_dict)\n",
    "\n",
    "scores_df.plot(kind='barh', figsize=(15, 8))"
   ]
  }
 ],
 "metadata": {
  "kernelspec": {
   "display_name": "Python 3",
   "language": "python",
   "name": "python3"
  },
  "language_info": {
   "codemirror_mode": {
    "name": "ipython",
    "version": 3
   },
   "file_extension": ".py",
   "mimetype": "text/x-python",
   "name": "python",
   "nbconvert_exporter": "python",
   "pygments_lexer": "ipython3",
   "version": "3.6.6"
  }
 },
 "nbformat": 4,
 "nbformat_minor": 4
}
