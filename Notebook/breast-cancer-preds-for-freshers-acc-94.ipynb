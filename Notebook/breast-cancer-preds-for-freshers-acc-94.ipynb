{
 "cells": [
  {
   "cell_type": "code",
   "execution_count": 1,
   "metadata": {
    "_cell_guid": "b1076dfc-b9ad-4769-8c92-a6c4dae69d19",
    "_uuid": "8f2839f25d086af736a60e9eeb907d3b93b6e0e5",
    "execution": {
     "iopub.execute_input": "2020-08-25T06:21:11.036150Z",
     "iopub.status.busy": "2020-08-25T06:21:11.035330Z",
     "iopub.status.idle": "2020-08-25T06:21:11.043543Z",
     "shell.execute_reply": "2020-08-25T06:21:11.042815Z"
    },
    "papermill": {
     "duration": 0.045265,
     "end_time": "2020-08-25T06:21:11.043717",
     "exception": false,
     "start_time": "2020-08-25T06:21:10.998452",
     "status": "completed"
    },
    "tags": []
   },
   "outputs": [
    {
     "name": "stdout",
     "output_type": "stream",
     "text": [
      "/kaggle/input/breast-cancer-prediction-dataset/Breast_cancer_data.csv\n"
     ]
    }
   ],
   "source": [
    "# This Python 3 environment comes with many helpful analytics libraries installed\n",
    "# It is defined by the kaggle/python Docker image: https://github.com/kaggle/docker-python\n",
    "# For example, here's several helpful packages to load\n",
    "\n",
    "import numpy as np # linear algebra\n",
    "import pandas as pd # data processing, CSV file I/O (e.g. pd.read_csv)\n",
    "\n",
    "# Input data files are available in the read-only \"../input/\" directory\n",
    "# For example, running this (by clicking run or pressing Shift+Enter) will list all files under the input directory\n",
    "\n",
    "import os\n",
    "for dirname, _, filenames in os.walk('/kaggle/input'):\n",
    "    for filename in filenames:\n",
    "        print(os.path.join(dirname, filename))\n",
    "\n",
    "# You can write up to 5GB to the current directory (/kaggle/working/) that gets preserved as output when you create a version using \"Save & Run All\" \n",
    "# You can also write temporary files to /kaggle/temp/, but they won't be saved outside of the current session"
   ]
  },
  {
   "cell_type": "code",
   "execution_count": 2,
   "metadata": {
    "_cell_guid": "79c7e3d0-c299-4dcb-8224-4455121ee9b0",
    "_uuid": "d629ff2d2480ee46fbb7e2d37f6b5fab8052498a",
    "execution": {
     "iopub.execute_input": "2020-08-25T06:21:11.109546Z",
     "iopub.status.busy": "2020-08-25T06:21:11.108721Z",
     "iopub.status.idle": "2020-08-25T06:21:11.120772Z",
     "shell.execute_reply": "2020-08-25T06:21:11.120011Z"
    },
    "papermill": {
     "duration": 0.047926,
     "end_time": "2020-08-25T06:21:11.120899",
     "exception": false,
     "start_time": "2020-08-25T06:21:11.072973",
     "status": "completed"
    },
    "tags": []
   },
   "outputs": [],
   "source": [
    "df=pd.read_csv('/kaggle/input/breast-cancer-prediction-dataset/Breast_cancer_data.csv')"
   ]
  },
  {
   "cell_type": "code",
   "execution_count": 3,
   "metadata": {
    "execution": {
     "iopub.execute_input": "2020-08-25T06:21:11.199907Z",
     "iopub.status.busy": "2020-08-25T06:21:11.199086Z",
     "iopub.status.idle": "2020-08-25T06:21:11.211303Z",
     "shell.execute_reply": "2020-08-25T06:21:11.211859Z"
    },
    "papermill": {
     "duration": 0.061666,
     "end_time": "2020-08-25T06:21:11.212026",
     "exception": false,
     "start_time": "2020-08-25T06:21:11.150360",
     "status": "completed"
    },
    "tags": []
   },
   "outputs": [
    {
     "data": {
      "text/html": [
       "<div>\n",
       "<style scoped>\n",
       "    .dataframe tbody tr th:only-of-type {\n",
       "        vertical-align: middle;\n",
       "    }\n",
       "\n",
       "    .dataframe tbody tr th {\n",
       "        vertical-align: top;\n",
       "    }\n",
       "\n",
       "    .dataframe thead th {\n",
       "        text-align: right;\n",
       "    }\n",
       "</style>\n",
       "<table border=\"1\" class=\"dataframe\">\n",
       "  <thead>\n",
       "    <tr style=\"text-align: right;\">\n",
       "      <th></th>\n",
       "      <th>mean_radius</th>\n",
       "      <th>mean_texture</th>\n",
       "      <th>mean_perimeter</th>\n",
       "      <th>mean_area</th>\n",
       "      <th>mean_smoothness</th>\n",
       "      <th>diagnosis</th>\n",
       "    </tr>\n",
       "  </thead>\n",
       "  <tbody>\n",
       "    <tr>\n",
       "      <th>0</th>\n",
       "      <td>17.99</td>\n",
       "      <td>10.38</td>\n",
       "      <td>122.80</td>\n",
       "      <td>1001.0</td>\n",
       "      <td>0.11840</td>\n",
       "      <td>0</td>\n",
       "    </tr>\n",
       "    <tr>\n",
       "      <th>1</th>\n",
       "      <td>20.57</td>\n",
       "      <td>17.77</td>\n",
       "      <td>132.90</td>\n",
       "      <td>1326.0</td>\n",
       "      <td>0.08474</td>\n",
       "      <td>0</td>\n",
       "    </tr>\n",
       "    <tr>\n",
       "      <th>2</th>\n",
       "      <td>19.69</td>\n",
       "      <td>21.25</td>\n",
       "      <td>130.00</td>\n",
       "      <td>1203.0</td>\n",
       "      <td>0.10960</td>\n",
       "      <td>0</td>\n",
       "    </tr>\n",
       "    <tr>\n",
       "      <th>3</th>\n",
       "      <td>11.42</td>\n",
       "      <td>20.38</td>\n",
       "      <td>77.58</td>\n",
       "      <td>386.1</td>\n",
       "      <td>0.14250</td>\n",
       "      <td>0</td>\n",
       "    </tr>\n",
       "    <tr>\n",
       "      <th>4</th>\n",
       "      <td>20.29</td>\n",
       "      <td>14.34</td>\n",
       "      <td>135.10</td>\n",
       "      <td>1297.0</td>\n",
       "      <td>0.10030</td>\n",
       "      <td>0</td>\n",
       "    </tr>\n",
       "    <tr>\n",
       "      <th>...</th>\n",
       "      <td>...</td>\n",
       "      <td>...</td>\n",
       "      <td>...</td>\n",
       "      <td>...</td>\n",
       "      <td>...</td>\n",
       "      <td>...</td>\n",
       "    </tr>\n",
       "    <tr>\n",
       "      <th>564</th>\n",
       "      <td>21.56</td>\n",
       "      <td>22.39</td>\n",
       "      <td>142.00</td>\n",
       "      <td>1479.0</td>\n",
       "      <td>0.11100</td>\n",
       "      <td>0</td>\n",
       "    </tr>\n",
       "    <tr>\n",
       "      <th>565</th>\n",
       "      <td>20.13</td>\n",
       "      <td>28.25</td>\n",
       "      <td>131.20</td>\n",
       "      <td>1261.0</td>\n",
       "      <td>0.09780</td>\n",
       "      <td>0</td>\n",
       "    </tr>\n",
       "    <tr>\n",
       "      <th>566</th>\n",
       "      <td>16.60</td>\n",
       "      <td>28.08</td>\n",
       "      <td>108.30</td>\n",
       "      <td>858.1</td>\n",
       "      <td>0.08455</td>\n",
       "      <td>0</td>\n",
       "    </tr>\n",
       "    <tr>\n",
       "      <th>567</th>\n",
       "      <td>20.60</td>\n",
       "      <td>29.33</td>\n",
       "      <td>140.10</td>\n",
       "      <td>1265.0</td>\n",
       "      <td>0.11780</td>\n",
       "      <td>0</td>\n",
       "    </tr>\n",
       "    <tr>\n",
       "      <th>568</th>\n",
       "      <td>7.76</td>\n",
       "      <td>24.54</td>\n",
       "      <td>47.92</td>\n",
       "      <td>181.0</td>\n",
       "      <td>0.05263</td>\n",
       "      <td>1</td>\n",
       "    </tr>\n",
       "  </tbody>\n",
       "</table>\n",
       "<p>569 rows × 6 columns</p>\n",
       "</div>"
      ],
      "text/plain": [
       "     mean_radius  mean_texture  mean_perimeter  mean_area  mean_smoothness  \\\n",
       "0          17.99         10.38          122.80     1001.0          0.11840   \n",
       "1          20.57         17.77          132.90     1326.0          0.08474   \n",
       "2          19.69         21.25          130.00     1203.0          0.10960   \n",
       "3          11.42         20.38           77.58      386.1          0.14250   \n",
       "4          20.29         14.34          135.10     1297.0          0.10030   \n",
       "..           ...           ...             ...        ...              ...   \n",
       "564        21.56         22.39          142.00     1479.0          0.11100   \n",
       "565        20.13         28.25          131.20     1261.0          0.09780   \n",
       "566        16.60         28.08          108.30      858.1          0.08455   \n",
       "567        20.60         29.33          140.10     1265.0          0.11780   \n",
       "568         7.76         24.54           47.92      181.0          0.05263   \n",
       "\n",
       "     diagnosis  \n",
       "0            0  \n",
       "1            0  \n",
       "2            0  \n",
       "3            0  \n",
       "4            0  \n",
       "..         ...  \n",
       "564          0  \n",
       "565          0  \n",
       "566          0  \n",
       "567          0  \n",
       "568          1  \n",
       "\n",
       "[569 rows x 6 columns]"
      ]
     },
     "execution_count": 3,
     "metadata": {},
     "output_type": "execute_result"
    }
   ],
   "source": [
    "df"
   ]
  },
  {
   "cell_type": "code",
   "execution_count": 4,
   "metadata": {
    "execution": {
     "iopub.execute_input": "2020-08-25T06:21:11.289184Z",
     "iopub.status.busy": "2020-08-25T06:21:11.276815Z",
     "iopub.status.idle": "2020-08-25T06:21:11.293623Z",
     "shell.execute_reply": "2020-08-25T06:21:11.293038Z"
    },
    "papermill": {
     "duration": 0.052369,
     "end_time": "2020-08-25T06:21:11.293778",
     "exception": false,
     "start_time": "2020-08-25T06:21:11.241409",
     "status": "completed"
    },
    "tags": []
   },
   "outputs": [
    {
     "name": "stdout",
     "output_type": "stream",
     "text": [
      "<class 'pandas.core.frame.DataFrame'>\n",
      "RangeIndex: 569 entries, 0 to 568\n",
      "Data columns (total 6 columns):\n",
      " #   Column           Non-Null Count  Dtype  \n",
      "---  ------           --------------  -----  \n",
      " 0   mean_radius      569 non-null    float64\n",
      " 1   mean_texture     569 non-null    float64\n",
      " 2   mean_perimeter   569 non-null    float64\n",
      " 3   mean_area        569 non-null    float64\n",
      " 4   mean_smoothness  569 non-null    float64\n",
      " 5   diagnosis        569 non-null    int64  \n",
      "dtypes: float64(5), int64(1)\n",
      "memory usage: 26.8 KB\n"
     ]
    }
   ],
   "source": [
    "df.info()"
   ]
  },
  {
   "cell_type": "code",
   "execution_count": 5,
   "metadata": {
    "execution": {
     "iopub.execute_input": "2020-08-25T06:21:11.363316Z",
     "iopub.status.busy": "2020-08-25T06:21:11.362416Z",
     "iopub.status.idle": "2020-08-25T06:21:11.367017Z",
     "shell.execute_reply": "2020-08-25T06:21:11.366359Z"
    },
    "papermill": {
     "duration": 0.043577,
     "end_time": "2020-08-25T06:21:11.367150",
     "exception": false,
     "start_time": "2020-08-25T06:21:11.323573",
     "status": "completed"
    },
    "tags": []
   },
   "outputs": [
    {
     "data": {
      "text/plain": [
       "mean_radius        0\n",
       "mean_texture       0\n",
       "mean_perimeter     0\n",
       "mean_area          0\n",
       "mean_smoothness    0\n",
       "diagnosis          0\n",
       "dtype: int64"
      ]
     },
     "execution_count": 5,
     "metadata": {},
     "output_type": "execute_result"
    }
   ],
   "source": [
    "df.isnull().sum()"
   ]
  },
  {
   "cell_type": "code",
   "execution_count": 6,
   "metadata": {
    "execution": {
     "iopub.execute_input": "2020-08-25T06:21:11.433840Z",
     "iopub.status.busy": "2020-08-25T06:21:11.433024Z",
     "iopub.status.idle": "2020-08-25T06:21:12.662640Z",
     "shell.execute_reply": "2020-08-25T06:21:12.661938Z"
    },
    "papermill": {
     "duration": 1.264909,
     "end_time": "2020-08-25T06:21:12.662815",
     "exception": false,
     "start_time": "2020-08-25T06:21:11.397906",
     "status": "completed"
    },
    "tags": []
   },
   "outputs": [
    {
     "data": {
      "text/plain": [
       "<matplotlib.axes._subplots.AxesSubplot at 0x7fb3f1b2dd10>"
      ]
     },
     "execution_count": 6,
     "metadata": {},
     "output_type": "execute_result"
    },
    {
     "data": {
      "image/png": "[encoded data removed]",
      "text/plain": [
       "<Figure size 432x288 with 1 Axes>"
      ]
     },
     "metadata": {
      "needs_background": "light"
     },
     "output_type": "display_data"
    }
   ],
   "source": [
    "import matplotlib.pyplot as plt\n",
    "import seaborn as sns\n",
    "sns.countplot(df['diagnosis'])"
   ]
  },
  {
   "cell_type": "code",
   "execution_count": 7,
   "metadata": {
    "execution": {
     "iopub.execute_input": "2020-08-25T06:21:12.731969Z",
     "iopub.status.busy": "2020-08-25T06:21:12.730975Z",
     "iopub.status.idle": "2020-08-25T06:21:12.733619Z",
     "shell.execute_reply": "2020-08-25T06:21:12.734180Z"
    },
    "papermill": {
     "duration": 0.039147,
     "end_time": "2020-08-25T06:21:12.734341",
     "exception": false,
     "start_time": "2020-08-25T06:21:12.695194",
     "status": "completed"
    },
    "tags": []
   },
   "outputs": [],
   "source": [
    "#here we can observe that people diagnosed with breast cancer are more in numbers"
   ]
  },
  {
   "cell_type": "code",
   "execution_count": 8,
   "metadata": {
    "execution": {
     "iopub.execute_input": "2020-08-25T06:21:12.814447Z",
     "iopub.status.busy": "2020-08-25T06:21:12.812809Z",
     "iopub.status.idle": "2020-08-25T06:21:13.022348Z",
     "shell.execute_reply": "2020-08-25T06:21:13.021673Z"
    },
    "papermill": {
     "duration": 0.252679,
     "end_time": "2020-08-25T06:21:13.022478",
     "exception": false,
     "start_time": "2020-08-25T06:21:12.769799",
     "status": "completed"
    },
    "tags": []
   },
   "outputs": [
    {
     "data": {
      "text/plain": [
       "<matplotlib.axes._subplots.AxesSubplot at 0x7fb3f19a6410>"
      ]
     },
     "execution_count": 8,
     "metadata": {},
     "output_type": "execute_result"
    },
    {
     "data": {
      "image/png": "[encoded data removed]",
      "text/plain": [
       "<Figure size 432x288 with 1 Axes>"
      ]
     },
     "metadata": {
      "needs_background": "light"
     },
     "output_type": "display_data"
    }
   ],
   "source": [
    "sns.barplot(x=df['diagnosis'],y=df['mean_radius'],data=df)"
   ]
  },
  {
   "cell_type": "code",
   "execution_count": 9,
   "metadata": {
    "execution": {
     "iopub.execute_input": "2020-08-25T06:21:13.093326Z",
     "iopub.status.busy": "2020-08-25T06:21:13.092507Z",
     "iopub.status.idle": "2020-08-25T06:21:13.095399Z",
     "shell.execute_reply": "2020-08-25T06:21:13.095977Z"
    },
    "papermill": {
     "duration": 0.040809,
     "end_time": "2020-08-25T06:21:13.096158",
     "exception": false,
     "start_time": "2020-08-25T06:21:13.055349",
     "status": "completed"
    },
    "tags": []
   },
   "outputs": [],
   "source": [
    "#people diagnosed with disease have mean radius less than 12.5"
   ]
  },
  {
   "cell_type": "code",
   "execution_count": 10,
   "metadata": {
    "execution": {
     "iopub.execute_input": "2020-08-25T06:21:13.175882Z",
     "iopub.status.busy": "2020-08-25T06:21:13.174792Z",
     "iopub.status.idle": "2020-08-25T06:21:13.367464Z",
     "shell.execute_reply": "2020-08-25T06:21:13.368283Z"
    },
    "papermill": {
     "duration": 0.238888,
     "end_time": "2020-08-25T06:21:13.368513",
     "exception": false,
     "start_time": "2020-08-25T06:21:13.129625",
     "status": "completed"
    },
    "tags": []
   },
   "outputs": [
    {
     "data": {
      "text/plain": [
       "<matplotlib.axes._subplots.AxesSubplot at 0x7fb3f19f3ed0>"
      ]
     },
     "execution_count": 10,
     "metadata": {},
     "output_type": "execute_result"
    },
    {
     "data": {
      "image/png": "[encoded data removed]",
      "text/plain": [
       "<Figure size 432x288 with 1 Axes>"
      ]
     },
     "metadata": {
      "needs_background": "light"
     },
     "output_type": "display_data"
    }
   ],
   "source": [
    "sns.barplot(x=df['diagnosis'],y=df['mean_texture'],data=df)"
   ]
  },
  {
   "cell_type": "code",
   "execution_count": 11,
   "metadata": {
    "execution": {
     "iopub.execute_input": "2020-08-25T06:21:13.447138Z",
     "iopub.status.busy": "2020-08-25T06:21:13.446377Z",
     "iopub.status.idle": "2020-08-25T06:21:13.449436Z",
     "shell.execute_reply": "2020-08-25T06:21:13.450220Z"
    },
    "papermill": {
     "duration": 0.044486,
     "end_time": "2020-08-25T06:21:13.450393",
     "exception": false,
     "start_time": "2020-08-25T06:21:13.405907",
     "status": "completed"
    },
    "tags": []
   },
   "outputs": [],
   "source": [
    "#here we can observe that people diagnosed with disease have mean_texture less than 17"
   ]
  },
  {
   "cell_type": "code",
   "execution_count": 12,
   "metadata": {
    "execution": {
     "iopub.execute_input": "2020-08-25T06:21:13.537917Z",
     "iopub.status.busy": "2020-08-25T06:21:13.534507Z",
     "iopub.status.idle": "2020-08-25T06:21:13.743119Z",
     "shell.execute_reply": "2020-08-25T06:21:13.741992Z"
    },
    "papermill": {
     "duration": 0.255546,
     "end_time": "2020-08-25T06:21:13.743310",
     "exception": false,
     "start_time": "2020-08-25T06:21:13.487764",
     "status": "completed"
    },
    "tags": []
   },
   "outputs": [
    {
     "data": {
      "text/plain": [
       "<matplotlib.axes._subplots.AxesSubplot at 0x7fb3f18a9c90>"
      ]
     },
     "execution_count": 12,
     "metadata": {},
     "output_type": "execute_result"
    },
    {
     "data": {
      "image/png": "[encoded data removed]",
      "text/plain": [
       "<Figure size 432x288 with 1 Axes>"
      ]
     },
     "metadata": {
      "needs_background": "light"
     },
     "output_type": "display_data"
    }
   ],
   "source": [
    "sns.barplot(x=df['diagnosis'],y=df['mean_perimeter'],data=df)"
   ]
  },
  {
   "cell_type": "code",
   "execution_count": 13,
   "metadata": {
    "execution": {
     "iopub.execute_input": "2020-08-25T06:21:13.827675Z",
     "iopub.status.busy": "2020-08-25T06:21:13.826937Z",
     "iopub.status.idle": "2020-08-25T06:21:13.830609Z",
     "shell.execute_reply": "2020-08-25T06:21:13.829973Z"
    },
    "papermill": {
     "duration": 0.045603,
     "end_time": "2020-08-25T06:21:13.830767",
     "exception": false,
     "start_time": "2020-08-25T06:21:13.785164",
     "status": "completed"
    },
    "tags": []
   },
   "outputs": [],
   "source": [
    "# from  here it is clear that diagnosed people have mean_perimeter og about 70"
   ]
  },
  {
   "cell_type": "code",
   "execution_count": 14,
   "metadata": {
    "execution": {
     "iopub.execute_input": "2020-08-25T06:21:13.933012Z",
     "iopub.status.busy": "2020-08-25T06:21:13.919349Z",
     "iopub.status.idle": "2020-08-25T06:21:14.133388Z",
     "shell.execute_reply": "2020-08-25T06:21:14.133954Z"
    },
    "papermill": {
     "duration": 0.266941,
     "end_time": "2020-08-25T06:21:14.134125",
     "exception": false,
     "start_time": "2020-08-25T06:21:13.867184",
     "status": "completed"
    },
    "tags": []
   },
   "outputs": [
    {
     "data": {
      "text/plain": [
       "<matplotlib.axes._subplots.AxesSubplot at 0x7fb3f18117d0>"
      ]
     },
     "execution_count": 14,
     "metadata": {},
     "output_type": "execute_result"
    },
    {
     "data": {
      "image/png": "[encoded data removed]",
      "text/plain": [
       "<Figure size 432x288 with 1 Axes>"
      ]
     },
     "metadata": {
      "needs_background": "light"
     },
     "output_type": "display_data"
    }
   ],
   "source": [
    "sns.barplot(x=df['diagnosis'],y=df['mean_area'],data=df)"
   ]
  },
  {
   "cell_type": "code",
   "execution_count": 15,
   "metadata": {
    "execution": {
     "iopub.execute_input": "2020-08-25T06:21:14.214405Z",
     "iopub.status.busy": "2020-08-25T06:21:14.213599Z",
     "iopub.status.idle": "2020-08-25T06:21:14.217598Z",
     "shell.execute_reply": "2020-08-25T06:21:14.217005Z"
    },
    "papermill": {
     "duration": 0.045704,
     "end_time": "2020-08-25T06:21:14.217747",
     "exception": false,
     "start_time": "2020-08-25T06:21:14.172043",
     "status": "completed"
    },
    "tags": []
   },
   "outputs": [],
   "source": [
    "#diagnosed peoples have mean area of about 400"
   ]
  },
  {
   "cell_type": "code",
   "execution_count": 16,
   "metadata": {
    "execution": {
     "iopub.execute_input": "2020-08-25T06:21:14.305897Z",
     "iopub.status.busy": "2020-08-25T06:21:14.304310Z",
     "iopub.status.idle": "2020-08-25T06:21:14.502280Z",
     "shell.execute_reply": "2020-08-25T06:21:14.501614Z"
    },
    "papermill": {
     "duration": 0.246746,
     "end_time": "2020-08-25T06:21:14.502408",
     "exception": false,
     "start_time": "2020-08-25T06:21:14.255662",
     "status": "completed"
    },
    "tags": []
   },
   "outputs": [
    {
     "data": {
      "text/plain": [
       "<matplotlib.axes._subplots.AxesSubplot at 0x7fb3f17e1790>"
      ]
     },
     "execution_count": 16,
     "metadata": {},
     "output_type": "execute_result"
    },
    {
     "data": {
      "image/png": "[encoded data removed]",
      "text/plain": [
       "<Figure size 432x288 with 1 Axes>"
      ]
     },
     "metadata": {
      "needs_background": "light"
     },
     "output_type": "display_data"
    }
   ],
   "source": [
    "sns.barplot(x=df['diagnosis'],y=df['mean_smoothness'],data=df)"
   ]
  },
  {
   "cell_type": "code",
   "execution_count": 17,
   "metadata": {
    "execution": {
     "iopub.execute_input": "2020-08-25T06:21:14.586083Z",
     "iopub.status.busy": "2020-08-25T06:21:14.585140Z",
     "iopub.status.idle": "2020-08-25T06:21:14.588262Z",
     "shell.execute_reply": "2020-08-25T06:21:14.587498Z"
    },
    "papermill": {
     "duration": 0.04691,
     "end_time": "2020-08-25T06:21:14.588389",
     "exception": false,
     "start_time": "2020-08-25T06:21:14.541479",
     "status": "completed"
    },
    "tags": []
   },
   "outputs": [],
   "source": [
    "#here in both classes mean_smoothness seems to be almost equal"
   ]
  },
  {
   "cell_type": "code",
   "execution_count": 18,
   "metadata": {
    "execution": {
     "iopub.execute_input": "2020-08-25T06:21:14.689751Z",
     "iopub.status.busy": "2020-08-25T06:21:14.688972Z",
     "iopub.status.idle": "2020-08-25T06:21:18.031165Z",
     "shell.execute_reply": "2020-08-25T06:21:18.030538Z"
    },
    "papermill": {
     "duration": 3.403389,
     "end_time": "2020-08-25T06:21:18.031302",
     "exception": false,
     "start_time": "2020-08-25T06:21:14.627913",
     "status": "completed"
    },
    "tags": []
   },
   "outputs": [
    {
     "data": {
      "text/plain": [
       "<matplotlib.axes._subplots.AxesSubplot at 0x7fb3f1756d10>"
      ]
     },
     "execution_count": 18,
     "metadata": {},
     "output_type": "execute_result"
    },
    {
     "data": {
      "image/png": "[encoded data removed]",
      "text/plain": [
       "<Figure size 432x288 with 1 Axes>"
      ]
     },
     "metadata": {
      "needs_background": "light"
     },
     "output_type": "display_data"
    }
   ],
   "source": [
    "sns.lineplot(x=df['mean_radius'],y=df['mean_perimeter'],data=df)"
   ]
  },
  {
   "cell_type": "code",
   "execution_count": 19,
   "metadata": {
    "execution": {
     "iopub.execute_input": "2020-08-25T06:21:18.118549Z",
     "iopub.status.busy": "2020-08-25T06:21:18.117808Z",
     "iopub.status.idle": "2020-08-25T06:21:18.121148Z",
     "shell.execute_reply": "2020-08-25T06:21:18.120542Z"
    },
    "papermill": {
     "duration": 0.048873,
     "end_time": "2020-08-25T06:21:18.121276",
     "exception": false,
     "start_time": "2020-08-25T06:21:18.072403",
     "status": "completed"
    },
    "tags": []
   },
   "outputs": [],
   "source": [
    "#here we can clearly say that mean_perimeter increases with mean_radius"
   ]
  },
  {
   "cell_type": "code",
   "execution_count": 20,
   "metadata": {
    "execution": {
     "iopub.execute_input": "2020-08-25T06:21:18.221132Z",
     "iopub.status.busy": "2020-08-25T06:21:18.216561Z",
     "iopub.status.idle": "2020-08-25T06:21:19.898888Z",
     "shell.execute_reply": "2020-08-25T06:21:19.898092Z"
    },
    "papermill": {
     "duration": 1.736612,
     "end_time": "2020-08-25T06:21:19.899026",
     "exception": false,
     "start_time": "2020-08-25T06:21:18.162414",
     "status": "completed"
    },
    "tags": []
   },
   "outputs": [
    {
     "data": {
      "text/plain": [
       "<matplotlib.axes._subplots.AxesSubplot at 0x7fb3f0660710>"
      ]
     },
     "execution_count": 20,
     "metadata": {},
     "output_type": "execute_result"
    },
    {
     "data": {
      "image/png": "[encoded data removed]",
      "text/plain": [
       "<Figure size 432x288 with 1 Axes>"
      ]
     },
     "metadata": {
      "needs_background": "light"
     },
     "output_type": "display_data"
    }
   ],
   "source": [
    "sns.lineplot(x=df['mean_perimeter'],y=df['mean_area'],data=df)"
   ]
  },
  {
   "cell_type": "code",
   "execution_count": 21,
   "metadata": {
    "execution": {
     "iopub.execute_input": "2020-08-25T06:21:19.991246Z",
     "iopub.status.busy": "2020-08-25T06:21:19.990137Z",
     "iopub.status.idle": "2020-08-25T06:21:19.993890Z",
     "shell.execute_reply": "2020-08-25T06:21:19.993202Z"
    },
    "papermill": {
     "duration": 0.051877,
     "end_time": "2020-08-25T06:21:19.994025",
     "exception": false,
     "start_time": "2020-08-25T06:21:19.942148",
     "status": "completed"
    },
    "tags": []
   },
   "outputs": [],
   "source": [
    "#there is also a proportional relation bw them"
   ]
  },
  {
   "cell_type": "code",
   "execution_count": 22,
   "metadata": {
    "execution": {
     "iopub.execute_input": "2020-08-25T06:21:20.086842Z",
     "iopub.status.busy": "2020-08-25T06:21:20.085745Z",
     "iopub.status.idle": "2020-08-25T06:21:20.089105Z",
     "shell.execute_reply": "2020-08-25T06:21:20.088492Z"
    },
    "papermill": {
     "duration": 0.052461,
     "end_time": "2020-08-25T06:21:20.089243",
     "exception": false,
     "start_time": "2020-08-25T06:21:20.036782",
     "status": "completed"
    },
    "tags": []
   },
   "outputs": [],
   "source": [
    "y=df['diagnosis']\n",
    "x=df.drop(['diagnosis'],axis=1)"
   ]
  },
  {
   "cell_type": "code",
   "execution_count": 23,
   "metadata": {
    "execution": {
     "iopub.execute_input": "2020-08-25T06:21:20.181397Z",
     "iopub.status.busy": "2020-08-25T06:21:20.180588Z",
     "iopub.status.idle": "2020-08-25T06:21:20.276817Z",
     "shell.execute_reply": "2020-08-25T06:21:20.276093Z"
    },
    "papermill": {
     "duration": 0.144627,
     "end_time": "2020-08-25T06:21:20.276953",
     "exception": false,
     "start_time": "2020-08-25T06:21:20.132326",
     "status": "completed"
    },
    "tags": []
   },
   "outputs": [],
   "source": [
    "from sklearn.model_selection import train_test_split\n",
    "x_train,x_test,y_train,y_test=train_test_split(x,y,random_state=0,test_size=0.2)"
   ]
  },
  {
   "cell_type": "code",
   "execution_count": 24,
   "metadata": {
    "execution": {
     "iopub.execute_input": "2020-08-25T06:21:20.372253Z",
     "iopub.status.busy": "2020-08-25T06:21:20.371252Z",
     "iopub.status.idle": "2020-08-25T06:21:20.474457Z",
     "shell.execute_reply": "2020-08-25T06:21:20.473812Z"
    },
    "papermill": {
     "duration": 0.154437,
     "end_time": "2020-08-25T06:21:20.474604",
     "exception": false,
     "start_time": "2020-08-25T06:21:20.320167",
     "status": "completed"
    },
    "tags": []
   },
   "outputs": [],
   "source": [
    "from sklearn.linear_model import LogisticRegression\n",
    "from sklearn.metrics import accuracy_score\n",
    "from sklearn.preprocessing import StandardScaler\n",
    "sc=StandardScaler()\n",
    "list_models=[]\n",
    "list_scores=[]\n",
    "x_train=sc.fit_transform(x_train)\n",
    "lr=LogisticRegression(max_iter=10000)\n",
    "lr.fit(x_train,y_train)\n",
    "pred_1=lr.predict(sc.transform(x_test))\n",
    "score_1=accuracy_score(y_test,pred_1)\n",
    "list_scores.append(score_1)\n",
    "list_models.append('LogisticRegression')"
   ]
  },
  {
   "cell_type": "code",
   "execution_count": 25,
   "metadata": {
    "execution": {
     "iopub.execute_input": "2020-08-25T06:21:20.567465Z",
     "iopub.status.busy": "2020-08-25T06:21:20.566442Z",
     "iopub.status.idle": "2020-08-25T06:21:20.571232Z",
     "shell.execute_reply": "2020-08-25T06:21:20.570627Z"
    },
    "papermill": {
     "duration": 0.053365,
     "end_time": "2020-08-25T06:21:20.571361",
     "exception": false,
     "start_time": "2020-08-25T06:21:20.517996",
     "status": "completed"
    },
    "tags": []
   },
   "outputs": [
    {
     "data": {
      "text/plain": [
       "0.9210526315789473"
      ]
     },
     "execution_count": 25,
     "metadata": {},
     "output_type": "execute_result"
    }
   ],
   "source": [
    "score_1"
   ]
  },
  {
   "cell_type": "code",
   "execution_count": 26,
   "metadata": {
    "execution": {
     "iopub.execute_input": "2020-08-25T06:21:20.666535Z",
     "iopub.status.busy": "2020-08-25T06:21:20.665728Z",
     "iopub.status.idle": "2020-08-25T06:21:20.932070Z",
     "shell.execute_reply": "2020-08-25T06:21:20.931170Z"
    },
    "papermill": {
     "duration": 0.317177,
     "end_time": "2020-08-25T06:21:20.932219",
     "exception": false,
     "start_time": "2020-08-25T06:21:20.615042",
     "status": "completed"
    },
    "tags": []
   },
   "outputs": [],
   "source": [
    "from sklearn.neighbors import KNeighborsClassifier\n",
    "list_1=[]\n",
    "for i in range(1,21):\n",
    "    knn=KNeighborsClassifier(n_neighbors=i)\n",
    "    knn.fit(x_train,y_train)\n",
    "    preds=knn.predict(sc.transform(x_test))\n",
    "    scores=accuracy_score(y_test,preds)\n",
    "    list_1.append(scores)\n",
    "    "
   ]
  },
  {
   "cell_type": "code",
   "execution_count": 27,
   "metadata": {
    "execution": {
     "iopub.execute_input": "2020-08-25T06:21:21.060289Z",
     "iopub.status.busy": "2020-08-25T06:21:21.059250Z",
     "iopub.status.idle": "2020-08-25T06:21:21.227790Z",
     "shell.execute_reply": "2020-08-25T06:21:21.227054Z"
    },
    "papermill": {
     "duration": 0.246202,
     "end_time": "2020-08-25T06:21:21.227916",
     "exception": false,
     "start_time": "2020-08-25T06:21:20.981714",
     "status": "completed"
    },
    "tags": []
   },
   "outputs": [
    {
     "data": {
      "text/plain": [
       "<matplotlib.axes._subplots.AxesSubplot at 0x7fb3e70e5650>"
      ]
     },
     "execution_count": 27,
     "metadata": {},
     "output_type": "execute_result"
    },
    {
     "data": {
      "image/png": "[encoded data removed]",
      "text/plain": [
       "<Figure size 432x288 with 1 Axes>"
      ]
     },
     "metadata": {
      "needs_background": "light"
     },
     "output_type": "display_data"
    }
   ],
   "source": [
    "sns.lineplot(x=list(range(1,21)),y=list_1)"
   ]
  },
  {
   "cell_type": "code",
   "execution_count": 28,
   "metadata": {
    "execution": {
     "iopub.execute_input": "2020-08-25T06:21:21.324883Z",
     "iopub.status.busy": "2020-08-25T06:21:21.324135Z",
     "iopub.status.idle": "2020-08-25T06:21:21.327156Z",
     "shell.execute_reply": "2020-08-25T06:21:21.327723Z"
    },
    "papermill": {
     "duration": 0.054222,
     "end_time": "2020-08-25T06:21:21.327899",
     "exception": false,
     "start_time": "2020-08-25T06:21:21.273677",
     "status": "completed"
    },
    "tags": []
   },
   "outputs": [],
   "source": [
    "list_scores.append(max(list_1))\n",
    "list_models.append('KNeighbors Classifier')"
   ]
  },
  {
   "cell_type": "code",
   "execution_count": 29,
   "metadata": {
    "execution": {
     "iopub.execute_input": "2020-08-25T06:21:21.424460Z",
     "iopub.status.busy": "2020-08-25T06:21:21.423720Z",
     "iopub.status.idle": "2020-08-25T06:21:21.427762Z",
     "shell.execute_reply": "2020-08-25T06:21:21.426817Z"
    },
    "papermill": {
     "duration": 0.054462,
     "end_time": "2020-08-25T06:21:21.427902",
     "exception": false,
     "start_time": "2020-08-25T06:21:21.373440",
     "status": "completed"
    },
    "tags": []
   },
   "outputs": [
    {
     "name": "stdout",
     "output_type": "stream",
     "text": [
      "0.9298245614035088\n"
     ]
    }
   ],
   "source": [
    "print(max(list_1))"
   ]
  },
  {
   "cell_type": "code",
   "execution_count": 30,
   "metadata": {
    "execution": {
     "iopub.execute_input": "2020-08-25T06:21:21.528928Z",
     "iopub.status.busy": "2020-08-25T06:21:21.528192Z",
     "iopub.status.idle": "2020-08-25T06:21:21.834063Z",
     "shell.execute_reply": "2020-08-25T06:21:21.833411Z"
    },
    "papermill": {
     "duration": 0.35885,
     "end_time": "2020-08-25T06:21:21.834226",
     "exception": false,
     "start_time": "2020-08-25T06:21:21.475376",
     "status": "completed"
    },
    "tags": []
   },
   "outputs": [],
   "source": [
    "from sklearn.ensemble import RandomForestClassifier\n",
    "rfc=RandomForestClassifier()\n",
    "rfc.fit(x_train,y_train)\n",
    "pred_2=rfc.predict(sc.transform(x_test))\n",
    "score_2=accuracy_score(y_test,pred_2)\n",
    "list_models.append('Randomforest Classifier')\n",
    "list_scores.append(score_2)"
   ]
  },
  {
   "cell_type": "code",
   "execution_count": 31,
   "metadata": {
    "execution": {
     "iopub.execute_input": "2020-08-25T06:21:21.933369Z",
     "iopub.status.busy": "2020-08-25T06:21:21.932551Z",
     "iopub.status.idle": "2020-08-25T06:21:21.938114Z",
     "shell.execute_reply": "2020-08-25T06:21:21.937481Z"
    },
    "papermill": {
     "duration": 0.057402,
     "end_time": "2020-08-25T06:21:21.938251",
     "exception": false,
     "start_time": "2020-08-25T06:21:21.880849",
     "status": "completed"
    },
    "tags": []
   },
   "outputs": [
    {
     "data": {
      "text/plain": [
       "0.9298245614035088"
      ]
     },
     "execution_count": 31,
     "metadata": {},
     "output_type": "execute_result"
    }
   ],
   "source": [
    "score_2"
   ]
  },
  {
   "cell_type": "code",
   "execution_count": 32,
   "metadata": {
    "execution": {
     "iopub.execute_input": "2020-08-25T06:21:22.042163Z",
     "iopub.status.busy": "2020-08-25T06:21:22.041170Z",
     "iopub.status.idle": "2020-08-25T06:21:22.050509Z",
     "shell.execute_reply": "2020-08-25T06:21:22.051074Z"
    },
    "papermill": {
     "duration": 0.065121,
     "end_time": "2020-08-25T06:21:22.051241",
     "exception": false,
     "start_time": "2020-08-25T06:21:21.986120",
     "status": "completed"
    },
    "tags": []
   },
   "outputs": [],
   "source": [
    "from sklearn.svm import SVC\n",
    "svm=SVC()\n",
    "svm.fit(x_train,y_train)\n",
    "pred_3=svm.predict(sc.transform(x_test))\n",
    "score_3=accuracy_score(y_test,pred_3)\n",
    "list_scores.append(score_3)\n",
    "list_models.append('Support vector machines')"
   ]
  },
  {
   "cell_type": "code",
   "execution_count": 33,
   "metadata": {
    "execution": {
     "iopub.execute_input": "2020-08-25T06:21:22.152044Z",
     "iopub.status.busy": "2020-08-25T06:21:22.151086Z",
     "iopub.status.idle": "2020-08-25T06:21:22.155840Z",
     "shell.execute_reply": "2020-08-25T06:21:22.155083Z"
    },
    "papermill": {
     "duration": 0.057681,
     "end_time": "2020-08-25T06:21:22.155965",
     "exception": false,
     "start_time": "2020-08-25T06:21:22.098284",
     "status": "completed"
    },
    "tags": []
   },
   "outputs": [
    {
     "data": {
      "text/plain": [
       "0.8947368421052632"
      ]
     },
     "execution_count": 33,
     "metadata": {},
     "output_type": "execute_result"
    }
   ],
   "source": [
    "score_3"
   ]
  },
  {
   "cell_type": "code",
   "execution_count": 34,
   "metadata": {
    "execution": {
     "iopub.execute_input": "2020-08-25T06:21:22.258174Z",
     "iopub.status.busy": "2020-08-25T06:21:22.257439Z",
     "iopub.status.idle": "2020-08-25T06:21:23.237421Z",
     "shell.execute_reply": "2020-08-25T06:21:23.238610Z"
    },
    "papermill": {
     "duration": 1.035376,
     "end_time": "2020-08-25T06:21:23.238841",
     "exception": false,
     "start_time": "2020-08-25T06:21:22.203465",
     "status": "completed"
    },
    "tags": []
   },
   "outputs": [],
   "source": [
    "from xgboost import XGBClassifier\n",
    "xgb=XGBClassifier()\n",
    "xgb.fit(x_train,y_train)\n",
    "pred_4=xgb.predict(sc.transform(x_test))\n",
    "score_4=accuracy_score(y_test,pred_4)\n",
    "list_models.append('XGboost')\n",
    "list_scores.append(score_4)"
   ]
  },
  {
   "cell_type": "code",
   "execution_count": 35,
   "metadata": {
    "execution": {
     "iopub.execute_input": "2020-08-25T06:21:23.363565Z",
     "iopub.status.busy": "2020-08-25T06:21:23.362574Z",
     "iopub.status.idle": "2020-08-25T06:21:23.366440Z",
     "shell.execute_reply": "2020-08-25T06:21:23.364330Z"
    },
    "papermill": {
     "duration": 0.070042,
     "end_time": "2020-08-25T06:21:23.366584",
     "exception": false,
     "start_time": "2020-08-25T06:21:23.296542",
     "status": "completed"
    },
    "tags": []
   },
   "outputs": [
    {
     "data": {
      "text/plain": [
       "0.9298245614035088"
      ]
     },
     "execution_count": 35,
     "metadata": {},
     "output_type": "execute_result"
    }
   ],
   "source": [
    "score_4"
   ]
  },
  {
   "cell_type": "code",
   "execution_count": 36,
   "metadata": {
    "execution": {
     "iopub.execute_input": "2020-08-25T06:21:23.483000Z",
     "iopub.status.busy": "2020-08-25T06:21:23.482064Z",
     "iopub.status.idle": "2020-08-25T06:21:23.632067Z",
     "shell.execute_reply": "2020-08-25T06:21:23.631409Z"
    },
    "papermill": {
     "duration": 0.207746,
     "end_time": "2020-08-25T06:21:23.632206",
     "exception": false,
     "start_time": "2020-08-25T06:21:23.424460",
     "status": "completed"
    },
    "tags": []
   },
   "outputs": [
    {
     "data": {
      "image/png": "[encoded data removed]",
      "text/plain": [
       "<Figure size 864x360 with 1 Axes>"
      ]
     },
     "metadata": {
      "needs_background": "light"
     },
     "output_type": "display_data"
    }
   ],
   "source": [
    "plt.figure(figsize=(12,5))\n",
    "plt.bar(list_models,list_scores)\n",
    "plt.xlabel('classifiers')\n",
    "plt.ylabel('accuracy scores')\n",
    "plt.show()"
   ]
  }
 ],
 "metadata": {
  "kernelspec": {
   "display_name": "Python 3",
   "language": "python",
   "name": "python3"
  },
  "language_info": {
   "codemirror_mode": {
    "name": "ipython",
    "version": 3
   },
   "file_extension": ".py",
   "mimetype": "text/x-python",
   "name": "python",
   "nbconvert_exporter": "python",
   "pygments_lexer": "ipython3",
   "version": "3.7.6"
  },
  "papermill": {
   "duration": 17.7687,
   "end_time": "2020-08-25T06:21:23.793381",
   "environment_variables": {},
   "exception": null,
   "input_path": "__notebook__.ipynb",
   "output_path": "__notebook__.ipynb",
   "parameters": {},
   "start_time": "2020-08-25T06:21:06.024681",
   "version": "2.1.0"
  }
 },
 "nbformat": 4,
 "nbformat_minor": 4
}
