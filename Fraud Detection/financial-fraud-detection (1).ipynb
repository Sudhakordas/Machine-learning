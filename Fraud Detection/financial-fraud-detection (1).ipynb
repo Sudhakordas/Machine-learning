{
 "cells": [
  {
   "cell_type": "markdown",
   "metadata": {
    "papermill": {
     "duration": 0.030013,
     "end_time": "2022-02-04T02:35:38.498790",
     "exception": false,
     "start_time": "2022-02-04T02:35:38.468777",
     "status": "completed"
    },
    "tags": []
   },
   "source": [
    "# Objective\n",
    "* The objective of this exercise is to identify a fraudlent transaction as accurately as possible.\n",
    "* Compare different models based on their performance"
   ]
  },
  {
   "cell_type": "markdown",
   "metadata": {
    "papermill": {
     "duration": 0.028546,
     "end_time": "2022-02-04T02:35:38.555598",
     "exception": false,
     "start_time": "2022-02-04T02:35:38.527052",
     "status": "completed"
    },
    "tags": []
   },
   "source": [
    "##### Import neccessary libraries"
   ]
  },
  {
   "cell_type": "code",
   "execution_count": 1,
   "metadata": {
    "_cell_guid": "b1076dfc-b9ad-4769-8c92-a6c4dae69d19",
    "_uuid": "8f2839f25d086af736a60e9eeb907d3b93b6e0e5",
    "execution": {
     "iopub.execute_input": "2022-02-04T02:35:38.625554Z",
     "iopub.status.busy": "2022-02-04T02:35:38.624865Z",
     "iopub.status.idle": "2022-02-04T02:35:40.267907Z",
     "shell.execute_reply": "2022-02-04T02:35:40.267164Z",
     "shell.execute_reply.started": "2022-02-04T01:56:00.372130Z"
    },
    "papermill": {
     "duration": 1.68327,
     "end_time": "2022-02-04T02:35:40.268100",
     "exception": false,
     "start_time": "2022-02-04T02:35:38.584830",
     "status": "completed"
    },
    "tags": []
   },
   "outputs": [
    {
     "name": "stdout",
     "output_type": "stream",
     "text": [
      "/kaggle/input/paysim1/PS_20174392719_1491204439457_log.csv\n"
     ]
    }
   ],
   "source": [
    "import numpy as np # linear algebra\n",
    "import pandas as pd # data processing, CSV file I/O (e.g. pd.read_csv)\n",
    "import matplotlib.pyplot as plt\n",
    "import seaborn as sns\n",
    "import os\n",
    "for dirname, _, filenames in os.walk('/kaggle/input'):\n",
    "    for filename in filenames:\n",
    "        print(os.path.join(dirname, filename))\n",
    "        \n",
    "from sklearn.preprocessing import StandardScaler\n",
    "from sklearn.model_selection import train_test_split\n",
    "from sklearn.linear_model import LogisticRegression\n",
    "from sklearn.metrics import f1_score, accuracy_score, confusion_matrix,roc_auc_score\n",
    "from sklearn.utils import resample\n",
    "from sklearn.ensemble import RandomForestClassifier\n",
    "## to ignore waarning\n",
    "import warnings\n",
    "warnings.filterwarnings(\"ignore\")#, category=DeprecationWarning)"
   ]
  },
  {
   "cell_type": "markdown",
   "metadata": {
    "papermill": {
     "duration": 0.029976,
     "end_time": "2022-02-04T02:35:40.327531",
     "exception": false,
     "start_time": "2022-02-04T02:35:40.297555",
     "status": "completed"
    },
    "tags": []
   },
   "source": [
    "##### Load the dataset"
   ]
  },
  {
   "cell_type": "code",
   "execution_count": 2,
   "metadata": {
    "execution": {
     "iopub.execute_input": "2022-02-04T02:35:40.390330Z",
     "iopub.status.busy": "2022-02-04T02:35:40.389539Z",
     "iopub.status.idle": "2022-02-04T02:36:00.328305Z",
     "shell.execute_reply": "2022-02-04T02:36:00.329344Z",
     "shell.execute_reply.started": "2022-02-04T01:56:02.014357Z"
    },
    "papermill": {
     "duration": 19.973232,
     "end_time": "2022-02-04T02:36:00.329523",
     "exception": false,
     "start_time": "2022-02-04T02:35:40.356291",
     "status": "completed"
    },
    "tags": []
   },
   "outputs": [
    {
     "data": {
      "text/html": [
       "<div>\n",
       "<style scoped>\n",
       "    .dataframe tbody tr th:only-of-type {\n",
       "        vertical-align: middle;\n",
       "    }\n",
       "\n",
       "    .dataframe tbody tr th {\n",
       "        vertical-align: top;\n",
       "    }\n",
       "\n",
       "    .dataframe thead th {\n",
       "        text-align: right;\n",
       "    }\n",
       "</style>\n",
       "<table border=\"1\" class=\"dataframe\">\n",
       "  <thead>\n",
       "    <tr style=\"text-align: right;\">\n",
       "      <th></th>\n",
       "      <th>step</th>\n",
       "      <th>type</th>\n",
       "      <th>amount</th>\n",
       "      <th>nameOrig</th>\n",
       "      <th>oldbalanceOrg</th>\n",
       "      <th>newbalanceOrig</th>\n",
       "      <th>nameDest</th>\n",
       "      <th>oldbalanceDest</th>\n",
       "      <th>newbalanceDest</th>\n",
       "      <th>isFraud</th>\n",
       "      <th>isFlaggedFraud</th>\n",
       "    </tr>\n",
       "  </thead>\n",
       "  <tbody>\n",
       "    <tr>\n",
       "      <th>0</th>\n",
       "      <td>1</td>\n",
       "      <td>PAYMENT</td>\n",
       "      <td>9839.64</td>\n",
       "      <td>C1231006815</td>\n",
       "      <td>170136.0</td>\n",
       "      <td>160296.36</td>\n",
       "      <td>M1979787155</td>\n",
       "      <td>0.0</td>\n",
       "      <td>0.0</td>\n",
       "      <td>0</td>\n",
       "      <td>0</td>\n",
       "    </tr>\n",
       "    <tr>\n",
       "      <th>1</th>\n",
       "      <td>1</td>\n",
       "      <td>PAYMENT</td>\n",
       "      <td>1864.28</td>\n",
       "      <td>C1666544295</td>\n",
       "      <td>21249.0</td>\n",
       "      <td>19384.72</td>\n",
       "      <td>M2044282225</td>\n",
       "      <td>0.0</td>\n",
       "      <td>0.0</td>\n",
       "      <td>0</td>\n",
       "      <td>0</td>\n",
       "    </tr>\n",
       "    <tr>\n",
       "      <th>2</th>\n",
       "      <td>1</td>\n",
       "      <td>TRANSFER</td>\n",
       "      <td>181.00</td>\n",
       "      <td>C1305486145</td>\n",
       "      <td>181.0</td>\n",
       "      <td>0.00</td>\n",
       "      <td>C553264065</td>\n",
       "      <td>0.0</td>\n",
       "      <td>0.0</td>\n",
       "      <td>1</td>\n",
       "      <td>0</td>\n",
       "    </tr>\n",
       "    <tr>\n",
       "      <th>3</th>\n",
       "      <td>1</td>\n",
       "      <td>CASH_OUT</td>\n",
       "      <td>181.00</td>\n",
       "      <td>C840083671</td>\n",
       "      <td>181.0</td>\n",
       "      <td>0.00</td>\n",
       "      <td>C38997010</td>\n",
       "      <td>21182.0</td>\n",
       "      <td>0.0</td>\n",
       "      <td>1</td>\n",
       "      <td>0</td>\n",
       "    </tr>\n",
       "    <tr>\n",
       "      <th>4</th>\n",
       "      <td>1</td>\n",
       "      <td>PAYMENT</td>\n",
       "      <td>11668.14</td>\n",
       "      <td>C2048537720</td>\n",
       "      <td>41554.0</td>\n",
       "      <td>29885.86</td>\n",
       "      <td>M1230701703</td>\n",
       "      <td>0.0</td>\n",
       "      <td>0.0</td>\n",
       "      <td>0</td>\n",
       "      <td>0</td>\n",
       "    </tr>\n",
       "  </tbody>\n",
       "</table>\n",
       "</div>"
      ],
      "text/plain": [
       "   step      type    amount     nameOrig  oldbalanceOrg  newbalanceOrig  \\\n",
       "0     1   PAYMENT   9839.64  C1231006815       170136.0       160296.36   \n",
       "1     1   PAYMENT   1864.28  C1666544295        21249.0        19384.72   \n",
       "2     1  TRANSFER    181.00  C1305486145          181.0            0.00   \n",
       "3     1  CASH_OUT    181.00   C840083671          181.0            0.00   \n",
       "4     1   PAYMENT  11668.14  C2048537720        41554.0        29885.86   \n",
       "\n",
       "      nameDest  oldbalanceDest  newbalanceDest  isFraud  isFlaggedFraud  \n",
       "0  M1979787155             0.0             0.0        0               0  \n",
       "1  M2044282225             0.0             0.0        0               0  \n",
       "2   C553264065             0.0             0.0        1               0  \n",
       "3    C38997010         21182.0             0.0        1               0  \n",
       "4  M1230701703             0.0             0.0        0               0  "
      ]
     },
     "execution_count": 2,
     "metadata": {},
     "output_type": "execute_result"
    }
   ],
   "source": [
    "data = pd.read_csv(\"/kaggle/input/paysim1/PS_20174392719_1491204439457_log.csv\")\n",
    "data.head()"
   ]
  },
  {
   "cell_type": "markdown",
   "metadata": {
    "papermill": {
     "duration": 0.028305,
     "end_time": "2022-02-04T02:36:00.386336",
     "exception": false,
     "start_time": "2022-02-04T02:36:00.358031",
     "status": "completed"
    },
    "tags": []
   },
   "source": [
    "#### Exploratory Data Analysis"
   ]
  },
  {
   "cell_type": "code",
   "execution_count": 3,
   "metadata": {
    "execution": {
     "iopub.execute_input": "2022-02-04T02:36:00.451324Z",
     "iopub.status.busy": "2022-02-04T02:36:00.450608Z",
     "iopub.status.idle": "2022-02-04T02:36:00.455130Z",
     "shell.execute_reply": "2022-02-04T02:36:00.455747Z",
     "shell.execute_reply.started": "2022-02-04T01:56:25.730483Z"
    },
    "papermill": {
     "duration": 0.040841,
     "end_time": "2022-02-04T02:36:00.455930",
     "exception": false,
     "start_time": "2022-02-04T02:36:00.415089",
     "status": "completed"
    },
    "tags": []
   },
   "outputs": [
    {
     "name": "stdout",
     "output_type": "stream",
     "text": [
      "Number of records:\t\t 6362620\n",
      "Number of features per record:\t 11\n"
     ]
    }
   ],
   "source": [
    "print(\"Number of records:\\t\\t\",data.shape[0])\n",
    "print(\"Number of features per record:\\t\",data.shape[1])"
   ]
  },
  {
   "cell_type": "code",
   "execution_count": 4,
   "metadata": {
    "execution": {
     "iopub.execute_input": "2022-02-04T02:36:00.522515Z",
     "iopub.status.busy": "2022-02-04T02:36:00.521747Z",
     "iopub.status.idle": "2022-02-04T02:36:02.670510Z",
     "shell.execute_reply": "2022-02-04T02:36:02.669354Z",
     "shell.execute_reply.started": "2022-02-04T01:56:26.263899Z"
    },
    "papermill": {
     "duration": 2.184979,
     "end_time": "2022-02-04T02:36:02.670742",
     "exception": false,
     "start_time": "2022-02-04T02:36:00.485763",
     "status": "completed"
    },
    "tags": []
   },
   "outputs": [
    {
     "name": "stdout",
     "output_type": "stream",
     "text": [
      "Any missing data? False\n"
     ]
    }
   ],
   "source": [
    "print(\"Any missing data?\",data.isnull().sum().any())"
   ]
  },
  {
   "cell_type": "code",
   "execution_count": 5,
   "metadata": {
    "execution": {
     "iopub.execute_input": "2022-02-04T02:36:02.744689Z",
     "iopub.status.busy": "2022-02-04T02:36:02.737525Z",
     "iopub.status.idle": "2022-02-04T02:36:02.929597Z",
     "shell.execute_reply": "2022-02-04T02:36:02.930123Z",
     "shell.execute_reply.started": "2022-02-04T01:56:27.154739Z"
    },
    "papermill": {
     "duration": 0.226516,
     "end_time": "2022-02-04T02:36:02.930335",
     "exception": false,
     "start_time": "2022-02-04T02:36:02.703819",
     "status": "completed"
    },
    "tags": []
   },
   "outputs": [
    {
     "name": "stdout",
     "output_type": "stream",
     "text": [
      "No of Valid transactions: 6354407 which is  99.87 %\n",
      "No of Fraud transactions: 8213 which is  0.13 %\n"
     ]
    },
    {
     "data": {
      "text/plain": [
       "0    6354407\n",
       "1       8213\n",
       "Name: isFraud, dtype: int64"
      ]
     },
     "execution_count": 5,
     "metadata": {},
     "output_type": "execute_result"
    }
   ],
   "source": [
    "#print(\"% of Valid transactions:\",round(data.isFraud.value_counts()[0]/data.shape[0] * 100,2))\n",
    "#print(\"% of Fraud transactions:\",round(data.isFraud.value_counts()[1]/data.shape[0] * 100,2))\n",
    "\n",
    "print(\"No of Valid transactions:\",data.isFraud.value_counts()[0],'which is ',round(data.isFraud.value_counts()[0]/data.shape[0] * 100,2),'%')\n",
    "print(\"No of Fraud transactions:\",data.isFraud.value_counts()[1],'which is ',round(data.isFraud.value_counts()[1]/data.shape[0] * 100,2),'%')\n",
    "\n",
    "data.isFraud.value_counts()"
   ]
  },
  {
   "cell_type": "code",
   "execution_count": 6,
   "metadata": {
    "execution": {
     "iopub.execute_input": "2022-02-04T02:36:03.031532Z",
     "iopub.status.busy": "2022-02-04T02:36:02.996473Z",
     "iopub.status.idle": "2022-02-04T02:36:03.072085Z",
     "shell.execute_reply": "2022-02-04T02:36:03.071513Z",
     "shell.execute_reply.started": "2022-02-04T01:56:27.343795Z"
    },
    "papermill": {
     "duration": 0.110251,
     "end_time": "2022-02-04T02:36:03.072241",
     "exception": false,
     "start_time": "2022-02-04T02:36:02.961990",
     "status": "completed"
    },
    "tags": []
   },
   "outputs": [
    {
     "name": "stdout",
     "output_type": "stream",
     "text": [
      "No of transactions Flagged as Valid: 6362604\n",
      "No of transactions Flagged as Fraud: 16\n"
     ]
    }
   ],
   "source": [
    "print(\"No of transactions Flagged as Valid:\",data.isFlaggedFraud.value_counts()[0])\n",
    "print(\"No of transactions Flagged as Fraud:\",data.isFlaggedFraud.value_counts()[1])"
   ]
  },
  {
   "cell_type": "code",
   "execution_count": 7,
   "metadata": {
    "execution": {
     "iopub.execute_input": "2022-02-04T02:36:03.149504Z",
     "iopub.status.busy": "2022-02-04T02:36:03.148373Z",
     "iopub.status.idle": "2022-02-04T02:36:03.281346Z",
     "shell.execute_reply": "2022-02-04T02:36:03.281851Z",
     "shell.execute_reply.started": "2022-02-04T01:56:27.848687Z"
    },
    "papermill": {
     "duration": 0.178942,
     "end_time": "2022-02-04T02:36:03.282060",
     "exception": false,
     "start_time": "2022-02-04T02:36:03.103118",
     "status": "completed"
    },
    "tags": []
   },
   "outputs": [
    {
     "name": "stdout",
     "output_type": "stream",
     "text": [
      "Are there any mismatch in the balance at origin and destination after transaction?\n",
      "Balance Error(%) at the origin: 85.09\n",
      "Balance Error(%) at the destination: 74.45\n"
     ]
    }
   ],
   "source": [
    "print(\"Are there any mismatch in the balance at origin and destination after transaction?\")\n",
    "data['error_orig'] = (data[\"oldbalanceOrg\"] - data[\"amount\"] != data[\"newbalanceOrig\"]).astype(int)\n",
    "data['error_dest'] = (data[\"oldbalanceDest\"] + data[\"amount\"] != data[\"newbalanceDest\"]).astype(int)\n",
    "\n",
    "print(\"Balance Error(%) at the origin:\",round(data['error_orig'].value_counts()[1]/data.shape[0] * 100,2))\n",
    "print(\"Balance Error(%) at the destination:\",round(data['error_dest'].value_counts()[1]/data.shape[0] * 100,2))\n",
    "\n",
    "#print(\"Valid Balance(%) at the origin:\",round(data['error_orig'].value_counts()[0]/data.shape[0] * 100,2))\n",
    "#print(\"Valid Balance(%) at the dest:\",round(data['error_dest'].value_counts()[0]/data.shape[0] * 100,2))"
   ]
  },
  {
   "cell_type": "markdown",
   "metadata": {
    "papermill": {
     "duration": 0.032413,
     "end_time": "2022-02-04T02:36:03.346124",
     "exception": false,
     "start_time": "2022-02-04T02:36:03.313711",
     "status": "completed"
    },
    "tags": []
   },
   "source": [
    "##### Appears the Fraud occurs both at sending and receiving ends"
   ]
  },
  {
   "cell_type": "code",
   "execution_count": 8,
   "metadata": {
    "execution": {
     "iopub.execute_input": "2022-02-04T02:36:03.422849Z",
     "iopub.status.busy": "2022-02-04T02:36:03.421759Z",
     "iopub.status.idle": "2022-02-04T02:36:03.660816Z",
     "shell.execute_reply": "2022-02-04T02:36:03.661395Z",
     "shell.execute_reply.started": "2022-02-04T01:57:01.810938Z"
    },
    "papermill": {
     "duration": 0.2835,
     "end_time": "2022-02-04T02:36:03.661578",
     "exception": false,
     "start_time": "2022-02-04T02:36:03.378078",
     "status": "completed"
    },
    "tags": []
   },
   "outputs": [
    {
     "name": "stdout",
     "output_type": "stream",
     "text": [
      "Any transaction with amount less than or equal to 0?\n",
      "16\n",
      "What type of transactions are they?\n",
      "CASH_OUT\n",
      "Are all these marked as Fraud Transactions?\n"
     ]
    },
    {
     "data": {
      "text/plain": [
       "True"
      ]
     },
     "execution_count": 8,
     "metadata": {},
     "output_type": "execute_result"
    }
   ],
   "source": [
    "print(\"Any transaction with amount less than or equal to 0?\")\n",
    "print(len(data[data.amount<=0]))\n",
    "print(\"What type of transactions are they?\")\n",
    "print(data[data.amount<=0]['type'].value_counts().index[0])\n",
    "print(\"Are all these marked as Fraud Transactions?\")\n",
    "data[data.amount<=0]['isFraud'].value_counts()[1] == len(data[data.amount<=0])"
   ]
  },
  {
   "cell_type": "code",
   "execution_count": 9,
   "metadata": {
    "execution": {
     "iopub.execute_input": "2022-02-04T02:36:03.739012Z",
     "iopub.status.busy": "2022-02-04T02:36:03.737839Z",
     "iopub.status.idle": "2022-02-04T02:36:03.749160Z",
     "shell.execute_reply": "2022-02-04T02:36:03.749685Z",
     "shell.execute_reply.started": "2022-02-04T01:57:03.105773Z"
    },
    "papermill": {
     "duration": 0.05548,
     "end_time": "2022-02-04T02:36:03.749861",
     "exception": false,
     "start_time": "2022-02-04T02:36:03.694381",
     "status": "completed"
    },
    "tags": []
   },
   "outputs": [
    {
     "name": "stdout",
     "output_type": "stream",
     "text": [
      "How many frauds transactions are Flagged?:\n",
      "\t 16\n",
      "What type of transactions are they?\n",
      "\t TRANSFER\n",
      "Are all these flagged also marked as Fraud Transactions?\n",
      "\t True\n",
      "Minumum amount transfered in these transactions\n",
      "\t 353874.22\n",
      "Maximum amount transfered in these transactions\n",
      "\t 10000000.0\n"
     ]
    }
   ],
   "source": [
    "data_temp = data[data.isFlaggedFraud==1]\n",
    "print(\"How many frauds transactions are Flagged?:\")\n",
    "print(\"\\t\",len(data_temp))\n",
    "\n",
    "print(\"What type of transactions are they?\")\n",
    "print(\"\\t\",data_temp['type'].value_counts().index[0])\n",
    "\n",
    "print(\"Are all these flagged also marked as Fraud Transactions?\")\n",
    "print(\"\\t\",data_temp['isFraud'].value_counts()[1] == len(data_temp))\n",
    "\n",
    "print(\"Minumum amount transfered in these transactions\")\n",
    "print(\"\\t\",data_temp.amount.min())\n",
    "\n",
    "print(\"Maximum amount transfered in these transactions\")\n",
    "print(\"\\t\",data_temp.amount.max())"
   ]
  },
  {
   "cell_type": "markdown",
   "metadata": {
    "papermill": {
     "duration": 0.034329,
     "end_time": "2022-02-04T02:36:03.817629",
     "exception": false,
     "start_time": "2022-02-04T02:36:03.783300",
     "status": "completed"
    },
    "tags": []
   },
   "source": [
    "### All the fraud trnasactions belong to Transfer or Cash-out type, so discard data corresponding to other types"
   ]
  },
  {
   "cell_type": "code",
   "execution_count": 10,
   "metadata": {
    "execution": {
     "iopub.execute_input": "2022-02-04T02:36:03.888556Z",
     "iopub.status.busy": "2022-02-04T02:36:03.887500Z",
     "iopub.status.idle": "2022-02-04T02:36:04.558742Z",
     "shell.execute_reply": "2022-02-04T02:36:04.559222Z",
     "shell.execute_reply.started": "2022-02-04T01:57:06.789526Z"
    },
    "papermill": {
     "duration": 0.708514,
     "end_time": "2022-02-04T02:36:04.559415",
     "exception": false,
     "start_time": "2022-02-04T02:36:03.850901",
     "status": "completed"
    },
    "tags": []
   },
   "outputs": [
    {
     "data": {
      "text/html": [
       "<div>\n",
       "<style scoped>\n",
       "    .dataframe tbody tr th:only-of-type {\n",
       "        vertical-align: middle;\n",
       "    }\n",
       "\n",
       "    .dataframe tbody tr th {\n",
       "        vertical-align: top;\n",
       "    }\n",
       "\n",
       "    .dataframe thead th {\n",
       "        text-align: right;\n",
       "    }\n",
       "</style>\n",
       "<table border=\"1\" class=\"dataframe\">\n",
       "  <thead>\n",
       "    <tr style=\"text-align: right;\">\n",
       "      <th></th>\n",
       "      <th>step</th>\n",
       "      <th>type</th>\n",
       "      <th>amount</th>\n",
       "      <th>nameOrig</th>\n",
       "      <th>oldbalanceOrg</th>\n",
       "      <th>newbalanceOrig</th>\n",
       "      <th>nameDest</th>\n",
       "      <th>oldbalanceDest</th>\n",
       "      <th>newbalanceDest</th>\n",
       "      <th>isFraud</th>\n",
       "      <th>isFlaggedFraud</th>\n",
       "      <th>error_orig</th>\n",
       "      <th>error_dest</th>\n",
       "    </tr>\n",
       "  </thead>\n",
       "  <tbody>\n",
       "    <tr>\n",
       "      <th>2</th>\n",
       "      <td>1</td>\n",
       "      <td>TRANSFER</td>\n",
       "      <td>181.00</td>\n",
       "      <td>C1305486145</td>\n",
       "      <td>181.0</td>\n",
       "      <td>0.0</td>\n",
       "      <td>C553264065</td>\n",
       "      <td>0.0</td>\n",
       "      <td>0.00</td>\n",
       "      <td>1</td>\n",
       "      <td>0</td>\n",
       "      <td>0</td>\n",
       "      <td>1</td>\n",
       "    </tr>\n",
       "    <tr>\n",
       "      <th>3</th>\n",
       "      <td>1</td>\n",
       "      <td>CASH_OUT</td>\n",
       "      <td>181.00</td>\n",
       "      <td>C840083671</td>\n",
       "      <td>181.0</td>\n",
       "      <td>0.0</td>\n",
       "      <td>C38997010</td>\n",
       "      <td>21182.0</td>\n",
       "      <td>0.00</td>\n",
       "      <td>1</td>\n",
       "      <td>0</td>\n",
       "      <td>0</td>\n",
       "      <td>1</td>\n",
       "    </tr>\n",
       "    <tr>\n",
       "      <th>15</th>\n",
       "      <td>1</td>\n",
       "      <td>CASH_OUT</td>\n",
       "      <td>229133.94</td>\n",
       "      <td>C905080434</td>\n",
       "      <td>15325.0</td>\n",
       "      <td>0.0</td>\n",
       "      <td>C476402209</td>\n",
       "      <td>5083.0</td>\n",
       "      <td>51513.44</td>\n",
       "      <td>0</td>\n",
       "      <td>0</td>\n",
       "      <td>1</td>\n",
       "      <td>1</td>\n",
       "    </tr>\n",
       "    <tr>\n",
       "      <th>19</th>\n",
       "      <td>1</td>\n",
       "      <td>TRANSFER</td>\n",
       "      <td>215310.30</td>\n",
       "      <td>C1670993182</td>\n",
       "      <td>705.0</td>\n",
       "      <td>0.0</td>\n",
       "      <td>C1100439041</td>\n",
       "      <td>22425.0</td>\n",
       "      <td>0.00</td>\n",
       "      <td>0</td>\n",
       "      <td>0</td>\n",
       "      <td>1</td>\n",
       "      <td>1</td>\n",
       "    </tr>\n",
       "    <tr>\n",
       "      <th>24</th>\n",
       "      <td>1</td>\n",
       "      <td>TRANSFER</td>\n",
       "      <td>311685.89</td>\n",
       "      <td>C1984094095</td>\n",
       "      <td>10835.0</td>\n",
       "      <td>0.0</td>\n",
       "      <td>C932583850</td>\n",
       "      <td>6267.0</td>\n",
       "      <td>2719172.89</td>\n",
       "      <td>0</td>\n",
       "      <td>0</td>\n",
       "      <td>1</td>\n",
       "      <td>1</td>\n",
       "    </tr>\n",
       "  </tbody>\n",
       "</table>\n",
       "</div>"
      ],
      "text/plain": [
       "    step      type     amount     nameOrig  oldbalanceOrg  newbalanceOrig  \\\n",
       "2      1  TRANSFER     181.00  C1305486145          181.0             0.0   \n",
       "3      1  CASH_OUT     181.00   C840083671          181.0             0.0   \n",
       "15     1  CASH_OUT  229133.94   C905080434        15325.0             0.0   \n",
       "19     1  TRANSFER  215310.30  C1670993182          705.0             0.0   \n",
       "24     1  TRANSFER  311685.89  C1984094095        10835.0             0.0   \n",
       "\n",
       "       nameDest  oldbalanceDest  newbalanceDest  isFraud  isFlaggedFraud  \\\n",
       "2    C553264065             0.0            0.00        1               0   \n",
       "3     C38997010         21182.0            0.00        1               0   \n",
       "15   C476402209          5083.0        51513.44        0               0   \n",
       "19  C1100439041         22425.0            0.00        0               0   \n",
       "24   C932583850          6267.0      2719172.89        0               0   \n",
       "\n",
       "    error_orig  error_dest  \n",
       "2            0           1  \n",
       "3            0           1  \n",
       "15           1           1  \n",
       "19           1           1  \n",
       "24           1           1  "
      ]
     },
     "execution_count": 10,
     "metadata": {},
     "output_type": "execute_result"
    }
   ],
   "source": [
    "data = data.loc[(data['type'].isin(['TRANSFER', 'CASH_OUT']))]\n",
    "data.head()"
   ]
  },
  {
   "cell_type": "markdown",
   "metadata": {
    "papermill": {
     "duration": 0.033855,
     "end_time": "2022-02-04T02:36:04.627388",
     "exception": false,
     "start_time": "2022-02-04T02:36:04.593533",
     "status": "completed"
    },
    "tags": []
   },
   "source": [
    "## Data Visualization"
   ]
  },
  {
   "cell_type": "code",
   "execution_count": 11,
   "metadata": {
    "execution": {
     "iopub.execute_input": "2022-02-04T02:36:04.700521Z",
     "iopub.status.busy": "2022-02-04T02:36:04.699465Z",
     "iopub.status.idle": "2022-02-04T02:36:05.755507Z",
     "shell.execute_reply": "2022-02-04T02:36:05.756272Z",
     "shell.execute_reply.started": "2022-02-04T01:57:10.122144Z"
    },
    "papermill": {
     "duration": 1.095071,
     "end_time": "2022-02-04T02:36:05.756475",
     "exception": false,
     "start_time": "2022-02-04T02:36:04.661404",
     "status": "completed"
    },
    "tags": []
   },
   "outputs": [
    {
     "data": {
      "image/png": "[encoded data removed]",
      "text/plain": [
       "<Figure size 720x576 with 1 Axes>"
      ]
     },
     "metadata": {},
     "output_type": "display_data"
    }
   ],
   "source": [
    "#create pie chart\n",
    "plt.figure(figsize=(10,8))\n",
    "plt.pie(data.type.value_counts().values,labels=data.type.value_counts().index,  autopct='%.0f%%')\n",
    "plt.title(\"Transaction Type\")\n",
    "plt.show()"
   ]
  },
  {
   "cell_type": "code",
   "execution_count": 12,
   "metadata": {
    "execution": {
     "iopub.execute_input": "2022-02-04T02:36:05.875991Z",
     "iopub.status.busy": "2022-02-04T02:36:05.875230Z",
     "iopub.status.idle": "2022-02-04T02:36:06.183620Z",
     "shell.execute_reply": "2022-02-04T02:36:06.184196Z",
     "shell.execute_reply.started": "2022-02-04T01:59:41.154013Z"
    },
    "papermill": {
     "duration": 0.392693,
     "end_time": "2022-02-04T02:36:06.184390",
     "exception": false,
     "start_time": "2022-02-04T02:36:05.791697",
     "status": "completed"
    },
    "tags": []
   },
   "outputs": [
    {
     "data": {
      "image/png": "[encoded data removed]",
      "text/plain": [
       "<Figure size 720x576 with 1 Axes>"
      ]
     },
     "metadata": {
      "needs_background": "light"
     },
     "output_type": "display_data"
    }
   ],
   "source": [
    "d = data.groupby('type')['amount'].sum()\n",
    "plt.figure(figsize=(10,8))\n",
    "ax = sns.barplot(x=d.index,y=d.values)\n",
    "for p in ax.patches:\n",
    "    ax.annotate(str(format(int(p.get_height()), ',d')), (p.get_x()+0.24, p.get_height()*1.01))\n",
    "    \n",
    "plt.title(\"Total amount in each transaction type\")\n",
    "plt.yticks([])\n",
    "plt.xlabel(\"Transaction Type\")\n",
    "plt.show()"
   ]
  },
  {
   "cell_type": "code",
   "execution_count": 13,
   "metadata": {
    "execution": {
     "iopub.execute_input": "2022-02-04T02:36:06.266136Z",
     "iopub.status.busy": "2022-02-04T02:36:06.260044Z",
     "iopub.status.idle": "2022-02-04T02:36:06.755485Z",
     "shell.execute_reply": "2022-02-04T02:36:06.755936Z",
     "shell.execute_reply.started": "2022-02-04T02:00:20.630007Z"
    },
    "papermill": {
     "duration": 0.53545,
     "end_time": "2022-02-04T02:36:06.756165",
     "exception": false,
     "start_time": "2022-02-04T02:36:06.220715",
     "status": "completed"
    },
    "tags": []
   },
   "outputs": [
    {
     "data": {
      "image/png": "[encoded data removed]",
      "text/plain": [
       "<Figure size 720x576 with 1 Axes>"
      ]
     },
     "metadata": {
      "needs_background": "light"
     },
     "output_type": "display_data"
    }
   ],
   "source": [
    "plt.figure(figsize=(10,8))\n",
    "ax = data.groupby(['type','isFraud']).size().plot(kind='bar')\n",
    "\n",
    "for p in ax.patches:\n",
    "    ax.annotate(str(format(int(p.get_height()), ',d')), (p.get_x(), p.get_height()*1.01))\n",
    "plt.title(\"Fradulent Transactions\")\n",
    "plt.xlabel(\"Transaction Type\")\n",
    "plt.yticks([])\n",
    "#plt.xticks([' Valid CashOut','Fraud CashOut','Valid Transfer','Fraud Transfer'])\n",
    "plt.xticks(rotation=45)\n",
    "plt.show()"
   ]
  },
  {
   "cell_type": "markdown",
   "metadata": {
    "execution": {
     "iopub.execute_input": "2022-02-04T01:01:56.191149Z",
     "iopub.status.busy": "2022-02-04T01:01:56.190424Z",
     "iopub.status.idle": "2022-02-04T01:01:56.195623Z",
     "shell.execute_reply": "2022-02-04T01:01:56.194979Z",
     "shell.execute_reply.started": "2022-02-04T01:01:56.191103Z"
    },
    "papermill": {
     "duration": 0.037572,
     "end_time": "2022-02-04T02:36:06.831044",
     "exception": false,
     "start_time": "2022-02-04T02:36:06.793472",
     "status": "completed"
    },
    "tags": []
   },
   "source": [
    "#### Delete unwanted features (Remove isFlaggedFraud and keep isFraud as target feature)"
   ]
  },
  {
   "cell_type": "code",
   "execution_count": 14,
   "metadata": {
    "execution": {
     "iopub.execute_input": "2022-02-04T02:36:06.910585Z",
     "iopub.status.busy": "2022-02-04T02:36:06.909850Z",
     "iopub.status.idle": "2022-02-04T02:36:06.967694Z",
     "shell.execute_reply": "2022-02-04T02:36:06.968353Z",
     "shell.execute_reply.started": "2022-02-04T02:00:34.153197Z"
    },
    "papermill": {
     "duration": 0.100418,
     "end_time": "2022-02-04T02:36:06.968537",
     "exception": false,
     "start_time": "2022-02-04T02:36:06.868119",
     "status": "completed"
    },
    "tags": []
   },
   "outputs": [
    {
     "data": {
      "text/html": [
       "<div>\n",
       "<style scoped>\n",
       "    .dataframe tbody tr th:only-of-type {\n",
       "        vertical-align: middle;\n",
       "    }\n",
       "\n",
       "    .dataframe tbody tr th {\n",
       "        vertical-align: top;\n",
       "    }\n",
       "\n",
       "    .dataframe thead th {\n",
       "        text-align: right;\n",
       "    }\n",
       "</style>\n",
       "<table border=\"1\" class=\"dataframe\">\n",
       "  <thead>\n",
       "    <tr style=\"text-align: right;\">\n",
       "      <th></th>\n",
       "      <th>amount</th>\n",
       "      <th>oldbalanceOrg</th>\n",
       "      <th>newbalanceOrig</th>\n",
       "      <th>oldbalanceDest</th>\n",
       "      <th>newbalanceDest</th>\n",
       "      <th>isFraud</th>\n",
       "    </tr>\n",
       "  </thead>\n",
       "  <tbody>\n",
       "    <tr>\n",
       "      <th>2</th>\n",
       "      <td>181.00</td>\n",
       "      <td>181.0</td>\n",
       "      <td>0.0</td>\n",
       "      <td>0.0</td>\n",
       "      <td>0.00</td>\n",
       "      <td>1</td>\n",
       "    </tr>\n",
       "    <tr>\n",
       "      <th>3</th>\n",
       "      <td>181.00</td>\n",
       "      <td>181.0</td>\n",
       "      <td>0.0</td>\n",
       "      <td>21182.0</td>\n",
       "      <td>0.00</td>\n",
       "      <td>1</td>\n",
       "    </tr>\n",
       "    <tr>\n",
       "      <th>15</th>\n",
       "      <td>229133.94</td>\n",
       "      <td>15325.0</td>\n",
       "      <td>0.0</td>\n",
       "      <td>5083.0</td>\n",
       "      <td>51513.44</td>\n",
       "      <td>0</td>\n",
       "    </tr>\n",
       "    <tr>\n",
       "      <th>19</th>\n",
       "      <td>215310.30</td>\n",
       "      <td>705.0</td>\n",
       "      <td>0.0</td>\n",
       "      <td>22425.0</td>\n",
       "      <td>0.00</td>\n",
       "      <td>0</td>\n",
       "    </tr>\n",
       "    <tr>\n",
       "      <th>24</th>\n",
       "      <td>311685.89</td>\n",
       "      <td>10835.0</td>\n",
       "      <td>0.0</td>\n",
       "      <td>6267.0</td>\n",
       "      <td>2719172.89</td>\n",
       "      <td>0</td>\n",
       "    </tr>\n",
       "  </tbody>\n",
       "</table>\n",
       "</div>"
      ],
      "text/plain": [
       "       amount  oldbalanceOrg  newbalanceOrig  oldbalanceDest  newbalanceDest  \\\n",
       "2      181.00          181.0             0.0             0.0            0.00   \n",
       "3      181.00          181.0             0.0         21182.0            0.00   \n",
       "15  229133.94        15325.0             0.0          5083.0        51513.44   \n",
       "19  215310.30          705.0             0.0         22425.0            0.00   \n",
       "24  311685.89        10835.0             0.0          6267.0      2719172.89   \n",
       "\n",
       "    isFraud  \n",
       "2         1  \n",
       "3         1  \n",
       "15        0  \n",
       "19        0  \n",
       "24        0  "
      ]
     },
     "execution_count": 14,
     "metadata": {},
     "output_type": "execute_result"
    }
   ],
   "source": [
    "data.drop(['step','type','nameOrig','nameDest','error_orig','error_dest','isFlaggedFraud'],axis=1,inplace=True)\n",
    "data.head()"
   ]
  },
  {
   "cell_type": "markdown",
   "metadata": {
    "papermill": {
     "duration": 0.037657,
     "end_time": "2022-02-04T02:36:07.050095",
     "exception": false,
     "start_time": "2022-02-04T02:36:07.012438",
     "status": "completed"
    },
    "tags": []
   },
   "source": [
    "#### Standardizing all the continuous values to be between 0 and 1"
   ]
  },
  {
   "cell_type": "code",
   "execution_count": 15,
   "metadata": {
    "execution": {
     "iopub.execute_input": "2022-02-04T02:36:07.129498Z",
     "iopub.status.busy": "2022-02-04T02:36:07.128777Z",
     "iopub.status.idle": "2022-02-04T02:36:07.495776Z",
     "shell.execute_reply": "2022-02-04T02:36:07.496422Z",
     "shell.execute_reply.started": "2022-02-04T02:00:38.745969Z"
    },
    "papermill": {
     "duration": 0.408808,
     "end_time": "2022-02-04T02:36:07.496612",
     "exception": false,
     "start_time": "2022-02-04T02:36:07.087804",
     "status": "completed"
    },
    "tags": []
   },
   "outputs": [],
   "source": [
    "ss = StandardScaler()\n",
    "\n",
    "data.amount         = ss.fit_transform(data[['amount']])\n",
    "data.oldbalanceOrg  = ss.fit_transform(data[['oldbalanceOrg']])\n",
    "data.oldbalanceDest = ss.fit_transform(data[['oldbalanceDest']])\n",
    "data.newbalanceOrig = ss.fit_transform(data[['newbalanceOrig']])\n",
    "data.newbalanceDest = ss.fit_transform(data[['newbalanceDest']])"
   ]
  },
  {
   "cell_type": "code",
   "execution_count": 16,
   "metadata": {
    "execution": {
     "iopub.execute_input": "2022-02-04T02:36:07.576546Z",
     "iopub.status.busy": "2022-02-04T02:36:07.575797Z",
     "iopub.status.idle": "2022-02-04T02:36:09.334445Z",
     "shell.execute_reply": "2022-02-04T02:36:09.334976Z",
     "shell.execute_reply.started": "2022-02-04T02:00:41.312266Z"
    },
    "papermill": {
     "duration": 1.799809,
     "end_time": "2022-02-04T02:36:09.335219",
     "exception": false,
     "start_time": "2022-02-04T02:36:07.535410",
     "status": "completed"
    },
    "tags": []
   },
   "outputs": [
    {
     "data": {
      "text/plain": [
       "((2077806, 5), (692603, 5), (2077806,), (692603,))"
      ]
     },
     "execution_count": 16,
     "metadata": {},
     "output_type": "execute_result"
    }
   ],
   "source": [
    "X = data.drop([\"isFraud\"],axis=1)\n",
    "y = data.isFraud\n",
    "X_train, X_test, y_train, y_test = train_test_split(X, y,stratify=y)\n",
    "X_train.shape, X_test.shape, y_train.shape, y_test.shape"
   ]
  },
  {
   "cell_type": "code",
   "execution_count": 17,
   "metadata": {
    "execution": {
     "iopub.execute_input": "2022-02-04T02:36:09.416199Z",
     "iopub.status.busy": "2022-02-04T02:36:09.415490Z",
     "iopub.status.idle": "2022-02-04T02:36:09.421402Z",
     "shell.execute_reply": "2022-02-04T02:36:09.421895Z",
     "shell.execute_reply.started": "2022-02-04T02:00:44.425599Z"
    },
    "papermill": {
     "duration": 0.047611,
     "end_time": "2022-02-04T02:36:09.422096",
     "exception": false,
     "start_time": "2022-02-04T02:36:09.374485",
     "status": "completed"
    },
    "tags": []
   },
   "outputs": [],
   "source": [
    "# Function to create a confusion matrix \n",
    "def conf_matrix(y_test, pred_test):    \n",
    "    \n",
    "    # Creating a confusion matrix\n",
    "    con_mat = confusion_matrix(y_test, pred_test)\n",
    "    con_mat = pd.DataFrame(con_mat, range(2), range(2))\n",
    "   \n",
    "    #Ploting the confusion matrix\n",
    "    \n",
    "    plt.figure(figsize=(6,6))\n",
    "    plt.title(\"Confusion Matrix\")\n",
    "    sns.set(font_scale=1.5) \n",
    "    sns.heatmap(con_mat, annot=True, annot_kws={\"size\": 16}, fmt='g', cmap='Blues', cbar=False)\n",
    "    "
   ]
  },
  {
   "cell_type": "code",
   "execution_count": 18,
   "metadata": {
    "execution": {
     "iopub.execute_input": "2022-02-04T02:36:09.506983Z",
     "iopub.status.busy": "2022-02-04T02:36:09.506172Z",
     "iopub.status.idle": "2022-02-04T02:36:30.719846Z",
     "shell.execute_reply": "2022-02-04T02:36:30.719203Z",
     "shell.execute_reply.started": "2022-02-04T02:01:43.018445Z"
    },
    "papermill": {
     "duration": 21.25979,
     "end_time": "2022-02-04T02:36:30.720022",
     "exception": false,
     "start_time": "2022-02-04T02:36:09.460232",
     "status": "completed"
    },
    "tags": []
   },
   "outputs": [
    {
     "name": "stdout",
     "output_type": "stream",
     "text": [
      "How many class does the model predict? [0 1]\n",
      "Numbers in each class:\t\t 0 : 691623\n",
      "\t\t 1 : 980\n",
      "f1 score: 0.5954500494559841\n",
      "Accuracy of this model: 0.9982284223429584\n"
     ]
    },
    {
     "data": {
      "image/png": "[encoded data removed]",
      "text/plain": [
       "<Figure size 432x432 with 1 Axes>"
      ]
     },
     "metadata": {
      "needs_background": "light"
     },
     "output_type": "display_data"
    }
   ],
   "source": [
    "lr = LogisticRegression(solver='newton-cg')\n",
    "lr.fit(X_train, y_train)\n",
    "\n",
    "lr_pred = lr.predict(X_test)\n",
    "\n",
    "print(\"How many class does the model predict?\",np.unique( lr_pred ))\n",
    "print(\"Numbers in each class:\\t\\t\",\"0 :\",len(lr_pred[lr_pred==0]))\n",
    "print(\"\\t\\t 1 :\",len(lr_pred[lr_pred==1]))\n",
    "\n",
    "f1score = f1_score(y_test, lr_pred)\n",
    "print('f1 score:', f1score)\n",
    "\n",
    "conf_matrix(y_test, lr_pred)\n",
    " \n",
    "acc_lr= accuracy_score(y_test, lr_pred)\n",
    "print(\"Accuracy of this model:\", acc_lr)"
   ]
  },
  {
   "cell_type": "markdown",
   "metadata": {
    "papermill": {
     "duration": 0.038918,
     "end_time": "2022-02-04T02:36:30.798065",
     "exception": false,
     "start_time": "2022-02-04T02:36:30.759147",
     "status": "completed"
    },
    "tags": []
   },
   "source": [
    "## Since the dataset extremely imbalanced, some workaround can be done to overcome this. Below are all the methods listed"
   ]
  },
  {
   "cell_type": "markdown",
   "metadata": {
    "papermill": {
     "duration": 0.038911,
     "end_time": "2022-02-04T02:36:30.876161",
     "exception": false,
     "start_time": "2022-02-04T02:36:30.837250",
     "status": "completed"
    },
    "tags": []
   },
   "source": [
    "# 1. Up-sample Minority Class\n",
    "    Randomly duplicate the data from the minority class."
   ]
  },
  {
   "cell_type": "code",
   "execution_count": 19,
   "metadata": {
    "execution": {
     "iopub.execute_input": "2022-02-04T02:36:30.958225Z",
     "iopub.status.busy": "2022-02-04T02:36:30.956802Z",
     "iopub.status.idle": "2022-02-04T02:36:31.401001Z",
     "shell.execute_reply": "2022-02-04T02:36:31.400451Z",
     "shell.execute_reply.started": "2022-02-04T02:02:23.567362Z"
    },
    "papermill": {
     "duration": 0.486125,
     "end_time": "2022-02-04T02:36:31.401142",
     "exception": false,
     "start_time": "2022-02-04T02:36:30.915017",
     "status": "completed"
    },
    "tags": []
   },
   "outputs": [
    {
     "name": "stdout",
     "output_type": "stream",
     "text": [
      "The new class count are :\n"
     ]
    },
    {
     "data": {
      "text/plain": [
       "0    2762196\n",
       "1    2762196\n",
       "Name: isFraud, dtype: int64"
      ]
     },
     "execution_count": 19,
     "metadata": {},
     "output_type": "execute_result"
    }
   ],
   "source": [
    "n = data.isFraud.value_counts()[0]\n",
    "\n",
    "# Separate majority and minority classes\n",
    "df_majority = data[data.isFraud==0]\n",
    "df_minority = data[data.isFraud==1]\n",
    "\n",
    "# Upsample minority class\n",
    "df_minority_upsampled = resample(df_minority, \n",
    "                                 replace=True,     # sample with replacement\n",
    "                                 n_samples=n,    # to match majority class\n",
    "                                 random_state=123) # reproducible results\n",
    " \n",
    "# Combine majority class with upsampled minority class\n",
    "df_upsampled = pd.concat([df_majority, df_minority_upsampled])\n",
    " \n",
    "print(\"The new class count are :\")\n",
    "df_upsampled.isFraud.value_counts()"
   ]
  },
  {
   "cell_type": "code",
   "execution_count": 20,
   "metadata": {
    "execution": {
     "iopub.execute_input": "2022-02-04T02:36:31.484004Z",
     "iopub.status.busy": "2022-02-04T02:36:31.483264Z",
     "iopub.status.idle": "2022-02-04T02:37:51.798599Z",
     "shell.execute_reply": "2022-02-04T02:37:51.797938Z",
     "shell.execute_reply.started": "2022-02-04T02:33:20.016976Z"
    },
    "papermill": {
     "duration": 80.358078,
     "end_time": "2022-02-04T02:37:51.798783",
     "exception": false,
     "start_time": "2022-02-04T02:36:31.440705",
     "status": "completed"
    },
    "tags": []
   },
   "outputs": [
    {
     "name": "stdout",
     "output_type": "stream",
     "text": [
      "f1 score for the testing data:\t 0.8971841120670441\n",
      "Accuracy of thie model:\t\t 0.900473391460997\n"
     ]
    },
    {
     "data": {
      "image/png": "[encoded data removed]",
      "text/plain": [
       "<Figure size 432x432 with 1 Axes>"
      ]
     },
     "metadata": {},
     "output_type": "display_data"
    }
   ],
   "source": [
    "X = df_upsampled.drop([\"isFraud\"],axis = 1)\n",
    "y = df_upsampled.isFraud\n",
    "X_train, X_test, y_train, y_test = train_test_split(X, y)\n",
    "\n",
    "lr = LogisticRegression(solver='newton-cg')\n",
    "lr.fit(X_train, y_train)\n",
    "\n",
    "# Predicting on the test data\n",
    "up_scale_pred = lr.predict(X_test)\n",
    "\n",
    "#Calculating and printing the f1 score \n",
    "f1up_scale_pred = f1_score(y_test, up_scale_pred)\n",
    "print('f1 score for the testing data:\\t', f1up_scale_pred)\n",
    "\n",
    "#Calling function \n",
    "conf_matrix(y_test,up_scale_pred)\n",
    "\n",
    "acc_up_scale=accuracy_score(y_test, up_scale_pred)\n",
    "print(\"Accuracy of thie model:\\t\\t\",acc_up_scale)\n"
   ]
  },
  {
   "cell_type": "markdown",
   "metadata": {
    "papermill": {
     "duration": 0.043026,
     "end_time": "2022-02-04T02:37:51.884436",
     "exception": false,
     "start_time": "2022-02-04T02:37:51.841410",
     "status": "completed"
    },
    "tags": []
   },
   "source": [
    "# 2. Down-sample Majority Class\n",
    "     Randomly remove data from the majority class"
   ]
  },
  {
   "cell_type": "code",
   "execution_count": 21,
   "metadata": {
    "execution": {
     "iopub.execute_input": "2022-02-04T02:37:51.990172Z",
     "iopub.status.busy": "2022-02-04T02:37:51.989024Z",
     "iopub.status.idle": "2022-02-04T02:37:52.220635Z",
     "shell.execute_reply": "2022-02-04T02:37:52.221504Z",
     "shell.execute_reply.started": "2022-02-04T02:03:27.173127Z"
    },
    "papermill": {
     "duration": 0.295352,
     "end_time": "2022-02-04T02:37:52.221764",
     "exception": false,
     "start_time": "2022-02-04T02:37:51.926412",
     "status": "completed"
    },
    "tags": []
   },
   "outputs": [
    {
     "name": "stdout",
     "output_type": "stream",
     "text": [
      "The new class count are:\n",
      "0    8213\n",
      "1    8213\n",
      "Name: isFraud, dtype: int64\n"
     ]
    }
   ],
   "source": [
    "n = data.isFraud.value_counts()[1]\n",
    "\n",
    "# Separate majority and minority classes\n",
    "\n",
    "df_majority = data[data.isFraud==0]\n",
    "df_minority = data[data.isFraud==1]\n",
    "\n",
    " \n",
    "# Downsample majority class\n",
    "df_majority_downsampled = resample(df_majority, \n",
    "                                 replace=False,    # sample without replacement\n",
    "                                 n_samples=n,     # to match minority class\n",
    "                                 random_state=123) # reproducible results\n",
    " \n",
    "# Combine minority class with downsampled majority class\n",
    "df_downsampled = pd.concat([df_majority_downsampled, df_minority])\n",
    " \n",
    "print(\"The new class count are:\")\n",
    "print(df_downsampled.isFraud.value_counts())"
   ]
  },
  {
   "cell_type": "code",
   "execution_count": 22,
   "metadata": {
    "execution": {
     "iopub.execute_input": "2022-02-04T02:37:52.320637Z",
     "iopub.status.busy": "2022-02-04T02:37:52.319832Z",
     "iopub.status.idle": "2022-02-04T02:37:52.603662Z",
     "shell.execute_reply": "2022-02-04T02:37:52.604675Z",
     "shell.execute_reply.started": "2022-02-04T02:32:45.536006Z"
    },
    "papermill": {
     "duration": 0.339883,
     "end_time": "2022-02-04T02:37:52.605000",
     "exception": false,
     "start_time": "2022-02-04T02:37:52.265117",
     "status": "completed"
    },
    "tags": []
   },
   "outputs": [
    {
     "name": "stdout",
     "output_type": "stream",
     "text": [
      "How many class does the model predict? [0 1]\n",
      "Count in each class:\t\t\t 0 : 8918\n",
      "\t\t\t\t\t 1 : 7508\n",
      "f1 score for the testing data:\t\t 0.8760256981108073\n",
      "Accuracy of the model:\t\t\t 0.881346645561914\n"
     ]
    },
    {
     "data": {
      "image/png": "[encoded data removed]",
      "text/plain": [
       "<Figure size 432x432 with 1 Axes>"
      ]
     },
     "metadata": {},
     "output_type": "display_data"
    }
   ],
   "source": [
    "# Separate input features (X) and target variable (y)\n",
    "y = df_downsampled.isFraud\n",
    "X = df_downsampled.drop(['isFraud'], axis=1)\n",
    " \n",
    "# Train model\n",
    "lr = LogisticRegression().fit(X, y)\n",
    " \n",
    "# Predict on training set\n",
    "down_scale_pred = lr.predict(X)\n",
    " \n",
    "print(\"How many class does the model predict?\",np.unique( down_scale_pred ))\n",
    "print(\"Count in each class:\\t\\t\\t\",\"0 :\",len(down_scale_pred[down_scale_pred==0]))\n",
    "print(\"\\t\\t\\t\\t\\t 1 :\",len(down_scale_pred[down_scale_pred==1]))\n",
    "\n",
    "#Calculating and printing the f1 score \n",
    "f1down_scale_pred = f1_score(y, down_scale_pred)\n",
    "print('f1 score for the testing data:\\t\\t', f1down_scale_pred)\n",
    "\n",
    "conf_matrix(y, down_scale_pred)\n",
    "      \n",
    "acc_down_scale=accuracy_score(y, down_scale_pred) \n",
    "print(\"Accuracy of the model:\\t\\t\\t\", acc_down_scale)\n"
   ]
  },
  {
   "cell_type": "markdown",
   "metadata": {
    "papermill": {
     "duration": 0.043746,
     "end_time": "2022-02-04T02:37:52.694034",
     "exception": false,
     "start_time": "2022-02-04T02:37:52.650288",
     "status": "completed"
    },
    "tags": []
   },
   "source": [
    "# 3. Tree-Based Algorithms"
   ]
  },
  {
   "cell_type": "code",
   "execution_count": 23,
   "metadata": {
    "execution": {
     "iopub.execute_input": "2022-02-04T02:37:52.786396Z",
     "iopub.status.busy": "2022-02-04T02:37:52.785677Z",
     "iopub.status.idle": "2022-02-04T02:52:58.007681Z",
     "shell.execute_reply": "2022-02-04T02:52:58.006610Z",
     "shell.execute_reply.started": "2022-02-04T02:04:21.771754Z"
    },
    "papermill": {
     "duration": 905.268159,
     "end_time": "2022-02-04T02:52:58.008053",
     "exception": false,
     "start_time": "2022-02-04T02:37:52.739894",
     "status": "completed"
    },
    "tags": []
   },
   "outputs": [],
   "source": [
    "# Separate input features (X) and target variable (y)\n",
    "y = data.isFraud\n",
    "X = data.drop(['isFraud'], axis=1)\n",
    "\n",
    "X_train, X_test, y_train, y_test = train_test_split(X, y)\n",
    "\n",
    "# Train model\n",
    "rfc = RandomForestClassifier()\n",
    "rfc.fit(X_train, y_train)\n",
    "# Predict on training set\n",
    "rfc_pred = rfc.predict(X_test)"
   ]
  },
  {
   "cell_type": "code",
   "execution_count": 24,
   "metadata": {
    "execution": {
     "iopub.execute_input": "2022-02-04T02:52:58.110921Z",
     "iopub.status.busy": "2022-02-04T02:52:58.110141Z",
     "iopub.status.idle": "2022-02-04T02:53:07.591586Z",
     "shell.execute_reply": "2022-02-04T02:53:07.591004Z",
     "shell.execute_reply.started": "2022-02-04T02:30:16.166769Z"
    },
    "papermill": {
     "duration": 9.534541,
     "end_time": "2022-02-04T02:53:07.591742",
     "exception": false,
     "start_time": "2022-02-04T02:52:58.057201",
     "status": "completed"
    },
    "tags": []
   },
   "outputs": [
    {
     "name": "stdout",
     "output_type": "stream",
     "text": [
      "AUROC:\t\t\t 0.9943859119226593\n",
      "f1 score:\t\t 0.8565400843881856\n",
      "Accuracy of the model:\t 0.9992145572571878\n"
     ]
    },
    {
     "data": {
      "image/png": "[encoded data removed]",
      "text/plain": [
       "<Figure size 432x432 with 1 Axes>"
      ]
     },
     "metadata": {},
     "output_type": "display_data"
    }
   ],
   "source": [
    "\n",
    "prob_y = rfc.predict_proba(X_test)\n",
    "prob_y = [p[1] for p in prob_y]\n",
    "\n",
    "print(\"AUROC:\\t\\t\\t\",roc_auc_score(y_test, prob_y))\n",
    "\n",
    "f1_rfc = f1_score(y_test, rfc_pred)\n",
    "print('f1 score:\\t\\t', f1_rfc)\n",
    "\n",
    "conf_matrix(y_test, rfc_pred)\n",
    "\n",
    "acc_rfc=accuracy_score(y_test, rfc_pred) \n",
    "print(\"Accuracy of the model:\\t\", acc_rfc)\n"
   ]
  },
  {
   "cell_type": "code",
   "execution_count": 25,
   "metadata": {
    "execution": {
     "iopub.execute_input": "2022-02-04T02:53:07.691620Z",
     "iopub.status.busy": "2022-02-04T02:53:07.690635Z",
     "iopub.status.idle": "2022-02-04T02:53:07.694117Z",
     "shell.execute_reply": "2022-02-04T02:53:07.694639Z",
     "shell.execute_reply.started": "2022-02-04T02:27:48.732723Z"
    },
    "papermill": {
     "duration": 0.058696,
     "end_time": "2022-02-04T02:53:07.694817",
     "exception": false,
     "start_time": "2022-02-04T02:53:07.636121",
     "status": "completed"
    },
    "tags": []
   },
   "outputs": [
    {
     "name": "stdout",
     "output_type": "stream",
     "text": [
      "                           Model  f1 score  Accuracy Score\n",
      "0            Logistic Regression  0.595450        0.998228\n",
      "1    UpScale Logistic Regression  0.897184        0.900473\n",
      "2  DownScale Logistic Regression  0.876026        0.881347\n",
      "3                   RandomForest  0.856540        0.999215\n"
     ]
    }
   ],
   "source": [
    "data = {'Model':['Logistic Regression','UpScale Logistic Regression','DownScale Logistic Regression','RandomForest'],\n",
    "        'f1 score':[f1score,f1up_scale_pred,f1down_scale_pred,f1_rfc],\n",
    "        'Accuracy Score':[acc_lr,acc_up_scale,acc_down_scale,acc_rfc]}\n",
    "\n",
    "comparision_table=pd.DataFrame(data)                               \n",
    "print(comparision_table)"
   ]
  },
  {
   "cell_type": "code",
   "execution_count": null,
   "metadata": {
    "papermill": {
     "duration": 0.044386,
     "end_time": "2022-02-04T02:53:07.786897",
     "exception": false,
     "start_time": "2022-02-04T02:53:07.742511",
     "status": "completed"
    },
    "tags": []
   },
   "outputs": [],
   "source": []
  }
 ],
 "metadata": {
  "kernelspec": {
   "display_name": "Python 3",
   "language": "python",
   "name": "python3"
  },
  "language_info": {
   "codemirror_mode": {
    "name": "ipython",
    "version": 3
   },
   "file_extension": ".py",
   "mimetype": "text/x-python",
   "name": "python",
   "nbconvert_exporter": "python",
   "pygments_lexer": "ipython3",
   "version": "3.8.3"
  },
  "papermill": {
   "default_parameters": {},
   "duration": 1062.381226,
   "end_time": "2022-02-04T02:53:09.750763",
   "environment_variables": {},
   "exception": null,
   "input_path": "__notebook__.ipynb",
   "output_path": "__notebook__.ipynb",
   "parameters": {},
   "start_time": "2022-02-04T02:35:27.369537",
   "version": "2.3.3"
  }
 },
 "nbformat": 4,
 "nbformat_minor": 5
}
