{
 "cells": [
  {
   "cell_type": "code",
   "execution_count": 1,
   "metadata": {
    "_cell_guid": "b1076dfc-b9ad-4769-8c92-a6c4dae69d19",
    "_uuid": "8f2839f25d086af736a60e9eeb907d3b93b6e0e5",
    "execution": {
     "iopub.execute_input": "2021-09-14T07:00:03.874299Z",
     "iopub.status.busy": "2021-09-14T07:00:03.873667Z",
     "iopub.status.idle": "2021-09-14T07:00:03.891065Z",
     "shell.execute_reply": "2021-09-14T07:00:03.890445Z",
     "shell.execute_reply.started": "2021-07-19T16:30:05.188296Z"
    },
    "papermill": {
     "duration": 0.071554,
     "end_time": "2021-09-14T07:00:03.891231",
     "exception": false,
     "start_time": "2021-09-14T07:00:03.819677",
     "status": "completed"
    },
    "tags": []
   },
   "outputs": [
    {
     "name": "stdout",
     "output_type": "stream",
     "text": [
      "/kaggle/input/paysim1/PS_20174392719_1491204439457_log.csv\n"
     ]
    }
   ],
   "source": [
    "# This Python 3 environment comes with many helpful analytics libraries installed\n",
    "# It is defined by the kaggle/python Docker image: https://github.com/kaggle/docker-python\n",
    "# For example, here's several helpful packages to load\n",
    "\n",
    "import numpy as np # linear algebra\n",
    "import pandas as pd # data processing, CSV file I/O (e.g. pd.read_csv)\n",
    "\n",
    "# Input data files are available in the read-only \"../input/\" directory\n",
    "# For example, running this (by clicking run or pressing Shift+Enter) will list all files under the input directory\n",
    "\n",
    "import os\n",
    "for dirname, _, filenames in os.walk('/kaggle/input'):\n",
    "    for filename in filenames:\n",
    "        print(os.path.join(dirname, filename))\n",
    "\n",
    "# You can write up to 20GB to the current directory (/kaggle/working/) that gets preserved as output when you create a version using \"Save & Run All\" \n",
    "# You can also write temporary files to /kaggle/temp/, but they won't be saved outside of the current session"
   ]
  },
  {
   "cell_type": "markdown",
   "metadata": {
    "papermill": {
     "duration": 0.043492,
     "end_time": "2021-09-14T07:00:03.977548",
     "exception": false,
     "start_time": "2021-09-14T07:00:03.934056",
     "status": "completed"
    },
    "tags": []
   },
   "source": [
    "### Data Analysis"
   ]
  },
  {
   "cell_type": "code",
   "execution_count": 2,
   "metadata": {
    "execution": {
     "iopub.execute_input": "2021-09-14T07:00:04.066380Z",
     "iopub.status.busy": "2021-09-14T07:00:04.065612Z",
     "iopub.status.idle": "2021-09-14T07:00:04.866994Z",
     "shell.execute_reply": "2021-09-14T07:00:04.866301Z",
     "shell.execute_reply.started": "2021-07-19T16:30:08.212051Z"
    },
    "papermill": {
     "duration": 0.847255,
     "end_time": "2021-09-14T07:00:04.867138",
     "exception": false,
     "start_time": "2021-09-14T07:00:04.019883",
     "status": "completed"
    },
    "tags": []
   },
   "outputs": [],
   "source": [
    "import matplotlib.pyplot as plt\n",
    "import seaborn as sns"
   ]
  },
  {
   "cell_type": "code",
   "execution_count": 3,
   "metadata": {
    "execution": {
     "iopub.execute_input": "2021-09-14T07:00:04.984518Z",
     "iopub.status.busy": "2021-09-14T07:00:04.983811Z",
     "iopub.status.idle": "2021-09-14T07:00:21.970602Z",
     "shell.execute_reply": "2021-09-14T07:00:21.970129Z",
     "shell.execute_reply.started": "2021-07-19T16:30:28.837315Z"
    },
    "papermill": {
     "duration": 17.061852,
     "end_time": "2021-09-14T07:00:21.970752",
     "exception": false,
     "start_time": "2021-09-14T07:00:04.908900",
     "status": "completed"
    },
    "tags": []
   },
   "outputs": [],
   "source": [
    "data = pd.read_csv('../input/paysim1/PS_20174392719_1491204439457_log.csv')"
   ]
  },
  {
   "cell_type": "code",
   "execution_count": 4,
   "metadata": {
    "execution": {
     "iopub.execute_input": "2021-09-14T07:00:22.057969Z",
     "iopub.status.busy": "2021-09-14T07:00:22.057346Z",
     "iopub.status.idle": "2021-09-14T07:00:22.081074Z",
     "shell.execute_reply": "2021-09-14T07:00:22.081484Z",
     "shell.execute_reply.started": "2021-07-19T16:30:43.415035Z"
    },
    "papermill": {
     "duration": 0.071998,
     "end_time": "2021-09-14T07:00:22.081632",
     "exception": false,
     "start_time": "2021-09-14T07:00:22.009634",
     "status": "completed"
    },
    "tags": []
   },
   "outputs": [
    {
     "data": {
      "text/html": [
       "<div>\n",
       "<style scoped>\n",
       "    .dataframe tbody tr th:only-of-type {\n",
       "        vertical-align: middle;\n",
       "    }\n",
       "\n",
       "    .dataframe tbody tr th {\n",
       "        vertical-align: top;\n",
       "    }\n",
       "\n",
       "    .dataframe thead th {\n",
       "        text-align: right;\n",
       "    }\n",
       "</style>\n",
       "<table border=\"1\" class=\"dataframe\">\n",
       "  <thead>\n",
       "    <tr style=\"text-align: right;\">\n",
       "      <th></th>\n",
       "      <th>step</th>\n",
       "      <th>type</th>\n",
       "      <th>amount</th>\n",
       "      <th>nameOrig</th>\n",
       "      <th>oldbalanceOrg</th>\n",
       "      <th>newbalanceOrig</th>\n",
       "      <th>nameDest</th>\n",
       "      <th>oldbalanceDest</th>\n",
       "      <th>newbalanceDest</th>\n",
       "      <th>isFraud</th>\n",
       "      <th>isFlaggedFraud</th>\n",
       "    </tr>\n",
       "  </thead>\n",
       "  <tbody>\n",
       "    <tr>\n",
       "      <th>0</th>\n",
       "      <td>1</td>\n",
       "      <td>PAYMENT</td>\n",
       "      <td>9839.64</td>\n",
       "      <td>C1231006815</td>\n",
       "      <td>170136.0</td>\n",
       "      <td>160296.36</td>\n",
       "      <td>M1979787155</td>\n",
       "      <td>0.0</td>\n",
       "      <td>0.0</td>\n",
       "      <td>0</td>\n",
       "      <td>0</td>\n",
       "    </tr>\n",
       "    <tr>\n",
       "      <th>1</th>\n",
       "      <td>1</td>\n",
       "      <td>PAYMENT</td>\n",
       "      <td>1864.28</td>\n",
       "      <td>C1666544295</td>\n",
       "      <td>21249.0</td>\n",
       "      <td>19384.72</td>\n",
       "      <td>M2044282225</td>\n",
       "      <td>0.0</td>\n",
       "      <td>0.0</td>\n",
       "      <td>0</td>\n",
       "      <td>0</td>\n",
       "    </tr>\n",
       "    <tr>\n",
       "      <th>2</th>\n",
       "      <td>1</td>\n",
       "      <td>TRANSFER</td>\n",
       "      <td>181.00</td>\n",
       "      <td>C1305486145</td>\n",
       "      <td>181.0</td>\n",
       "      <td>0.00</td>\n",
       "      <td>C553264065</td>\n",
       "      <td>0.0</td>\n",
       "      <td>0.0</td>\n",
       "      <td>1</td>\n",
       "      <td>0</td>\n",
       "    </tr>\n",
       "    <tr>\n",
       "      <th>3</th>\n",
       "      <td>1</td>\n",
       "      <td>CASH_OUT</td>\n",
       "      <td>181.00</td>\n",
       "      <td>C840083671</td>\n",
       "      <td>181.0</td>\n",
       "      <td>0.00</td>\n",
       "      <td>C38997010</td>\n",
       "      <td>21182.0</td>\n",
       "      <td>0.0</td>\n",
       "      <td>1</td>\n",
       "      <td>0</td>\n",
       "    </tr>\n",
       "    <tr>\n",
       "      <th>4</th>\n",
       "      <td>1</td>\n",
       "      <td>PAYMENT</td>\n",
       "      <td>11668.14</td>\n",
       "      <td>C2048537720</td>\n",
       "      <td>41554.0</td>\n",
       "      <td>29885.86</td>\n",
       "      <td>M1230701703</td>\n",
       "      <td>0.0</td>\n",
       "      <td>0.0</td>\n",
       "      <td>0</td>\n",
       "      <td>0</td>\n",
       "    </tr>\n",
       "  </tbody>\n",
       "</table>\n",
       "</div>"
      ],
      "text/plain": [
       "   step      type    amount     nameOrig  oldbalanceOrg  newbalanceOrig  \\\n",
       "0     1   PAYMENT   9839.64  C1231006815       170136.0       160296.36   \n",
       "1     1   PAYMENT   1864.28  C1666544295        21249.0        19384.72   \n",
       "2     1  TRANSFER    181.00  C1305486145          181.0            0.00   \n",
       "3     1  CASH_OUT    181.00   C840083671          181.0            0.00   \n",
       "4     1   PAYMENT  11668.14  C2048537720        41554.0        29885.86   \n",
       "\n",
       "      nameDest  oldbalanceDest  newbalanceDest  isFraud  isFlaggedFraud  \n",
       "0  M1979787155             0.0             0.0        0               0  \n",
       "1  M2044282225             0.0             0.0        0               0  \n",
       "2   C553264065             0.0             0.0        1               0  \n",
       "3    C38997010         21182.0             0.0        1               0  \n",
       "4  M1230701703             0.0             0.0        0               0  "
      ]
     },
     "execution_count": 4,
     "metadata": {},
     "output_type": "execute_result"
    }
   ],
   "source": [
    "data.head()"
   ]
  },
  {
   "cell_type": "code",
   "execution_count": 5,
   "metadata": {
    "execution": {
     "iopub.execute_input": "2021-09-14T07:00:22.172967Z",
     "iopub.status.busy": "2021-09-14T07:00:22.171842Z",
     "iopub.status.idle": "2021-09-14T07:00:22.176617Z",
     "shell.execute_reply": "2021-09-14T07:00:22.176195Z",
     "shell.execute_reply.started": "2021-07-19T16:30:58.101877Z"
    },
    "papermill": {
     "duration": 0.053702,
     "end_time": "2021-09-14T07:00:22.176738",
     "exception": false,
     "start_time": "2021-09-14T07:00:22.123036",
     "status": "completed"
    },
    "tags": []
   },
   "outputs": [
    {
     "data": {
      "text/plain": [
       "(6362620, 11)"
      ]
     },
     "execution_count": 5,
     "metadata": {},
     "output_type": "execute_result"
    }
   ],
   "source": [
    "data.shape"
   ]
  },
  {
   "cell_type": "code",
   "execution_count": 6,
   "metadata": {
    "execution": {
     "iopub.execute_input": "2021-09-14T07:00:22.262051Z",
     "iopub.status.busy": "2021-09-14T07:00:22.261028Z",
     "iopub.status.idle": "2021-09-14T07:00:23.911094Z",
     "shell.execute_reply": "2021-09-14T07:00:23.911524Z",
     "shell.execute_reply.started": "2021-07-19T16:31:06.564726Z"
    },
    "papermill": {
     "duration": 1.693306,
     "end_time": "2021-09-14T07:00:23.911673",
     "exception": false,
     "start_time": "2021-09-14T07:00:22.218367",
     "status": "completed"
    },
    "tags": []
   },
   "outputs": [
    {
     "data": {
      "text/plain": [
       "False"
      ]
     },
     "execution_count": 6,
     "metadata": {},
     "output_type": "execute_result"
    }
   ],
   "source": [
    "data.isnull().values.any()"
   ]
  },
  {
   "cell_type": "markdown",
   "metadata": {
    "papermill": {
     "duration": 0.038534,
     "end_time": "2021-09-14T07:00:23.988894",
     "exception": false,
     "start_time": "2021-09-14T07:00:23.950360",
     "status": "completed"
    },
    "tags": []
   },
   "source": [
    "There are no null values."
   ]
  },
  {
   "cell_type": "code",
   "execution_count": 7,
   "metadata": {
    "execution": {
     "iopub.execute_input": "2021-09-14T07:00:24.084308Z",
     "iopub.status.busy": "2021-09-14T07:00:24.083533Z",
     "iopub.status.idle": "2021-09-14T07:00:24.088283Z",
     "shell.execute_reply": "2021-09-14T07:00:24.087810Z",
     "shell.execute_reply.started": "2021-07-19T16:31:13.980899Z"
    },
    "papermill": {
     "duration": 0.060453,
     "end_time": "2021-09-14T07:00:24.088422",
     "exception": false,
     "start_time": "2021-09-14T07:00:24.027969",
     "status": "completed"
    },
    "tags": []
   },
   "outputs": [
    {
     "name": "stdout",
     "output_type": "stream",
     "text": [
      "<class 'pandas.core.frame.DataFrame'>\n",
      "RangeIndex: 6362620 entries, 0 to 6362619\n",
      "Data columns (total 11 columns):\n",
      " #   Column          Dtype  \n",
      "---  ------          -----  \n",
      " 0   step            int64  \n",
      " 1   type            object \n",
      " 2   amount          float64\n",
      " 3   nameOrig        object \n",
      " 4   oldbalanceOrg   float64\n",
      " 5   newbalanceOrig  float64\n",
      " 6   nameDest        object \n",
      " 7   oldbalanceDest  float64\n",
      " 8   newbalanceDest  float64\n",
      " 9   isFraud         int64  \n",
      " 10  isFlaggedFraud  int64  \n",
      "dtypes: float64(5), int64(3), object(3)\n",
      "memory usage: 534.0+ MB\n"
     ]
    }
   ],
   "source": [
    "data.info()"
   ]
  },
  {
   "cell_type": "code",
   "execution_count": 8,
   "metadata": {
    "execution": {
     "iopub.execute_input": "2021-09-14T07:00:24.305705Z",
     "iopub.status.busy": "2021-09-14T07:00:24.304673Z",
     "iopub.status.idle": "2021-09-14T07:00:25.704149Z",
     "shell.execute_reply": "2021-09-14T07:00:25.704613Z",
     "shell.execute_reply.started": "2021-07-19T16:31:21.737952Z"
    },
    "papermill": {
     "duration": 1.575521,
     "end_time": "2021-09-14T07:00:25.704792",
     "exception": false,
     "start_time": "2021-09-14T07:00:24.129271",
     "status": "completed"
    },
    "tags": []
   },
   "outputs": [
    {
     "data": {
      "text/html": [
       "<div>\n",
       "<style scoped>\n",
       "    .dataframe tbody tr th:only-of-type {\n",
       "        vertical-align: middle;\n",
       "    }\n",
       "\n",
       "    .dataframe tbody tr th {\n",
       "        vertical-align: top;\n",
       "    }\n",
       "\n",
       "    .dataframe thead th {\n",
       "        text-align: right;\n",
       "    }\n",
       "</style>\n",
       "<table border=\"1\" class=\"dataframe\">\n",
       "  <thead>\n",
       "    <tr style=\"text-align: right;\">\n",
       "      <th></th>\n",
       "      <th>step</th>\n",
       "      <th>amount</th>\n",
       "      <th>oldbalanceOrg</th>\n",
       "      <th>newbalanceOrig</th>\n",
       "      <th>oldbalanceDest</th>\n",
       "      <th>newbalanceDest</th>\n",
       "      <th>isFraud</th>\n",
       "      <th>isFlaggedFraud</th>\n",
       "    </tr>\n",
       "  </thead>\n",
       "  <tbody>\n",
       "    <tr>\n",
       "      <th>count</th>\n",
       "      <td>6.362620e+06</td>\n",
       "      <td>6.362620e+06</td>\n",
       "      <td>6.362620e+06</td>\n",
       "      <td>6.362620e+06</td>\n",
       "      <td>6.362620e+06</td>\n",
       "      <td>6.362620e+06</td>\n",
       "      <td>6.362620e+06</td>\n",
       "      <td>6.362620e+06</td>\n",
       "    </tr>\n",
       "    <tr>\n",
       "      <th>mean</th>\n",
       "      <td>2.433972e+02</td>\n",
       "      <td>1.798619e+05</td>\n",
       "      <td>8.338831e+05</td>\n",
       "      <td>8.551137e+05</td>\n",
       "      <td>1.100702e+06</td>\n",
       "      <td>1.224996e+06</td>\n",
       "      <td>1.290820e-03</td>\n",
       "      <td>2.514687e-06</td>\n",
       "    </tr>\n",
       "    <tr>\n",
       "      <th>std</th>\n",
       "      <td>1.423320e+02</td>\n",
       "      <td>6.038582e+05</td>\n",
       "      <td>2.888243e+06</td>\n",
       "      <td>2.924049e+06</td>\n",
       "      <td>3.399180e+06</td>\n",
       "      <td>3.674129e+06</td>\n",
       "      <td>3.590480e-02</td>\n",
       "      <td>1.585775e-03</td>\n",
       "    </tr>\n",
       "    <tr>\n",
       "      <th>min</th>\n",
       "      <td>1.000000e+00</td>\n",
       "      <td>0.000000e+00</td>\n",
       "      <td>0.000000e+00</td>\n",
       "      <td>0.000000e+00</td>\n",
       "      <td>0.000000e+00</td>\n",
       "      <td>0.000000e+00</td>\n",
       "      <td>0.000000e+00</td>\n",
       "      <td>0.000000e+00</td>\n",
       "    </tr>\n",
       "    <tr>\n",
       "      <th>25%</th>\n",
       "      <td>1.560000e+02</td>\n",
       "      <td>1.338957e+04</td>\n",
       "      <td>0.000000e+00</td>\n",
       "      <td>0.000000e+00</td>\n",
       "      <td>0.000000e+00</td>\n",
       "      <td>0.000000e+00</td>\n",
       "      <td>0.000000e+00</td>\n",
       "      <td>0.000000e+00</td>\n",
       "    </tr>\n",
       "    <tr>\n",
       "      <th>50%</th>\n",
       "      <td>2.390000e+02</td>\n",
       "      <td>7.487194e+04</td>\n",
       "      <td>1.420800e+04</td>\n",
       "      <td>0.000000e+00</td>\n",
       "      <td>1.327057e+05</td>\n",
       "      <td>2.146614e+05</td>\n",
       "      <td>0.000000e+00</td>\n",
       "      <td>0.000000e+00</td>\n",
       "    </tr>\n",
       "    <tr>\n",
       "      <th>75%</th>\n",
       "      <td>3.350000e+02</td>\n",
       "      <td>2.087215e+05</td>\n",
       "      <td>1.073152e+05</td>\n",
       "      <td>1.442584e+05</td>\n",
       "      <td>9.430367e+05</td>\n",
       "      <td>1.111909e+06</td>\n",
       "      <td>0.000000e+00</td>\n",
       "      <td>0.000000e+00</td>\n",
       "    </tr>\n",
       "    <tr>\n",
       "      <th>max</th>\n",
       "      <td>7.430000e+02</td>\n",
       "      <td>9.244552e+07</td>\n",
       "      <td>5.958504e+07</td>\n",
       "      <td>4.958504e+07</td>\n",
       "      <td>3.560159e+08</td>\n",
       "      <td>3.561793e+08</td>\n",
       "      <td>1.000000e+00</td>\n",
       "      <td>1.000000e+00</td>\n",
       "    </tr>\n",
       "  </tbody>\n",
       "</table>\n",
       "</div>"
      ],
      "text/plain": [
       "               step        amount  oldbalanceOrg  newbalanceOrig  \\\n",
       "count  6.362620e+06  6.362620e+06   6.362620e+06    6.362620e+06   \n",
       "mean   2.433972e+02  1.798619e+05   8.338831e+05    8.551137e+05   \n",
       "std    1.423320e+02  6.038582e+05   2.888243e+06    2.924049e+06   \n",
       "min    1.000000e+00  0.000000e+00   0.000000e+00    0.000000e+00   \n",
       "25%    1.560000e+02  1.338957e+04   0.000000e+00    0.000000e+00   \n",
       "50%    2.390000e+02  7.487194e+04   1.420800e+04    0.000000e+00   \n",
       "75%    3.350000e+02  2.087215e+05   1.073152e+05    1.442584e+05   \n",
       "max    7.430000e+02  9.244552e+07   5.958504e+07    4.958504e+07   \n",
       "\n",
       "       oldbalanceDest  newbalanceDest       isFraud  isFlaggedFraud  \n",
       "count    6.362620e+06    6.362620e+06  6.362620e+06    6.362620e+06  \n",
       "mean     1.100702e+06    1.224996e+06  1.290820e-03    2.514687e-06  \n",
       "std      3.399180e+06    3.674129e+06  3.590480e-02    1.585775e-03  \n",
       "min      0.000000e+00    0.000000e+00  0.000000e+00    0.000000e+00  \n",
       "25%      0.000000e+00    0.000000e+00  0.000000e+00    0.000000e+00  \n",
       "50%      1.327057e+05    2.146614e+05  0.000000e+00    0.000000e+00  \n",
       "75%      9.430367e+05    1.111909e+06  0.000000e+00    0.000000e+00  \n",
       "max      3.560159e+08    3.561793e+08  1.000000e+00    1.000000e+00  "
      ]
     },
     "execution_count": 8,
     "metadata": {},
     "output_type": "execute_result"
    }
   ],
   "source": [
    "data.describe()"
   ]
  },
  {
   "cell_type": "code",
   "execution_count": 9,
   "metadata": {
    "execution": {
     "iopub.execute_input": "2021-09-14T07:00:25.795665Z",
     "iopub.status.busy": "2021-09-14T07:00:25.794946Z",
     "iopub.status.idle": "2021-09-14T07:00:25.842492Z",
     "shell.execute_reply": "2021-09-14T07:00:25.842941Z",
     "shell.execute_reply.started": "2021-07-19T16:31:30.748345Z"
    },
    "papermill": {
     "duration": 0.091875,
     "end_time": "2021-09-14T07:00:25.843092",
     "exception": false,
     "start_time": "2021-09-14T07:00:25.751217",
     "status": "completed"
    },
    "tags": []
   },
   "outputs": [
    {
     "data": {
      "text/plain": [
       "0    6354407\n",
       "1       8213\n",
       "Name: isFraud, dtype: int64"
      ]
     },
     "execution_count": 9,
     "metadata": {},
     "output_type": "execute_result"
    }
   ],
   "source": [
    "data.isFraud.value_counts()"
   ]
  },
  {
   "cell_type": "code",
   "execution_count": 10,
   "metadata": {
    "execution": {
     "iopub.execute_input": "2021-09-14T07:00:25.944108Z",
     "iopub.status.busy": "2021-09-14T07:00:25.943274Z",
     "iopub.status.idle": "2021-09-14T07:00:26.560150Z",
     "shell.execute_reply": "2021-09-14T07:00:26.560556Z",
     "shell.execute_reply.started": "2021-07-19T16:31:38.732244Z"
    },
    "papermill": {
     "duration": 0.675943,
     "end_time": "2021-09-14T07:00:26.560698",
     "exception": false,
     "start_time": "2021-09-14T07:00:25.884755",
     "status": "completed"
    },
    "tags": []
   },
   "outputs": [
    {
     "data": {
      "image/png": "[encoded data removed]",
      "text/plain": [
       "<Figure size 432x288 with 1 Axes>"
      ]
     },
     "metadata": {
      "needs_background": "light"
     },
     "output_type": "display_data"
    }
   ],
   "source": [
    "fig,ax = plt.subplots()\n",
    "sns.countplot(x=data.isFraud,ax=ax)\n",
    "for p in ax.patches:\n",
    "        val = p.get_height() #height of the bar\n",
    "        x = p.get_x() + p.get_width()/2 # x- position \n",
    "        y = p.get_y() + p.get_height() #y-position\n",
    "        ax.annotate(val,(x,y))"
   ]
  },
  {
   "cell_type": "code",
   "execution_count": 11,
   "metadata": {
    "execution": {
     "iopub.execute_input": "2021-09-14T07:00:26.665734Z",
     "iopub.status.busy": "2021-09-14T07:00:26.664471Z",
     "iopub.status.idle": "2021-09-14T07:00:47.297764Z",
     "shell.execute_reply": "2021-09-14T07:00:47.298495Z",
     "shell.execute_reply.started": "2021-07-19T16:31:52.285846Z"
    },
    "papermill": {
     "duration": 20.697512,
     "end_time": "2021-09-14T07:00:47.298657",
     "exception": false,
     "start_time": "2021-09-14T07:00:26.601145",
     "status": "completed"
    },
    "tags": []
   },
   "outputs": [
    {
     "data": {
      "text/plain": [
       "<AxesSubplot:xlabel='isFraud', ylabel='amount'>"
      ]
     },
     "execution_count": 11,
     "metadata": {},
     "output_type": "execute_result"
    },
    {
     "data": {
      "image/png": "[encoded data removed]",
      "text/plain": [
       "<Figure size 720x216 with 2 Axes>"
      ]
     },
     "metadata": {
      "needs_background": "light"
     },
     "output_type": "display_data"
    }
   ],
   "source": [
    "fig,ax = plt.subplots(1,2,figsize=(10,3))\n",
    "sns.boxplot(x=data.isFraud,y=data.step,ax=ax[0])\n",
    "sns.scatterplot(x=data.isFraud,y=data.amount,ax=ax[1])"
   ]
  },
  {
   "cell_type": "markdown",
   "metadata": {
    "papermill": {
     "duration": 0.042035,
     "end_time": "2021-09-14T07:00:47.382368",
     "exception": false,
     "start_time": "2021-09-14T07:00:47.340333",
     "status": "completed"
    },
    "tags": []
   },
   "source": [
    "As seen above step influences fraud detection. Therefore it might be a useful feature"
   ]
  },
  {
   "cell_type": "code",
   "execution_count": 12,
   "metadata": {
    "execution": {
     "iopub.execute_input": "2021-09-14T07:00:47.494706Z",
     "iopub.status.busy": "2021-09-14T07:00:47.493729Z",
     "iopub.status.idle": "2021-09-14T07:00:54.696297Z",
     "shell.execute_reply": "2021-09-14T07:00:54.696725Z",
     "shell.execute_reply.started": "2021-07-19T16:32:12.600678Z"
    },
    "papermill": {
     "duration": 7.272776,
     "end_time": "2021-09-14T07:00:54.696898",
     "exception": false,
     "start_time": "2021-09-14T07:00:47.424122",
     "status": "completed"
    },
    "tags": []
   },
   "outputs": [
    {
     "data": {
      "image/png": "[encoded data removed]",
      "text/plain": [
       "<Figure size 432x288 with 1 Axes>"
      ]
     },
     "metadata": {
      "needs_background": "light"
     },
     "output_type": "display_data"
    }
   ],
   "source": [
    "fig,ax = plt.subplots()\n",
    "sns.countplot(x=data.isFraud,hue=data.type,ax=ax)\n",
    "for p in ax.patches:\n",
    "        val = p.get_height() \n",
    "        x = p.get_x() + p.get_width()  \n",
    "        y = p.get_y() + p.get_height() \n",
    "        ax.annotate(val,(x,y))"
   ]
  },
  {
   "cell_type": "code",
   "execution_count": 13,
   "metadata": {
    "execution": {
     "iopub.execute_input": "2021-09-14T07:00:54.825956Z",
     "iopub.status.busy": "2021-09-14T07:00:54.825011Z",
     "iopub.status.idle": "2021-09-14T07:00:56.440557Z",
     "shell.execute_reply": "2021-09-14T07:00:56.441215Z",
     "shell.execute_reply.started": "2021-07-19T16:32:19.6236Z"
    },
    "papermill": {
     "duration": 1.669952,
     "end_time": "2021-09-14T07:00:56.441421",
     "exception": false,
     "start_time": "2021-09-14T07:00:54.771469",
     "status": "completed"
    },
    "tags": []
   },
   "outputs": [
    {
     "name": "stdout",
     "output_type": "stream",
     "text": [
      "Type of payments which are fraudulent are: ['TRANSFER', 'CASH_OUT']\n",
      "No. of fraudulent transfers which are \"Transfer\" type are : 4097\n",
      "No. of fraudulent transfers which are \"CASH_OUT\" type are : 4116\n"
     ]
    }
   ],
   "source": [
    "print('Type of payments which are fraudulent are:',list(data.loc[(data.isFraud==1)].type.unique()))\n",
    "print('No. of fraudulent transfers which are \"Transfer\" type are :', len(data.loc[(data.isFraud==1)&(data.type=='TRANSFER')]))\n",
    "print('No. of fraudulent transfers which are \"CASH_OUT\" type are :', len(data.loc[(data.isFraud==1)&(data.type=='CASH_OUT')]))"
   ]
  },
  {
   "cell_type": "markdown",
   "metadata": {
    "papermill": {
     "duration": 0.043069,
     "end_time": "2021-09-14T07:00:56.528184",
     "exception": false,
     "start_time": "2021-09-14T07:00:56.485115",
     "status": "completed"
    },
    "tags": []
   },
   "source": [
    "All fraud transfers are under the type 'TRANSFER' and 'CASH-OUT'. "
   ]
  },
  {
   "cell_type": "code",
   "execution_count": 14,
   "metadata": {
    "execution": {
     "iopub.execute_input": "2021-09-14T07:00:57.137643Z",
     "iopub.status.busy": "2021-09-14T07:00:57.136865Z",
     "iopub.status.idle": "2021-09-14T07:00:59.860426Z",
     "shell.execute_reply": "2021-09-14T07:00:59.861181Z",
     "shell.execute_reply.started": "2021-07-19T16:32:21.253458Z"
    },
    "papermill": {
     "duration": 3.289992,
     "end_time": "2021-09-14T07:00:59.861427",
     "exception": false,
     "start_time": "2021-09-14T07:00:56.571435",
     "status": "completed"
    },
    "tags": []
   },
   "outputs": [
    {
     "data": {
      "text/plain": [
       "False"
      ]
     },
     "execution_count": 14,
     "metadata": {},
     "output_type": "execute_result"
    }
   ],
   "source": [
    "data['nameOrig'].str.contains('M').any()"
   ]
  },
  {
   "cell_type": "code",
   "execution_count": 15,
   "metadata": {
    "execution": {
     "iopub.execute_input": "2021-09-14T07:01:00.479995Z",
     "iopub.status.busy": "2021-09-14T07:01:00.479183Z",
     "iopub.status.idle": "2021-09-14T07:01:03.861710Z",
     "shell.execute_reply": "2021-09-14T07:01:03.861212Z",
     "shell.execute_reply.started": "2021-07-19T16:32:29.890227Z"
    },
    "papermill": {
     "duration": 3.956517,
     "end_time": "2021-09-14T07:01:03.861879",
     "exception": false,
     "start_time": "2021-09-14T07:00:59.905362",
     "status": "completed"
    },
    "tags": []
   },
   "outputs": [
    {
     "data": {
      "text/plain": [
       "2151495"
      ]
     },
     "execution_count": 15,
     "metadata": {},
     "output_type": "execute_result"
    }
   ],
   "source": [
    "len(data.loc[data['nameDest'].str.contains('M') == True])"
   ]
  },
  {
   "cell_type": "code",
   "execution_count": 16,
   "metadata": {
    "execution": {
     "iopub.execute_input": "2021-09-14T07:01:04.741076Z",
     "iopub.status.busy": "2021-09-14T07:01:04.740449Z",
     "iopub.status.idle": "2021-09-14T07:01:05.223500Z",
     "shell.execute_reply": "2021-09-14T07:01:05.223016Z",
     "shell.execute_reply.started": "2021-07-19T16:32:42.146037Z"
    },
    "papermill": {
     "duration": 1.317517,
     "end_time": "2021-09-14T07:01:05.223635",
     "exception": false,
     "start_time": "2021-09-14T07:01:03.906118",
     "status": "completed"
    },
    "tags": []
   },
   "outputs": [
    {
     "data": {
      "text/plain": [
       "False"
      ]
     },
     "execution_count": 16,
     "metadata": {},
     "output_type": "execute_result"
    }
   ],
   "source": [
    "data.loc[data['type']=='TRANSFER'].nameDest.str.contains('M').any()"
   ]
  },
  {
   "cell_type": "code",
   "execution_count": 17,
   "metadata": {
    "execution": {
     "iopub.execute_input": "2021-09-14T07:01:06.109131Z",
     "iopub.status.busy": "2021-09-14T07:01:06.108254Z",
     "iopub.status.idle": "2021-09-14T07:01:07.607100Z",
     "shell.execute_reply": "2021-09-14T07:01:07.607482Z",
     "shell.execute_reply.started": "2021-07-19T16:32:51.433826Z"
    },
    "papermill": {
     "duration": 2.338388,
     "end_time": "2021-09-14T07:01:07.607631",
     "exception": false,
     "start_time": "2021-09-14T07:01:05.269243",
     "status": "completed"
    },
    "tags": []
   },
   "outputs": [
    {
     "data": {
      "text/plain": [
       "False"
      ]
     },
     "execution_count": 17,
     "metadata": {},
     "output_type": "execute_result"
    }
   ],
   "source": [
    "data.loc[data['type']=='CASH_OUT'].nameDest.str.contains('M').any()"
   ]
  },
  {
   "cell_type": "markdown",
   "metadata": {
    "papermill": {
     "duration": 0.045136,
     "end_time": "2021-09-14T07:01:07.697141",
     "exception": false,
     "start_time": "2021-09-14T07:01:07.652005",
     "status": "completed"
    },
    "tags": []
   },
   "source": [
    "nameOrig and nameDest can dropped as they dont impact fraud. Also there are no suspicious transfers to merchants. Therefore they can be dropped."
   ]
  },
  {
   "cell_type": "code",
   "execution_count": 18,
   "metadata": {
    "execution": {
     "iopub.execute_input": "2021-09-14T07:01:07.800157Z",
     "iopub.status.busy": "2021-09-14T07:01:07.799279Z",
     "iopub.status.idle": "2021-09-14T07:01:08.094410Z",
     "shell.execute_reply": "2021-09-14T07:01:08.093960Z",
     "shell.execute_reply.started": "2021-07-19T16:33:14.840052Z"
    },
    "papermill": {
     "duration": 0.352397,
     "end_time": "2021-09-14T07:01:08.094536",
     "exception": false,
     "start_time": "2021-09-14T07:01:07.742139",
     "status": "completed"
    },
    "tags": []
   },
   "outputs": [
    {
     "data": {
      "text/plain": [
       "2088969"
      ]
     },
     "execution_count": 18,
     "metadata": {},
     "output_type": "execute_result"
    }
   ],
   "source": [
    "len(data.loc[(data['oldbalanceOrg']==0) & (data['newbalanceOrig']==0) & (data['amount']!=0)])"
   ]
  },
  {
   "cell_type": "code",
   "execution_count": 19,
   "metadata": {
    "execution": {
     "iopub.execute_input": "2021-09-14T07:01:08.191929Z",
     "iopub.status.busy": "2021-09-14T07:01:08.191107Z",
     "iopub.status.idle": "2021-09-14T07:01:08.545116Z",
     "shell.execute_reply": "2021-09-14T07:01:08.545658Z",
     "shell.execute_reply.started": "2021-07-19T16:33:21.892982Z"
    },
    "papermill": {
     "duration": 0.405497,
     "end_time": "2021-09-14T07:01:08.545884",
     "exception": false,
     "start_time": "2021-09-14T07:01:08.140387",
     "status": "completed"
    },
    "tags": []
   },
   "outputs": [
    {
     "name": "stdout",
     "output_type": "stream",
     "text": [
      "25\n",
      "2088944\n"
     ]
    }
   ],
   "source": [
    "print(len(data.loc[(data['oldbalanceOrg']==0) & (data['newbalanceOrig']==0) & (data['amount']!=0) & (data.isFraud==1)]))\n",
    "print(len(data.loc[(data['oldbalanceOrg']==0) & (data['newbalanceOrig']==0) & (data['amount']!=0) & (data.isFraud==0)]))"
   ]
  },
  {
   "cell_type": "code",
   "execution_count": 20,
   "metadata": {
    "execution": {
     "iopub.execute_input": "2021-09-14T07:01:08.648976Z",
     "iopub.status.busy": "2021-09-14T07:01:08.648127Z",
     "iopub.status.idle": "2021-09-14T07:01:08.967457Z",
     "shell.execute_reply": "2021-09-14T07:01:08.966654Z",
     "shell.execute_reply.started": "2021-07-19T16:33:29.161282Z"
    },
    "papermill": {
     "duration": 0.375961,
     "end_time": "2021-09-14T07:01:08.967588",
     "exception": false,
     "start_time": "2021-09-14T07:01:08.591627",
     "status": "completed"
    },
    "tags": []
   },
   "outputs": [
    {
     "data": {
      "text/plain": [
       "2317276"
      ]
     },
     "execution_count": 20,
     "metadata": {},
     "output_type": "execute_result"
    }
   ],
   "source": [
    "len(data.loc[(data['oldbalanceDest']==0) & (data['newbalanceDest']==0) & (data['amount']!=0)])"
   ]
  },
  {
   "cell_type": "code",
   "execution_count": 21,
   "metadata": {
    "execution": {
     "iopub.execute_input": "2021-09-14T07:01:09.066534Z",
     "iopub.status.busy": "2021-09-14T07:01:09.065692Z",
     "iopub.status.idle": "2021-09-14T07:01:09.447977Z",
     "shell.execute_reply": "2021-09-14T07:01:09.447068Z",
     "shell.execute_reply.started": "2021-07-19T16:33:42.671326Z"
    },
    "papermill": {
     "duration": 0.433479,
     "end_time": "2021-09-14T07:01:09.448145",
     "exception": false,
     "start_time": "2021-09-14T07:01:09.014666",
     "status": "completed"
    },
    "tags": []
   },
   "outputs": [
    {
     "name": "stdout",
     "output_type": "stream",
     "text": [
      "4070\n",
      "2313206\n"
     ]
    }
   ],
   "source": [
    "print(len(data.loc[(data['oldbalanceDest']==0) & (data['newbalanceDest']==0) & (data['amount']!=0) & (data.isFraud==1)]))\n",
    "print(len(data.loc[(data['oldbalanceDest']==0) & (data['newbalanceDest']==0) & (data['amount']!=0) & (data.isFraud==0)]))"
   ]
  },
  {
   "cell_type": "code",
   "execution_count": 22,
   "metadata": {
    "execution": {
     "iopub.execute_input": "2021-09-14T07:01:09.555083Z",
     "iopub.status.busy": "2021-09-14T07:01:09.554222Z",
     "iopub.status.idle": "2021-09-14T07:01:12.519481Z",
     "shell.execute_reply": "2021-09-14T07:01:12.518953Z",
     "shell.execute_reply.started": "2021-07-19T16:33:50.471046Z"
    },
    "papermill": {
     "duration": 3.024659,
     "end_time": "2021-09-14T07:01:12.519616",
     "exception": false,
     "start_time": "2021-09-14T07:01:09.494957",
     "status": "completed"
    },
    "tags": []
   },
   "outputs": [
    {
     "data": {
      "text/plain": [
       "2151495"
      ]
     },
     "execution_count": 22,
     "metadata": {},
     "output_type": "execute_result"
    }
   ],
   "source": [
    "len(data.loc[(data['oldbalanceDest']==0) & (data['newbalanceDest']==0) & (data['amount']!=0) & (data.isFraud==0)& (data.nameDest.str.contains('M'))])"
   ]
  },
  {
   "cell_type": "markdown",
   "metadata": {
    "papermill": {
     "duration": 0.046069,
     "end_time": "2021-09-14T07:01:12.612366",
     "exception": false,
     "start_time": "2021-09-14T07:01:12.566297",
     "status": "completed"
    },
    "tags": []
   },
   "source": [
    "Almost half of the transactions with 0 old and new balance of desinations are fraudulent.Therefore it is a strong indicator of fraud( Also there are no merchants in fraudulent transactions whose balance details are unknown, so this feature is strong indicator of fraud).\n",
    "\n",
    "And the genuine transactions where balance is 0 are mostly involved by merchants. Therefore it is better to only work with 'TRANSFER' and 'CASH_OUT' transactions as no merchants are involved and they also include all fraud transactions."
   ]
  },
  {
   "cell_type": "code",
   "execution_count": 23,
   "metadata": {
    "execution": {
     "iopub.execute_input": "2021-09-14T07:01:12.710230Z",
     "iopub.status.busy": "2021-09-14T07:01:12.709442Z",
     "iopub.status.idle": "2021-09-14T07:01:12.799904Z",
     "shell.execute_reply": "2021-09-14T07:01:12.799086Z",
     "shell.execute_reply.started": "2021-07-19T16:33:57.293933Z"
    },
    "papermill": {
     "duration": 0.141494,
     "end_time": "2021-09-14T07:01:12.800092",
     "exception": false,
     "start_time": "2021-09-14T07:01:12.658598",
     "status": "completed"
    },
    "tags": []
   },
   "outputs": [
    {
     "data": {
      "text/plain": [
       "0    6362604\n",
       "1         16\n",
       "Name: isFlaggedFraud, dtype: int64"
      ]
     },
     "execution_count": 23,
     "metadata": {},
     "output_type": "execute_result"
    }
   ],
   "source": [
    "data['isFlaggedFraud'].value_counts()"
   ]
  },
  {
   "cell_type": "code",
   "execution_count": 24,
   "metadata": {
    "execution": {
     "iopub.execute_input": "2021-09-14T07:01:12.968992Z",
     "iopub.status.busy": "2021-09-14T07:01:12.968134Z",
     "iopub.status.idle": "2021-09-14T07:01:12.992222Z",
     "shell.execute_reply": "2021-09-14T07:01:12.993285Z",
     "shell.execute_reply.started": "2021-07-19T16:34:04.112846Z"
    },
    "papermill": {
     "duration": 0.107936,
     "end_time": "2021-09-14T07:01:12.993611",
     "exception": false,
     "start_time": "2021-09-14T07:01:12.885675",
     "status": "completed"
    },
    "tags": []
   },
   "outputs": [
    {
     "data": {
      "text/plain": [
       "count    1.600000e+01\n",
       "mean     4.861598e+06\n",
       "std      3.572499e+06\n",
       "min      3.538742e+05\n",
       "25%      2.242749e+06\n",
       "50%      4.234245e+06\n",
       "75%      7.883451e+06\n",
       "max      1.000000e+07\n",
       "Name: amount, dtype: float64"
      ]
     },
     "execution_count": 24,
     "metadata": {},
     "output_type": "execute_result"
    }
   ],
   "source": [
    "data.loc[data['isFlaggedFraud']==1].amount.describe()"
   ]
  },
  {
   "cell_type": "code",
   "execution_count": 25,
   "metadata": {
    "execution": {
     "iopub.execute_input": "2021-09-14T07:01:13.170640Z",
     "iopub.status.busy": "2021-09-14T07:01:13.169847Z",
     "iopub.status.idle": "2021-09-14T07:01:14.108335Z",
     "shell.execute_reply": "2021-09-14T07:01:14.109321Z",
     "shell.execute_reply.started": "2021-07-19T16:34:12.860348Z"
    },
    "papermill": {
     "duration": 1.028551,
     "end_time": "2021-09-14T07:01:14.109531",
     "exception": false,
     "start_time": "2021-09-14T07:01:13.080980",
     "status": "completed"
    },
    "tags": []
   },
   "outputs": [
    {
     "data": {
      "text/plain": [
       "count    6.362604e+06\n",
       "mean     1.798501e+05\n",
       "std      6.037884e+05\n",
       "min      0.000000e+00\n",
       "25%      1.338955e+04\n",
       "50%      7.487127e+04\n",
       "75%      2.087205e+05\n",
       "max      9.244552e+07\n",
       "Name: amount, dtype: float64"
      ]
     },
     "execution_count": 25,
     "metadata": {},
     "output_type": "execute_result"
    }
   ],
   "source": [
    "data.loc[data['isFlaggedFraud']==0].amount.describe()"
   ]
  },
  {
   "cell_type": "code",
   "execution_count": 26,
   "metadata": {
    "execution": {
     "iopub.execute_input": "2021-09-14T07:01:14.274010Z",
     "iopub.status.busy": "2021-09-14T07:01:14.273172Z",
     "iopub.status.idle": "2021-09-14T07:01:14.313753Z",
     "shell.execute_reply": "2021-09-14T07:01:14.314733Z",
     "shell.execute_reply.started": "2021-07-19T16:34:21.015523Z"
    },
    "papermill": {
     "duration": 0.124147,
     "end_time": "2021-09-14T07:01:14.314967",
     "exception": false,
     "start_time": "2021-09-14T07:01:14.190820",
     "status": "completed"
    },
    "tags": []
   },
   "outputs": [
    {
     "data": {
      "text/plain": [
       "16"
      ]
     },
     "execution_count": 26,
     "metadata": {},
     "output_type": "execute_result"
    }
   ],
   "source": [
    "len(data.loc[(data['isFlaggedFraud']==1)& (data.isFraud==1)])"
   ]
  },
  {
   "cell_type": "markdown",
   "metadata": {
    "papermill": {
     "duration": 0.077856,
     "end_time": "2021-09-14T07:01:14.470253",
     "exception": false,
     "start_time": "2021-09-14T07:01:14.392397",
     "status": "completed"
    },
    "tags": []
   },
   "source": [
    "In description it is said 'isFlaggedFraud' will be 1 if amount of transaction is more than 200000, but the amount exceeds 200000 even when it is set to 0 as seen in above (where 75 percentile is more than 200000). Also whenever isFlaggedFraud is 1, value of isFraud is also 1. Therefore it doesn't so any correlation with other features and it can be dropped  "
   ]
  },
  {
   "cell_type": "markdown",
   "metadata": {
    "papermill": {
     "duration": 0.078953,
     "end_time": "2021-09-14T07:01:14.628119",
     "exception": false,
     "start_time": "2021-09-14T07:01:14.549166",
     "status": "completed"
    },
    "tags": []
   },
   "source": [
    "### Data Cleaning and Feature Engineering"
   ]
  },
  {
   "cell_type": "code",
   "execution_count": 27,
   "metadata": {
    "execution": {
     "iopub.execute_input": "2021-09-14T07:01:14.998393Z",
     "iopub.status.busy": "2021-09-14T07:01:14.885119Z",
     "iopub.status.idle": "2021-09-14T07:01:15.001724Z",
     "shell.execute_reply": "2021-09-14T07:01:15.001226Z",
     "shell.execute_reply.started": "2021-07-19T16:34:32.46541Z"
    },
    "papermill": {
     "duration": 0.285804,
     "end_time": "2021-09-14T07:01:15.001886",
     "exception": false,
     "start_time": "2021-09-14T07:01:14.716082",
     "status": "completed"
    },
    "tags": []
   },
   "outputs": [],
   "source": [
    "data.drop(['nameOrig','nameDest','isFlaggedFraud'],axis=1,inplace=True)"
   ]
  },
  {
   "cell_type": "code",
   "execution_count": 28,
   "metadata": {
    "execution": {
     "iopub.execute_input": "2021-09-14T07:01:16.681298Z",
     "iopub.status.busy": "2021-09-14T07:01:16.679702Z",
     "iopub.status.idle": "2021-09-14T07:01:16.843137Z",
     "shell.execute_reply": "2021-09-14T07:01:16.842649Z",
     "shell.execute_reply.started": "2021-07-19T16:34:39.371517Z"
    },
    "papermill": {
     "duration": 1.785066,
     "end_time": "2021-09-14T07:01:16.843267",
     "exception": false,
     "start_time": "2021-09-14T07:01:15.058201",
     "status": "completed"
    },
    "tags": []
   },
   "outputs": [],
   "source": [
    "df = data.loc[(data.type=='TRANSFER')|(data.type=='CASH_OUT')]"
   ]
  },
  {
   "cell_type": "code",
   "execution_count": 29,
   "metadata": {
    "execution": {
     "iopub.execute_input": "2021-09-14T07:01:16.943821Z",
     "iopub.status.busy": "2021-09-14T07:01:16.942596Z",
     "iopub.status.idle": "2021-09-14T07:01:17.021037Z",
     "shell.execute_reply": "2021-09-14T07:01:17.020563Z",
     "shell.execute_reply.started": "2021-07-19T16:34:47.295047Z"
    },
    "papermill": {
     "duration": 0.13078,
     "end_time": "2021-09-14T07:01:17.021170",
     "exception": false,
     "start_time": "2021-09-14T07:01:16.890390",
     "status": "completed"
    },
    "tags": []
   },
   "outputs": [],
   "source": [
    "train = df.copy()"
   ]
  },
  {
   "cell_type": "code",
   "execution_count": 30,
   "metadata": {
    "execution": {
     "iopub.execute_input": "2021-09-14T07:01:17.130788Z",
     "iopub.status.busy": "2021-09-14T07:01:17.129714Z",
     "iopub.status.idle": "2021-09-14T07:01:17.134014Z",
     "shell.execute_reply": "2021-09-14T07:01:17.134376Z",
     "shell.execute_reply.started": "2021-07-19T16:34:53.525388Z"
    },
    "papermill": {
     "duration": 0.065261,
     "end_time": "2021-09-14T07:01:17.134516",
     "exception": false,
     "start_time": "2021-09-14T07:01:17.069255",
     "status": "completed"
    },
    "tags": []
   },
   "outputs": [
    {
     "data": {
      "text/html": [
       "<div>\n",
       "<style scoped>\n",
       "    .dataframe tbody tr th:only-of-type {\n",
       "        vertical-align: middle;\n",
       "    }\n",
       "\n",
       "    .dataframe tbody tr th {\n",
       "        vertical-align: top;\n",
       "    }\n",
       "\n",
       "    .dataframe thead th {\n",
       "        text-align: right;\n",
       "    }\n",
       "</style>\n",
       "<table border=\"1\" class=\"dataframe\">\n",
       "  <thead>\n",
       "    <tr style=\"text-align: right;\">\n",
       "      <th></th>\n",
       "      <th>step</th>\n",
       "      <th>type</th>\n",
       "      <th>amount</th>\n",
       "      <th>oldbalanceOrg</th>\n",
       "      <th>newbalanceOrig</th>\n",
       "      <th>oldbalanceDest</th>\n",
       "      <th>newbalanceDest</th>\n",
       "      <th>isFraud</th>\n",
       "    </tr>\n",
       "  </thead>\n",
       "  <tbody>\n",
       "    <tr>\n",
       "      <th>2</th>\n",
       "      <td>1</td>\n",
       "      <td>TRANSFER</td>\n",
       "      <td>181.00</td>\n",
       "      <td>181.0</td>\n",
       "      <td>0.0</td>\n",
       "      <td>0.0</td>\n",
       "      <td>0.00</td>\n",
       "      <td>1</td>\n",
       "    </tr>\n",
       "    <tr>\n",
       "      <th>3</th>\n",
       "      <td>1</td>\n",
       "      <td>CASH_OUT</td>\n",
       "      <td>181.00</td>\n",
       "      <td>181.0</td>\n",
       "      <td>0.0</td>\n",
       "      <td>21182.0</td>\n",
       "      <td>0.00</td>\n",
       "      <td>1</td>\n",
       "    </tr>\n",
       "    <tr>\n",
       "      <th>15</th>\n",
       "      <td>1</td>\n",
       "      <td>CASH_OUT</td>\n",
       "      <td>229133.94</td>\n",
       "      <td>15325.0</td>\n",
       "      <td>0.0</td>\n",
       "      <td>5083.0</td>\n",
       "      <td>51513.44</td>\n",
       "      <td>0</td>\n",
       "    </tr>\n",
       "    <tr>\n",
       "      <th>19</th>\n",
       "      <td>1</td>\n",
       "      <td>TRANSFER</td>\n",
       "      <td>215310.30</td>\n",
       "      <td>705.0</td>\n",
       "      <td>0.0</td>\n",
       "      <td>22425.0</td>\n",
       "      <td>0.00</td>\n",
       "      <td>0</td>\n",
       "    </tr>\n",
       "    <tr>\n",
       "      <th>24</th>\n",
       "      <td>1</td>\n",
       "      <td>TRANSFER</td>\n",
       "      <td>311685.89</td>\n",
       "      <td>10835.0</td>\n",
       "      <td>0.0</td>\n",
       "      <td>6267.0</td>\n",
       "      <td>2719172.89</td>\n",
       "      <td>0</td>\n",
       "    </tr>\n",
       "  </tbody>\n",
       "</table>\n",
       "</div>"
      ],
      "text/plain": [
       "    step      type     amount  oldbalanceOrg  newbalanceOrig  oldbalanceDest  \\\n",
       "2      1  TRANSFER     181.00          181.0             0.0             0.0   \n",
       "3      1  CASH_OUT     181.00          181.0             0.0         21182.0   \n",
       "15     1  CASH_OUT  229133.94        15325.0             0.0          5083.0   \n",
       "19     1  TRANSFER  215310.30          705.0             0.0         22425.0   \n",
       "24     1  TRANSFER  311685.89        10835.0             0.0          6267.0   \n",
       "\n",
       "    newbalanceDest  isFraud  \n",
       "2             0.00        1  \n",
       "3             0.00        1  \n",
       "15        51513.44        0  \n",
       "19            0.00        0  \n",
       "24      2719172.89        0  "
      ]
     },
     "execution_count": 30,
     "metadata": {},
     "output_type": "execute_result"
    }
   ],
   "source": [
    "train.head()"
   ]
  },
  {
   "cell_type": "markdown",
   "metadata": {
    "papermill": {
     "duration": 0.047451,
     "end_time": "2021-09-14T07:01:17.230295",
     "exception": false,
     "start_time": "2021-09-14T07:01:17.182844",
     "status": "completed"
    },
    "tags": []
   },
   "source": [
    "As seen earlier, 0 values of oldbalanceOrg,newbalanceOrig,oldbalanceDest,newbalanceDest when amount is not 0 have a good chance of fraudulent transaction, we will create new freatures combining (oldbalanceOrg,newbalanceOrig,amount) and (oldbalanceDest,newbalanceDest,amount) "
   ]
  },
  {
   "cell_type": "code",
   "execution_count": 31,
   "metadata": {
    "execution": {
     "iopub.execute_input": "2021-09-14T07:01:17.339270Z",
     "iopub.status.busy": "2021-09-14T07:01:17.338220Z",
     "iopub.status.idle": "2021-09-14T07:01:17.375158Z",
     "shell.execute_reply": "2021-09-14T07:01:17.374664Z",
     "shell.execute_reply.started": "2021-07-19T16:35:03.233491Z"
    },
    "papermill": {
     "duration": 0.097139,
     "end_time": "2021-09-14T07:01:17.375291",
     "exception": false,
     "start_time": "2021-09-14T07:01:17.278152",
     "status": "completed"
    },
    "tags": []
   },
   "outputs": [],
   "source": [
    "train['errorOrig'] = train['amount'] + train['newbalanceOrig'] - train['oldbalanceOrg']\n",
    "train['errorDest'] = train['amount'] + train['oldbalanceDest'] - train['newbalanceDest']"
   ]
  },
  {
   "cell_type": "code",
   "execution_count": 32,
   "metadata": {
    "execution": {
     "iopub.execute_input": "2021-09-14T07:01:17.486359Z",
     "iopub.status.busy": "2021-09-14T07:01:17.485384Z",
     "iopub.status.idle": "2021-09-14T07:01:17.488911Z",
     "shell.execute_reply": "2021-09-14T07:01:17.489311Z",
     "shell.execute_reply.started": "2021-07-19T16:35:13.623144Z"
    },
    "papermill": {
     "duration": 0.066628,
     "end_time": "2021-09-14T07:01:17.489468",
     "exception": false,
     "start_time": "2021-09-14T07:01:17.422840",
     "status": "completed"
    },
    "tags": []
   },
   "outputs": [
    {
     "data": {
      "text/html": [
       "<div>\n",
       "<style scoped>\n",
       "    .dataframe tbody tr th:only-of-type {\n",
       "        vertical-align: middle;\n",
       "    }\n",
       "\n",
       "    .dataframe tbody tr th {\n",
       "        vertical-align: top;\n",
       "    }\n",
       "\n",
       "    .dataframe thead th {\n",
       "        text-align: right;\n",
       "    }\n",
       "</style>\n",
       "<table border=\"1\" class=\"dataframe\">\n",
       "  <thead>\n",
       "    <tr style=\"text-align: right;\">\n",
       "      <th></th>\n",
       "      <th>step</th>\n",
       "      <th>type</th>\n",
       "      <th>amount</th>\n",
       "      <th>oldbalanceOrg</th>\n",
       "      <th>newbalanceOrig</th>\n",
       "      <th>oldbalanceDest</th>\n",
       "      <th>newbalanceDest</th>\n",
       "      <th>isFraud</th>\n",
       "      <th>errorOrig</th>\n",
       "      <th>errorDest</th>\n",
       "    </tr>\n",
       "  </thead>\n",
       "  <tbody>\n",
       "    <tr>\n",
       "      <th>2</th>\n",
       "      <td>1</td>\n",
       "      <td>TRANSFER</td>\n",
       "      <td>181.00</td>\n",
       "      <td>181.0</td>\n",
       "      <td>0.0</td>\n",
       "      <td>0.0</td>\n",
       "      <td>0.00</td>\n",
       "      <td>1</td>\n",
       "      <td>0.00</td>\n",
       "      <td>181.0</td>\n",
       "    </tr>\n",
       "    <tr>\n",
       "      <th>3</th>\n",
       "      <td>1</td>\n",
       "      <td>CASH_OUT</td>\n",
       "      <td>181.00</td>\n",
       "      <td>181.0</td>\n",
       "      <td>0.0</td>\n",
       "      <td>21182.0</td>\n",
       "      <td>0.00</td>\n",
       "      <td>1</td>\n",
       "      <td>0.00</td>\n",
       "      <td>21363.0</td>\n",
       "    </tr>\n",
       "    <tr>\n",
       "      <th>15</th>\n",
       "      <td>1</td>\n",
       "      <td>CASH_OUT</td>\n",
       "      <td>229133.94</td>\n",
       "      <td>15325.0</td>\n",
       "      <td>0.0</td>\n",
       "      <td>5083.0</td>\n",
       "      <td>51513.44</td>\n",
       "      <td>0</td>\n",
       "      <td>213808.94</td>\n",
       "      <td>182703.5</td>\n",
       "    </tr>\n",
       "    <tr>\n",
       "      <th>19</th>\n",
       "      <td>1</td>\n",
       "      <td>TRANSFER</td>\n",
       "      <td>215310.30</td>\n",
       "      <td>705.0</td>\n",
       "      <td>0.0</td>\n",
       "      <td>22425.0</td>\n",
       "      <td>0.00</td>\n",
       "      <td>0</td>\n",
       "      <td>214605.30</td>\n",
       "      <td>237735.3</td>\n",
       "    </tr>\n",
       "    <tr>\n",
       "      <th>24</th>\n",
       "      <td>1</td>\n",
       "      <td>TRANSFER</td>\n",
       "      <td>311685.89</td>\n",
       "      <td>10835.0</td>\n",
       "      <td>0.0</td>\n",
       "      <td>6267.0</td>\n",
       "      <td>2719172.89</td>\n",
       "      <td>0</td>\n",
       "      <td>300850.89</td>\n",
       "      <td>-2401220.0</td>\n",
       "    </tr>\n",
       "  </tbody>\n",
       "</table>\n",
       "</div>"
      ],
      "text/plain": [
       "    step      type     amount  oldbalanceOrg  newbalanceOrig  oldbalanceDest  \\\n",
       "2      1  TRANSFER     181.00          181.0             0.0             0.0   \n",
       "3      1  CASH_OUT     181.00          181.0             0.0         21182.0   \n",
       "15     1  CASH_OUT  229133.94        15325.0             0.0          5083.0   \n",
       "19     1  TRANSFER  215310.30          705.0             0.0         22425.0   \n",
       "24     1  TRANSFER  311685.89        10835.0             0.0          6267.0   \n",
       "\n",
       "    newbalanceDest  isFraud  errorOrig  errorDest  \n",
       "2             0.00        1       0.00      181.0  \n",
       "3             0.00        1       0.00    21363.0  \n",
       "15        51513.44        0  213808.94   182703.5  \n",
       "19            0.00        0  214605.30   237735.3  \n",
       "24      2719172.89        0  300850.89 -2401220.0  "
      ]
     },
     "execution_count": 32,
     "metadata": {},
     "output_type": "execute_result"
    }
   ],
   "source": [
    "train.head()"
   ]
  },
  {
   "cell_type": "code",
   "execution_count": 33,
   "metadata": {
    "execution": {
     "iopub.execute_input": "2021-09-14T07:01:17.594417Z",
     "iopub.status.busy": "2021-09-14T07:01:17.593703Z",
     "iopub.status.idle": "2021-09-14T07:01:17.694982Z",
     "shell.execute_reply": "2021-09-14T07:01:17.694471Z",
     "shell.execute_reply.started": "2021-07-19T16:35:38.407605Z"
    },
    "papermill": {
     "duration": 0.157068,
     "end_time": "2021-09-14T07:01:17.695128",
     "exception": false,
     "start_time": "2021-09-14T07:01:17.538060",
     "status": "completed"
    },
    "tags": []
   },
   "outputs": [],
   "source": [
    "from sklearn.preprocessing import LabelEncoder"
   ]
  },
  {
   "cell_type": "code",
   "execution_count": 34,
   "metadata": {
    "execution": {
     "iopub.execute_input": "2021-09-14T07:01:17.930818Z",
     "iopub.status.busy": "2021-09-14T07:01:17.920664Z",
     "iopub.status.idle": "2021-09-14T07:01:18.613486Z",
     "shell.execute_reply": "2021-09-14T07:01:18.613936Z",
     "shell.execute_reply.started": "2021-07-19T16:35:44.944687Z"
    },
    "papermill": {
     "duration": 0.870731,
     "end_time": "2021-09-14T07:01:18.614108",
     "exception": false,
     "start_time": "2021-09-14T07:01:17.743377",
     "status": "completed"
    },
    "tags": []
   },
   "outputs": [],
   "source": [
    "train['type'] = LabelEncoder().fit_transform(train['type'])"
   ]
  },
  {
   "cell_type": "code",
   "execution_count": 35,
   "metadata": {
    "execution": {
     "iopub.execute_input": "2021-09-14T07:01:18.726954Z",
     "iopub.status.busy": "2021-09-14T07:01:18.726296Z",
     "iopub.status.idle": "2021-09-14T07:01:18.731810Z",
     "shell.execute_reply": "2021-09-14T07:01:18.731344Z",
     "shell.execute_reply.started": "2021-07-19T16:35:51.417605Z"
    },
    "papermill": {
     "duration": 0.069506,
     "end_time": "2021-09-14T07:01:18.731939",
     "exception": false,
     "start_time": "2021-09-14T07:01:18.662433",
     "status": "completed"
    },
    "tags": []
   },
   "outputs": [
    {
     "data": {
      "text/html": [
       "<div>\n",
       "<style scoped>\n",
       "    .dataframe tbody tr th:only-of-type {\n",
       "        vertical-align: middle;\n",
       "    }\n",
       "\n",
       "    .dataframe tbody tr th {\n",
       "        vertical-align: top;\n",
       "    }\n",
       "\n",
       "    .dataframe thead th {\n",
       "        text-align: right;\n",
       "    }\n",
       "</style>\n",
       "<table border=\"1\" class=\"dataframe\">\n",
       "  <thead>\n",
       "    <tr style=\"text-align: right;\">\n",
       "      <th></th>\n",
       "      <th>step</th>\n",
       "      <th>type</th>\n",
       "      <th>amount</th>\n",
       "      <th>oldbalanceOrg</th>\n",
       "      <th>newbalanceOrig</th>\n",
       "      <th>oldbalanceDest</th>\n",
       "      <th>newbalanceDest</th>\n",
       "      <th>isFraud</th>\n",
       "      <th>errorOrig</th>\n",
       "      <th>errorDest</th>\n",
       "    </tr>\n",
       "  </thead>\n",
       "  <tbody>\n",
       "    <tr>\n",
       "      <th>2</th>\n",
       "      <td>1</td>\n",
       "      <td>1</td>\n",
       "      <td>181.00</td>\n",
       "      <td>181.0</td>\n",
       "      <td>0.0</td>\n",
       "      <td>0.0</td>\n",
       "      <td>0.00</td>\n",
       "      <td>1</td>\n",
       "      <td>0.00</td>\n",
       "      <td>181.0</td>\n",
       "    </tr>\n",
       "    <tr>\n",
       "      <th>3</th>\n",
       "      <td>1</td>\n",
       "      <td>0</td>\n",
       "      <td>181.00</td>\n",
       "      <td>181.0</td>\n",
       "      <td>0.0</td>\n",
       "      <td>21182.0</td>\n",
       "      <td>0.00</td>\n",
       "      <td>1</td>\n",
       "      <td>0.00</td>\n",
       "      <td>21363.0</td>\n",
       "    </tr>\n",
       "    <tr>\n",
       "      <th>15</th>\n",
       "      <td>1</td>\n",
       "      <td>0</td>\n",
       "      <td>229133.94</td>\n",
       "      <td>15325.0</td>\n",
       "      <td>0.0</td>\n",
       "      <td>5083.0</td>\n",
       "      <td>51513.44</td>\n",
       "      <td>0</td>\n",
       "      <td>213808.94</td>\n",
       "      <td>182703.5</td>\n",
       "    </tr>\n",
       "    <tr>\n",
       "      <th>19</th>\n",
       "      <td>1</td>\n",
       "      <td>1</td>\n",
       "      <td>215310.30</td>\n",
       "      <td>705.0</td>\n",
       "      <td>0.0</td>\n",
       "      <td>22425.0</td>\n",
       "      <td>0.00</td>\n",
       "      <td>0</td>\n",
       "      <td>214605.30</td>\n",
       "      <td>237735.3</td>\n",
       "    </tr>\n",
       "    <tr>\n",
       "      <th>24</th>\n",
       "      <td>1</td>\n",
       "      <td>1</td>\n",
       "      <td>311685.89</td>\n",
       "      <td>10835.0</td>\n",
       "      <td>0.0</td>\n",
       "      <td>6267.0</td>\n",
       "      <td>2719172.89</td>\n",
       "      <td>0</td>\n",
       "      <td>300850.89</td>\n",
       "      <td>-2401220.0</td>\n",
       "    </tr>\n",
       "  </tbody>\n",
       "</table>\n",
       "</div>"
      ],
      "text/plain": [
       "    step  type     amount  oldbalanceOrg  newbalanceOrig  oldbalanceDest  \\\n",
       "2      1     1     181.00          181.0             0.0             0.0   \n",
       "3      1     0     181.00          181.0             0.0         21182.0   \n",
       "15     1     0  229133.94        15325.0             0.0          5083.0   \n",
       "19     1     1  215310.30          705.0             0.0         22425.0   \n",
       "24     1     1  311685.89        10835.0             0.0          6267.0   \n",
       "\n",
       "    newbalanceDest  isFraud  errorOrig  errorDest  \n",
       "2             0.00        1       0.00      181.0  \n",
       "3             0.00        1       0.00    21363.0  \n",
       "15        51513.44        0  213808.94   182703.5  \n",
       "19            0.00        0  214605.30   237735.3  \n",
       "24      2719172.89        0  300850.89 -2401220.0  "
      ]
     },
     "execution_count": 35,
     "metadata": {},
     "output_type": "execute_result"
    }
   ],
   "source": [
    "train.head()"
   ]
  },
  {
   "cell_type": "markdown",
   "metadata": {
    "papermill": {
     "duration": 0.048646,
     "end_time": "2021-09-14T07:01:18.832916",
     "exception": false,
     "start_time": "2021-09-14T07:01:18.784270",
     "status": "completed"
    },
    "tags": []
   },
   "source": [
    "## Modelling"
   ]
  },
  {
   "cell_type": "markdown",
   "metadata": {
    "papermill": {
     "duration": 0.04852,
     "end_time": "2021-09-14T07:01:18.931682",
     "exception": false,
     "start_time": "2021-09-14T07:01:18.883162",
     "status": "completed"
    },
    "tags": []
   },
   "source": [
    "From the model evaluation (or confusion matrix), we know that\n",
    "\n",
    "Accuracy = (TP + TN) / Total                                               \n",
    "Presicion = TP / (TP + FP)                                                       \n",
    "Recall = TP / (TP + FN) \n",
    "\n",
    "As such, specifically for this problem, we are interested in the recall score to capture the most fraudulent transactions. As we know, due to the imbalance of the data, many observations could be predicted as False Negatives, being, that we predict a normal transaction, but it is in fact a fraudulent one. Recall captures this.\n",
    "\n",
    "Obviously, trying to increase recall, tends to come with a decrease of precision. However, in our case, if we predict that a transaction is fraudulent and turns out not to be, is not a massive problem compared to the opposite.\n",
    "\n",
    "Due to this, many evaluation will be based on recall score."
   ]
  },
  {
   "cell_type": "markdown",
   "metadata": {
    "papermill": {
     "duration": 0.049281,
     "end_time": "2021-09-14T07:01:19.029986",
     "exception": false,
     "start_time": "2021-09-14T07:01:18.980705",
     "status": "completed"
    },
    "tags": []
   },
   "source": [
    "**Performance Metric selection**:\n",
    "\n",
    "Since the data is highly skewed, I am using the area under the precision-recall curve (AUPRC) rather than the conventional area under the receiver operating characteristic (AUROC). \n",
    "\n",
    "F1 score is the harmonic mean of the precision and recall. The highest possible value of F1 is 1, indicating perfect precision and recall, and the lowest possible value is 0, if either the precision or the recall is zero.\n",
    "\n",
    "We should do more focus on FP & FN."
   ]
  },
  {
   "cell_type": "markdown",
   "metadata": {
    "papermill": {
     "duration": 0.048622,
     "end_time": "2021-09-14T07:01:19.128423",
     "exception": false,
     "start_time": "2021-09-14T07:01:19.079801",
     "status": "completed"
    },
    "tags": []
   },
   "source": [
    "**ML algorithm selection**:\n",
    "\n",
    "1. A first approach to deal with imbalanced data is to balance it by discarding the majority class before applying an ML algorithm. The disadvantage of undersampling is that a model trained in this way will not perform well on real-world skewed test data since almost all the information was discarded.\n",
    "\n",
    "2. I find, however, that the best result is obtained on the original dataset by using a ML algorithm based on ensembles of decision trees that intrinsically performs well on imbalanced data. Such algorithms not only allow for constructing a model that can cope with the missing values in our data, but they naturally allow for speedup via parallel-processing."
   ]
  },
  {
   "cell_type": "code",
   "execution_count": 36,
   "metadata": {
    "execution": {
     "iopub.execute_input": "2021-09-14T07:01:19.230381Z",
     "iopub.status.busy": "2021-09-14T07:01:19.229672Z",
     "iopub.status.idle": "2021-09-14T07:01:19.526631Z",
     "shell.execute_reply": "2021-09-14T07:01:19.526098Z",
     "shell.execute_reply.started": "2021-07-19T16:36:03.945854Z"
    },
    "papermill": {
     "duration": 0.349651,
     "end_time": "2021-09-14T07:01:19.526785",
     "exception": false,
     "start_time": "2021-09-14T07:01:19.177134",
     "status": "completed"
    },
    "tags": []
   },
   "outputs": [],
   "source": [
    "from sklearn.model_selection import train_test_split\n",
    "from sklearn.metrics import average_precision_score,accuracy_score,f1_score,classification_report,precision_recall_curve,confusion_matrix\n",
    "from sklearn.ensemble import RandomForestClassifier"
   ]
  },
  {
   "cell_type": "code",
   "execution_count": 37,
   "metadata": {
    "execution": {
     "iopub.execute_input": "2021-09-14T07:01:19.630240Z",
     "iopub.status.busy": "2021-09-14T07:01:19.629105Z",
     "iopub.status.idle": "2021-09-14T07:01:19.834244Z",
     "shell.execute_reply": "2021-09-14T07:01:19.833691Z",
     "shell.execute_reply.started": "2021-07-19T16:36:15.390579Z"
    },
    "papermill": {
     "duration": 0.259193,
     "end_time": "2021-09-14T07:01:19.834376",
     "exception": false,
     "start_time": "2021-09-14T07:01:19.575183",
     "status": "completed"
    },
    "tags": []
   },
   "outputs": [],
   "source": [
    "y = train['isFraud']\n",
    "train.drop('isFraud',axis=1,inplace=True)"
   ]
  },
  {
   "cell_type": "code",
   "execution_count": 38,
   "metadata": {
    "execution": {
     "iopub.execute_input": "2021-09-14T07:01:19.937118Z",
     "iopub.status.busy": "2021-09-14T07:01:19.936102Z",
     "iopub.status.idle": "2021-09-14T07:01:20.521351Z",
     "shell.execute_reply": "2021-09-14T07:01:20.520896Z",
     "shell.execute_reply.started": "2021-07-19T16:36:22.594232Z"
    },
    "papermill": {
     "duration": 0.638462,
     "end_time": "2021-09-14T07:01:20.521481",
     "exception": false,
     "start_time": "2021-09-14T07:01:19.883019",
     "status": "completed"
    },
    "tags": []
   },
   "outputs": [],
   "source": [
    "x_train,x_test,y_train,y_test = train_test_split(train,y,test_size=0.2)"
   ]
  },
  {
   "cell_type": "code",
   "execution_count": 39,
   "metadata": {
    "execution": {
     "iopub.execute_input": "2021-09-14T07:01:20.624473Z",
     "iopub.status.busy": "2021-09-14T07:01:20.623821Z",
     "iopub.status.idle": "2021-09-14T07:01:20.626812Z",
     "shell.execute_reply": "2021-09-14T07:01:20.627440Z",
     "shell.execute_reply.started": "2021-07-19T16:36:30.510894Z"
    },
    "papermill": {
     "duration": 0.057677,
     "end_time": "2021-09-14T07:01:20.627628",
     "exception": false,
     "start_time": "2021-09-14T07:01:20.569951",
     "status": "completed"
    },
    "tags": []
   },
   "outputs": [
    {
     "name": "stdout",
     "output_type": "stream",
     "text": [
      "(2216327, 9)\n",
      "(2216327,)\n",
      "(554082, 9)\n",
      "(554082,)\n"
     ]
    }
   ],
   "source": [
    "print(x_train.shape)\n",
    "print(y_train.shape)\n",
    "print(x_test.shape)\n",
    "print(y_test.shape)"
   ]
  },
  {
   "cell_type": "code",
   "execution_count": 40,
   "metadata": {
    "execution": {
     "iopub.execute_input": "2021-09-14T07:01:20.741898Z",
     "iopub.status.busy": "2021-09-14T07:01:20.741097Z",
     "iopub.status.idle": "2021-09-14T07:01:20.744419Z",
     "shell.execute_reply": "2021-09-14T07:01:20.744796Z",
     "shell.execute_reply.started": "2021-07-19T16:36:58.814901Z"
    },
    "papermill": {
     "duration": 0.067298,
     "end_time": "2021-09-14T07:01:20.744950",
     "exception": false,
     "start_time": "2021-09-14T07:01:20.677652",
     "status": "completed"
    },
    "tags": []
   },
   "outputs": [
    {
     "data": {
      "text/html": [
       "<div>\n",
       "<style scoped>\n",
       "    .dataframe tbody tr th:only-of-type {\n",
       "        vertical-align: middle;\n",
       "    }\n",
       "\n",
       "    .dataframe tbody tr th {\n",
       "        vertical-align: top;\n",
       "    }\n",
       "\n",
       "    .dataframe thead th {\n",
       "        text-align: right;\n",
       "    }\n",
       "</style>\n",
       "<table border=\"1\" class=\"dataframe\">\n",
       "  <thead>\n",
       "    <tr style=\"text-align: right;\">\n",
       "      <th></th>\n",
       "      <th>step</th>\n",
       "      <th>type</th>\n",
       "      <th>amount</th>\n",
       "      <th>oldbalanceOrg</th>\n",
       "      <th>newbalanceOrig</th>\n",
       "      <th>oldbalanceDest</th>\n",
       "      <th>newbalanceDest</th>\n",
       "      <th>errorOrig</th>\n",
       "      <th>errorDest</th>\n",
       "    </tr>\n",
       "  </thead>\n",
       "  <tbody>\n",
       "    <tr>\n",
       "      <th>1931251</th>\n",
       "      <td>169</td>\n",
       "      <td>0</td>\n",
       "      <td>82181.32</td>\n",
       "      <td>0.0</td>\n",
       "      <td>0.0</td>\n",
       "      <td>636890.64</td>\n",
       "      <td>719071.96</td>\n",
       "      <td>82181.32</td>\n",
       "      <td>0.000000e+00</td>\n",
       "    </tr>\n",
       "    <tr>\n",
       "      <th>5074525</th>\n",
       "      <td>355</td>\n",
       "      <td>0</td>\n",
       "      <td>123897.49</td>\n",
       "      <td>6194.0</td>\n",
       "      <td>0.0</td>\n",
       "      <td>715725.71</td>\n",
       "      <td>839623.20</td>\n",
       "      <td>117703.49</td>\n",
       "      <td>0.000000e+00</td>\n",
       "    </tr>\n",
       "    <tr>\n",
       "      <th>4680947</th>\n",
       "      <td>331</td>\n",
       "      <td>0</td>\n",
       "      <td>190990.94</td>\n",
       "      <td>0.0</td>\n",
       "      <td>0.0</td>\n",
       "      <td>4669698.59</td>\n",
       "      <td>4860689.53</td>\n",
       "      <td>190990.94</td>\n",
       "      <td>0.000000e+00</td>\n",
       "    </tr>\n",
       "    <tr>\n",
       "      <th>95302</th>\n",
       "      <td>10</td>\n",
       "      <td>1</td>\n",
       "      <td>1136816.00</td>\n",
       "      <td>86944.0</td>\n",
       "      <td>0.0</td>\n",
       "      <td>636908.07</td>\n",
       "      <td>1635321.98</td>\n",
       "      <td>1049872.00</td>\n",
       "      <td>1.384021e+05</td>\n",
       "    </tr>\n",
       "    <tr>\n",
       "      <th>4551274</th>\n",
       "      <td>327</td>\n",
       "      <td>0</td>\n",
       "      <td>102462.53</td>\n",
       "      <td>6074.0</td>\n",
       "      <td>0.0</td>\n",
       "      <td>1030052.33</td>\n",
       "      <td>1132514.86</td>\n",
       "      <td>96388.53</td>\n",
       "      <td>-2.328306e-10</td>\n",
       "    </tr>\n",
       "  </tbody>\n",
       "</table>\n",
       "</div>"
      ],
      "text/plain": [
       "         step  type      amount  oldbalanceOrg  newbalanceOrig  \\\n",
       "1931251   169     0    82181.32            0.0             0.0   \n",
       "5074525   355     0   123897.49         6194.0             0.0   \n",
       "4680947   331     0   190990.94            0.0             0.0   \n",
       "95302      10     1  1136816.00        86944.0             0.0   \n",
       "4551274   327     0   102462.53         6074.0             0.0   \n",
       "\n",
       "         oldbalanceDest  newbalanceDest   errorOrig     errorDest  \n",
       "1931251       636890.64       719071.96    82181.32  0.000000e+00  \n",
       "5074525       715725.71       839623.20   117703.49  0.000000e+00  \n",
       "4680947      4669698.59      4860689.53   190990.94  0.000000e+00  \n",
       "95302         636908.07      1635321.98  1049872.00  1.384021e+05  \n",
       "4551274      1030052.33      1132514.86    96388.53 -2.328306e-10  "
      ]
     },
     "execution_count": 40,
     "metadata": {},
     "output_type": "execute_result"
    }
   ],
   "source": [
    "x_train.head()"
   ]
  },
  {
   "cell_type": "code",
   "execution_count": 41,
   "metadata": {
    "execution": {
     "iopub.execute_input": "2021-09-14T07:01:20.848857Z",
     "iopub.status.busy": "2021-09-14T07:01:20.847294Z",
     "iopub.status.idle": "2021-09-14T07:01:20.849540Z",
     "shell.execute_reply": "2021-09-14T07:01:20.849965Z",
     "shell.execute_reply.started": "2021-07-19T16:36:38.668227Z"
    },
    "papermill": {
     "duration": 0.056079,
     "end_time": "2021-09-14T07:01:20.850105",
     "exception": false,
     "start_time": "2021-09-14T07:01:20.794026",
     "status": "completed"
    },
    "tags": []
   },
   "outputs": [],
   "source": [
    "random_forest = RandomForestClassifier()"
   ]
  },
  {
   "cell_type": "code",
   "execution_count": 42,
   "metadata": {
    "execution": {
     "iopub.execute_input": "2021-09-14T07:01:20.954914Z",
     "iopub.status.busy": "2021-09-14T07:01:20.953829Z",
     "iopub.status.idle": "2021-09-14T07:11:41.169108Z",
     "shell.execute_reply": "2021-09-14T07:11:41.169543Z",
     "shell.execute_reply.started": "2021-07-19T16:37:13.334703Z"
    },
    "papermill": {
     "duration": 620.270745,
     "end_time": "2021-09-14T07:11:41.169713",
     "exception": false,
     "start_time": "2021-09-14T07:01:20.898968",
     "status": "completed"
    },
    "tags": []
   },
   "outputs": [
    {
     "data": {
      "text/plain": [
       "RandomForestClassifier()"
      ]
     },
     "execution_count": 42,
     "metadata": {},
     "output_type": "execute_result"
    }
   ],
   "source": [
    "random_forest.fit(x_train,y_train)"
   ]
  },
  {
   "cell_type": "code",
   "execution_count": 43,
   "metadata": {
    "execution": {
     "iopub.execute_input": "2021-09-14T07:11:41.276610Z",
     "iopub.status.busy": "2021-09-14T07:11:41.275492Z",
     "iopub.status.idle": "2021-09-14T07:11:57.819196Z",
     "shell.execute_reply": "2021-09-14T07:11:57.818140Z",
     "shell.execute_reply.started": "2021-07-19T16:48:59.899873Z"
    },
    "papermill": {
     "duration": 16.599484,
     "end_time": "2021-09-14T07:11:57.819373",
     "exception": false,
     "start_time": "2021-09-14T07:11:41.219889",
     "status": "completed"
    },
    "tags": []
   },
   "outputs": [],
   "source": [
    "y_pred = random_forest.predict(x_train)"
   ]
  },
  {
   "cell_type": "code",
   "execution_count": 44,
   "metadata": {
    "execution": {
     "iopub.execute_input": "2021-09-14T07:11:57.925492Z",
     "iopub.status.busy": "2021-09-14T07:11:57.924955Z",
     "iopub.status.idle": "2021-09-14T07:11:57.928896Z",
     "shell.execute_reply": "2021-09-14T07:11:57.928446Z",
     "shell.execute_reply.started": "2021-07-19T16:49:54.279584Z"
    },
    "papermill": {
     "duration": 0.059681,
     "end_time": "2021-09-14T07:11:57.929015",
     "exception": false,
     "start_time": "2021-09-14T07:11:57.869334",
     "status": "completed"
    },
    "tags": []
   },
   "outputs": [],
   "source": [
    "def model_result(clf,x_test,y_test):\n",
    "    y_prob=clf.predict_proba(x_test)\n",
    "    y_pred=clf.predict(x_test)\n",
    "    print('AUPRC :', (average_precision_score(y_test, y_prob[:, 1])))\n",
    "    print('F1 - score :',(f1_score(y_test,y_pred)))\n",
    "    print('Confusion_matrix : ')\n",
    "    print(confusion_matrix(y_test,y_pred))\n",
    "    print(\"accuracy_score\")\n",
    "    print(accuracy_score(y_test,y_pred))\n",
    "    print(\"classification_report\")\n",
    "    print(classification_report(y_test,y_pred))"
   ]
  },
  {
   "cell_type": "code",
   "execution_count": 45,
   "metadata": {
    "execution": {
     "iopub.execute_input": "2021-09-14T07:11:58.035140Z",
     "iopub.status.busy": "2021-09-14T07:11:58.034070Z",
     "iopub.status.idle": "2021-09-14T07:12:38.610510Z",
     "shell.execute_reply": "2021-09-14T07:12:38.610072Z",
     "shell.execute_reply.started": "2021-07-19T16:53:03.898279Z"
    },
    "papermill": {
     "duration": 40.631721,
     "end_time": "2021-09-14T07:12:38.610636",
     "exception": false,
     "start_time": "2021-09-14T07:11:57.978915",
     "status": "completed"
    },
    "tags": []
   },
   "outputs": [
    {
     "name": "stdout",
     "output_type": "stream",
     "text": [
      "AUPRC : 1.0\n",
      "F1 - score : 1.0\n",
      "Confusion_matrix : \n",
      "[[2209781       0]\n",
      " [      0    6546]]\n",
      "accuracy_score\n",
      "1.0\n",
      "classification_report\n",
      "              precision    recall  f1-score   support\n",
      "\n",
      "           0       1.00      1.00      1.00   2209781\n",
      "           1       1.00      1.00      1.00      6546\n",
      "\n",
      "    accuracy                           1.00   2216327\n",
      "   macro avg       1.00      1.00      1.00   2216327\n",
      "weighted avg       1.00      1.00      1.00   2216327\n",
      "\n"
     ]
    }
   ],
   "source": [
    "model_result(random_forest,x_train,y_train)"
   ]
  },
  {
   "cell_type": "code",
   "execution_count": 46,
   "metadata": {
    "execution": {
     "iopub.execute_input": "2021-09-14T07:12:38.719187Z",
     "iopub.status.busy": "2021-09-14T07:12:38.717652Z",
     "iopub.status.idle": "2021-09-14T07:12:48.114237Z",
     "shell.execute_reply": "2021-09-14T07:12:48.113818Z",
     "shell.execute_reply.started": "2021-07-19T16:51:14.074053Z"
    },
    "papermill": {
     "duration": 9.453162,
     "end_time": "2021-09-14T07:12:48.114370",
     "exception": false,
     "start_time": "2021-09-14T07:12:38.661208",
     "status": "completed"
    },
    "tags": []
   },
   "outputs": [
    {
     "name": "stdout",
     "output_type": "stream",
     "text": [
      "AUPRC : 0.9970060360159229\n",
      "F1 - score : 0.9981971153846153\n",
      "Confusion_matrix : \n",
      "[[552415      0]\n",
      " [     6   1661]]\n",
      "accuracy_score\n",
      "0.9999891712778975\n",
      "classification_report\n",
      "              precision    recall  f1-score   support\n",
      "\n",
      "           0       1.00      1.00      1.00    552415\n",
      "           1       1.00      1.00      1.00      1667\n",
      "\n",
      "    accuracy                           1.00    554082\n",
      "   macro avg       1.00      1.00      1.00    554082\n",
      "weighted avg       1.00      1.00      1.00    554082\n",
      "\n"
     ]
    }
   ],
   "source": [
    "model_result(random_forest,x_test,y_test)"
   ]
  },
  {
   "cell_type": "markdown",
   "metadata": {
    "papermill": {
     "duration": 0.051538,
     "end_time": "2021-09-14T07:12:48.219852",
     "exception": false,
     "start_time": "2021-09-14T07:12:48.168314",
     "status": "completed"
    },
    "tags": []
   },
   "source": [
    "Our default model performs good enough with recall score of 1.00 on both test and train data. By zooming in, only 5 prediction are False Negatives. "
   ]
  },
  {
   "cell_type": "code",
   "execution_count": 47,
   "metadata": {
    "execution": {
     "iopub.execute_input": "2021-09-14T07:12:48.340613Z",
     "iopub.status.busy": "2021-09-14T07:12:48.339802Z",
     "iopub.status.idle": "2021-09-14T07:12:48.350877Z",
     "shell.execute_reply": "2021-09-14T07:12:48.350390Z",
     "shell.execute_reply.started": "2021-07-19T17:17:29.709217Z"
    },
    "papermill": {
     "duration": 0.078669,
     "end_time": "2021-09-14T07:12:48.351028",
     "exception": false,
     "start_time": "2021-09-14T07:12:48.272359",
     "status": "completed"
    },
    "tags": []
   },
   "outputs": [
    {
     "data": {
      "text/html": [
       "<div>\n",
       "<style scoped>\n",
       "    .dataframe tbody tr th:only-of-type {\n",
       "        vertical-align: middle;\n",
       "    }\n",
       "\n",
       "    .dataframe tbody tr th {\n",
       "        vertical-align: top;\n",
       "    }\n",
       "\n",
       "    .dataframe thead th {\n",
       "        text-align: right;\n",
       "    }\n",
       "</style>\n",
       "<table border=\"1\" class=\"dataframe\">\n",
       "  <thead>\n",
       "    <tr style=\"text-align: right;\">\n",
       "      <th></th>\n",
       "      <th>importance</th>\n",
       "    </tr>\n",
       "    <tr>\n",
       "      <th>feature</th>\n",
       "      <th></th>\n",
       "    </tr>\n",
       "  </thead>\n",
       "  <tbody>\n",
       "    <tr>\n",
       "      <th>newbalanceOrig</th>\n",
       "      <td>0.413</td>\n",
       "    </tr>\n",
       "    <tr>\n",
       "      <th>oldbalanceOrg</th>\n",
       "      <td>0.105</td>\n",
       "    </tr>\n",
       "    <tr>\n",
       "      <th>newbalanceDest</th>\n",
       "      <td>0.093</td>\n",
       "    </tr>\n",
       "    <tr>\n",
       "      <th>errorOrig</th>\n",
       "      <td>0.087</td>\n",
       "    </tr>\n",
       "    <tr>\n",
       "      <th>type</th>\n",
       "      <td>0.080</td>\n",
       "    </tr>\n",
       "    <tr>\n",
       "      <th>amount</th>\n",
       "      <td>0.076</td>\n",
       "    </tr>\n",
       "    <tr>\n",
       "      <th>oldbalanceDest</th>\n",
       "      <td>0.060</td>\n",
       "    </tr>\n",
       "    <tr>\n",
       "      <th>step</th>\n",
       "      <td>0.043</td>\n",
       "    </tr>\n",
       "    <tr>\n",
       "      <th>errorDest</th>\n",
       "      <td>0.042</td>\n",
       "    </tr>\n",
       "  </tbody>\n",
       "</table>\n",
       "</div>"
      ],
      "text/plain": [
       "                importance\n",
       "feature                   \n",
       "newbalanceOrig       0.413\n",
       "oldbalanceOrg        0.105\n",
       "newbalanceDest       0.093\n",
       "errorOrig            0.087\n",
       "type                 0.080\n",
       "amount               0.076\n",
       "oldbalanceDest       0.060\n",
       "step                 0.043\n",
       "errorDest            0.042"
      ]
     },
     "execution_count": 47,
     "metadata": {},
     "output_type": "execute_result"
    }
   ],
   "source": [
    "importances = pd.DataFrame({'feature':x_train.columns,'importance':np.round(random_forest.feature_importances_,3)})\n",
    "importances = importances.sort_values('importance',ascending=False).set_index('feature')\n",
    "importances"
   ]
  },
  {
   "cell_type": "markdown",
   "metadata": {
    "papermill": {
     "duration": 0.052307,
     "end_time": "2021-09-14T07:12:48.457155",
     "exception": false,
     "start_time": "2021-09-14T07:12:48.404848",
     "status": "completed"
    },
    "tags": []
   },
   "source": [
    "According to our model newbalanceOrig, oldbalanceOrg are two of the most important features maybe because all fraudulent transactions involve wiping out complete amount which would make newbalanceOrig 0. To my surprise step is second least important feature, I thought it would be more important."
   ]
  },
  {
   "cell_type": "markdown",
   "metadata": {
    "papermill": {
     "duration": 0.053195,
     "end_time": "2021-09-14T07:12:48.562842",
     "exception": false,
     "start_time": "2021-09-14T07:12:48.509647",
     "status": "completed"
    },
    "tags": []
   },
   "source": [
    "### conclusion\n",
    "\n",
    "We explored the whole data using visualization techniques, added new features , removed unwanted features etc.\n",
    "\n",
    "We also used random forest classifier because of skewness of the data, it is also robust to outliers."
   ]
  },
  {
   "cell_type": "markdown",
   "metadata": {
    "papermill": {
     "duration": 0.052268,
     "end_time": "2021-09-14T07:12:48.667701",
     "exception": false,
     "start_time": "2021-09-14T07:12:48.615433",
     "status": "completed"
    },
    "tags": []
   },
   "source": [
    "In future developments, the should be taking care of 'TRANSFER' and 'CASH-OUT' type of transactions as every fraud transaction is falls under these categories. The company sholud review the accounts whose balance becomes 0 after the transactions. "
   ]
  }
 ],
 "metadata": {
  "kernelspec": {
   "display_name": "Python 3",
   "language": "python",
   "name": "python3"
  },
  "language_info": {
   "codemirror_mode": {
    "name": "ipython",
    "version": 3
   },
   "file_extension": ".py",
   "mimetype": "text/x-python",
   "name": "python",
   "nbconvert_exporter": "python",
   "pygments_lexer": "ipython3",
   "version": "3.8.3"
  },
  "papermill": {
   "default_parameters": {},
   "duration": 772.70346,
   "end_time": "2021-09-14T07:12:49.730490",
   "environment_variables": {},
   "exception": null,
   "input_path": "__notebook__.ipynb",
   "output_path": "__notebook__.ipynb",
   "parameters": {},
   "start_time": "2021-09-14T06:59:57.027030",
   "version": "2.3.3"
  }
 },
 "nbformat": 4,
 "nbformat_minor": 5
}
