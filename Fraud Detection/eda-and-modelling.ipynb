{
 "cells": [
  {
   "cell_type": "markdown",
   "metadata": {
    "papermill": {
     "duration": 0.035514,
     "end_time": "2021-03-24T15:01:53.112933",
     "exception": false,
     "start_time": "2021-03-24T15:01:53.077419",
     "status": "completed"
    },
    "tags": []
   },
   "source": [
    "Anyone with a bank account currently living must have encountered the words 'Transaction Fraud'. It might be their personal experience or a third-party experience heard from someone else or from agents selling insurance. As the world is becoming more and more digital, the transaction frauds are also increasing at a rapid pace. In a study, it is found out that 24 bilion USD is lost due to credit card fraud transactions in one year.Banking and financial institutions are facing severe challenges due to fraudulent transactions. \n",
    "\n",
    "To tackle these frauds, there is a need for banks to put strategies in place so that customers' money is not lost. The most common strategy used by banks is put a threshold on transaction amount and any transaction above that amount requires multiple-authentications from customer. This method works well in most of the cases but it is a crude way to make a fraud strategy as it spoils the customer experience. Also having a dumb strategy like this would not work because of the fraudsters' scary ability of adapting to different environments. An evolving and intelligent fraud policy is the best solution to this problem. Machine learning is the perfect answer and algorithms like Boosting and Regression can be used to classify frauds.\n",
    "\n",
    "Post building a model, we can use this to predict whether a fraud can happen or not and only authenticate a transaction if the model says so. There is another problem that many banks encounter while model implementation that is to run the model on real-time basis and give results instantly. Unlike models to optimize marketing campaigns or determine customer's risk score which can be done in batch, transaction models need to be run on real-time. Hence there is lot of emphasis on big data cloud platforms like AWS, Azure and Hadoop that stores data and implement machine learning models on scale when considering transaction frauds.\n",
    "\n",
    "This case study aims to answer some of the questions related to transaction frauds using visualizations. Couple of classification models would also be built at the end and the features that drive these models' performance would be explained."
   ]
  },
  {
   "cell_type": "code",
   "execution_count": 1,
   "metadata": {
    "_cell_guid": "b1076dfc-b9ad-4769-8c92-a6c4dae69d19",
    "_uuid": "8f2839f25d086af736a60e9eeb907d3b93b6e0e5",
    "execution": {
     "iopub.execute_input": "2021-03-24T15:01:53.193117Z",
     "iopub.status.busy": "2021-03-24T15:01:53.192473Z",
     "iopub.status.idle": "2021-03-24T15:01:53.208312Z",
     "shell.execute_reply": "2021-03-24T15:01:53.207297Z"
    },
    "papermill": {
     "duration": 0.058792,
     "end_time": "2021-03-24T15:01:53.208594",
     "exception": false,
     "start_time": "2021-03-24T15:01:53.149802",
     "status": "completed"
    },
    "tags": []
   },
   "outputs": [
    {
     "name": "stdout",
     "output_type": "stream",
     "text": [
      "/kaggle/input/paysim1/PS_20174392719_1491204439457_log.csv\n"
     ]
    }
   ],
   "source": [
    "# This Python 3 environment comes with many helpful analytics libraries installed\n",
    "# It is defined by the kaggle/python Docker image: https://github.com/kaggle/docker-python\n",
    "# For example, here's several helpful packages to load\n",
    "\n",
    "import numpy as np # linear algebra\n",
    "import pandas as pd # data processing, CSV file I/O (e.g. pd.read_csv)\n",
    "\n",
    "# Input data files are available in the read-only \"../input/\" directory\n",
    "# For example, running this (by clicking run or pressing Shift+Enter) will list all files under the input directory\n",
    "\n",
    "import os\n",
    "for dirname, _, filenames in os.walk('/kaggle/input'):\n",
    "    for filename in filenames:\n",
    "        print(os.path.join(dirname, filename))\n",
    "\n",
    "# You can write up to 20GB to the current directory (/kaggle/working/) that gets preserved as output when you create a version using \"Save & Run All\" \n",
    "# You can also write temporary files to /kaggle/temp/, but they won't be saved outside of the current session"
   ]
  },
  {
   "cell_type": "markdown",
   "metadata": {
    "papermill": {
     "duration": 0.034069,
     "end_time": "2021-03-24T15:01:53.280095",
     "exception": false,
     "start_time": "2021-03-24T15:01:53.246026",
     "status": "completed"
    },
    "tags": []
   },
   "source": [
    "Importing necessary packages to visualiza data and build models"
   ]
  },
  {
   "cell_type": "code",
   "execution_count": 2,
   "metadata": {
    "execution": {
     "iopub.execute_input": "2021-03-24T15:01:53.356477Z",
     "iopub.status.busy": "2021-03-24T15:01:53.355815Z",
     "iopub.status.idle": "2021-03-24T15:02:00.675109Z",
     "shell.execute_reply": "2021-03-24T15:02:00.674048Z"
    },
    "papermill": {
     "duration": 7.36084,
     "end_time": "2021-03-24T15:02:00.675264",
     "exception": false,
     "start_time": "2021-03-24T15:01:53.314424",
     "status": "completed"
    },
    "tags": []
   },
   "outputs": [],
   "source": [
    "import matplotlib.pyplot as plt\n",
    "import seaborn as sns\n",
    "from sklearn.model_selection import GridSearchCV,train_test_split\n",
    "from sklearn.ensemble import GradientBoostingClassifier\n",
    "from imblearn.under_sampling import RandomUnderSampler\n",
    "from imblearn.pipeline import Pipeline as pl2\n",
    "from sklearn.tree import DecisionTreeClassifier\n",
    "from sklearn.metrics import f1_score,classification_report,roc_auc_score,precision_score,recall_score\n",
    "from sklearn.linear_model import LogisticRegression\n",
    "from sklearn.preprocessing import StandardScaler\n",
    "from keras.models import Sequential\n",
    "from keras.layers import Dense,Input,BatchNormalization\n",
    "from keras.utils import to_categorical\n",
    "from keras.callbacks import EarlyStopping\n",
    "from keras.optimizers import Adam\n",
    "from keras.wrappers.scikit_learn import KerasClassifier"
   ]
  },
  {
   "cell_type": "markdown",
   "metadata": {
    "papermill": {
     "duration": 0.034607,
     "end_time": "2021-03-24T15:02:00.744911",
     "exception": false,
     "start_time": "2021-03-24T15:02:00.710304",
     "status": "completed"
    },
    "tags": []
   },
   "source": [
    "## Introduction\n",
    "Reading the transaction data into a dataframe and checking shape, data types and the summary."
   ]
  },
  {
   "cell_type": "code",
   "execution_count": 3,
   "metadata": {
    "execution": {
     "iopub.execute_input": "2021-03-24T15:02:00.819732Z",
     "iopub.status.busy": "2021-03-24T15:02:00.819080Z",
     "iopub.status.idle": "2021-03-24T15:02:20.519026Z",
     "shell.execute_reply": "2021-03-24T15:02:20.518145Z"
    },
    "papermill": {
     "duration": 19.739573,
     "end_time": "2021-03-24T15:02:20.519180",
     "exception": false,
     "start_time": "2021-03-24T15:02:00.779607",
     "status": "completed"
    },
    "tags": []
   },
   "outputs": [
    {
     "data": {
      "text/html": [
       "<div>\n",
       "<style scoped>\n",
       "    .dataframe tbody tr th:only-of-type {\n",
       "        vertical-align: middle;\n",
       "    }\n",
       "\n",
       "    .dataframe tbody tr th {\n",
       "        vertical-align: top;\n",
       "    }\n",
       "\n",
       "    .dataframe thead th {\n",
       "        text-align: right;\n",
       "    }\n",
       "</style>\n",
       "<table border=\"1\" class=\"dataframe\">\n",
       "  <thead>\n",
       "    <tr style=\"text-align: right;\">\n",
       "      <th></th>\n",
       "      <th>step</th>\n",
       "      <th>type</th>\n",
       "      <th>amount</th>\n",
       "      <th>nameOrig</th>\n",
       "      <th>oldbalanceOrg</th>\n",
       "      <th>newbalanceOrig</th>\n",
       "      <th>nameDest</th>\n",
       "      <th>oldbalanceDest</th>\n",
       "      <th>newbalanceDest</th>\n",
       "      <th>isFraud</th>\n",
       "      <th>isFlaggedFraud</th>\n",
       "    </tr>\n",
       "  </thead>\n",
       "  <tbody>\n",
       "    <tr>\n",
       "      <th>0</th>\n",
       "      <td>1</td>\n",
       "      <td>PAYMENT</td>\n",
       "      <td>9839.64</td>\n",
       "      <td>C1231006815</td>\n",
       "      <td>170136.0</td>\n",
       "      <td>160296.36</td>\n",
       "      <td>M1979787155</td>\n",
       "      <td>0.0</td>\n",
       "      <td>0.0</td>\n",
       "      <td>0</td>\n",
       "      <td>0</td>\n",
       "    </tr>\n",
       "    <tr>\n",
       "      <th>1</th>\n",
       "      <td>1</td>\n",
       "      <td>PAYMENT</td>\n",
       "      <td>1864.28</td>\n",
       "      <td>C1666544295</td>\n",
       "      <td>21249.0</td>\n",
       "      <td>19384.72</td>\n",
       "      <td>M2044282225</td>\n",
       "      <td>0.0</td>\n",
       "      <td>0.0</td>\n",
       "      <td>0</td>\n",
       "      <td>0</td>\n",
       "    </tr>\n",
       "    <tr>\n",
       "      <th>2</th>\n",
       "      <td>1</td>\n",
       "      <td>TRANSFER</td>\n",
       "      <td>181.00</td>\n",
       "      <td>C1305486145</td>\n",
       "      <td>181.0</td>\n",
       "      <td>0.00</td>\n",
       "      <td>C553264065</td>\n",
       "      <td>0.0</td>\n",
       "      <td>0.0</td>\n",
       "      <td>1</td>\n",
       "      <td>0</td>\n",
       "    </tr>\n",
       "    <tr>\n",
       "      <th>3</th>\n",
       "      <td>1</td>\n",
       "      <td>CASH_OUT</td>\n",
       "      <td>181.00</td>\n",
       "      <td>C840083671</td>\n",
       "      <td>181.0</td>\n",
       "      <td>0.00</td>\n",
       "      <td>C38997010</td>\n",
       "      <td>21182.0</td>\n",
       "      <td>0.0</td>\n",
       "      <td>1</td>\n",
       "      <td>0</td>\n",
       "    </tr>\n",
       "    <tr>\n",
       "      <th>4</th>\n",
       "      <td>1</td>\n",
       "      <td>PAYMENT</td>\n",
       "      <td>11668.14</td>\n",
       "      <td>C2048537720</td>\n",
       "      <td>41554.0</td>\n",
       "      <td>29885.86</td>\n",
       "      <td>M1230701703</td>\n",
       "      <td>0.0</td>\n",
       "      <td>0.0</td>\n",
       "      <td>0</td>\n",
       "      <td>0</td>\n",
       "    </tr>\n",
       "  </tbody>\n",
       "</table>\n",
       "</div>"
      ],
      "text/plain": [
       "   step      type    amount     nameOrig  oldbalanceOrg  newbalanceOrig  \\\n",
       "0     1   PAYMENT   9839.64  C1231006815       170136.0       160296.36   \n",
       "1     1   PAYMENT   1864.28  C1666544295        21249.0        19384.72   \n",
       "2     1  TRANSFER    181.00  C1305486145          181.0            0.00   \n",
       "3     1  CASH_OUT    181.00   C840083671          181.0            0.00   \n",
       "4     1   PAYMENT  11668.14  C2048537720        41554.0        29885.86   \n",
       "\n",
       "      nameDest  oldbalanceDest  newbalanceDest  isFraud  isFlaggedFraud  \n",
       "0  M1979787155             0.0             0.0        0               0  \n",
       "1  M2044282225             0.0             0.0        0               0  \n",
       "2   C553264065             0.0             0.0        1               0  \n",
       "3    C38997010         21182.0             0.0        1               0  \n",
       "4  M1230701703             0.0             0.0        0               0  "
      ]
     },
     "execution_count": 3,
     "metadata": {},
     "output_type": "execute_result"
    }
   ],
   "source": [
    "df = pd.read_csv(\"/kaggle/input/paysim1/PS_20174392719_1491204439457_log.csv\")\n",
    "df.head()"
   ]
  },
  {
   "cell_type": "code",
   "execution_count": 4,
   "metadata": {
    "execution": {
     "iopub.execute_input": "2021-03-24T15:02:20.598687Z",
     "iopub.status.busy": "2021-03-24T15:02:20.597413Z",
     "iopub.status.idle": "2021-03-24T15:02:20.601705Z",
     "shell.execute_reply": "2021-03-24T15:02:20.601061Z"
    },
    "papermill": {
     "duration": 0.046703,
     "end_time": "2021-03-24T15:02:20.601848",
     "exception": false,
     "start_time": "2021-03-24T15:02:20.555145",
     "status": "completed"
    },
    "tags": []
   },
   "outputs": [
    {
     "data": {
      "text/plain": [
       "step                int64\n",
       "type               object\n",
       "amount            float64\n",
       "nameOrig           object\n",
       "oldbalanceOrg     float64\n",
       "newbalanceOrig    float64\n",
       "nameDest           object\n",
       "oldbalanceDest    float64\n",
       "newbalanceDest    float64\n",
       "isFraud             int64\n",
       "isFlaggedFraud      int64\n",
       "dtype: object"
      ]
     },
     "execution_count": 4,
     "metadata": {},
     "output_type": "execute_result"
    }
   ],
   "source": [
    "df.dtypes"
   ]
  },
  {
   "cell_type": "code",
   "execution_count": 5,
   "metadata": {
    "execution": {
     "iopub.execute_input": "2021-03-24T15:02:20.679593Z",
     "iopub.status.busy": "2021-03-24T15:02:20.678626Z",
     "iopub.status.idle": "2021-03-24T15:02:20.682422Z",
     "shell.execute_reply": "2021-03-24T15:02:20.682935Z"
    },
    "papermill": {
     "duration": 0.045098,
     "end_time": "2021-03-24T15:02:20.683117",
     "exception": false,
     "start_time": "2021-03-24T15:02:20.638019",
     "status": "completed"
    },
    "tags": []
   },
   "outputs": [
    {
     "data": {
      "text/plain": [
       "(6362620, 11)"
      ]
     },
     "execution_count": 5,
     "metadata": {},
     "output_type": "execute_result"
    }
   ],
   "source": [
    "df.shape"
   ]
  },
  {
   "cell_type": "code",
   "execution_count": 6,
   "metadata": {
    "execution": {
     "iopub.execute_input": "2021-03-24T15:02:20.760187Z",
     "iopub.status.busy": "2021-03-24T15:02:20.759165Z",
     "iopub.status.idle": "2021-03-24T15:02:22.806255Z",
     "shell.execute_reply": "2021-03-24T15:02:22.805582Z"
    },
    "papermill": {
     "duration": 2.086674,
     "end_time": "2021-03-24T15:02:22.806405",
     "exception": false,
     "start_time": "2021-03-24T15:02:20.719731",
     "status": "completed"
    },
    "tags": []
   },
   "outputs": [
    {
     "data": {
      "text/plain": [
       "step              0\n",
       "type              0\n",
       "amount            0\n",
       "nameOrig          0\n",
       "oldbalanceOrg     0\n",
       "newbalanceOrig    0\n",
       "nameDest          0\n",
       "oldbalanceDest    0\n",
       "newbalanceDest    0\n",
       "isFraud           0\n",
       "isFlaggedFraud    0\n",
       "dtype: int64"
      ]
     },
     "execution_count": 6,
     "metadata": {},
     "output_type": "execute_result"
    }
   ],
   "source": [
    "df.isnull().sum()"
   ]
  },
  {
   "cell_type": "code",
   "execution_count": 7,
   "metadata": {
    "execution": {
     "iopub.execute_input": "2021-03-24T15:02:23.027646Z",
     "iopub.status.busy": "2021-03-24T15:02:23.026422Z",
     "iopub.status.idle": "2021-03-24T15:02:24.601677Z",
     "shell.execute_reply": "2021-03-24T15:02:24.601019Z"
    },
    "papermill": {
     "duration": 1.758044,
     "end_time": "2021-03-24T15:02:24.601823",
     "exception": false,
     "start_time": "2021-03-24T15:02:22.843779",
     "status": "completed"
    },
    "tags": []
   },
   "outputs": [
    {
     "data": {
      "text/html": [
       "<div>\n",
       "<style scoped>\n",
       "    .dataframe tbody tr th:only-of-type {\n",
       "        vertical-align: middle;\n",
       "    }\n",
       "\n",
       "    .dataframe tbody tr th {\n",
       "        vertical-align: top;\n",
       "    }\n",
       "\n",
       "    .dataframe thead th {\n",
       "        text-align: right;\n",
       "    }\n",
       "</style>\n",
       "<table border=\"1\" class=\"dataframe\">\n",
       "  <thead>\n",
       "    <tr style=\"text-align: right;\">\n",
       "      <th></th>\n",
       "      <th>step</th>\n",
       "      <th>amount</th>\n",
       "      <th>oldbalanceOrg</th>\n",
       "      <th>newbalanceOrig</th>\n",
       "      <th>oldbalanceDest</th>\n",
       "      <th>newbalanceDest</th>\n",
       "      <th>isFraud</th>\n",
       "      <th>isFlaggedFraud</th>\n",
       "    </tr>\n",
       "  </thead>\n",
       "  <tbody>\n",
       "    <tr>\n",
       "      <th>count</th>\n",
       "      <td>6.362620e+06</td>\n",
       "      <td>6.362620e+06</td>\n",
       "      <td>6.362620e+06</td>\n",
       "      <td>6.362620e+06</td>\n",
       "      <td>6.362620e+06</td>\n",
       "      <td>6.362620e+06</td>\n",
       "      <td>6.362620e+06</td>\n",
       "      <td>6.362620e+06</td>\n",
       "    </tr>\n",
       "    <tr>\n",
       "      <th>mean</th>\n",
       "      <td>2.433972e+02</td>\n",
       "      <td>1.798619e+05</td>\n",
       "      <td>8.338831e+05</td>\n",
       "      <td>8.551137e+05</td>\n",
       "      <td>1.100702e+06</td>\n",
       "      <td>1.224996e+06</td>\n",
       "      <td>1.290820e-03</td>\n",
       "      <td>2.514687e-06</td>\n",
       "    </tr>\n",
       "    <tr>\n",
       "      <th>std</th>\n",
       "      <td>1.423320e+02</td>\n",
       "      <td>6.038582e+05</td>\n",
       "      <td>2.888243e+06</td>\n",
       "      <td>2.924049e+06</td>\n",
       "      <td>3.399180e+06</td>\n",
       "      <td>3.674129e+06</td>\n",
       "      <td>3.590480e-02</td>\n",
       "      <td>1.585775e-03</td>\n",
       "    </tr>\n",
       "    <tr>\n",
       "      <th>min</th>\n",
       "      <td>1.000000e+00</td>\n",
       "      <td>0.000000e+00</td>\n",
       "      <td>0.000000e+00</td>\n",
       "      <td>0.000000e+00</td>\n",
       "      <td>0.000000e+00</td>\n",
       "      <td>0.000000e+00</td>\n",
       "      <td>0.000000e+00</td>\n",
       "      <td>0.000000e+00</td>\n",
       "    </tr>\n",
       "    <tr>\n",
       "      <th>25%</th>\n",
       "      <td>1.560000e+02</td>\n",
       "      <td>1.338957e+04</td>\n",
       "      <td>0.000000e+00</td>\n",
       "      <td>0.000000e+00</td>\n",
       "      <td>0.000000e+00</td>\n",
       "      <td>0.000000e+00</td>\n",
       "      <td>0.000000e+00</td>\n",
       "      <td>0.000000e+00</td>\n",
       "    </tr>\n",
       "    <tr>\n",
       "      <th>50%</th>\n",
       "      <td>2.390000e+02</td>\n",
       "      <td>7.487194e+04</td>\n",
       "      <td>1.420800e+04</td>\n",
       "      <td>0.000000e+00</td>\n",
       "      <td>1.327057e+05</td>\n",
       "      <td>2.146614e+05</td>\n",
       "      <td>0.000000e+00</td>\n",
       "      <td>0.000000e+00</td>\n",
       "    </tr>\n",
       "    <tr>\n",
       "      <th>75%</th>\n",
       "      <td>3.350000e+02</td>\n",
       "      <td>2.087215e+05</td>\n",
       "      <td>1.073152e+05</td>\n",
       "      <td>1.442584e+05</td>\n",
       "      <td>9.430367e+05</td>\n",
       "      <td>1.111909e+06</td>\n",
       "      <td>0.000000e+00</td>\n",
       "      <td>0.000000e+00</td>\n",
       "    </tr>\n",
       "    <tr>\n",
       "      <th>max</th>\n",
       "      <td>7.430000e+02</td>\n",
       "      <td>9.244552e+07</td>\n",
       "      <td>5.958504e+07</td>\n",
       "      <td>4.958504e+07</td>\n",
       "      <td>3.560159e+08</td>\n",
       "      <td>3.561793e+08</td>\n",
       "      <td>1.000000e+00</td>\n",
       "      <td>1.000000e+00</td>\n",
       "    </tr>\n",
       "  </tbody>\n",
       "</table>\n",
       "</div>"
      ],
      "text/plain": [
       "               step        amount  oldbalanceOrg  newbalanceOrig  \\\n",
       "count  6.362620e+06  6.362620e+06   6.362620e+06    6.362620e+06   \n",
       "mean   2.433972e+02  1.798619e+05   8.338831e+05    8.551137e+05   \n",
       "std    1.423320e+02  6.038582e+05   2.888243e+06    2.924049e+06   \n",
       "min    1.000000e+00  0.000000e+00   0.000000e+00    0.000000e+00   \n",
       "25%    1.560000e+02  1.338957e+04   0.000000e+00    0.000000e+00   \n",
       "50%    2.390000e+02  7.487194e+04   1.420800e+04    0.000000e+00   \n",
       "75%    3.350000e+02  2.087215e+05   1.073152e+05    1.442584e+05   \n",
       "max    7.430000e+02  9.244552e+07   5.958504e+07    4.958504e+07   \n",
       "\n",
       "       oldbalanceDest  newbalanceDest       isFraud  isFlaggedFraud  \n",
       "count    6.362620e+06    6.362620e+06  6.362620e+06    6.362620e+06  \n",
       "mean     1.100702e+06    1.224996e+06  1.290820e-03    2.514687e-06  \n",
       "std      3.399180e+06    3.674129e+06  3.590480e-02    1.585775e-03  \n",
       "min      0.000000e+00    0.000000e+00  0.000000e+00    0.000000e+00  \n",
       "25%      0.000000e+00    0.000000e+00  0.000000e+00    0.000000e+00  \n",
       "50%      1.327057e+05    2.146614e+05  0.000000e+00    0.000000e+00  \n",
       "75%      9.430367e+05    1.111909e+06  0.000000e+00    0.000000e+00  \n",
       "max      3.560159e+08    3.561793e+08  1.000000e+00    1.000000e+00  "
      ]
     },
     "execution_count": 7,
     "metadata": {},
     "output_type": "execute_result"
    }
   ],
   "source": [
    "df.describe()"
   ]
  },
  {
   "cell_type": "code",
   "execution_count": 8,
   "metadata": {
    "execution": {
     "iopub.execute_input": "2021-03-24T15:02:25.319061Z",
     "iopub.status.busy": "2021-03-24T15:02:25.318313Z",
     "iopub.status.idle": "2021-03-24T15:02:39.502724Z",
     "shell.execute_reply": "2021-03-24T15:02:39.502036Z"
    },
    "papermill": {
     "duration": 14.863212,
     "end_time": "2021-03-24T15:02:39.502868",
     "exception": false,
     "start_time": "2021-03-24T15:02:24.639656",
     "status": "completed"
    },
    "tags": []
   },
   "outputs": [
    {
     "name": "stdout",
     "output_type": "stream",
     "text": [
      "Total number of unique customers are 6353307\n",
      "Total number of unique customers are 2722362\n",
      "Average no. of transactions per customer are 1.0014658507766112\n",
      "Average no. of transactions per recipient are 2.337168973119666\n"
     ]
    }
   ],
   "source": [
    "#Total number of unique customers\n",
    "print(f\"Total number of unique customers are {df.nameOrig.nunique()}\")\n",
    "print(f\"Total number of unique customers are {df.nameDest.nunique()}\")\n",
    "print(f\"Average no. of transactions per customer are {df.shape[0]/df.nameOrig.nunique()}\")\n",
    "print(f\"Average no. of transactions per recipient are {df.shape[0]/df.nameDest.nunique()}\")"
   ]
  },
  {
   "cell_type": "markdown",
   "metadata": {
    "papermill": {
     "duration": 0.039155,
     "end_time": "2021-03-24T15:02:39.581144",
     "exception": false,
     "start_time": "2021-03-24T15:02:39.541989",
     "status": "completed"
    },
    "tags": []
   },
   "source": [
    "## Issues with the dataset\n",
    "\n",
    "Simple univariate and bivariate analysis is done on all the variables to diagnose the data. There are primarily four issues with the data.\n",
    "\n",
    "First, the number of frauds are in avery minute amount in the data. From a logical standpoint, it makes sense and also it is good for the society that there are very less number of frauds happening. But from a modelling and data point of view, less number of events is a troublesome issue and there is a need of solving it before developing the model."
   ]
  },
  {
   "cell_type": "code",
   "execution_count": 9,
   "metadata": {
    "execution": {
     "iopub.execute_input": "2021-03-24T15:02:39.666559Z",
     "iopub.status.busy": "2021-03-24T15:02:39.665911Z",
     "iopub.status.idle": "2021-03-24T15:02:40.327156Z",
     "shell.execute_reply": "2021-03-24T15:02:40.327673Z"
    },
    "papermill": {
     "duration": 0.707563,
     "end_time": "2021-03-24T15:02:40.327855",
     "exception": false,
     "start_time": "2021-03-24T15:02:39.620292",
     "status": "completed"
    },
    "tags": []
   },
   "outputs": [
    {
     "name": "stdout",
     "output_type": "stream",
     "text": [
      "0    6354407\n",
      "1       8213\n",
      "Name: isFraud, dtype: int64\n"
     ]
    },
    {
     "data": {
      "image/png": "[encoded data removed]",
      "text/plain": [
       "<Figure size 432x288 with 1 Axes>"
      ]
     },
     "metadata": {
      "needs_background": "light"
     },
     "output_type": "display_data"
    }
   ],
   "source": [
    "print(df.isFraud.value_counts())\n",
    "sns.countplot(y=\"isFraud\",data=df)\n",
    "plt.show()"
   ]
  },
  {
   "cell_type": "markdown",
   "metadata": {
    "papermill": {
     "duration": 0.039937,
     "end_time": "2021-03-24T15:02:40.408157",
     "exception": false,
     "start_time": "2021-03-24T15:02:40.368220",
     "status": "completed"
    },
    "tags": []
   },
   "source": [
    "Secondly, there are very big outliers in the quantitative variables. Generally, very very big outliers are removed because there is a chance that it because of wrong recording. But in this case, wrong recording is not the case because very large frauds transactions tend to happen. So we cannot remove the outliers and there is a need of treating them before analysis or modelling."
   ]
  },
  {
   "cell_type": "code",
   "execution_count": 10,
   "metadata": {
    "execution": {
     "iopub.execute_input": "2021-03-24T15:02:40.514663Z",
     "iopub.status.busy": "2021-03-24T15:02:40.513856Z",
     "iopub.status.idle": "2021-03-24T15:02:41.487316Z",
     "shell.execute_reply": "2021-03-24T15:02:41.486649Z"
    },
    "papermill": {
     "duration": 1.039468,
     "end_time": "2021-03-24T15:02:41.487469",
     "exception": false,
     "start_time": "2021-03-24T15:02:40.448001",
     "status": "completed"
    },
    "tags": []
   },
   "outputs": [
    {
     "data": {
      "image/png": "[encoded data removed]",
      "text/plain": [
       "<Figure size 864x432 with 4 Axes>"
      ]
     },
     "metadata": {
      "needs_background": "light"
     },
     "output_type": "display_data"
    }
   ],
   "source": [
    "fig,axs = plt.subplots(2,2,figsize=(12,6))\n",
    "axs[0][0].title.set_text('Histogram of transaction amount')\n",
    "axs[0][0].hist(df[\"amount\"])\n",
    "axs[0][1].title.set_text(\"Histogram of opening customer balance\")\n",
    "axs[0][1].hist(df[\"oldbalanceOrg\"])\n",
    "axs[1][0].title.set_text(\"Histogram of closing customer balance\")\n",
    "axs[1][0].hist(df[\"newbalanceOrig\"])\n",
    "axs[1][1].title.set_text(\"Histogram of clsoing recipient balance\")\n",
    "axs[1][1].hist(df[\"newbalanceDest\"])\n",
    "plt.show()"
   ]
  },
  {
   "cell_type": "markdown",
   "metadata": {
    "papermill": {
     "duration": 0.041118,
     "end_time": "2021-03-24T15:02:41.569956",
     "exception": false,
     "start_time": "2021-03-24T15:02:41.528838",
     "status": "completed"
    },
    "tags": []
   },
   "source": [
    "Though there are five transaction types, frauds happened only when the transaction type is TRANSFER or CASH_IN. Frauds happen the most during Payments, Transfers, Cash-outs from customers and Cash-ins to recipients. This trend is not reflected in the data."
   ]
  },
  {
   "cell_type": "code",
   "execution_count": 11,
   "metadata": {
    "execution": {
     "iopub.execute_input": "2021-03-24T15:02:42.048321Z",
     "iopub.status.busy": "2021-03-24T15:02:42.047367Z",
     "iopub.status.idle": "2021-03-24T15:02:43.150511Z",
     "shell.execute_reply": "2021-03-24T15:02:43.149739Z"
    },
    "papermill": {
     "duration": 1.539204,
     "end_time": "2021-03-24T15:02:43.150863",
     "exception": false,
     "start_time": "2021-03-24T15:02:41.611659",
     "status": "completed"
    },
    "tags": []
   },
   "outputs": [
    {
     "data": {
      "text/plain": [
       "<AxesSubplot:ylabel='isFraud'>"
      ]
     },
     "execution_count": 11,
     "metadata": {},
     "output_type": "execute_result"
    },
    {
     "data": {
      "image/png": "[encoded data removed]",
      "text/plain": [
       "<Figure size 432x288 with 1 Axes>"
      ]
     },
     "metadata": {
      "needs_background": "light"
     },
     "output_type": "display_data"
    }
   ],
   "source": [
    "sns.barplot(x=df.type.unique(),y=df.groupby(\"type\")[\"isFraud\"].sum())"
   ]
  },
  {
   "cell_type": "markdown",
   "metadata": {
    "papermill": {
     "duration": 0.043008,
     "end_time": "2021-03-24T15:02:43.238902",
     "exception": false,
     "start_time": "2021-03-24T15:02:43.195894",
     "status": "completed"
    },
    "tags": []
   },
   "source": [
    " Last but not the least, many variables are not talking with each other. For example, take a transaction from a customer \"C1900366749\" to recipient \"C997608398\". The data states that opening customer balance is 4465, closing customer balance is 0, opening recipient balance is 10845, closing recipient balance is 157982.12 and transaction amount is 9644.94. The difference between opening and closing balance of customer, difference between opening and closing balance of recipient and transaction amount must be equal which is not happening for most of the observations. (>85%) Also, the customer's account balance remained same when TRANSFER transactions happened more than 15% of the times. There are multiple reasons this can happen - Different currencies or multiple transactions at the same time or wrong recording. We don't have solution for any of these problems."
   ]
  },
  {
   "cell_type": "code",
   "execution_count": 12,
   "metadata": {
    "execution": {
     "iopub.execute_input": "2021-03-24T15:02:43.331055Z",
     "iopub.status.busy": "2021-03-24T15:02:43.330283Z",
     "iopub.status.idle": "2021-03-24T15:02:45.600160Z",
     "shell.execute_reply": "2021-03-24T15:02:45.600698Z"
    },
    "papermill": {
     "duration": 2.319648,
     "end_time": "2021-03-24T15:02:45.600898",
     "exception": false,
     "start_time": "2021-03-24T15:02:43.281250",
     "status": "completed"
    },
    "tags": []
   },
   "outputs": [
    {
     "name": "stdout",
     "output_type": "stream",
     "text": [
      "% of transactions where difference between opening and closing balance of customer is not equal to transaction amount is 85.39760350295947\n",
      "% of transactions where difference between opening and closing balance of recipient is not equal to transaction amount is 85.05254124873088\n",
      "% of transactions where opening and closing balance of customer is equal to 0 but transaction amount is not equal to 0 is 67.16810056234695\n",
      "% of transactions where opening and closing balance of recipient is equal to 0 but transaction amount is not equal to 0 is 63.57984603826725\n",
      "% of transfer transactions where the opening and closing balance of the customer remained the same is 16.122053493686565\n"
     ]
    }
   ],
   "source": [
    "print(f\"% of transactions where difference between opening and closing balance of customer is not equal to transaction amount is {(1-len(df[np.abs(df.oldbalanceOrg-df.newbalanceOrig) == (df.amount)])/len(df))*100}\")\n",
    "print(f\"% of transactions where difference between opening and closing balance of recipient is not equal to transaction amount is {(1-len(df[np.abs(df.oldbalanceDest-df.newbalanceDest) == (df.amount)])/len(df))*100}\")\n",
    "print(f\"% of transactions where opening and closing balance of customer is equal to 0 but transaction amount is not equal to 0 is {(1-len(df[(df.oldbalanceOrg==0)&(df.newbalanceOrig==0)&(df.amount!=0)])/len(df))*100}\")\n",
    "print(f\"% of transactions where opening and closing balance of recipient is equal to 0 but transaction amount is not equal to 0 is {(1-len(df[(df.oldbalanceDest==0)&(df.newbalanceDest==0)&(df.amount!=0)])/len(df))*100}\")\n",
    "print(\"% of transfer transactions where the opening and closing balance of the customer remained the same is \" + str((len(df[(df.type==\"CASH_OUT\")&(df.oldbalanceOrg==df.newbalanceOrig)&(df.amount != 0)])/len(df))*100))"
   ]
  },
  {
   "cell_type": "markdown",
   "metadata": {
    "papermill": {
     "duration": 0.04574,
     "end_time": "2021-03-24T15:02:45.691704",
     "exception": false,
     "start_time": "2021-03-24T15:02:45.645964",
     "status": "completed"
    },
    "tags": []
   },
   "source": [
    "## Exploratory Data Analysis\n",
    "\n",
    "Through the exploratory data analysis, we can prove some hypothesis about fraud attacks and get some visual interpretations from data."
   ]
  },
  {
   "cell_type": "markdown",
   "metadata": {
    "papermill": {
     "duration": 0.044581,
     "end_time": "2021-03-24T15:02:45.781711",
     "exception": false,
     "start_time": "2021-03-24T15:02:45.737130",
     "status": "completed"
    },
    "tags": []
   },
   "source": [
    "One popular trend is fraud attacks by big criminals happen in a short period of time. To check this, we can plot the fraud attacks with time. In our data, we have data every hour. The below graph shows the fraud attack every hour in the 744 hours. As expected there are peaks and troughs and also a very big peak. This suggests that frauds happen in short period of time."
   ]
  },
  {
   "cell_type": "code",
   "execution_count": 13,
   "metadata": {
    "execution": {
     "iopub.execute_input": "2021-03-24T15:02:45.877331Z",
     "iopub.status.busy": "2021-03-24T15:02:45.876681Z",
     "iopub.status.idle": "2021-03-24T15:02:46.242443Z",
     "shell.execute_reply": "2021-03-24T15:02:46.241916Z"
    },
    "papermill": {
     "duration": 0.416215,
     "end_time": "2021-03-24T15:02:46.242611",
     "exception": false,
     "start_time": "2021-03-24T15:02:45.826396",
     "status": "completed"
    },
    "tags": []
   },
   "outputs": [
    {
     "data": {
      "image/png": "[encoded data removed]",
      "text/plain": [
       "<Figure size 432x288 with 1 Axes>"
      ]
     },
     "metadata": {
      "needs_background": "light"
     },
     "output_type": "display_data"
    }
   ],
   "source": [
    "sns.lineplot(x=list(range(1,744)),y=df.groupby(\"step\")[\"isFraud\"].sum())\n",
    "plt.xlabel(\"Hour of the month\")\n",
    "plt.ylabel(\"Number of transactions per hour\")\n",
    "plt.show()"
   ]
  },
  {
   "cell_type": "markdown",
   "metadata": {
    "papermill": {
     "duration": 0.044967,
     "end_time": "2021-03-24T15:02:46.332778",
     "exception": false,
     "start_time": "2021-03-24T15:02:46.287811",
     "status": "completed"
    },
    "tags": []
   },
   "source": [
    "Another analysis that can be interesting is at which hour of a day, the fraud attacks generally happen. From the step variable, we can get the hour of day. The below plot shows the frauds at different hours of day. It tells that frauds happen during sleeping hours the most. Close to 20% of transactions that happen during 4 AM and 5 AM are fraud transactions."
   ]
  },
  {
   "cell_type": "code",
   "execution_count": 14,
   "metadata": {
    "execution": {
     "iopub.execute_input": "2021-03-24T15:02:46.430722Z",
     "iopub.status.busy": "2021-03-24T15:02:46.429755Z",
     "iopub.status.idle": "2021-03-24T15:02:47.102370Z",
     "shell.execute_reply": "2021-03-24T15:02:47.101808Z"
    },
    "papermill": {
     "duration": 0.72453,
     "end_time": "2021-03-24T15:02:47.102554",
     "exception": false,
     "start_time": "2021-03-24T15:02:46.378024",
     "status": "completed"
    },
    "tags": []
   },
   "outputs": [
    {
     "data": {
      "image/png": "[encoded data removed]",
      "text/plain": [
       "<Figure size 432x288 with 1 Axes>"
      ]
     },
     "metadata": {
      "needs_background": "light"
     },
     "output_type": "display_data"
    }
   ],
   "source": [
    "df[\"hour\"] = df.step % 24\n",
    "frauds_hour = pd.concat([df.groupby(\"hour\")[\"isFraud\"].sum(),df.groupby(\"hour\")[\"isFraud\"].count()],axis=1)\n",
    "frauds_hour.columns = [\"Frauds\",\"Transactions\"]\n",
    "frauds_hour[\"fraud_rate\"] = frauds_hour.Frauds/frauds_hour.Transactions\n",
    "sns.barplot(x=frauds_hour.index,y=frauds_hour.fraud_rate)\n",
    "plt.show()"
   ]
  },
  {
   "cell_type": "markdown",
   "metadata": {
    "papermill": {
     "duration": 0.046106,
     "end_time": "2021-03-24T15:02:47.195164",
     "exception": false,
     "start_time": "2021-03-24T15:02:47.149058",
     "status": "completed"
    },
    "tags": []
   },
   "source": [
    "We can look at the transaction amount and customer's opening balance for fraud and non-fraud cash-out and tranfer transactions seperately. Median for these variables are compared because mean is biased because of outliers. From the plots, we can see that these variables are abnormally high for fraud cash-out transactions compared to non-fraud cash-out transactions."
   ]
  },
  {
   "cell_type": "code",
   "execution_count": 15,
   "metadata": {
    "execution": {
     "iopub.execute_input": "2021-03-24T15:02:47.316470Z",
     "iopub.status.busy": "2021-03-24T15:02:47.315727Z",
     "iopub.status.idle": "2021-03-24T15:02:52.659232Z",
     "shell.execute_reply": "2021-03-24T15:02:52.658688Z"
    },
    "papermill": {
     "duration": 5.416674,
     "end_time": "2021-03-24T15:02:52.659374",
     "exception": false,
     "start_time": "2021-03-24T15:02:47.242700",
     "status": "completed"
    },
    "tags": []
   },
   "outputs": [
    {
     "data": {
      "image/png": "[encoded data removed]",
      "text/plain": [
       "<Figure size 1008x432 with 4 Axes>"
      ]
     },
     "metadata": {
      "needs_background": "light"
     },
     "output_type": "display_data"
    }
   ],
   "source": [
    "fig,ax=plt.subplots(2,2,figsize=(14,6))\n",
    "ax[0][0].title.set_text(\"Transaction amount - CASH OUT transactions\")\n",
    "ax[0][0].bar(x=[\"Non-Fraud\",\"Fraud\"],height=df[df.type==\"CASH_OUT\"].groupby(\"isFraud\")[\"amount\"].median())\n",
    "ax[0][1].title.set_text(\"Opening Customer balance - CASH OUT transactions\")\n",
    "ax[0][1].bar(x=[\"Non-Fraud\",\"Fraud\"],height=df[df.type==\"CASH_OUT\"].groupby(\"isFraud\")[\"oldbalanceOrg\"].median())\n",
    "ax[1][0].title.set_text(\"Transaction amount - TRANSFER transactions\")\n",
    "ax[1][0].bar(x=[\"Non-Fraud\",\"Fraud\"],height=df[df.type==\"TRANSFER\"].groupby(\"isFraud\")[\"amount\"].median())\n",
    "ax[1][1].title.set_text(\"Opening Customer balance - TRANSFER transactions\")\n",
    "ax[1][1].bar(x=[\"Non-Fraud\",\"Fraud\"],height=df[df.type==\"TRANSFER\"].groupby(\"isFraud\")[\"oldbalanceOrg\"].median())\n",
    "fig.show()"
   ]
  },
  {
   "cell_type": "markdown",
   "metadata": {
    "papermill": {
     "duration": 0.047221,
     "end_time": "2021-03-24T15:02:52.754045",
     "exception": false,
     "start_time": "2021-03-24T15:02:52.706824",
     "status": "completed"
    },
    "tags": []
   },
   "source": [
    "We can look at the recipient's opening balance for fraud and non-fraud cash-out and transfer transactions seperately. From the plots, we can see that this variable is very less for transfer fraud transactions compared to transfer non-fraud transactions which is reverse of what we observed in customer balance."
   ]
  },
  {
   "cell_type": "code",
   "execution_count": 16,
   "metadata": {
    "execution": {
     "iopub.execute_input": "2021-03-24T15:02:52.873283Z",
     "iopub.status.busy": "2021-03-24T15:02:52.865018Z",
     "iopub.status.idle": "2021-03-24T15:02:55.486963Z",
     "shell.execute_reply": "2021-03-24T15:02:55.486289Z"
    },
    "papermill": {
     "duration": 2.685153,
     "end_time": "2021-03-24T15:02:55.487119",
     "exception": false,
     "start_time": "2021-03-24T15:02:52.801966",
     "status": "completed"
    },
    "tags": []
   },
   "outputs": [
    {
     "data": {
      "image/png": "[encoded data removed]",
      "text/plain": [
       "<Figure size 1008x432 with 2 Axes>"
      ]
     },
     "metadata": {
      "needs_background": "light"
     },
     "output_type": "display_data"
    }
   ],
   "source": [
    "fig,ax=plt.subplots(1,2,figsize=(14,6))\n",
    "ax[0].title.set_text(\"Opening Recipient Balance - CASH OUT transactions\")\n",
    "ax[0].bar(x=[\"Non-Fraud\",\"Fraud\"],height=df[df.type==\"CASH_OUT\"].groupby(\"isFraud\")[\"oldbalanceDest\"].median())\n",
    "ax[1].title.set_text(\"Opening Recipient Balance - TRANSFER transactions\")\n",
    "ax[1].bar(x=[\"Non-Fraud\",\"Fraud\"],height=df[df.type==\"TRANSFER\"].groupby(\"isFraud\")[\"oldbalanceDest\"].median())\n",
    "fig.show()"
   ]
  },
  {
   "cell_type": "markdown",
   "metadata": {
    "papermill": {
     "duration": 0.04805,
     "end_time": "2021-03-24T15:02:55.583228",
     "exception": false,
     "start_time": "2021-03-24T15:02:55.535178",
     "status": "completed"
    },
    "tags": []
   },
   "source": [
    "As mentioned in the issues sections, there is a need of outlier treatment in the quantitative variables. Two popular ways to treat the outliers are transformations and capping. For transformation, Log(1+x) is a decent one when there are zeroes present in the variable and 3xp75 is a good cut-off for capping. The box plots for one variable 'amount' are shown below pre and post transformations."
   ]
  },
  {
   "cell_type": "code",
   "execution_count": 17,
   "metadata": {
    "execution": {
     "iopub.execute_input": "2021-03-24T15:02:55.714208Z",
     "iopub.status.busy": "2021-03-24T15:02:55.703569Z",
     "iopub.status.idle": "2021-03-24T15:03:00.539967Z",
     "shell.execute_reply": "2021-03-24T15:03:00.539395Z"
    },
    "papermill": {
     "duration": 4.909031,
     "end_time": "2021-03-24T15:03:00.540122",
     "exception": false,
     "start_time": "2021-03-24T15:02:55.631091",
     "status": "completed"
    },
    "tags": []
   },
   "outputs": [
    {
     "name": "stderr",
     "output_type": "stream",
     "text": [
      "/opt/conda/lib/python3.7/site-packages/ipykernel_launcher.py:8: SettingWithCopyWarning: \n",
      "A value is trying to be set on a copy of a slice from a DataFrame.\n",
      "Try using .loc[row_indexer,col_indexer] = value instead\n",
      "\n",
      "See the caveats in the documentation: https://pandas.pydata.org/pandas-docs/stable/user_guide/indexing.html#returning-a-view-versus-a-copy\n",
      "  \n"
     ]
    },
    {
     "data": {
      "image/png": "[encoded data removed]",
      "text/plain": [
       "<Figure size 1296x432 with 3 Axes>"
      ]
     },
     "metadata": {
      "needs_background": "light"
     },
     "output_type": "display_data"
    }
   ],
   "source": [
    "fig,ax = plt.subplots(1,3,figsize=(18,6))\n",
    "ax[0].title.set_text(\"Distribution of transaction amount pre transformations\")\n",
    "ax[1].title.set_text(\"Distribution of transaction amount post log transformation\")\n",
    "ax[2].title.set_text(\"Distribution of transaction amount post capping\")\n",
    "sns.boxplot(x=df.isFraud, y=df.amount,ax=ax[0])\n",
    "sns.boxplot(x=df.isFraud,y=np.log1p(df.amount),ax=ax[1])\n",
    "df1 = df.copy()\n",
    "df1[df1.amount > df1.amount.quantile(0.75)*3][\"amount\"] = df1.amount.quantile(0.75)*3\n",
    "sns.boxplot(x=df1.isFraud,y=(df1.amount),ax=ax[2])\n",
    "plt.show()"
   ]
  },
  {
   "cell_type": "markdown",
   "metadata": {
    "papermill": {
     "duration": 0.050879,
     "end_time": "2021-03-24T15:03:00.641081",
     "exception": false,
     "start_time": "2021-03-24T15:03:00.590202",
     "status": "completed"
    },
    "tags": []
   },
   "source": [
    "The below plot shows the total fraud transaction amount on a daily basis"
   ]
  },
  {
   "cell_type": "code",
   "execution_count": 18,
   "metadata": {
    "execution": {
     "iopub.execute_input": "2021-03-24T15:03:00.765745Z",
     "iopub.status.busy": "2021-03-24T15:03:00.765050Z",
     "iopub.status.idle": "2021-03-24T15:03:01.517757Z",
     "shell.execute_reply": "2021-03-24T15:03:01.517227Z"
    },
    "papermill": {
     "duration": 0.825951,
     "end_time": "2021-03-24T15:03:01.517905",
     "exception": false,
     "start_time": "2021-03-24T15:03:00.691954",
     "status": "completed"
    },
    "tags": []
   },
   "outputs": [
    {
     "data": {
      "image/png": "[encoded data removed]",
      "text/plain": [
       "<Figure size 432x288 with 1 Axes>"
      ]
     },
     "metadata": {
      "needs_background": "light"
     },
     "output_type": "display_data"
    }
   ],
   "source": [
    "df[\"day\"] = round(df.step/24)\n",
    "sns.barplot(x=list(range(1,33)),y=df[df.isFraud==1].groupby(\"day\")[\"amount\"].sum())\n",
    "plt.xlabel(\"Day\")\n",
    "plt.ylabel(\"Total Fraud transaction amount\")\n",
    "plt.show()"
   ]
  },
  {
   "cell_type": "markdown",
   "metadata": {
    "papermill": {
     "duration": 0.05227,
     "end_time": "2021-03-24T15:03:01.622403",
     "exception": false,
     "start_time": "2021-03-24T15:03:01.570133",
     "status": "completed"
    },
    "tags": []
   },
   "source": [
    "We can also see the fraud transactions per day of the week."
   ]
  },
  {
   "cell_type": "code",
   "execution_count": 19,
   "metadata": {
    "execution": {
     "iopub.execute_input": "2021-03-24T15:03:01.731597Z",
     "iopub.status.busy": "2021-03-24T15:03:01.730927Z",
     "iopub.status.idle": "2021-03-24T15:03:02.333174Z",
     "shell.execute_reply": "2021-03-24T15:03:02.333812Z"
    },
    "papermill": {
     "duration": 0.660276,
     "end_time": "2021-03-24T15:03:02.333991",
     "exception": false,
     "start_time": "2021-03-24T15:03:01.673715",
     "status": "completed"
    },
    "tags": []
   },
   "outputs": [
    {
     "data": {
      "image/png": "[encoded data removed]",
      "text/plain": [
       "<Figure size 432x288 with 1 Axes>"
      ]
     },
     "metadata": {
      "needs_background": "light"
     },
     "output_type": "display_data"
    }
   ],
   "source": [
    "df[\"dayweek\"] = df.day % 7\n",
    "sns.barplot(x=list(range(1,8)),y=df[df.isFraud==1].groupby(\"dayweek\")[\"amount\"].mean())\n",
    "plt.xlabel(\"Day of the week\")\n",
    "plt.ylabel(\"Average Fraud transaction amount\")\n",
    "plt.show()"
   ]
  },
  {
   "cell_type": "markdown",
   "metadata": {
    "papermill": {
     "duration": 0.050493,
     "end_time": "2021-03-24T15:03:02.435450",
     "exception": false,
     "start_time": "2021-03-24T15:03:02.384957",
     "status": "completed"
    },
    "tags": []
   },
   "source": [
    "## Data Cleaning\n",
    "\n",
    "Before model development, we need to clean the data i.e. deal with missing values and outliers. Since the missing values are 0 in all the columns, there is no need to handle them.\n",
    "\n",
    "For outlier treatment, capping will not be done on the quantitative variables as we can lose some information because frauds happen at high transactions. Log transformed variables and the original variables both will also be used in the model and the algorithm decides which variable is better.\n",
    "\n",
    "Other issues with the data (variables not talking with each other) can also be dealt with if more information is present. The less event rate is handled during model development using sampling techniques."
   ]
  },
  {
   "cell_type": "markdown",
   "metadata": {
    "papermill": {
     "duration": 0.050657,
     "end_time": "2021-03-24T15:03:02.536871",
     "exception": false,
     "start_time": "2021-03-24T15:03:02.486214",
     "status": "completed"
    },
    "tags": []
   },
   "source": [
    "## Feature Generation\n",
    "\n",
    "There are 5 numeric features, 1 categorical feature and 1 datetime feature that we can use in the model. In this section, the three different feature types would be explored."
   ]
  },
  {
   "cell_type": "code",
   "execution_count": 20,
   "metadata": {
    "execution": {
     "iopub.execute_input": "2021-03-24T15:03:02.642886Z",
     "iopub.status.busy": "2021-03-24T15:03:02.641894Z",
     "iopub.status.idle": "2021-03-24T15:03:03.245767Z",
     "shell.execute_reply": "2021-03-24T15:03:03.246383Z"
    },
    "papermill": {
     "duration": 0.658872,
     "end_time": "2021-03-24T15:03:03.246603",
     "exception": false,
     "start_time": "2021-03-24T15:03:02.587731",
     "status": "completed"
    },
    "tags": []
   },
   "outputs": [],
   "source": [
    "df1 = df.copy()"
   ]
  },
  {
   "cell_type": "markdown",
   "metadata": {
    "papermill": {
     "duration": 0.053603,
     "end_time": "2021-03-24T15:03:03.353827",
     "exception": false,
     "start_time": "2021-03-24T15:03:03.300224",
     "status": "completed"
    },
    "tags": []
   },
   "source": [
    "### Datetime features"
   ]
  },
  {
   "cell_type": "markdown",
   "metadata": {
    "papermill": {
     "duration": 0.053263,
     "end_time": "2021-03-24T15:03:03.460822",
     "exception": false,
     "start_time": "2021-03-24T15:03:03.407559",
     "status": "completed"
    },
    "tags": []
   },
   "source": [
    "'Step' is the only datetime feature. Hour of the day, Day of the week, Day of the month, Week of the month variables are created in this exercise. Codes are written below. Some other variables that can be created are day to hour transactions, day to hour fraud transactions and hours since last fraud transaction."
   ]
  },
  {
   "cell_type": "code",
   "execution_count": 21,
   "metadata": {
    "execution": {
     "iopub.execute_input": "2021-03-24T15:03:03.569944Z",
     "iopub.status.busy": "2021-03-24T15:03:03.569278Z",
     "iopub.status.idle": "2021-03-24T15:03:04.054216Z",
     "shell.execute_reply": "2021-03-24T15:03:04.053639Z"
    },
    "papermill": {
     "duration": 0.542179,
     "end_time": "2021-03-24T15:03:04.054407",
     "exception": false,
     "start_time": "2021-03-24T15:03:03.512228",
     "status": "completed"
    },
    "tags": []
   },
   "outputs": [],
   "source": [
    "df1[\"hourday\"] = df1.step % 24\n",
    "df1[\"hourweek\"] = df1.step % (24*7)\n",
    "df1[\"day\"] = round(df1.step/24)\n",
    "df1[\"dayweek\"] = df1.day % 7\n",
    "df1[\"daymonth\"] = df1.day % 30"
   ]
  },
  {
   "cell_type": "markdown",
   "metadata": {
    "papermill": {
     "duration": 0.051547,
     "end_time": "2021-03-24T15:03:04.158045",
     "exception": false,
     "start_time": "2021-03-24T15:03:04.106498",
     "status": "completed"
    },
    "tags": []
   },
   "source": [
    "### Categorical Features\n",
    "\n",
    "There are three categorical features present in the data - 'type', 'nameOrig' and 'nameDest'. 'nameOrig' and 'nameDest' are ignored during this exercise because it is very memory and time-consuming to work with millions of unique categories. Only 'type' is handled using get_dummies() function of pandas. Code and output is given below. Provided there are no space and processing power issues, variables like number of cash-in/cash-out/etc. transactions made by a customer during last hour/3 hours/6 hours/1 day can be calculated."
   ]
  },
  {
   "cell_type": "code",
   "execution_count": 22,
   "metadata": {
    "execution": {
     "iopub.execute_input": "2021-03-24T15:03:04.267269Z",
     "iopub.status.busy": "2021-03-24T15:03:04.266582Z",
     "iopub.status.idle": "2021-03-24T15:03:06.776253Z",
     "shell.execute_reply": "2021-03-24T15:03:06.775684Z"
    },
    "papermill": {
     "duration": 2.566573,
     "end_time": "2021-03-24T15:03:06.776394",
     "exception": false,
     "start_time": "2021-03-24T15:03:04.209821",
     "status": "completed"
    },
    "tags": []
   },
   "outputs": [
    {
     "data": {
      "text/html": [
       "<div>\n",
       "<style scoped>\n",
       "    .dataframe tbody tr th:only-of-type {\n",
       "        vertical-align: middle;\n",
       "    }\n",
       "\n",
       "    .dataframe tbody tr th {\n",
       "        vertical-align: top;\n",
       "    }\n",
       "\n",
       "    .dataframe thead th {\n",
       "        text-align: right;\n",
       "    }\n",
       "</style>\n",
       "<table border=\"1\" class=\"dataframe\">\n",
       "  <thead>\n",
       "    <tr style=\"text-align: right;\">\n",
       "      <th></th>\n",
       "      <th>step</th>\n",
       "      <th>amount</th>\n",
       "      <th>nameOrig</th>\n",
       "      <th>oldbalanceOrg</th>\n",
       "      <th>newbalanceOrig</th>\n",
       "      <th>nameDest</th>\n",
       "      <th>oldbalanceDest</th>\n",
       "      <th>newbalanceDest</th>\n",
       "      <th>isFraud</th>\n",
       "      <th>isFlaggedFraud</th>\n",
       "      <th>...</th>\n",
       "      <th>day</th>\n",
       "      <th>dayweek</th>\n",
       "      <th>hourday</th>\n",
       "      <th>hourweek</th>\n",
       "      <th>daymonth</th>\n",
       "      <th>type_CASH_IN</th>\n",
       "      <th>type_CASH_OUT</th>\n",
       "      <th>type_DEBIT</th>\n",
       "      <th>type_PAYMENT</th>\n",
       "      <th>type_TRANSFER</th>\n",
       "    </tr>\n",
       "  </thead>\n",
       "  <tbody>\n",
       "    <tr>\n",
       "      <th>0</th>\n",
       "      <td>1</td>\n",
       "      <td>9839.64</td>\n",
       "      <td>C1231006815</td>\n",
       "      <td>170136.0</td>\n",
       "      <td>160296.36</td>\n",
       "      <td>M1979787155</td>\n",
       "      <td>0.0</td>\n",
       "      <td>0.0</td>\n",
       "      <td>0</td>\n",
       "      <td>0</td>\n",
       "      <td>...</td>\n",
       "      <td>0.0</td>\n",
       "      <td>0.0</td>\n",
       "      <td>1</td>\n",
       "      <td>1</td>\n",
       "      <td>0.0</td>\n",
       "      <td>0</td>\n",
       "      <td>0</td>\n",
       "      <td>0</td>\n",
       "      <td>1</td>\n",
       "      <td>0</td>\n",
       "    </tr>\n",
       "    <tr>\n",
       "      <th>1</th>\n",
       "      <td>1</td>\n",
       "      <td>1864.28</td>\n",
       "      <td>C1666544295</td>\n",
       "      <td>21249.0</td>\n",
       "      <td>19384.72</td>\n",
       "      <td>M2044282225</td>\n",
       "      <td>0.0</td>\n",
       "      <td>0.0</td>\n",
       "      <td>0</td>\n",
       "      <td>0</td>\n",
       "      <td>...</td>\n",
       "      <td>0.0</td>\n",
       "      <td>0.0</td>\n",
       "      <td>1</td>\n",
       "      <td>1</td>\n",
       "      <td>0.0</td>\n",
       "      <td>0</td>\n",
       "      <td>0</td>\n",
       "      <td>0</td>\n",
       "      <td>1</td>\n",
       "      <td>0</td>\n",
       "    </tr>\n",
       "    <tr>\n",
       "      <th>2</th>\n",
       "      <td>1</td>\n",
       "      <td>181.00</td>\n",
       "      <td>C1305486145</td>\n",
       "      <td>181.0</td>\n",
       "      <td>0.00</td>\n",
       "      <td>C553264065</td>\n",
       "      <td>0.0</td>\n",
       "      <td>0.0</td>\n",
       "      <td>1</td>\n",
       "      <td>0</td>\n",
       "      <td>...</td>\n",
       "      <td>0.0</td>\n",
       "      <td>0.0</td>\n",
       "      <td>1</td>\n",
       "      <td>1</td>\n",
       "      <td>0.0</td>\n",
       "      <td>0</td>\n",
       "      <td>0</td>\n",
       "      <td>0</td>\n",
       "      <td>0</td>\n",
       "      <td>1</td>\n",
       "    </tr>\n",
       "    <tr>\n",
       "      <th>3</th>\n",
       "      <td>1</td>\n",
       "      <td>181.00</td>\n",
       "      <td>C840083671</td>\n",
       "      <td>181.0</td>\n",
       "      <td>0.00</td>\n",
       "      <td>C38997010</td>\n",
       "      <td>21182.0</td>\n",
       "      <td>0.0</td>\n",
       "      <td>1</td>\n",
       "      <td>0</td>\n",
       "      <td>...</td>\n",
       "      <td>0.0</td>\n",
       "      <td>0.0</td>\n",
       "      <td>1</td>\n",
       "      <td>1</td>\n",
       "      <td>0.0</td>\n",
       "      <td>0</td>\n",
       "      <td>1</td>\n",
       "      <td>0</td>\n",
       "      <td>0</td>\n",
       "      <td>0</td>\n",
       "    </tr>\n",
       "    <tr>\n",
       "      <th>4</th>\n",
       "      <td>1</td>\n",
       "      <td>11668.14</td>\n",
       "      <td>C2048537720</td>\n",
       "      <td>41554.0</td>\n",
       "      <td>29885.86</td>\n",
       "      <td>M1230701703</td>\n",
       "      <td>0.0</td>\n",
       "      <td>0.0</td>\n",
       "      <td>0</td>\n",
       "      <td>0</td>\n",
       "      <td>...</td>\n",
       "      <td>0.0</td>\n",
       "      <td>0.0</td>\n",
       "      <td>1</td>\n",
       "      <td>1</td>\n",
       "      <td>0.0</td>\n",
       "      <td>0</td>\n",
       "      <td>0</td>\n",
       "      <td>0</td>\n",
       "      <td>1</td>\n",
       "      <td>0</td>\n",
       "    </tr>\n",
       "  </tbody>\n",
       "</table>\n",
       "<p>5 rows × 21 columns</p>\n",
       "</div>"
      ],
      "text/plain": [
       "   step    amount     nameOrig  oldbalanceOrg  newbalanceOrig     nameDest  \\\n",
       "0     1   9839.64  C1231006815       170136.0       160296.36  M1979787155   \n",
       "1     1   1864.28  C1666544295        21249.0        19384.72  M2044282225   \n",
       "2     1    181.00  C1305486145          181.0            0.00   C553264065   \n",
       "3     1    181.00   C840083671          181.0            0.00    C38997010   \n",
       "4     1  11668.14  C2048537720        41554.0        29885.86  M1230701703   \n",
       "\n",
       "   oldbalanceDest  newbalanceDest  isFraud  isFlaggedFraud  ...  day  dayweek  \\\n",
       "0             0.0             0.0        0               0  ...  0.0      0.0   \n",
       "1             0.0             0.0        0               0  ...  0.0      0.0   \n",
       "2             0.0             0.0        1               0  ...  0.0      0.0   \n",
       "3         21182.0             0.0        1               0  ...  0.0      0.0   \n",
       "4             0.0             0.0        0               0  ...  0.0      0.0   \n",
       "\n",
       "   hourday  hourweek  daymonth  type_CASH_IN  type_CASH_OUT  type_DEBIT  \\\n",
       "0        1         1       0.0             0              0           0   \n",
       "1        1         1       0.0             0              0           0   \n",
       "2        1         1       0.0             0              0           0   \n",
       "3        1         1       0.0             0              1           0   \n",
       "4        1         1       0.0             0              0           0   \n",
       "\n",
       "   type_PAYMENT  type_TRANSFER  \n",
       "0             1              0  \n",
       "1             1              0  \n",
       "2             0              1  \n",
       "3             0              0  \n",
       "4             1              0  \n",
       "\n",
       "[5 rows x 21 columns]"
      ]
     },
     "execution_count": 22,
     "metadata": {},
     "output_type": "execute_result"
    }
   ],
   "source": [
    "df1 = pd.get_dummies(df1,columns=[\"type\"])\n",
    "df1.head()"
   ]
  },
  {
   "cell_type": "markdown",
   "metadata": {
    "papermill": {
     "duration": 0.052701,
     "end_time": "2021-03-24T15:03:06.881618",
     "exception": false,
     "start_time": "2021-03-24T15:03:06.828917",
     "status": "completed"
    },
    "tags": []
   },
   "source": [
    "### Quantitative Features\n",
    "\n",
    "As seen in the issues section, difference between opening and closing balance should give the transaction amount. As fraud also can be a reason why there is such a differnce, creating such variables would be useful. Also log transformations as explained in the previous section also would be created. Ratio between different balances can also turn out to be useful. One is added to denominator to handle the missing values Interaction variables with 'type' can be created. Binned quantitative variables also sometimes give a good result in case of regression modelling."
   ]
  },
  {
   "cell_type": "code",
   "execution_count": 23,
   "metadata": {
    "execution": {
     "iopub.execute_input": "2021-03-24T15:03:06.999090Z",
     "iopub.status.busy": "2021-03-24T15:03:06.998096Z",
     "iopub.status.idle": "2021-03-24T15:03:08.168145Z",
     "shell.execute_reply": "2021-03-24T15:03:08.168699Z"
    },
    "papermill": {
     "duration": 1.235026,
     "end_time": "2021-03-24T15:03:08.168905",
     "exception": false,
     "start_time": "2021-03-24T15:03:06.933879",
     "status": "completed"
    },
    "tags": []
   },
   "outputs": [],
   "source": [
    "df1[\"logamount\"] = np.log1p(df1[\"amount\"])\n",
    "df1[\"logoldbalanceOrg\"] = np.log1p(df1[\"oldbalanceOrg\"])\n",
    "df1[\"lognewbalanceOrig\"] = np.log1p(df1[\"newbalanceOrig\"])\n",
    "df1[\"logoldbalanceDest\"] = np.log1p(df1[\"oldbalanceDest\"])\n",
    "df1[\"lognewbalanceDest\"] = np.log1p(df1[\"newbalanceDest\"])\n",
    "df1[\"custdiff\"] = df1[\"oldbalanceOrg\"] - df1[\"newbalanceOrig\"]\n",
    "df1[\"destdiff\"] = df1[\"oldbalanceDest\"] - df1[\"newbalanceDest\"]\n",
    "df1[\"custind\"] = np.where(df1[\"oldbalanceOrg\"] - df1[\"newbalanceOrig\"] == df1.amount,1,0)\n",
    "df1[\"destind\"] = np.where(df1[\"oldbalanceDest\"] - df1[\"newbalanceDest\"] == df1.amount,1,0)\n",
    "df1[\"custrto\"] = df1.oldbalanceOrg/(df1.newbalanceOrig+1)\n",
    "df1[\"destrto\"] = df1.oldbalanceDest/(df1.newbalanceDest+1)\n",
    "df1[\"custdestrto1\"] = df1.oldbalanceOrg/(df1.oldbalanceDest+1)\n",
    "df1[\"custdestrto2\"] = df1.newbalanceOrig/(df1.newbalanceDest+1)\n",
    "df1[\"custamountrto\"] = df1.oldbalanceOrg/(df1.amount+1)\n",
    "df1[\"destamountrto\"] = df1.oldbalanceDest/(df1.amount+1)"
   ]
  },
  {
   "cell_type": "markdown",
   "metadata": {
    "papermill": {
     "duration": 0.052389,
     "end_time": "2021-03-24T15:03:08.273679",
     "exception": false,
     "start_time": "2021-03-24T15:03:08.221290",
     "status": "completed"
    },
    "tags": []
   },
   "source": [
    "We can also drop some the ID Variables from the dataset"
   ]
  },
  {
   "cell_type": "code",
   "execution_count": 24,
   "metadata": {
    "execution": {
     "iopub.execute_input": "2021-03-24T15:03:08.387026Z",
     "iopub.status.busy": "2021-03-24T15:03:08.385618Z",
     "iopub.status.idle": "2021-03-24T15:03:10.758758Z",
     "shell.execute_reply": "2021-03-24T15:03:10.759283Z"
    },
    "papermill": {
     "duration": 2.433047,
     "end_time": "2021-03-24T15:03:10.759463",
     "exception": false,
     "start_time": "2021-03-24T15:03:08.326416",
     "status": "completed"
    },
    "tags": []
   },
   "outputs": [],
   "source": [
    "df1 = df1.drop([\"isFlaggedFraud\",\"nameOrig\",\"nameDest\"],axis=1)"
   ]
  },
  {
   "cell_type": "markdown",
   "metadata": {
    "papermill": {
     "duration": 0.052632,
     "end_time": "2021-03-24T15:03:10.864687",
     "exception": false,
     "start_time": "2021-03-24T15:03:10.812055",
     "status": "completed"
    },
    "tags": []
   },
   "source": [
    "## Model Development\n",
    "\n",
    "Prior to model development the dataset need to be divided into train and test samples. In this case, since the modelling dataset is huge, model will be built on a 25% sample only. Post sampling, ~1.1M samples are present in train dataset. Stratify option in train_test_split is used to make sure that the fraud cases are also divided randomly. Code to create train and test samples is given below."
   ]
  },
  {
   "cell_type": "code",
   "execution_count": 25,
   "metadata": {
    "execution": {
     "iopub.execute_input": "2021-03-24T15:03:11.436027Z",
     "iopub.status.busy": "2021-03-24T15:03:11.434284Z",
     "iopub.status.idle": "2021-03-24T15:03:21.395687Z",
     "shell.execute_reply": "2021-03-24T15:03:21.395051Z"
    },
    "papermill": {
     "duration": 10.477847,
     "end_time": "2021-03-24T15:03:21.395829",
     "exception": false,
     "start_time": "2021-03-24T15:03:10.917982",
     "status": "completed"
    },
    "tags": []
   },
   "outputs": [
    {
     "name": "stdout",
     "output_type": "stream",
     "text": [
      "(397663, 32)\n",
      "(1192992, 32)\n",
      "(397663,)\n",
      "(1192992,)\n"
     ]
    }
   ],
   "source": [
    "X1,X2,y1,y2 = train_test_split(df1.drop(\"isFraud\",axis=1),df1[\"isFraud\"],test_size=0.75,random_state=1234,stratify = df1[\"isFraud\"])\n",
    "X_train,X_test,y_train,y_test = train_test_split(X1,y1,test_size=0.75,random_state=1234,stratify = y1)\n",
    "print(X_train.shape)\n",
    "print(X_test.shape)\n",
    "print(y_train.shape)\n",
    "print(y_test.shape)"
   ]
  },
  {
   "cell_type": "markdown",
   "metadata": {
    "papermill": {
     "duration": 0.052918,
     "end_time": "2021-03-24T15:03:21.502098",
     "exception": false,
     "start_time": "2021-03-24T15:03:21.449180",
     "status": "completed"
    },
    "tags": []
   },
   "source": [
    "Three different algorithms are used to build a model during this case study - Decision Tree, Logistic Regression, and GBM. To deal with skewed data, the most popular methods like Undersampling, oversampling and SMOTE can be used. Undersampling removes records of the majority class randomly and oversampling duplicates the records of minority class. SMOTE is a modelling technique that generates new minority class records and the most accurate. Since SMOTE is a modelling technique that takes lot of time and oversampling increases the already large sample size, undersampling is used in this exercise. Algorithms like Random Forest and LightGBM have inbuilt weight adjusting parameters to deal with skewed data."
   ]
  },
  {
   "cell_type": "markdown",
   "metadata": {
    "papermill": {
     "duration": 0.053184,
     "end_time": "2021-03-24T15:03:21.608599",
     "exception": false,
     "start_time": "2021-03-24T15:03:21.555415",
     "status": "completed"
    },
    "tags": []
   },
   "source": [
    "### Decision Tree Classifier\n",
    "\n",
    "A simple decision tree classifier with a depth of 6 is built. The code and decision tree is shown below."
   ]
  },
  {
   "cell_type": "code",
   "execution_count": 26,
   "metadata": {
    "execution": {
     "iopub.execute_input": "2021-03-24T15:03:21.722796Z",
     "iopub.status.busy": "2021-03-24T15:03:21.722131Z",
     "iopub.status.idle": "2021-03-24T15:03:21.953343Z",
     "shell.execute_reply": "2021-03-24T15:03:21.952806Z"
    },
    "papermill": {
     "duration": 0.290996,
     "end_time": "2021-03-24T15:03:21.953490",
     "exception": false,
     "start_time": "2021-03-24T15:03:21.662494",
     "status": "completed"
    },
    "tags": []
   },
   "outputs": [
    {
     "data": {
      "text/plain": [
       "Pipeline(steps=[('sampler',\n",
       "                 RandomUnderSampler(random_state=1234,\n",
       "                                    sampling_strategy='majority')),\n",
       "                ('clf', DecisionTreeClassifier(max_depth=6))])"
      ]
     },
     "execution_count": 26,
     "metadata": {},
     "output_type": "execute_result"
    }
   ],
   "source": [
    "from sklearn.tree import DecisionTreeClassifier,plot_tree\n",
    "from imblearn.under_sampling import RandomUnderSampler\n",
    "from imblearn.pipeline import Pipeline as pl2\n",
    "\n",
    "dt = pl2([\n",
    "    ('sampler',RandomUnderSampler(random_state=1234,sampling_strategy='majority')),\n",
    "    ('clf',DecisionTreeClassifier(max_depth=6))\n",
    "    ])\n",
    "\n",
    "dt.fit(X_train,y_train)"
   ]
  },
  {
   "cell_type": "code",
   "execution_count": 27,
   "metadata": {
    "execution": {
     "iopub.execute_input": "2021-03-24T15:03:22.095969Z",
     "iopub.status.busy": "2021-03-24T15:03:22.090687Z",
     "iopub.status.idle": "2021-03-24T15:03:22.826778Z",
     "shell.execute_reply": "2021-03-24T15:03:22.826134Z"
    },
    "papermill": {
     "duration": 0.816616,
     "end_time": "2021-03-24T15:03:22.826925",
     "exception": false,
     "start_time": "2021-03-24T15:03:22.010309",
     "status": "completed"
    },
    "tags": []
   },
   "outputs": [
    {
     "data": {
      "text/plain": [
       "[Text(618.0923076923077, 504.7714285714286, 'custind <= 0.5\\ngini = 0.5\\nsamples = 1026\\nvalue = [513, 513]'),\n",
       " Text(463.5692307692308, 427.11428571428576, 'custdiff <= 718615.906\\ngini = 0.021\\nsamples = 481\\nvalue = [476, 5]'),\n",
       " Text(386.3076923076923, 349.4571428571429, 'custdestrto1 <= 2905408.25\\ngini = 0.012\\nsamples = 479\\nvalue = [476, 3]'),\n",
       " Text(309.04615384615386, 271.8, 'step <= 22.0\\ngini = 0.008\\nsamples = 478\\nvalue = [476, 2]'),\n",
       " Text(231.7846153846154, 194.14285714285717, 'hourweek <= 20.5\\ngini = 0.083\\nsamples = 46\\nvalue = [44, 2]'),\n",
       " Text(154.52307692307693, 116.48571428571432, 'custdestrto1 <= 0.001\\ngini = 0.043\\nsamples = 45\\nvalue = [44, 1]'),\n",
       " Text(77.26153846153846, 38.82857142857142, 'gini = 0.153\\nsamples = 12\\nvalue = [11, 1]'),\n",
       " Text(231.7846153846154, 38.82857142857142, 'gini = 0.0\\nsamples = 33\\nvalue = [33, 0]'),\n",
       " Text(309.04615384615386, 116.48571428571432, 'gini = 0.0\\nsamples = 1\\nvalue = [0, 1]'),\n",
       " Text(386.3076923076923, 194.14285714285717, 'gini = 0.0\\nsamples = 432\\nvalue = [432, 0]'),\n",
       " Text(463.5692307692308, 271.8, 'gini = 0.0\\nsamples = 1\\nvalue = [0, 1]'),\n",
       " Text(540.8307692307692, 349.4571428571429, 'gini = 0.0\\nsamples = 2\\nvalue = [0, 2]'),\n",
       " Text(772.6153846153846, 427.11428571428576, 'custdestrto2 <= 0.005\\ngini = 0.127\\nsamples = 545\\nvalue = [37, 508]'),\n",
       " Text(695.3538461538462, 349.4571428571429, 'gini = 0.0\\nsamples = 503\\nvalue = [0, 503]'),\n",
       " Text(849.876923076923, 349.4571428571429, 'lognewbalanceOrig <= 13.231\\ngini = 0.21\\nsamples = 42\\nvalue = [37, 5]'),\n",
       " Text(772.6153846153846, 271.8, 'gini = 0.0\\nsamples = 37\\nvalue = [37, 0]'),\n",
       " Text(927.1384615384616, 271.8, 'gini = 0.0\\nsamples = 5\\nvalue = [0, 5]')]"
      ]
     },
     "execution_count": 27,
     "metadata": {},
     "output_type": "execute_result"
    },
    {
     "data": {
      "image/png": "[encoded data removed]",
      "text/plain": [
       "<Figure size 1296x720 with 1 Axes>"
      ]
     },
     "metadata": {
      "needs_background": "light"
     },
     "output_type": "display_data"
    }
   ],
   "source": [
    "plt.subplots(figsize=(18,10))\n",
    "plot_tree(dt['clf'],feature_names = X_train.columns)"
   ]
  },
  {
   "cell_type": "markdown",
   "metadata": {
    "papermill": {
     "duration": 0.057084,
     "end_time": "2021-03-24T15:03:22.940746",
     "exception": false,
     "start_time": "2021-03-24T15:03:22.883662",
     "status": "completed"
    },
    "tags": []
   },
   "source": [
    "### Logistic Regression Classifier\n",
    "\n",
    "Logistic regression model without regularization is built with all the variables inputted. Multiple iterations to remove multi-collinearity and variables with high p-values need to be done on logistic regression equation to get the best model. In this case, only iteration is done"
   ]
  },
  {
   "cell_type": "code",
   "execution_count": 28,
   "metadata": {
    "execution": {
     "iopub.execute_input": "2021-03-24T15:03:23.065079Z",
     "iopub.status.busy": "2021-03-24T15:03:23.063780Z",
     "iopub.status.idle": "2021-03-24T15:03:23.615327Z",
     "shell.execute_reply": "2021-03-24T15:03:23.614586Z"
    },
    "papermill": {
     "duration": 0.617916,
     "end_time": "2021-03-24T15:03:23.615471",
     "exception": false,
     "start_time": "2021-03-24T15:03:22.997555",
     "status": "completed"
    },
    "tags": []
   },
   "outputs": [
    {
     "data": {
      "text/plain": [
       "Pipeline(steps=[('stdize', StandardScaler()),\n",
       "                ('sampler',\n",
       "                 RandomUnderSampler(random_state=1234,\n",
       "                                    sampling_strategy='majority')),\n",
       "                ('clf', LogisticRegression(max_iter=1000000))])"
      ]
     },
     "execution_count": 28,
     "metadata": {},
     "output_type": "execute_result"
    }
   ],
   "source": [
    "logreg = pl2([\n",
    "    ('stdize',StandardScaler()),\n",
    "    ('sampler',RandomUnderSampler(random_state=1234,sampling_strategy='majority')),\n",
    "    ('clf',LogisticRegression(max_iter=1000000))\n",
    "    ])\n",
    "logreg.fit(X_train,y_train)"
   ]
  },
  {
   "cell_type": "code",
   "execution_count": 29,
   "metadata": {
    "execution": {
     "iopub.execute_input": "2021-03-24T15:03:23.742486Z",
     "iopub.status.busy": "2021-03-24T15:03:23.741861Z",
     "iopub.status.idle": "2021-03-24T15:03:23.746273Z",
     "shell.execute_reply": "2021-03-24T15:03:23.745749Z"
    },
    "papermill": {
     "duration": 0.074352,
     "end_time": "2021-03-24T15:03:23.746417",
     "exception": false,
     "start_time": "2021-03-24T15:03:23.672065",
     "status": "completed"
    },
    "tags": []
   },
   "outputs": [
    {
     "data": {
      "text/html": [
       "<div>\n",
       "<style scoped>\n",
       "    .dataframe tbody tr th:only-of-type {\n",
       "        vertical-align: middle;\n",
       "    }\n",
       "\n",
       "    .dataframe tbody tr th {\n",
       "        vertical-align: top;\n",
       "    }\n",
       "\n",
       "    .dataframe thead th {\n",
       "        text-align: right;\n",
       "    }\n",
       "</style>\n",
       "<table border=\"1\" class=\"dataframe\">\n",
       "  <thead>\n",
       "    <tr style=\"text-align: right;\">\n",
       "      <th></th>\n",
       "      <th>Variable</th>\n",
       "      <th>Coefficient</th>\n",
       "    </tr>\n",
       "  </thead>\n",
       "  <tbody>\n",
       "    <tr>\n",
       "      <th>0</th>\n",
       "      <td>step</td>\n",
       "      <td>0.151348</td>\n",
       "    </tr>\n",
       "    <tr>\n",
       "      <th>1</th>\n",
       "      <td>amount</td>\n",
       "      <td>0.204482</td>\n",
       "    </tr>\n",
       "    <tr>\n",
       "      <th>2</th>\n",
       "      <td>oldbalanceOrg</td>\n",
       "      <td>0.081109</td>\n",
       "    </tr>\n",
       "    <tr>\n",
       "      <th>3</th>\n",
       "      <td>newbalanceOrig</td>\n",
       "      <td>0.011541</td>\n",
       "    </tr>\n",
       "    <tr>\n",
       "      <th>4</th>\n",
       "      <td>oldbalanceDest</td>\n",
       "      <td>-0.247352</td>\n",
       "    </tr>\n",
       "    <tr>\n",
       "      <th>5</th>\n",
       "      <td>newbalanceDest</td>\n",
       "      <td>-0.334640</td>\n",
       "    </tr>\n",
       "    <tr>\n",
       "      <th>6</th>\n",
       "      <td>hour</td>\n",
       "      <td>-0.193112</td>\n",
       "    </tr>\n",
       "    <tr>\n",
       "      <th>7</th>\n",
       "      <td>day</td>\n",
       "      <td>-0.000919</td>\n",
       "    </tr>\n",
       "    <tr>\n",
       "      <th>8</th>\n",
       "      <td>dayweek</td>\n",
       "      <td>-0.232777</td>\n",
       "    </tr>\n",
       "    <tr>\n",
       "      <th>9</th>\n",
       "      <td>hourday</td>\n",
       "      <td>-0.193112</td>\n",
       "    </tr>\n",
       "    <tr>\n",
       "      <th>10</th>\n",
       "      <td>hourweek</td>\n",
       "      <td>-0.107640</td>\n",
       "    </tr>\n",
       "    <tr>\n",
       "      <th>11</th>\n",
       "      <td>daymonth</td>\n",
       "      <td>-0.289998</td>\n",
       "    </tr>\n",
       "    <tr>\n",
       "      <th>12</th>\n",
       "      <td>type_CASH_IN</td>\n",
       "      <td>-0.000603</td>\n",
       "    </tr>\n",
       "    <tr>\n",
       "      <th>13</th>\n",
       "      <td>type_CASH_OUT</td>\n",
       "      <td>0.682785</td>\n",
       "    </tr>\n",
       "    <tr>\n",
       "      <th>14</th>\n",
       "      <td>type_DEBIT</td>\n",
       "      <td>-0.029398</td>\n",
       "    </tr>\n",
       "    <tr>\n",
       "      <th>15</th>\n",
       "      <td>type_PAYMENT</td>\n",
       "      <td>-1.020361</td>\n",
       "    </tr>\n",
       "    <tr>\n",
       "      <th>16</th>\n",
       "      <td>type_TRANSFER</td>\n",
       "      <td>0.578741</td>\n",
       "    </tr>\n",
       "    <tr>\n",
       "      <th>17</th>\n",
       "      <td>logamount</td>\n",
       "      <td>-0.437178</td>\n",
       "    </tr>\n",
       "    <tr>\n",
       "      <th>18</th>\n",
       "      <td>logoldbalanceOrg</td>\n",
       "      <td>-0.465631</td>\n",
       "    </tr>\n",
       "    <tr>\n",
       "      <th>19</th>\n",
       "      <td>lognewbalanceOrig</td>\n",
       "      <td>-3.248626</td>\n",
       "    </tr>\n",
       "    <tr>\n",
       "      <th>20</th>\n",
       "      <td>logoldbalanceDest</td>\n",
       "      <td>0.121476</td>\n",
       "    </tr>\n",
       "    <tr>\n",
       "      <th>21</th>\n",
       "      <td>lognewbalanceDest</td>\n",
       "      <td>-0.371328</td>\n",
       "    </tr>\n",
       "    <tr>\n",
       "      <th>22</th>\n",
       "      <td>custdiff</td>\n",
       "      <td>1.425206</td>\n",
       "    </tr>\n",
       "    <tr>\n",
       "      <th>23</th>\n",
       "      <td>destdiff</td>\n",
       "      <td>0.467718</td>\n",
       "    </tr>\n",
       "    <tr>\n",
       "      <th>24</th>\n",
       "      <td>custind</td>\n",
       "      <td>1.925506</td>\n",
       "    </tr>\n",
       "    <tr>\n",
       "      <th>25</th>\n",
       "      <td>destind</td>\n",
       "      <td>0.018480</td>\n",
       "    </tr>\n",
       "    <tr>\n",
       "      <th>26</th>\n",
       "      <td>custrto</td>\n",
       "      <td>0.331425</td>\n",
       "    </tr>\n",
       "    <tr>\n",
       "      <th>27</th>\n",
       "      <td>destrto</td>\n",
       "      <td>0.013260</td>\n",
       "    </tr>\n",
       "    <tr>\n",
       "      <th>28</th>\n",
       "      <td>custdestrto1</td>\n",
       "      <td>0.310058</td>\n",
       "    </tr>\n",
       "    <tr>\n",
       "      <th>29</th>\n",
       "      <td>custdestrto2</td>\n",
       "      <td>0.295838</td>\n",
       "    </tr>\n",
       "    <tr>\n",
       "      <th>30</th>\n",
       "      <td>custamountrto</td>\n",
       "      <td>-0.000462</td>\n",
       "    </tr>\n",
       "    <tr>\n",
       "      <th>31</th>\n",
       "      <td>destamountrto</td>\n",
       "      <td>0.046592</td>\n",
       "    </tr>\n",
       "  </tbody>\n",
       "</table>\n",
       "</div>"
      ],
      "text/plain": [
       "             Variable  Coefficient\n",
       "0                step     0.151348\n",
       "1              amount     0.204482\n",
       "2       oldbalanceOrg     0.081109\n",
       "3      newbalanceOrig     0.011541\n",
       "4      oldbalanceDest    -0.247352\n",
       "5      newbalanceDest    -0.334640\n",
       "6                hour    -0.193112\n",
       "7                 day    -0.000919\n",
       "8             dayweek    -0.232777\n",
       "9             hourday    -0.193112\n",
       "10           hourweek    -0.107640\n",
       "11           daymonth    -0.289998\n",
       "12       type_CASH_IN    -0.000603\n",
       "13      type_CASH_OUT     0.682785\n",
       "14         type_DEBIT    -0.029398\n",
       "15       type_PAYMENT    -1.020361\n",
       "16      type_TRANSFER     0.578741\n",
       "17          logamount    -0.437178\n",
       "18   logoldbalanceOrg    -0.465631\n",
       "19  lognewbalanceOrig    -3.248626\n",
       "20  logoldbalanceDest     0.121476\n",
       "21  lognewbalanceDest    -0.371328\n",
       "22           custdiff     1.425206\n",
       "23           destdiff     0.467718\n",
       "24            custind     1.925506\n",
       "25            destind     0.018480\n",
       "26            custrto     0.331425\n",
       "27            destrto     0.013260\n",
       "28       custdestrto1     0.310058\n",
       "29       custdestrto2     0.295838\n",
       "30      custamountrto    -0.000462\n",
       "31      destamountrto     0.046592"
      ]
     },
     "execution_count": 29,
     "metadata": {},
     "output_type": "execute_result"
    }
   ],
   "source": [
    "pd.DataFrame({\"Variable\":list(X_train.columns),\"Coefficient\":logreg['clf'].coef_[0]})"
   ]
  },
  {
   "cell_type": "markdown",
   "metadata": {
    "papermill": {
     "duration": 0.056814,
     "end_time": "2021-03-24T15:03:23.860414",
     "exception": false,
     "start_time": "2021-03-24T15:03:23.803600",
     "status": "completed"
    },
    "tags": []
   },
   "source": [
    "### Gradient Boosting Classifier\n",
    "\n",
    "A cross validation GBM model is built with little hyperparameter tuning. AUC is used to select the best model from the different cross-validation folds. Top 10 most important variables are also plotted."
   ]
  },
  {
   "cell_type": "code",
   "execution_count": 30,
   "metadata": {
    "execution": {
     "iopub.execute_input": "2021-03-24T15:03:23.983260Z",
     "iopub.status.busy": "2021-03-24T15:03:23.982560Z",
     "iopub.status.idle": "2021-03-24T15:03:43.928918Z",
     "shell.execute_reply": "2021-03-24T15:03:43.929400Z"
    },
    "papermill": {
     "duration": 20.011934,
     "end_time": "2021-03-24T15:03:43.929618",
     "exception": false,
     "start_time": "2021-03-24T15:03:23.917684",
     "status": "completed"
    },
    "tags": []
   },
   "outputs": [
    {
     "name": "stdout",
     "output_type": "stream",
     "text": [
      "Fitting 5 folds for each of 4 candidates, totalling 20 fits\n",
      "{'clf__learning_rate': 0.1, 'clf__max_depth': 5, 'clf__n_estimators': 500}\n",
      "0.9981364552533891\n"
     ]
    }
   ],
   "source": [
    "pl = pl2([\n",
    "    ('sampler',RandomUnderSampler(random_state=1234,sampling_strategy='majority')),\n",
    "    ('clf',GradientBoostingClassifier(max_features='sqrt',subsample=0.7))\n",
    "    ])\n",
    "parameters = {'clf__learning_rate':[0.07,0.1],\n",
    "              'clf__n_estimators':[300,500],\n",
    "              'clf__max_depth':[5]\n",
    "    }\n",
    "\n",
    "cv = GridSearchCV(pl,parameters,scoring=\"roc_auc\",verbose=True,n_jobs=6)\n",
    "cv.fit(X_train,y_train)\n",
    "print(cv.best_params_)\n",
    "print(cv.best_score_)"
   ]
  },
  {
   "cell_type": "code",
   "execution_count": 31,
   "metadata": {
    "execution": {
     "iopub.execute_input": "2021-03-24T15:03:44.059947Z",
     "iopub.status.busy": "2021-03-24T15:03:44.059146Z",
     "iopub.status.idle": "2021-03-24T15:03:44.284267Z",
     "shell.execute_reply": "2021-03-24T15:03:44.283702Z"
    },
    "papermill": {
     "duration": 0.293402,
     "end_time": "2021-03-24T15:03:44.284425",
     "exception": false,
     "start_time": "2021-03-24T15:03:43.991023",
     "status": "completed"
    },
    "tags": []
   },
   "outputs": [
    {
     "data": {
      "text/plain": [
       "<AxesSubplot:xlabel='Importance', ylabel='Variable'>"
      ]
     },
     "execution_count": 31,
     "metadata": {},
     "output_type": "execute_result"
    },
    {
     "data": {
      "image/png": "[encoded data removed]",
      "text/plain": [
       "<Figure size 432x288 with 1 Axes>"
      ]
     },
     "metadata": {
      "needs_background": "light"
     },
     "output_type": "display_data"
    }
   ],
   "source": [
    "imp = pd.DataFrame({\"Variable\":list(X_train.columns),\"Importance\":cv.best_estimator_['clf'].feature_importances_})\n",
    "imp = imp.sort_values(\"Importance\",ascending=False)\n",
    "sns.barplot(x=imp.Importance.head(10),y=imp.Variable.head(10))"
   ]
  },
  {
   "cell_type": "markdown",
   "metadata": {
    "papermill": {
     "duration": 0.059085,
     "end_time": "2021-03-24T15:03:44.404351",
     "exception": false,
     "start_time": "2021-03-24T15:03:44.345266",
     "status": "completed"
    },
    "tags": []
   },
   "source": [
    "## Model Performance"
   ]
  },
  {
   "cell_type": "markdown",
   "metadata": {
    "papermill": {
     "duration": 0.059151,
     "end_time": "2021-03-24T15:03:44.522604",
     "exception": false,
     "start_time": "2021-03-24T15:03:44.463453",
     "status": "completed"
    },
    "tags": []
   },
   "source": [
    "Since we are dealing with skewed data, accuracy is not a suitable metric to compare model performances. F1 score and AUC are better metrics in this case."
   ]
  },
  {
   "cell_type": "code",
   "execution_count": 32,
   "metadata": {
    "execution": {
     "iopub.execute_input": "2021-03-24T15:03:44.652675Z",
     "iopub.status.busy": "2021-03-24T15:03:44.651235Z",
     "iopub.status.idle": "2021-03-24T15:04:20.713104Z",
     "shell.execute_reply": "2021-03-24T15:04:20.712451Z"
    },
    "papermill": {
     "duration": 36.131282,
     "end_time": "2021-03-24T15:04:20.713270",
     "exception": false,
     "start_time": "2021-03-24T15:03:44.581988",
     "status": "completed"
    },
    "tags": []
   },
   "outputs": [
    {
     "name": "stdout",
     "output_type": "stream",
     "text": [
      "F1 score of decision tree classifier is 0.2543545295441286\n",
      "F1 score of GBM classifier is 0.8163374265883608\n",
      "F1 score of logistic regression classifier is 0.533496589120168\n",
      "AUC of decision tree classifier is 0.5729456055058519\n",
      "AUC of GBM classifier is 0.8465502316099742\n",
      "AUC of logistic regression classifier is 0.6825409739355035\n"
     ]
    }
   ],
   "source": [
    "from sklearn.metrics import f1_score,classification_report,roc_auc_score\n",
    "print(f\"F1 score of decision tree classifier is {f1_score(dt.predict(X_test),y_test)}\")\n",
    "print(f\"F1 score of GBM classifier is {f1_score(cv.best_estimator_.predict(X_test),y_test)}\")\n",
    "print(f\"F1 score of logistic regression classifier is {f1_score(logreg.predict(X_test),y_test)}\")\n",
    "print(f\"AUC of decision tree classifier is {roc_auc_score(dt.predict(X_test),y_test)}\")\n",
    "print(f\"AUC of GBM classifier is {roc_auc_score(cv.best_estimator_.predict(X_test),y_test)}\")\n",
    "print(f\"AUC of logistic regression classifier is {roc_auc_score(logreg.predict(X_test),y_test)}\")"
   ]
  },
  {
   "cell_type": "code",
   "execution_count": 33,
   "metadata": {
    "execution": {
     "iopub.execute_input": "2021-03-24T15:04:20.846391Z",
     "iopub.status.busy": "2021-03-24T15:04:20.845702Z",
     "iopub.status.idle": "2021-03-24T15:04:38.713635Z",
     "shell.execute_reply": "2021-03-24T15:04:38.712718Z"
    },
    "papermill": {
     "duration": 17.938213,
     "end_time": "2021-03-24T15:04:38.713791",
     "exception": false,
     "start_time": "2021-03-24T15:04:20.775578",
     "status": "completed"
    },
    "tags": []
   },
   "outputs": [
    {
     "data": {
      "image/png": "[encoded data removed]",
      "text/plain": [
       "<Figure size 432x288 with 1 Axes>"
      ]
     },
     "metadata": {
      "needs_background": "light"
     },
     "output_type": "display_data"
    }
   ],
   "source": [
    "sns.barplot(x=[\"Decision Tree\",\"Logistic Regression\",\"GBM\"],\n",
    "            y=[roc_auc_score(dt.predict(X_test),y_test),roc_auc_score(logreg.predict(X_test),y_test),\n",
    "               roc_auc_score(cv.best_estimator_.predict(X_test),y_test)])\n",
    "plt.ylabel(\"AUC\")\n",
    "plt.show()"
   ]
  },
  {
   "cell_type": "markdown",
   "metadata": {
    "papermill": {
     "duration": 0.062336,
     "end_time": "2021-03-24T15:04:38.838469",
     "exception": false,
     "start_time": "2021-03-24T15:04:38.776133",
     "status": "completed"
    },
    "tags": []
   },
   "source": [
    "As we can see, GBM model is performing the best out of the three models in terms of F1 score and AUC. Precision and recall can also be calculated and compared depending on the business requirements. If the business values loss remedy more than anything else, recall is the metric to go to becasue we can get how many actual frauds are captured. If customer experience matters, we can check precision. Depending on what we need to maximize - precision or recall, the right cut-off for probabilities can be selected.\n",
    "\n",
    "In the below case, for GBM model precision and recall of thresholds 0.5 and 0.95 are compared."
   ]
  },
  {
   "cell_type": "code",
   "execution_count": 34,
   "metadata": {
    "execution": {
     "iopub.execute_input": "2021-03-24T15:04:38.974257Z",
     "iopub.status.busy": "2021-03-24T15:04:38.973473Z",
     "iopub.status.idle": "2021-03-24T15:04:57.130577Z",
     "shell.execute_reply": "2021-03-24T15:04:57.131424Z"
    },
    "papermill": {
     "duration": 18.229764,
     "end_time": "2021-03-24T15:04:57.131674",
     "exception": false,
     "start_time": "2021-03-24T15:04:38.901910",
     "status": "completed"
    },
    "tags": []
   },
   "outputs": [
    {
     "name": "stdout",
     "output_type": "stream",
     "text": [
      "Precision for threshold = 0.5 is 0.9928571428571429\n",
      "Recall for threshold = 0.5 is 0.6931097008159565\n",
      "Precision for threshold = 0.95 is 0.9922077922077922\n",
      "Recall for threshold = 0.95 is 0.8153681963713981\n"
     ]
    }
   ],
   "source": [
    "dt_probs = pd.DataFrame({\"Actual\":y_test,\"Predicted\":cv.best_estimator_.predict_proba(X_test)[:,1],\"Amount\":X_test.amount})\n",
    "dt_probs[\"Predicted_95\"] = np.where(dt_probs.Predicted > 0.95,1,0)\n",
    "dt_probs[\"Predicted_50\"] = np.where(dt_probs.Predicted > 0.5,1,0)\n",
    "#cut - probability greater than 0.5\n",
    "print(\"Precision for threshold = 0.5 is \"+ str(precision_score(dt_probs[\"Predicted_50\"],y_test)))\n",
    "print(\"Recall for threshold = 0.5 is \"+ str(recall_score(dt_probs[\"Predicted_50\"],y_test)))\n",
    "#cut - probability greater than 0.95\n",
    "print(\"Precision for threshold = 0.95 is \"+ str(precision_score(dt_probs[\"Predicted_95\"],y_test)))\n",
    "print(\"Recall for threshold = 0.95 is \"+ str(recall_score(dt_probs[\"Predicted_95\"],y_test)))"
   ]
  },
  {
   "cell_type": "markdown",
   "metadata": {
    "papermill": {
     "duration": 0.063724,
     "end_time": "2021-03-24T15:04:57.260013",
     "exception": false,
     "start_time": "2021-03-24T15:04:57.196289",
     "status": "completed"
    },
    "tags": []
   },
   "source": [
    "We can also calculate the extra frauds captured and hence money saved compared to the default strategy - amount greater than 200,000 (mentioned in the data problem statement)."
   ]
  },
  {
   "cell_type": "code",
   "execution_count": 35,
   "metadata": {
    "execution": {
     "iopub.execute_input": "2021-03-24T15:04:57.397945Z",
     "iopub.status.busy": "2021-03-24T15:04:57.396869Z",
     "iopub.status.idle": "2021-03-24T15:04:57.445327Z",
     "shell.execute_reply": "2021-03-24T15:04:57.445831Z"
    },
    "papermill": {
     "duration": 0.122174,
     "end_time": "2021-03-24T15:04:57.446004",
     "exception": false,
     "start_time": "2021-03-24T15:04:57.323830",
     "status": "completed"
    },
    "tags": []
   },
   "outputs": [
    {
     "name": "stdout",
     "output_type": "stream",
     "text": [
      "% Frauds captured by 'Amount > 200,000' strategy in number and amount\n",
      "0.6610389610389611\n",
      "0.9814119047100848\n",
      "% Frauds captured by GBM model in number and amount\n",
      "0.9928571428571429\n",
      "0.9962618769212719\n"
     ]
    }
   ],
   "source": [
    "#Frauds captured by \"Amount > 200,000\" strategy\n",
    "print(\"% Frauds captured by 'Amount > 200,000' strategy in number and amount\")\n",
    "print(len(dt_probs[(dt_probs.Amount > 200000) & (dt_probs.Actual==1)])/len(dt_probs[dt_probs.Actual==1]))\n",
    "print(sum(dt_probs[(dt_probs.Amount > 200000) & (dt_probs.Actual==1)][\"Amount\"])/sum(dt_probs[dt_probs.Actual==1][\"Amount\"]))\n",
    "print(\"% Frauds captured by GBM model in number and amount\")\n",
    "print(len(dt_probs[(dt_probs.Predicted_50 == 1) & (dt_probs.Actual==1)])/len(dt_probs[dt_probs.Actual==1]))\n",
    "print(sum(dt_probs[(dt_probs.Predicted_50 == 1) & (dt_probs.Actual==1)][\"Amount\"])/sum(dt_probs[dt_probs.Actual==1][\"Amount\"]))"
   ]
  },
  {
   "cell_type": "markdown",
   "metadata": {
    "papermill": {
     "duration": 0.063706,
     "end_time": "2021-03-24T15:04:57.573846",
     "exception": false,
     "start_time": "2021-03-24T15:04:57.510140",
     "status": "completed"
    },
    "tags": []
   },
   "source": [
    "Incremental benefit in both number are amount for test population is given below"
   ]
  },
  {
   "cell_type": "code",
   "execution_count": 36,
   "metadata": {
    "execution": {
     "iopub.execute_input": "2021-03-24T15:04:57.705444Z",
     "iopub.status.busy": "2021-03-24T15:04:57.704759Z",
     "iopub.status.idle": "2021-03-24T15:04:57.731368Z",
     "shell.execute_reply": "2021-03-24T15:04:57.732084Z"
    },
    "papermill": {
     "duration": 0.09437,
     "end_time": "2021-03-24T15:04:57.732297",
     "exception": false,
     "start_time": "2021-03-24T15:04:57.637927",
     "status": "completed"
    },
    "tags": []
   },
   "outputs": [
    {
     "name": "stdout",
     "output_type": "stream",
     "text": [
      "The fraud losses saved due to using GBM model is\n",
      "34038825.03999996\n",
      "Incremental beneift in number of frauds captured\n",
      "511\n"
     ]
    }
   ],
   "source": [
    "print(\"The fraud losses saved due to using GBM model is\")\n",
    "print(sum(dt_probs[(dt_probs.Predicted_50 == 1) & (dt_probs.Actual==1)][\"Amount\"]) - sum(dt_probs[(dt_probs.Amount > 200000) & (dt_probs.Actual==1)][\"Amount\"]))\n",
    "print(\"Incremental beneift in number of frauds captured\")\n",
    "print(len(dt_probs[(dt_probs.Predicted_50 == 1) & (dt_probs.Actual==1)][\"Amount\"]) - len(dt_probs[(dt_probs.Amount > 200000) & (dt_probs.Actual==1)][\"Amount\"]))"
   ]
  },
  {
   "cell_type": "markdown",
   "metadata": {
    "papermill": {
     "duration": 0.064377,
     "end_time": "2021-03-24T15:04:57.862201",
     "exception": false,
     "start_time": "2021-03-24T15:04:57.797824",
     "status": "completed"
    },
    "tags": []
   },
   "source": [
    "## Proposals to improve the model\n",
    "• Run the entire process above on PySpark instead of Python which saves lot of time and memory.\n",
    "\n",
    "• Explore other outlier treatment techniques to handle the quantitative variables in a better manner.\n",
    "\n",
    "• Get more data and information to solve the problem of '2 variables not talking with each other' issue.\n",
    "\n",
    "• More variables can be created as mentioned in the feature generation section.\n",
    "\n",
    "• Sampling techniques other than Undersampling can be used and the best model can be taken.\n",
    "\n",
    "• Hyperparameter tuning is not done on any model. There is still lot of scope of improvement by tuning the models.\n",
    "\n",
    "• Selecting the best model based out of precision and recall rather than AUC and F-1 score"
   ]
  }
 ],
 "metadata": {
  "kernelspec": {
   "display_name": "Python 3",
   "language": "python",
   "name": "python3"
  },
  "language_info": {
   "codemirror_mode": {
    "name": "ipython",
    "version": 3
   },
   "file_extension": ".py",
   "mimetype": "text/x-python",
   "name": "python",
   "nbconvert_exporter": "python",
   "pygments_lexer": "ipython3",
   "version": "3.8.3"
  },
  "papermill": {
   "default_parameters": {},
   "duration": 193.318768,
   "end_time": "2021-03-24T15:05:00.345136",
   "environment_variables": {},
   "exception": null,
   "input_path": "__notebook__.ipynb",
   "output_path": "__notebook__.ipynb",
   "parameters": {},
   "start_time": "2021-03-24T15:01:47.026368",
   "version": "2.2.2"
  }
 },
 "nbformat": 4,
 "nbformat_minor": 4
}
